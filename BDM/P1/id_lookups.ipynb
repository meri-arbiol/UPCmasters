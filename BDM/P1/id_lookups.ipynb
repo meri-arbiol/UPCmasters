{
 "cells": [
  {
   "cell_type": "code",
   "execution_count": 1,
   "id": "f3dc18fa-9c51-4716-8944-866f9cbe10ae",
   "metadata": {},
   "outputs": [],
   "source": [
    "import pandas as pd\n",
    "import numpy as np\n"
   ]
  },
  {
   "cell_type": "code",
   "execution_count": 5,
   "id": "42e0bf8e-f0f6-4b87-8140-52297b65d524",
   "metadata": {},
   "outputs": [],
   "source": [
    "df_income_2010 = pd.read_csv('data/opendatabcn-income/2010_Distribucio_territorial_renda_familiar.csv')\n",
    "df_income_lookup = pd.read_csv('data/lookup_tables/income_opendatabcn_extended.csv')\n",
    "df_accidentes_2010 = pd.read_csv('data/opendatabcn-accidents/2010_accidents_gu_bcn.csv', encoding='latin1')"
   ]
  },
  {
   "cell_type": "code",
   "execution_count": 62,
   "id": "f0d5545f-3fc7-422e-8457-351be6ad43b6",
   "metadata": {},
   "outputs": [],
   "source": [
    "def income_districtID_lookup(row):\n",
    "    '''\n",
    "    '''\n",
    "    # Get district from opendatabcn-income\n",
    "    districte = row['Nom_Districte']\n",
    "    # Get id from income lookup\n",
    "    try:\n",
    "        district_id = df_income_lookup.loc[df_income_lookup['district'] == districte, 'district_id'].iloc[0]\n",
    "    except:\n",
    "        district_id = 'Not Found'\n",
    "    # Return id\n",
    "    return district_id\n",
    "    \n",
    "def income_neighborhoodID_lookup(row):\n",
    "    '''\n",
    "    '''\n",
    "    # Get neighborhood from opendatabcn-income\n",
    "    barri = row['Nom_Barri']\n",
    "    # Get id from income lookup\n",
    "    try:\n",
    "        neighborhood_id = df_income_lookup.loc[df_income_lookup['neighborhood'] == barri, 'neighborhood_id'].iloc[0]\n",
    "    except:\n",
    "        neighborhood_id = 'Not Found'\n",
    "    # Return id\n",
    "    return neighborhood_id\n",
    "\n",
    "def accidents_districtID_lookup(row):\n",
    "    '''\n",
    "    '''\n",
    "    # Get district from opendatabcn-accidents\n",
    "    districte = row['Nom districte']\n",
    "    # Get id from income lookup\n",
    "    try:\n",
    "        district_id = df_income_lookup.loc[df_income_lookup['district'] == districte, 'district_id'].iloc[0]\n",
    "    except:\n",
    "        district_id = 'Not Found'\n",
    "    # Return id\n",
    "    return district_id\n",
    "    \n",
    "def accidents_neighborhoodID_lookup(row):\n",
    "    '''\n",
    "    '''\n",
    "    # Get neighborhood from opendatabcn-accidents\n",
    "    barri = row['Nom barri']\n",
    "    # Get id from income lookup\n",
    "    try:\n",
    "        neighborhood_id = df_income_lookup.loc[df_income_lookup['neighborhood'] == barri, 'neighborhood_id'].iloc[0]\n",
    "    except:\n",
    "        neighborhood_id = 'Not Found'\n",
    "    # Return id\n",
    "    return neighborhood_id\n",
    "\n",
    "df_income_2010['district_id'] = df_income_2010.apply(lambda row: income_districtID_lookup(row), axis=1)\n",
    "df_income_2010['neighborhood_id'] = df_income_2010.apply(lambda row: income_neighborhoodID_lookup(row), axis=1)\n",
    "\n",
    "df_accidentes_2010['district_id'] = df_accidentes_2010.apply(lambda row: accidents_districtID_lookup(row), axis=1)\n",
    "df_accidentes_2010['neighborhood_id'] = df_accidentes_2010.apply(lambda row: accidents_neighborhoodID_lookup(row), axis=1)"
   ]
  },
  {
   "cell_type": "code",
   "execution_count": 58,
   "id": "11ccf4f2-ea02-4a22-b98d-73a241259d5c",
   "metadata": {},
   "outputs": [
    {
     "data": {
      "text/plain": [
       "\"la Dreta de l'Eixample\""
      ]
     },
     "execution_count": 58,
     "metadata": {},
     "output_type": "execute_result"
    }
   ],
   "source": [
    "barri = df_accidentes_2010['Nom barri'][807]\n",
    "barri"
   ]
  },
  {
   "cell_type": "code",
   "execution_count": 59,
   "id": "d0a0ba9f-3729-462f-86c7-11b39a262925",
   "metadata": {},
   "outputs": [
    {
     "data": {
      "text/plain": [
       "'Q1904302'"
      ]
     },
     "execution_count": 59,
     "metadata": {},
     "output_type": "execute_result"
    }
   ],
   "source": [
    "id = df_income_lookup.loc[df_income_lookup['neighborhood'] == barri, 'neighborhood_id'].iloc[0]\n",
    "id"
   ]
  },
  {
   "cell_type": "code",
   "execution_count": 60,
   "id": "1fd66401-71a4-4007-8225-c64803a10799",
   "metadata": {},
   "outputs": [
    {
     "data": {
      "text/plain": [
       "'Eixample'"
      ]
     },
     "execution_count": 60,
     "metadata": {},
     "output_type": "execute_result"
    }
   ],
   "source": [
    "districte = df_accidentes_2010['Nom districte'][807]\n",
    "districte"
   ]
  },
  {
   "cell_type": "code",
   "execution_count": 61,
   "id": "36e64540-a3c1-4cdd-a11d-52d2a96d6624",
   "metadata": {},
   "outputs": [
    {
     "data": {
      "text/plain": [
       "'Q64124'"
      ]
     },
     "execution_count": 61,
     "metadata": {},
     "output_type": "execute_result"
    }
   ],
   "source": [
    "id = df_income_lookup.loc[df_income_lookup['district'] == districte, 'district_id'].iloc[0]\n",
    "id"
   ]
  },
  {
   "cell_type": "code",
   "execution_count": null,
   "id": "f336dddc-b76e-485b-8c7f-4c64a4ea5db8",
   "metadata": {},
   "outputs": [],
   "source": []
  },
  {
   "cell_type": "code",
   "execution_count": null,
   "id": "c3366d0d-a371-47e7-bd9f-97f46513c3d3",
   "metadata": {},
   "outputs": [],
   "source": []
  },
  {
   "cell_type": "code",
   "execution_count": null,
   "id": "f069fdff-cfa8-4982-92de-1c7b967cc470",
   "metadata": {},
   "outputs": [],
   "source": []
  }
 ],
 "metadata": {
  "kernelspec": {
   "display_name": "Python 3 (ipykernel)",
   "language": "python",
   "name": "python3"
  },
  "language_info": {
   "codemirror_mode": {
    "name": "ipython",
    "version": 3
   },
   "file_extension": ".py",
   "mimetype": "text/x-python",
   "name": "python",
   "nbconvert_exporter": "python",
   "pygments_lexer": "ipython3",
   "version": "3.8.12"
  }
 },
 "nbformat": 4,
 "nbformat_minor": 5
}
