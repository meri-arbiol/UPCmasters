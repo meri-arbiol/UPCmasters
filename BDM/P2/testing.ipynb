{
 "cells": [
  {
   "cell_type": "code",
   "execution_count": 57,
   "id": "27a19db9",
   "metadata": {},
   "outputs": [
    {
     "ename": "NameError",
     "evalue": "name '__main__' is not defined",
     "output_type": "error",
     "traceback": [
      "\u001b[0;31m---------------------------------------------------------------------------\u001b[0m",
      "\u001b[0;31mNameError\u001b[0m                                 Traceback (most recent call last)",
      "Input \u001b[0;32mIn [57]\u001b[0m, in \u001b[0;36m<cell line: 53>\u001b[0;34m()\u001b[0m\n\u001b[1;32m     49\u001b[0m         \u001b[38;5;28;01mexcept\u001b[39;00m:\n\u001b[1;32m     50\u001b[0m             \u001b[38;5;28mprint\u001b[39m(\u001b[38;5;124m'\u001b[39m\u001b[38;5;124munable to extract accidents data for \u001b[39m\u001b[38;5;132;01m{}\u001b[39;00m\u001b[38;5;124m'\u001b[39m\u001b[38;5;241m.\u001b[39mformat(year))\n\u001b[0;32m---> 53\u001b[0m \u001b[38;5;28;01mif\u001b[39;00m \u001b[38;5;18m__name__\u001b[39m \u001b[38;5;241m==\u001b[39m \u001b[43m__main__\u001b[49m:\n\u001b[1;32m     54\u001b[0m     \u001b[38;5;66;03m#\u001b[39;00m\n\u001b[1;32m     55\u001b[0m     opendatabcn_filenames \u001b[38;5;241m=\u001b[39m get_filepaths(\u001b[38;5;124m\"\u001b[39m\u001b[38;5;124mlanding/temporal/opendatabcn-accidents\u001b[39m\u001b[38;5;124m\"\u001b[39m)\n\u001b[1;32m     56\u001b[0m     update_years \u001b[38;5;241m=\u001b[39m check_update_years(opendatabcn_filenames)\n",
      "\u001b[0;31mNameError\u001b[0m: name '__main__' is not defined"
     ]
    }
   ],
   "source": [
    "import pandas as pd\n",
    "from datetime import date\n",
    "import os\n",
    "\n",
    "\n",
    "def get_filepaths(directory):\n",
    "    '''\n",
    "    This function will generate the file names in a directory \n",
    "    tree by walking the tree either top-down or bottom-up. For each \n",
    "    directory in the tree rooted at directory top (including top itself), \n",
    "    it yields a 3-tuple (dirpath, dirnames, filenames).\n",
    "    '''\n",
    "    file_names = []  # List which will store all of the full filepaths.\n",
    "\n",
    "    # Walk the tree.\n",
    "    for root, directories, files in os.walk(directory):\n",
    "        for filename in files:\n",
    "            file_names.append(filename)  # Add it to the list.\n",
    "\n",
    "    return file_names  # Output\n",
    "\n",
    "\n",
    "def check_update_years(files):\n",
    "    '''\n",
    "    \n",
    "    '''\n",
    "    current_year = date.today().year # get current year\n",
    "    update_years = [str(year) for year in range(2010, current_year)] # opendatabcn-accidents available years\n",
    "    \n",
    "    # Check years present in topic's current landing zone\n",
    "    present_years = [element[:4] for element in files] # returns a list of present years\n",
    "    \n",
    "    #\n",
    "    for element in present_years:\n",
    "        if element in update_years:\n",
    "            update_years.remove(element)\n",
    "    \n",
    "    return update_years\n",
    "\n",
    "\n",
    "def collect_data(update_years):\n",
    "    '''\n",
    "    \n",
    "    '''\n",
    "    for year in update_years:\n",
    "        try:\n",
    "            df = pd.read_csv('https://opendata-ajuntament.barcelona.cat/data/dataset/e769eb9d-d778-4cd7-9e3a-5858bba49b20/resource/bcfc0866-7e2a-4054-9a93-fb3f371fc5eb/download/{}_accidents_gu_bcn.csv'.format(year))\n",
    "            df.to_csv('landing/opendatabcn-accidents/{}_accidents_bcn.csv'.format(year), encoding='utf-8')\n",
    "        except:\n",
    "            print('unable to extract accidents data for {}'.format(year))\n",
    "\n",
    "            \n",
    "if __name__ == __main__:\n",
    "    #\n",
    "    opendatabcn_filenames = get_filepaths(\"landing/temporal/opendatabcn-accidents\")\n",
    "    update_years = check_update_years(opendatabcn_filenames)\n",
    "    \n",
    "    # opendatabcn data collection\n",
    "    if update_years:\n",
    "        collect_data(update_years)\n",
    "        print('update complete!')\n",
    "    else:\n",
    "        print('accidents data is already up to date!')"
   ]
  },
  {
   "cell_type": "code",
   "execution_count": 31,
   "id": "e8d70616",
   "metadata": {},
   "outputs": [],
   "source": [
    "if __name__ == __main__:\n",
    "    # Run the above function and store its results in a variable.   \n",
    "    opendatabcn_filenames = get_filepaths(\"landing/temporal/opendatabcn-accidents\")\n",
    "    update_years = check_update_years(opendatabcn_filenames)\n",
    "    \n",
    "    # opendatabcn data collection\n",
    "    if update_years:\n",
    "        collect_data(update_years)\n",
    "        print('update complete!')\n",
    "    else:\n",
    "        print('accidents data is already up to date!')"
   ]
  },
  {
   "cell_type": "code",
   "execution_count": 56,
   "id": "ef83849f",
   "metadata": {},
   "outputs": [
    {
     "name": "stdout",
     "output_type": "stream",
     "text": [
      "['2009']\n"
     ]
    }
   ],
   "source": [
    "accidents_years = [str(year) for year in range(2010, current_year)] # opendatabcn-accidents available years\n",
    "present_years = [element[:4] for element in opendatabcn_filenames] # returns a list of present years\n",
    "\n",
    "for element in present_years:\n",
    "    if element in accidents_years:\n",
    "        accidents_years.remove(element)\n",
    "\n",
    "print(accidents_years)"
   ]
  },
  {
   "cell_type": "code",
   "execution_count": 48,
   "id": "0337c232",
   "metadata": {},
   "outputs": [
    {
     "data": {
      "text/plain": [
       "['2015',\n",
       " '2021',\n",
       " '2010',\n",
       " '2014',\n",
       " '2020',\n",
       " '2011',\n",
       " '2017',\n",
       " '2012',\n",
       " '2016',\n",
       " '2013',\n",
       " '2018',\n",
       " '2019']"
      ]
     },
     "execution_count": 48,
     "metadata": {},
     "output_type": "execute_result"
    }
   ],
   "source": [
    "present_years"
   ]
  },
  {
   "cell_type": "code",
   "execution_count": 49,
   "id": "af4eeaa7",
   "metadata": {},
   "outputs": [
    {
     "data": {
      "text/plain": [
       "['2010',\n",
       " '2011',\n",
       " '2012',\n",
       " '2013',\n",
       " '2014',\n",
       " '2015',\n",
       " '2016',\n",
       " '2017',\n",
       " '2018',\n",
       " '2019',\n",
       " '2020',\n",
       " '2021']"
      ]
     },
     "execution_count": 49,
     "metadata": {},
     "output_type": "execute_result"
    }
   ],
   "source": [
    "accidents_years = [str(year) for year in range(2010, current_year)] # opendatabcn-accidents available years\n",
    "accidents_years"
   ]
  },
  {
   "cell_type": "code",
   "execution_count": 59,
   "id": "c6818d3f",
   "metadata": {},
   "outputs": [],
   "source": [
    "df = pd.read_csv('https://opendata-ajuntament.barcelona.cat/data/dataset/e769eb9d-d778-4cd7-9e3a-5858bba49b20/resource/bcfc0866-7e2a-4054-9a93-fb3f371fc5eb/download/2021_accidents_gu_bcn.csv')\n",
    "\n",
    "\n",
    "\n"
   ]
  },
  {
   "cell_type": "code",
   "execution_count": 60,
   "id": "4da0e03f",
   "metadata": {},
   "outputs": [
    {
     "name": "stdout",
     "output_type": "stream",
     "text": [
      "<class 'pandas.core.frame.DataFrame'>\n",
      "RangeIndex: 6268 entries, 0 to 6267\n",
      "Data columns (total 27 columns):\n",
      " #   Column                     Non-Null Count  Dtype  \n",
      "---  ------                     --------------  -----  \n",
      " 0   Numero_expedient           6268 non-null   object \n",
      " 1   Codi_districte             6268 non-null   int64  \n",
      " 2   Nom_districte              6268 non-null   object \n",
      " 3   Codi_barri                 6268 non-null   object \n",
      " 4   Nom_barri                  6268 non-null   object \n",
      " 5   Codi_carrer                6268 non-null   int64  \n",
      " 6   Nom_carrer                 6268 non-null   object \n",
      " 7   Num_postal_caption         6268 non-null   object \n",
      " 8   Descripcio_dia_setmana     6268 non-null   object \n",
      " 9   Dia_setmana                6268 non-null   int64  \n",
      " 10  Descripcio_tipus_dia       6268 non-null   object \n",
      " 11  NK_Any                     6268 non-null   int64  \n",
      " 12  Mes_any                    6268 non-null   int64  \n",
      " 13  Nom_mes                    6268 non-null   object \n",
      " 14  Dia_mes                    6268 non-null   int64  \n",
      " 15  Hora_dia                   6268 non-null   int64  \n",
      " 16  Descripcio_torn            6268 non-null   object \n",
      " 17  Descripcio_causa_vianant   6268 non-null   object \n",
      " 18  Numero_morts               6268 non-null   int64  \n",
      " 19  Numero_lesionats_lleus     6268 non-null   int64  \n",
      " 20  Numero_lesionats_greus     6268 non-null   int64  \n",
      " 21  Numero_victimes            6268 non-null   int64  \n",
      " 22  Numero_vehicles_implicats  6268 non-null   int64  \n",
      " 23  Coordenada_UTM_Y           6268 non-null   float64\n",
      " 24  Coordenada_UTM_X           6268 non-null   float64\n",
      " 25  Longitud                   6268 non-null   float64\n",
      " 26  Latitud                    6268 non-null   float64\n",
      "dtypes: float64(4), int64(12), object(11)\n",
      "memory usage: 1.3+ MB\n"
     ]
    }
   ],
   "source": [
    "df.info()"
   ]
  },
  {
   "cell_type": "code",
   "execution_count": null,
   "id": "3cf206c2",
   "metadata": {},
   "outputs": [],
   "source": []
  }
 ],
 "metadata": {
  "kernelspec": {
   "display_name": "Python 3 (ipykernel)",
   "language": "python",
   "name": "python3"
  },
  "language_info": {
   "codemirror_mode": {
    "name": "ipython",
    "version": 3
   },
   "file_extension": ".py",
   "mimetype": "text/x-python",
   "name": "python",
   "nbconvert_exporter": "python",
   "pygments_lexer": "ipython3",
   "version": "3.10.4"
  }
 },
 "nbformat": 4,
 "nbformat_minor": 5
}
