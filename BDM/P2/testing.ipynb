{
 "cells": [
  {
   "cell_type": "code",
   "execution_count": 168,
   "id": "c91371c0",
   "metadata": {},
   "outputs": [],
   "source": [
    "import pandas as pd\n",
    "import numpy as np\n",
    "import json\n",
    "import glob\n",
    "import os\n",
    "\n",
    "'''\n",
    "This script concatenates all individual yearly files extracted by `opendatabcn_accidents_collector.py` and produces a unified .json file with all the extracted accidents information, then exports it to the persistent landing zone.\n",
    "Args:\n",
    "    (none)\n",
    "Returns:\n",
    "    (.json) accidents_opendata.json - .json file containing all extracted data opendatabcn-accidents\n",
    "'''\n",
    "\n",
    "path = r'landing/temporal/opendatabcn-accidents/'\n",
    "all_files = glob.glob(path + \"/*.csv\")\n",
    "\n",
    "li = []\n",
    "\n",
    "for filename in all_files:\n",
    "    df = pd.read_csv(filename)\n",
    "    li.append(df)\n",
    "\n",
    "df = pd.concat(li, axis=0, ignore_index=True)\n",
    "\n",
    "df.to_json('landing/persistent/accidents_opendata/accidents_opendata.json', orient='records')"
   ]
  },
  {
   "cell_type": "code",
   "execution_count": 167,
   "id": "6513f155",
   "metadata": {},
   "outputs": [
    {
     "name": "stdout",
     "output_type": "stream",
     "text": [
      "<class 'pandas.core.frame.DataFrame'>\n",
      "RangeIndex: 54369 entries, 0 to 54368\n",
      "Data columns (total 34 columns):\n",
      " #   Column                     Non-Null Count  Dtype  \n",
      "---  ------                     --------------  -----  \n",
      " 0   Numero_expedient           54369 non-null  object \n",
      " 1   Codi_districte             54369 non-null  int64  \n",
      " 2   Nom_districte              54369 non-null  object \n",
      " 3   Codi_barri                 54369 non-null  object \n",
      " 4   Nom_barri                  54369 non-null  object \n",
      " 5   Codi_carrer                54369 non-null  int64  \n",
      " 6   Nom_carrer                 54368 non-null  object \n",
      " 7   Num_postal_caption         23954 non-null  object \n",
      " 8   Descripcio_dia_setmana     54369 non-null  object \n",
      " 9   NK_Any                     23954 non-null  float64\n",
      " 10  Mes_any                    54369 non-null  int64  \n",
      " 11  Nom_mes                    54369 non-null  object \n",
      " 12  Dia_mes                    54369 non-null  int64  \n",
      " 13  Hora_dia                   54369 non-null  int64  \n",
      " 14  Descripcio_torn            54369 non-null  object \n",
      " 15  Descripcio_causa_vianant   54369 non-null  object \n",
      " 16  Numero_morts               54369 non-null  int64  \n",
      " 17  Numero_lesionats_lleus     54369 non-null  int64  \n",
      " 18  Numero_lesionats_greus     54369 non-null  int64  \n",
      " 19  Numero_victimes            54369 non-null  int64  \n",
      " 20  Numero_vehicles_implicats  54369 non-null  int64  \n",
      " 21  Coordenada_UTM_Y_ED50      7659 non-null   float64\n",
      " 22  Coordenada_UTM_X_ED50      7659 non-null   float64\n",
      " 23  Longitud_WGS84             7635 non-null   float64\n",
      " 24  Latitud_WGS84              7635 non-null   float64\n",
      " 25  Dia_setmana                46710 non-null  object \n",
      " 26  Descripcio_tipus_dia       46710 non-null  object \n",
      " 27  Coordenada_UTM_Y           46710 non-null  object \n",
      " 28  Coordenada_UTM_X           46710 non-null  object \n",
      " 29  Longitud                   46710 non-null  float64\n",
      " 30  Latitud                    46710 non-null  float64\n",
      " 31  Num_postal                 20474 non-null  object \n",
      " 32  Any                        30415 non-null  float64\n",
      " 33  Num_postal                 5138 non-null   object \n",
      "dtypes: float64(8), int64(10), object(16)\n",
      "memory usage: 14.1+ MB\n"
     ]
    }
   ],
   "source": [
    "df.info()"
   ]
  },
  {
   "cell_type": "code",
   "execution_count": null,
   "id": "25858bd9",
   "metadata": {},
   "outputs": [],
   "source": []
  }
 ],
 "metadata": {
  "kernelspec": {
   "display_name": "Python 3 (ipykernel)",
   "language": "python",
   "name": "python3"
  },
  "language_info": {
   "codemirror_mode": {
    "name": "ipython",
    "version": 3
   },
   "file_extension": ".py",
   "mimetype": "text/x-python",
   "name": "python",
   "nbconvert_exporter": "python",
   "pygments_lexer": "ipython3",
   "version": "3.10.4"
  }
 },
 "nbformat": 4,
 "nbformat_minor": 5
}
