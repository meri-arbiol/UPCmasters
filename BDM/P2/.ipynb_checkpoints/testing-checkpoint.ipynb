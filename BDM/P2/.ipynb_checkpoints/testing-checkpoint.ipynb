{
 "cells": [
  {
   "cell_type": "markdown",
   "id": "87a6c4a3",
   "metadata": {},
   "source": [
    "### Merging all paquet files at start of job...\n"
   ]
  },
  {
   "cell_type": "code",
   "execution_count": 87,
   "id": "8215e6ed",
   "metadata": {},
   "outputs": [],
   "source": [
    "import pandas as pd\n",
    "import numpy as np\n",
    "import os\n",
    "from pyspark.sql import SparkSession\n",
    "from pyspark import SparkContext\n",
    "from pyspark.sql.types import StructType, StructField, StringType\n",
    "from pyspark.sql.functions import lit\n",
    "\n",
    "spark = SparkSession.builder.appName('idealista_format').getOrCreate()\n",
    "\n",
    "directory = \"landing/persistent/idealista\"\n",
    "\n",
    "parq_files = {}  # List which will store all of the full filepaths.\n",
    "# Walk the tree.\n",
    "for root, directories, files in os.walk(directory):\n",
    "    for filename in files:\n",
    "        if filename[-7:] == 'parquet':\n",
    "            parq_files[root[29:39]] = (root+'/'+filename)\n",
    "            "
   ]
  },
  {
   "cell_type": "code",
   "execution_count": 88,
   "id": "4aa18b36",
   "metadata": {},
   "outputs": [
    {
     "ename": "ValueError",
     "evalue": "Cannot run multiple SparkContexts at once; existing SparkContext(app=Learning_Spark, master=local[*]) created by getOrCreate at /var/folders/hd/rpm_8j3d44n1dqt00dv0sps00000gn/T/ipykernel_85466/2197693692.py:7 ",
     "output_type": "error",
     "traceback": [
      "\u001b[0;31m---------------------------------------------------------------------------\u001b[0m",
      "\u001b[0;31mValueError\u001b[0m                                Traceback (most recent call last)",
      "Input \u001b[0;32mIn [88]\u001b[0m, in \u001b[0;36m<cell line: 1>\u001b[0;34m()\u001b[0m\n\u001b[0;32m----> 1\u001b[0m sc \u001b[38;5;241m=\u001b[39m \u001b[43mSparkContext\u001b[49m\u001b[43m(\u001b[49m\u001b[38;5;124;43m'\u001b[39;49m\u001b[38;5;124;43mlocal\u001b[39;49m\u001b[38;5;124;43m'\u001b[39;49m\u001b[43m,\u001b[49m\u001b[43m \u001b[49m\u001b[38;5;124;43m'\u001b[39;49m\u001b[38;5;124;43mtest\u001b[39;49m\u001b[38;5;124;43m'\u001b[39;49m\u001b[43m)\u001b[49m\n",
      "File \u001b[0;32m~/miniforge3/envs/bdm_env/lib/python3.10/site-packages/pyspark/context.py:133\u001b[0m, in \u001b[0;36mSparkContext.__init__\u001b[0;34m(self, master, appName, sparkHome, pyFiles, environment, batchSize, serializer, conf, gateway, jsc, profiler_cls)\u001b[0m\n\u001b[1;32m    128\u001b[0m \u001b[38;5;28;01mif\u001b[39;00m gateway \u001b[38;5;129;01mis\u001b[39;00m \u001b[38;5;129;01mnot\u001b[39;00m \u001b[38;5;28;01mNone\u001b[39;00m \u001b[38;5;129;01mand\u001b[39;00m gateway\u001b[38;5;241m.\u001b[39mgateway_parameters\u001b[38;5;241m.\u001b[39mauth_token \u001b[38;5;129;01mis\u001b[39;00m \u001b[38;5;28;01mNone\u001b[39;00m:\n\u001b[1;32m    129\u001b[0m     \u001b[38;5;28;01mraise\u001b[39;00m \u001b[38;5;167;01mValueError\u001b[39;00m(\n\u001b[1;32m    130\u001b[0m         \u001b[38;5;124m\"\u001b[39m\u001b[38;5;124mYou are trying to pass an insecure Py4j gateway to Spark. This\u001b[39m\u001b[38;5;124m\"\u001b[39m\n\u001b[1;32m    131\u001b[0m         \u001b[38;5;124m\"\u001b[39m\u001b[38;5;124m is not allowed as it is a security risk.\u001b[39m\u001b[38;5;124m\"\u001b[39m)\n\u001b[0;32m--> 133\u001b[0m \u001b[43mSparkContext\u001b[49m\u001b[38;5;241;43m.\u001b[39;49m\u001b[43m_ensure_initialized\u001b[49m\u001b[43m(\u001b[49m\u001b[38;5;28;43mself\u001b[39;49m\u001b[43m,\u001b[49m\u001b[43m \u001b[49m\u001b[43mgateway\u001b[49m\u001b[38;5;241;43m=\u001b[39;49m\u001b[43mgateway\u001b[49m\u001b[43m,\u001b[49m\u001b[43m \u001b[49m\u001b[43mconf\u001b[49m\u001b[38;5;241;43m=\u001b[39;49m\u001b[43mconf\u001b[49m\u001b[43m)\u001b[49m\n\u001b[1;32m    134\u001b[0m \u001b[38;5;28;01mtry\u001b[39;00m:\n\u001b[1;32m    135\u001b[0m     \u001b[38;5;28mself\u001b[39m\u001b[38;5;241m.\u001b[39m_do_init(master, appName, sparkHome, pyFiles, environment, batchSize, serializer,\n\u001b[1;32m    136\u001b[0m                   conf, jsc, profiler_cls)\n",
      "File \u001b[0;32m~/miniforge3/envs/bdm_env/lib/python3.10/site-packages/pyspark/context.py:338\u001b[0m, in \u001b[0;36mSparkContext._ensure_initialized\u001b[0;34m(cls, instance, gateway, conf)\u001b[0m\n\u001b[1;32m    335\u001b[0m     callsite \u001b[38;5;241m=\u001b[39m SparkContext\u001b[38;5;241m.\u001b[39m_active_spark_context\u001b[38;5;241m.\u001b[39m_callsite\n\u001b[1;32m    337\u001b[0m     \u001b[38;5;66;03m# Raise error if there is already a running Spark context\u001b[39;00m\n\u001b[0;32m--> 338\u001b[0m     \u001b[38;5;28;01mraise\u001b[39;00m \u001b[38;5;167;01mValueError\u001b[39;00m(\n\u001b[1;32m    339\u001b[0m         \u001b[38;5;124m\"\u001b[39m\u001b[38;5;124mCannot run multiple SparkContexts at once; \u001b[39m\u001b[38;5;124m\"\u001b[39m\n\u001b[1;32m    340\u001b[0m         \u001b[38;5;124m\"\u001b[39m\u001b[38;5;124mexisting SparkContext(app=\u001b[39m\u001b[38;5;132;01m%s\u001b[39;00m\u001b[38;5;124m, master=\u001b[39m\u001b[38;5;132;01m%s\u001b[39;00m\u001b[38;5;124m)\u001b[39m\u001b[38;5;124m\"\u001b[39m\n\u001b[1;32m    341\u001b[0m         \u001b[38;5;124m\"\u001b[39m\u001b[38;5;124m created by \u001b[39m\u001b[38;5;132;01m%s\u001b[39;00m\u001b[38;5;124m at \u001b[39m\u001b[38;5;132;01m%s\u001b[39;00m\u001b[38;5;124m:\u001b[39m\u001b[38;5;132;01m%s\u001b[39;00m\u001b[38;5;124m \u001b[39m\u001b[38;5;124m\"\u001b[39m\n\u001b[1;32m    342\u001b[0m         \u001b[38;5;241m%\u001b[39m (currentAppName, currentMaster,\n\u001b[1;32m    343\u001b[0m             callsite\u001b[38;5;241m.\u001b[39mfunction, callsite\u001b[38;5;241m.\u001b[39mfile, callsite\u001b[38;5;241m.\u001b[39mlinenum))\n\u001b[1;32m    344\u001b[0m \u001b[38;5;28;01melse\u001b[39;00m:\n\u001b[1;32m    345\u001b[0m     SparkContext\u001b[38;5;241m.\u001b[39m_active_spark_context \u001b[38;5;241m=\u001b[39m instance\n",
      "\u001b[0;31mValueError\u001b[0m: Cannot run multiple SparkContexts at once; existing SparkContext(app=Learning_Spark, master=local[*]) created by getOrCreate at /var/folders/hd/rpm_8j3d44n1dqt00dv0sps00000gn/T/ipykernel_85466/2197693692.py:7 "
     ]
    }
   ],
   "source": []
  },
  {
   "cell_type": "code",
   "execution_count": 91,
   "id": "caacbe34",
   "metadata": {},
   "outputs": [
    {
     "ename": "AttributeError",
     "evalue": "'SparkSession' object has no attribute 'SparkContext'",
     "output_type": "error",
     "traceback": [
      "\u001b[0;31m---------------------------------------------------------------------------\u001b[0m",
      "\u001b[0;31mAttributeError\u001b[0m                            Traceback (most recent call last)",
      "Input \u001b[0;32mIn [91]\u001b[0m, in \u001b[0;36m<cell line: 1>\u001b[0;34m()\u001b[0m\n\u001b[0;32m----> 1\u001b[0m allTest \u001b[38;5;241m=\u001b[39m \u001b[43mspark\u001b[49m\u001b[38;5;241;43m.\u001b[39;49m\u001b[43mSparkContext\u001b[49m\u001b[38;5;241m.\u001b[39mtextFile(\u001b[38;5;124m\"\u001b[39m\u001b[38;5;124mlanding/persistent/idealista/*\u001b[39m\u001b[38;5;124m\"\u001b[39m)\u001b[38;5;241m.\u001b[39mrdd\n",
      "\u001b[0;31mAttributeError\u001b[0m: 'SparkSession' object has no attribute 'SparkContext'"
     ]
    }
   ],
   "source": [
    "allTest = spark.SparkContext.textFile(\"landing/persistent/idealista/*\").rdd"
   ]
  },
  {
   "cell_type": "code",
   "execution_count": null,
   "id": "65555406",
   "metadata": {},
   "outputs": [],
   "source": []
  },
  {
   "cell_type": "markdown",
   "id": "bccd51dc",
   "metadata": {},
   "source": [
    "### Misc testing..."
   ]
  },
  {
   "cell_type": "code",
   "execution_count": 69,
   "id": "a43f8f29",
   "metadata": {},
   "outputs": [],
   "source": [
    "df = spark.read.parquet(\"landing/persistent/idealista/2021_02_22_idealista/part-00000-10c3d7de-11b8-44a9-907f-6f0a7d7051d0-c000.snappy.parquet\")"
   ]
  },
  {
   "cell_type": "code",
   "execution_count": 70,
   "id": "ec00b4b0",
   "metadata": {},
   "outputs": [
    {
     "data": {
      "text/plain": [
       "DataFrame[address: string, bathrooms: bigint, country: string, detailedType: struct<subTypology:string,typology:string>, distance: string, district: string, exterior: boolean, externalReference: string, floor: string, has360: boolean, has3DTour: boolean, hasLift: boolean, hasPlan: boolean, hasStaging: boolean, hasVideo: boolean, latitude: double, longitude: double, municipality: string, neighborhood: string, newDevelopment: boolean, numPhotos: bigint, operation: string, parkingSpace: struct<hasParkingSpace:boolean,isParkingSpaceIncludedInPrice:boolean,parkingSpacePrice:double>, price: double, priceByArea: double, propertyCode: string, propertyType: string, province: string, rooms: bigint, showAddress: boolean, size: double, status: string, suggestedTexts: struct<subtitle:string,title:string>, thumbnail: string, topNewDevelopment: boolean, url: string]"
      ]
     },
     "execution_count": 70,
     "metadata": {},
     "output_type": "execute_result"
    }
   ],
   "source": [
    "df"
   ]
  },
  {
   "cell_type": "code",
   "execution_count": 71,
   "id": "aef356ab",
   "metadata": {},
   "outputs": [],
   "source": [
    "rdd_addDate = df.withColumn(\"date\", lit('2021_02_22')).rdd"
   ]
  },
  {
   "cell_type": "code",
   "execution_count": 80,
   "id": "062dd2e8",
   "metadata": {},
   "outputs": [
    {
     "data": {
      "text/plain": [
       "50"
      ]
     },
     "execution_count": 80,
     "metadata": {},
     "output_type": "execute_result"
    }
   ],
   "source": [
    "rdd_addDate.count()"
   ]
  },
  {
   "cell_type": "code",
   "execution_count": 72,
   "id": "a7b5e729",
   "metadata": {},
   "outputs": [],
   "source": [
    "transform_rdd = rdd_addDate.map(lambda x: (x['propertyCode'],\n",
    "                                           x['propertyType'],\n",
    "                                            x['date'],\n",
    "                                            x['operation'],\n",
    "                                            x['country'],\n",
    "                                            x['municipality'],\n",
    "                                            x['province'],\n",
    "                                            x['district'], \n",
    "                                            x['neighborhood'],\n",
    "                                            x['price'],\n",
    "                                            x['priceByArea'],\n",
    "                                            x['rooms'],\n",
    "                                            x['bathrooms'],\n",
    "                                            x['size'],\n",
    "                                            x['status'],\n",
    "                                            x['floor'],\n",
    "                                            x['hasLift'],\n",
    "                                            x['parkingSpace'],\n",
    "                                            x['newDevelopment'],\n",
    "                                            x['numPhotos'],\n",
    "                                            x['distance'], \n",
    "                                            x['exterior']))\n",
    "\n",
    "#.filter(lambda row: all(x is not None for x in row)).distinct()"
   ]
  },
  {
   "cell_type": "code",
   "execution_count": 73,
   "id": "c4521fa7",
   "metadata": {},
   "outputs": [
    {
     "data": {
      "text/plain": [
       "[(Row(subtitle='Vila de Gràcia, Barcelona', title='Piso'),\n",
       "  '85493774',\n",
       "  'flat',\n",
       "  '2021_02_22',\n",
       "  'sale',\n",
       "  'es',\n",
       "  'Barcelona',\n",
       "  'Barcelona',\n",
       "  'Gràcia',\n",
       "  'Vila de Gràcia',\n",
       "  750000.0,\n",
       "  3713.0,\n",
       "  1,\n",
       "  2,\n",
       "  202.0,\n",
       "  'good',\n",
       "  'bj',\n",
       "  False,\n",
       "  Row(hasParkingSpace=True, isParkingSpaceIncludedInPrice=True, parkingSpacePrice=None),\n",
       "  False,\n",
       "  36,\n",
       "  '502',\n",
       "  False),\n",
       " (Row(subtitle=\"La Dreta de l'Eixample, Barcelona\", title='Piso'),\n",
       "  '84869947',\n",
       "  'flat',\n",
       "  '2021_02_22',\n",
       "  'sale',\n",
       "  'es',\n",
       "  'Barcelona',\n",
       "  'Barcelona',\n",
       "  'Eixample',\n",
       "  \"La Dreta de l'Eixample\",\n",
       "  595000.0,\n",
       "  3306.0,\n",
       "  4,\n",
       "  2,\n",
       "  180.0,\n",
       "  'renew',\n",
       "  '1',\n",
       "  True,\n",
       "  Row(hasParkingSpace=True, isParkingSpaceIncludedInPrice=False, parkingSpacePrice=30000.0),\n",
       "  False,\n",
       "  23,\n",
       "  '318',\n",
       "  True)]"
      ]
     },
     "execution_count": 73,
     "metadata": {},
     "output_type": "execute_result"
    }
   ],
   "source": [
    "transform_rdd.take(2)"
   ]
  },
  {
   "cell_type": "code",
   "execution_count": 74,
   "id": "c53f3745",
   "metadata": {},
   "outputs": [
    {
     "data": {
      "text/plain": [
       "5"
      ]
     },
     "execution_count": 74,
     "metadata": {},
     "output_type": "execute_result"
    }
   ],
   "source": [
    "transform_rdd.count()"
   ]
  },
  {
   "cell_type": "code",
   "execution_count": 75,
   "id": "5991efdc",
   "metadata": {},
   "outputs": [],
   "source": [
    "df2 = spark.read.parquet(\"landing/persistent/idealista/2020_09_05_idealista/part-00000-8f1ef1af-429d-4348-b6f5-3466876f0efa-c000.snappy.parquet\")"
   ]
  },
  {
   "cell_type": "code",
   "execution_count": 76,
   "id": "fc69bb64",
   "metadata": {},
   "outputs": [],
   "source": [
    "rdd_addDate2 = df2.withColumn(\"date\", lit('2020_09_05')).rdd"
   ]
  },
  {
   "cell_type": "code",
   "execution_count": 81,
   "id": "f83ed82e",
   "metadata": {},
   "outputs": [
    {
     "data": {
      "text/plain": [
       "347"
      ]
     },
     "execution_count": 81,
     "metadata": {},
     "output_type": "execute_result"
    }
   ],
   "source": [
    "rdd_addDate2.count()"
   ]
  },
  {
   "cell_type": "code",
   "execution_count": 82,
   "id": "974fb7a4",
   "metadata": {},
   "outputs": [],
   "source": [
    "transform_rdd2 = rdd_addDate2.map(lambda x: (x['propertyCode'],\n",
    "                                             x['propertyType'],\n",
    "                                             x['date'],\n",
    "                                            x['operation'],\n",
    "                                            x['country'],\n",
    "                                            x['municipality'],\n",
    "                                            x['province'],\n",
    "                                            x['district'], \n",
    "                                            x['neighborhood'],\n",
    "                                            x['price'],\n",
    "                                            x['priceByArea'],\n",
    "                                            x['rooms'],\n",
    "                                            x['bathrooms'],\n",
    "                                            x['size'],\n",
    "                                            x['status'],\n",
    "                                            x['floor'],\n",
    "                                            x['hasLift'],\n",
    "                                            x['parkingSpace'],\n",
    "                                            x['newDevelopment'],\n",
    "                                            x['numPhotos'],\n",
    "                                            x['distance'], \n",
    "                                            x['exterior']))\n"
   ]
  },
  {
   "cell_type": "code",
   "execution_count": 85,
   "id": "9782416c",
   "metadata": {},
   "outputs": [
    {
     "data": {
      "text/plain": [
       "7"
      ]
     },
     "execution_count": 85,
     "metadata": {},
     "output_type": "execute_result"
    }
   ],
   "source": [
    "test_rdd2 = transform_rdd2.filter(lambda row: all(x is not None for x in row)).distinct()\n",
    "test_rdd2.count()"
   ]
  },
  {
   "cell_type": "code",
   "execution_count": 83,
   "id": "58f004df",
   "metadata": {},
   "outputs": [
    {
     "data": {
      "text/plain": [
       "[(Row(subtitle='Les Planes, Hospitalet de Llobregat', title='Piso en Avenida Catalunya'),\n",
       "  '91224583',\n",
       "  'flat',\n",
       "  '2020_09_05',\n",
       "  'sale',\n",
       "  'es',\n",
       "  'Hospitalet de Llobregat',\n",
       "  'Barcelona',\n",
       "  'La Florida - Les Planes',\n",
       "  'Les Planes',\n",
       "  180000.0,\n",
       "  2195.0,\n",
       "  3,\n",
       "  1,\n",
       "  82.0,\n",
       "  'good',\n",
       "  '5',\n",
       "  True,\n",
       "  None,\n",
       "  False,\n",
       "  25,\n",
       "  '431',\n",
       "  True),\n",
       " (Row(subtitle='Sant Josep, Hospitalet de Llobregat', title='Piso en JOSEP TARRADELLES, 101'),\n",
       "  '91944839',\n",
       "  'flat',\n",
       "  '2020_09_05',\n",
       "  'sale',\n",
       "  'es',\n",
       "  'Hospitalet de Llobregat',\n",
       "  'Barcelona',\n",
       "  'Centre',\n",
       "  'Sant Josep',\n",
       "  159000.0,\n",
       "  2208.0,\n",
       "  3,\n",
       "  1,\n",
       "  72.0,\n",
       "  'good',\n",
       "  '8',\n",
       "  True,\n",
       "  None,\n",
       "  False,\n",
       "  9,\n",
       "  '427',\n",
       "  True)]"
      ]
     },
     "execution_count": 83,
     "metadata": {},
     "output_type": "execute_result"
    }
   ],
   "source": [
    "transform_rdd2.take(2)"
   ]
  },
  {
   "cell_type": "code",
   "execution_count": 84,
   "id": "a3a58955",
   "metadata": {},
   "outputs": [
    {
     "data": {
      "text/plain": [
       "347"
      ]
     },
     "execution_count": 84,
     "metadata": {},
     "output_type": "execute_result"
    }
   ],
   "source": [
    "transform_rdd2.count()"
   ]
  },
  {
   "cell_type": "code",
   "execution_count": 66,
   "id": "af0fdffe",
   "metadata": {},
   "outputs": [
    {
     "data": {
      "text/plain": [
       "12"
      ]
     },
     "execution_count": 66,
     "metadata": {},
     "output_type": "execute_result"
    }
   ],
   "source": [
    "union_rdd = transform_rdd.union(transform_rdd2)\n",
    "union_rdd.count()"
   ]
  },
  {
   "cell_type": "code",
   "execution_count": 70,
   "id": "0ea939f8",
   "metadata": {},
   "outputs": [
    {
     "data": {
      "text/plain": [
       "{'2021_02_22': 'landing/persistent/idealista/2021_02_22_idealista/part-00000-10c3d7de-11b8-44a9-907f-6f0a7d7051d0-c000.snappy.parquet',\n",
       " '2020_03_16': 'landing/persistent/idealista/2020_03_16_idealista/part-00000-88f16d66-e7f6-4fa0-9ab8-bac88dc5adfd-c000.snappy.parquet',\n",
       " '2020_01_13': 'landing/persistent/idealista/2020_01_13_idealista/part-00000-0b5efacb-48eb-472a-9b87-a863fe92e503-c000.snappy.parquet',\n",
       " '2020_02_10': 'landing/persistent/idealista/2020_02_10_idealista/part-00000-5dcf60c1-1a7f-41f2-967e-5cead88ecf36-c000.snappy.parquet',\n",
       " '2020_06_13': 'landing/persistent/idealista/2020_06_13_idealista/part-00000-c6a1025d-3527-418f-a90d-eb45a03f51ed-c000.snappy.parquet',\n",
       " '2020_04_16': 'landing/persistent/idealista/2020_04_16_idealista/part-00000-5271a859-1abd-4195-8c2c-a6cf2a4ab961-c000.snappy.parquet',\n",
       " '2020_07_15': 'landing/persistent/idealista/2020_07_15_idealista/part-00000-a946f2f4-f32a-405c-aebe-5a78c8a06979-c000.snappy.parquet',\n",
       " '2020_10_25': 'landing/persistent/idealista/2020_10_25_idealista/part-00000-3653c01d-41ce-4d89-bb3b-a360abeb2106-c000.snappy.parquet',\n",
       " '2020_10_31': 'landing/persistent/idealista/2020_10_31_idealista/part-00000-4d8849cc-18db-4443-890d-6616f5e2580d-c000.snappy.parquet',\n",
       " '2020_05_04': 'landing/persistent/idealista/2020_05_04_idealista/part-00000-bb30d404-475e-488e-ac0d-f50fa52a7ce5-c000.snappy.parquet',\n",
       " '2020_03_02': 'landing/persistent/idealista/2020_03_02_idealista/part-00000-b323aa7e-a6f5-4e37-9f3e-a2f27c1466a1-c000.snappy.parquet',\n",
       " '2020_07_20': 'landing/persistent/idealista/2020_07_20_idealista/part-00000-1996963b-5426-4694-823e-b00c03eef75e-c000.snappy.parquet',\n",
       " '2020_05_25': 'landing/persistent/idealista/2020_05_25_idealista/part-00000-5646568a-1dd1-4a99-9304-a795c1e69809-c000.snappy.parquet',\n",
       " '2020_11_16': 'landing/persistent/idealista/2020_11_16_idealista/part-00000-e71056e2-a936-47e6-91a0-8bdaa0573385-c000.snappy.parquet',\n",
       " '2020_05_31': 'landing/persistent/idealista/2020_05_31_idealista/part-00000-df2120a0-c89d-4868-9ad2-2d2dea5397a1-c000.snappy.parquet',\n",
       " '2020_07_18': 'landing/persistent/idealista/2020_07_18_idealista/part-00000-de0ef1f9-2ddd-402d-b554-a1d27f5b4222-c000.snappy.parquet',\n",
       " '2020_09_05': 'landing/persistent/idealista/2020_09_05_idealista/part-00000-8f1ef1af-429d-4348-b6f5-3466876f0efa-c000.snappy.parquet',\n",
       " '2020_08_03': 'landing/persistent/idealista/2020_08_03_idealista/part-00000-baf44814-0969-472f-bda8-f40348326760-c000.snappy.parquet',\n",
       " '2020_08_17': 'landing/persistent/idealista/2020_08_17_idealista/part-00000-0b0ca4c8-a281-49a5-888b-6207a40848b4-c000.snappy.parquet',\n",
       " '2020_10_16': 'landing/persistent/idealista/2020_10_16_idealista/part-00000-5357a17e-7da6-4380-8522-62ec373f85f9-c000.snappy.parquet',\n",
       " '2020_07_26': 'landing/persistent/idealista/2020_07_26_idealista/part-00000-0333be08-5f31-4c56-ad12-0a1a4eed2092-c000.snappy.parquet',\n",
       " '2020_04_25': 'landing/persistent/idealista/2020_04_25_idealista/part-00000-bf06a0d3-b035-4f9f-af17-a5059978c5ca-c000.snappy.parquet',\n",
       " '2020_08_29': 'landing/persistent/idealista/2020_08_29_idealista/part-00000-d1ec6712-b137-430b-9076-3d93644da96b-c000.snappy.parquet',\n",
       " '2020_12_07': 'landing/persistent/idealista/2020_12_07_idealista/part-00000-a8f5d690-b09f-41ba-ad74-2608d201ade7-c000.snappy.parquet',\n",
       " '2020_11_25': 'landing/persistent/idealista/2020_11_25_idealista/part-00000-b73f8333-56e1-4312-b74a-84aec787bf49-c000.snappy.parquet',\n",
       " '2021_02_24': 'landing/persistent/idealista/2021_02_24_idealista/part-00000-60ee95c2-8e3e-4b52-9201-f4cdd0dca058-c000.snappy.parquet',\n",
       " '2020_02_16': 'landing/persistent/idealista/2020_02_16_idealista/part-00000-60ffd187-555a-4315-829a-b55568c10ad8-c000.snappy.parquet',\n",
       " '2020_06_01': 'landing/persistent/idealista/2020_06_01_idealista/part-00000-b968a6ca-3384-4b99-8956-763a38439d04-c000.snappy.parquet',\n",
       " '2020_03_28': 'landing/persistent/idealista/2020_03_28_idealista/part-00000-26ca5aa7-65fe-44f0-a530-a6d8fc89585c-c000.snappy.parquet',\n",
       " '2020_08_30': 'landing/persistent/idealista/2020_08_30_idealista/part-00000-593d3eb1-6a79-4090-afc0-242d879a2578-c000.snappy.parquet',\n",
       " '2020_08_05': 'landing/persistent/idealista/2020_08_05_idealista/part-00000-bcd5d52c-e508-4ce8-baac-f588f43127fd-c000.snappy.parquet',\n",
       " '2020_10_30': 'landing/persistent/idealista/2020_10_30_idealista/part-00000-239439fd-d29a-4e7c-b700-8dee6b4a2816-c000.snappy.parquet',\n",
       " '2020_06_06': 'landing/persistent/idealista/2020_06_06_idealista/part-00000-db734755-2aea-455c-b824-7ce4b6f79f36-c000.snappy.parquet',\n",
       " '2020_03_03': 'landing/persistent/idealista/2020_03_03_idealista/part-00000-1ccd79e9-f88f-4382-ac18-12fcdb6c597e-c000.snappy.parquet',\n",
       " '2021_01_20': 'landing/persistent/idealista/2021_01_20_idealista/part-00000-bec1cf53-1cca-45b2-9660-09f8114344ff-c000.snappy.parquet',\n",
       " '2020_02_11': 'landing/persistent/idealista/2020_02_11_idealista/part-00000-93d28538-eb15-4a67-92d8-ed12a40d131b-c000.snappy.parquet',\n",
       " '2020_07_14': 'landing/persistent/idealista/2020_07_14_idealista/part-00000-ce49431e-ed12-4d34-8f7e-0ecf801be432-c000.snappy.parquet',\n",
       " '2020_10_24': 'landing/persistent/idealista/2020_10_24_idealista/part-00000-d1dc1d7e-b374-404c-8472-b2a25b0cbdc3-c000.snappy.parquet',\n",
       " '2020_09_28': 'landing/persistent/idealista/2020_09_28_idealista/part-00000-7564492b-90c7-4b0e-9cda-27a52bbb0277-c000.snappy.parquet',\n",
       " '2020_12_14': 'landing/persistent/idealista/2020_12_14_idealista/part-00000-ab6eff71-22fa-47af-8089-ce09d026eef8-c000.snappy.parquet',\n",
       " '2020_11_17': 'landing/persistent/idealista/2020_11_17_idealista/part-00000-e2dfe841-c4be-452a-8f57-f73cbbc9eecf-c000.snappy.parquet',\n",
       " '2020_05_08': 'landing/persistent/idealista/2020_05_08_idealista/part-00000-019b305c-68ab-4852-9102-473e392123ca-c000.snappy.parquet',\n",
       " '2020_09_04': 'landing/persistent/idealista/2020_09_04_idealista/part-00000-3a99f28f-50fe-45ef-94db-15e9f6dd7bda-c000.snappy.parquet',\n",
       " '2020_07_19': 'landing/persistent/idealista/2020_07_19_idealista/part-00000-aba92a38-a9d2-4c4b-a125-6be09b472466-c000.snappy.parquet',\n",
       " '2020_08_02': 'landing/persistent/idealista/2020_08_02_idealista/part-00000-099b1ee2-85f8-432b-b247-d0c87ff87379-c000.snappy.parquet',\n",
       " '2021_03_09': 'landing/persistent/idealista/2021_03_09_idealista/part-00000-5079247d-0100-4b14-94fc-e99beebe8281-c000.snappy.parquet',\n",
       " '2020_05_29': 'landing/persistent/idealista/2020_05_29_idealista/part-00000-731c1124-fecd-4fc1-b3b5-b0054c2cfca0-c000.snappy.parquet',\n",
       " '2021_02_04': 'landing/persistent/idealista/2021_02_04_idealista/part-00000-f28fee29-4a82-42d6-ae65-65b4c358c332-c000.snappy.parquet',\n",
       " '2021_01_07': 'landing/persistent/idealista/2021_01_07_idealista/part-00000-e02102c2-177d-4468-a18a-9521397db0e5-c000.snappy.parquet',\n",
       " '2021_01_13': 'landing/persistent/idealista/2021_01_13_idealista/part-00000-789e8b96-35fa-48f6-bc0e-c48fab9401bb-c000.snappy.parquet',\n",
       " '2020_10_17': 'landing/persistent/idealista/2020_10_17_idealista/part-00000-597a4bc2-6b82-478a-be06-f2f166407de0-c000.snappy.parquet',\n",
       " '2020_12_12': 'landing/persistent/idealista/2020_12_12_idealista/part-00000-4d8dcf0a-7ae9-4240-8f87-36a5ef75b834-c000.snappy.parquet',\n",
       " '2020_07_27': 'landing/persistent/idealista/2020_07_27_idealista/part-00000-6e0b97c4-80ca-4289-b054-5b98e5081459-c000.snappy.parquet',\n",
       " '2020_03_05': 'landing/persistent/idealista/2020_03_05_idealista/part-00000-cc418048-97ac-4654-81c5-d4d5f266614c-c000.snappy.parquet',\n",
       " '2020_04_05': 'landing/persistent/idealista/2020_04_05_idealista/part-00000-e17f9822-e2cc-4bbd-9852-b988ea6e59fe-c000.snappy.parquet',\n",
       " '2020_08_09': 'landing/persistent/idealista/2020_08_09_idealista/part-00000-e465b454-2333-4de6-9364-1a358e4c89ed-c000.snappy.parquet',\n",
       " '2020_05_17': 'landing/persistent/idealista/2020_05_17_idealista/part-00000-92a61858-a51e-4396-8b96-d4840e24abd6-c000.snappy.parquet',\n",
       " '2021_02_25': 'landing/persistent/idealista/2021_02_25_idealista/part-00000-3b241c3d-b9f5-4c0e-8057-1ed684e4457e-c000.snappy.parquet',\n",
       " '2020_02_17': 'landing/persistent/idealista/2020_02_17_idealista/part-00000-1aaaac5d-49fd-4086-901b-2d3cfcb79483-c000.snappy.parquet',\n",
       " '2020_04_29': 'landing/persistent/idealista/2020_04_29_idealista/part-00000-24e72472-780a-4a9c-b77b-a4722498b77f-c000.snappy.parquet',\n",
       " '2020_08_04': 'landing/persistent/idealista/2020_08_04_idealista/part-00000-9574a067-d93e-42b7-8a3b-0c98f6942c62-c000.snappy.parquet',\n",
       " '2020_05_27': 'landing/persistent/idealista/2020_05_27_idealista/part-00000-79ece26d-5fc3-4fab-aee3-c1d603f16822-c000.snappy.parquet',\n",
       " '2020_01_24': 'landing/persistent/idealista/2020_01_24_idealista/part-00000-8816ece8-3093-4845-82be-bca283c9c0e4-c000.snappy.parquet',\n",
       " '2021_02_15': 'landing/persistent/idealista/2021_02_15_idealista/part-00000-aa3ce319-9795-420a-96f3-12314cbec8e7-c000.snappy.parquet',\n",
       " '2020_01_30': 'landing/persistent/idealista/2020_01_30_idealista/part-00000-8e33f1d5-60d4-4dd0-85be-184df7ef6f7e-c000.snappy.parquet',\n",
       " '2020_12_03': 'landing/persistent/idealista/2020_12_03_idealista/part-00000-73923958-4af8-40bb-8440-e2e28c02b37b-c000.snappy.parquet',\n",
       " '2020_10_06': 'landing/persistent/idealista/2020_10_06_idealista/part-00000-02616326-2d59-43a8-90ea-48c8ebb8da33-c000.snappy.parquet',\n",
       " '2020_10_27': 'landing/persistent/idealista/2020_10_27_idealista/part-00000-c755632d-d786-4e1b-af4d-cbe7612a71a5-c000.snappy.parquet',\n",
       " '2020_05_12': 'landing/persistent/idealista/2020_05_12_idealista/part-00000-353fa38a-e78a-4bdf-ad8e-16e0f50e784c-c000.snappy.parquet',\n",
       " '2020_07_17': 'landing/persistent/idealista/2020_07_17_idealista/part-00000-dcf2cd1d-e398-48a7-8c0e-589e89601821-c000.snappy.parquet',\n",
       " '2020_06_05': 'landing/persistent/idealista/2020_06_05_idealista/part-00000-0cddc168-4ce7-4d75-9f25-9ab3ac7c1f7c-c000.snappy.parquet',\n",
       " '2020_05_06': 'landing/persistent/idealista/2020_05_06_idealista/part-00000-193d7716-a37d-4e05-8e6e-d5280d8cc467-c000.snappy.parquet',\n",
       " '2020_11_19': 'landing/persistent/idealista/2020_11_19_idealista/part-00000-69ec85c8-9747-497f-a083-36a729f34d72-c000.snappy.parquet',\n",
       " '2020_03_19': 'landing/persistent/idealista/2020_03_19_idealista/part-00000-fb0befe6-fe68-4333-ad58-9d4e114e69c5-c000.snappy.parquet',\n",
       " '2020_08_01': 'landing/persistent/idealista/2020_08_01_idealista/part-00000-6c929c90-7d61-4409-9645-96a9605cee7c-c000.snappy.parquet',\n",
       " '2020_04_19': 'landing/persistent/idealista/2020_04_19_idealista/part-00000-52679537-4d37-4157-86f9-b553231ce350-c000.snappy.parquet',\n",
       " '2020_09_07': 'landing/persistent/idealista/2020_09_07_idealista/part-00000-1fdbb235-a989-4f36-a7d5-0dce10a6addc-c000.snappy.parquet',\n",
       " '2020_08_15': 'landing/persistent/idealista/2020_08_15_idealista/part-00000-13c788e7-dfb0-4bbf-af4f-806fe5182359-c000.snappy.parquet',\n",
       " '2020_01_08': 'landing/persistent/idealista/2020_01_08_idealista/part-00000-80ff8854-a902-484a-97a4-413c28ef7fe3-c000.snappy.parquet',\n",
       " '2020_06_17': 'landing/persistent/idealista/2020_06_17_idealista/part-00000-e8b972f4-3731-45e5-b2f7-452a878437c0-c000.snappy.parquet',\n",
       " '2021_01_25': 'landing/persistent/idealista/2021_01_25_idealista/part-00000-1f580bfc-5617-48b4-af61-381251b4fb60-c000.snappy.parquet',\n",
       " '2020_04_06': 'landing/persistent/idealista/2020_04_06_idealista/part-00000-b839d337-0a17-45a4-9c02-7d43da05a68e-c000.snappy.parquet',\n",
       " '2020_06_03': 'landing/persistent/idealista/2020_06_03_idealista/part-00000-5269cb28-211b-486c-b6f2-769b8909431d-c000.snappy.parquet',\n",
       " '2020_02_21': 'landing/persistent/idealista/2020_02_21_idealista/part-00000-a108db8d-abba-4ed8-b9fd-57987d7c4242-c000.snappy.parquet',\n",
       " '2020_06_22': 'landing/persistent/idealista/2020_06_22_idealista/part-00000-0eb9e20d-258a-4738-8522-1edc165efe14-c000.snappy.parquet',\n",
       " '2020_12_11': 'landing/persistent/idealista/2020_12_11_idealista/part-00000-a837c0d0-e6e5-49cd-aca9-3ebfca15c3f1-c000.snappy.parquet',\n",
       " '2020_10_14': 'landing/persistent/idealista/2020_10_14_idealista/part-00000-9a7500ab-f21b-4f4e-b9a6-1a2f30deaa5d-c000.snappy.parquet',\n",
       " '2020_11_06': 'landing/persistent/idealista/2020_11_06_idealista/part-00000-79d2180d-e018-4764-bce4-8079b71a6e5f-c000.snappy.parquet',\n",
       " '2020_08_07': 'landing/persistent/idealista/2020_08_07_idealista/part-00000-71cca652-77e6-4dac-8bc9-e0577b74758c-c000.snappy.parquet',\n",
       " '2021_01_28': 'landing/persistent/idealista/2021_01_28_idealista/part-00000-598788a4-7187-4b2d-90e3-c099d5db9a0d-c000.snappy.parquet',\n",
       " '2020_09_15': 'landing/persistent/idealista/2020_09_15_idealista/part-00000-82b94673-0b4c-4cf0-a924-d5bfbc1f1dff-c000.snappy.parquet',\n",
       " '2020_10_19': 'landing/persistent/idealista/2020_10_19_idealista/part-00000-484755e2-8482-441a-a2f1-c8823730dae1-c000.snappy.parquet',\n",
       " '2020_07_29': 'landing/persistent/idealista/2020_07_29_idealista/part-00000-5a4ff334-cf7d-41f1-abd0-e57d030d3cde-c000.snappy.parquet',\n",
       " '2020_08_26': 'landing/persistent/idealista/2020_08_26_idealista/part-00000-da4916c3-e4d7-4af1-a90a-542c1bb7e31f-c000.snappy.parquet',\n",
       " '2020_09_20': 'landing/persistent/idealista/2020_09_20_idealista/part-00000-445f163d-0762-4c46-85bf-434ddc2ee8f5-c000.snappy.parquet',\n",
       " '2021_01_03': 'landing/persistent/idealista/2021_01_03_idealista/part-00000-8f258d2c-2ef4-4352-af26-9a9146cbc4ba-c000.snappy.parquet',\n",
       " '2020_10_07': 'landing/persistent/idealista/2020_10_07_idealista/part-00000-ecae3e4b-cdc2-4605-bb12-7a859cba0406-c000.snappy.parquet',\n",
       " '2020_11_01': 'landing/persistent/idealista/2020_11_01_idealista/part-00000-c743684e-70fa-46f3-99a6-b5e97afe70f4-c000.snappy.parquet',\n",
       " '2020_11_15': 'landing/persistent/idealista/2020_11_15_idealista/part-00000-1436141f-f7e7-464d-b27e-9965b126da5b-c000.snappy.parquet',\n",
       " '2020_07_23': 'landing/persistent/idealista/2020_07_23_idealista/part-00000-6d58561b-5100-46f0-aeb2-7e38df86e3bd-c000.snappy.parquet',\n",
       " '2021_02_14': 'landing/persistent/idealista/2021_02_14_idealista/part-00000-e1c6cd12-0a88-4c70-8d55-be404da02b26-c000.snappy.parquet',\n",
       " '2020_02_26': 'landing/persistent/idealista/2020_02_26_idealista/part-00000-9a166135-3a46-4bc3-a487-0d921b60b265-c000.snappy.parquet',\n",
       " '2020_06_04': 'landing/persistent/idealista/2020_06_04_idealista/part-00000-050f0c65-9aea-4ed9-90a2-0d9c3eafce26-c000.snappy.parquet',\n",
       " '2020_02_07': 'landing/persistent/idealista/2020_02_07_idealista/part-00000-0103fb96-7a2d-4733-9213-3d814536f569-c000.snappy.parquet',\n",
       " '2020_02_13': 'landing/persistent/idealista/2020_02_13_idealista/part-00000-dcd4a96f-225d-43ce-8699-e3c586ee56cb-c000.snappy.parquet',\n",
       " '2020_01_10': 'landing/persistent/idealista/2020_01_10_idealista/part-00000-2d0942e6-c44b-4b48-bbe1-ca0ef6828832-c000.snappy.parquet',\n",
       " '2020_04_15': 'landing/persistent/idealista/2020_04_15_idealista/part-00000-c70fda60-bef5-40f2-bdef-072084bf5cae-c000.snappy.parquet',\n",
       " '2020_08_21': 'landing/persistent/idealista/2020_08_21_idealista/part-00000-e01fbcb0-e970-4fce-be86-ec471c97c206-c000.snappy.parquet',\n",
       " '2020_01_28': 'landing/persistent/idealista/2020_01_28_idealista/part-00000-3c66e7f8-b99f-40ce-935c-da2b004048eb-c000.snappy.parquet',\n",
       " '2021_02_19': 'landing/persistent/idealista/2021_02_19_idealista/part-00000-999f222b-dc18-4691-bcac-22e5fc16b814-c000.snappy.parquet',\n",
       " '2020_09_12': 'landing/persistent/idealista/2020_09_12_idealista/part-00000-7885f3fd-d213-4f5e-9c30-bd64b5c2920b-c000.snappy.parquet',\n",
       " '2020_09_06': 'landing/persistent/idealista/2020_09_06_idealista/part-00000-f00b1dfb-b67e-4a45-bd4e-35390bf466fe-c000.snappy.parquet',\n",
       " '2020_01_02': 'landing/persistent/idealista/2020_01_02_idealista/part-00000-73a2bf77-0d24-4f05-bf18-7351de8d7938-c000.snappy.parquet',\n",
       " '2020_03_07': 'landing/persistent/idealista/2020_03_07_idealista/part-00000-679ca15a-cbe3-40d7-a931-3929e73ed30f-c000.snappy.parquet',\n",
       " '2020_06_02': 'landing/persistent/idealista/2020_06_02_idealista/part-00000-f477b10f-82d0-44ec-8075-d897b7018613-c000.snappy.parquet',\n",
       " '2020_12_31': 'landing/persistent/idealista/2020_12_31_idealista/part-00000-c446c7f7-76ea-42d4-b970-7b5aad094656-c000.snappy.parquet',\n",
       " '2020_04_13': 'landing/persistent/idealista/2020_04_13_idealista/part-00000-e2aee02f-c9c0-44b8-970c-7e007ffcd96e-c000.snappy.parquet',\n",
       " '2020_12_04': 'landing/persistent/idealista/2020_12_04_idealista/part-00000-dd538957-7075-458c-a711-0ca1667d7730-c000.snappy.parquet',\n",
       " '2020_11_07': 'landing/persistent/idealista/2020_11_07_idealista/part-00000-c5b8dad2-15a9-4f4b-b41e-edf440d07e74-c000.snappy.parquet',\n",
       " '2020_01_23': 'landing/persistent/idealista/2020_01_23_idealista/part-00000-09b28d5c-61a5-4533-a0e6-5a79de5c7ed3-c000.snappy.parquet',\n",
       " '2021_02_12': 'landing/persistent/idealista/2021_02_12_idealista/part-00000-75fc9488-3894-47e7-ac65-30a925e7e573-c000.snappy.parquet',\n",
       " '2020_12_10': 'landing/persistent/idealista/2020_12_10_idealista/part-00000-2ffe27ed-d2c6-47ea-b842-28ff0805cbfa-c000.snappy.parquet',\n",
       " '2020_10_15': 'landing/persistent/idealista/2020_10_15_idealista/part-00000-4c4bb4ad-8754-4e8f-936b-1ef6868cb086-c000.snappy.parquet',\n",
       " '2020_07_09': 'landing/persistent/idealista/2020_07_09_idealista/part-00000-6e14567f-ce6a-41a7-89e7-215bf05a33c6-c000.snappy.parquet',\n",
       " '2020_09_14': 'landing/persistent/idealista/2020_09_14_idealista/part-00000-b2d96f71-1d79-41d1-b577-c949886d2a2d-c000.snappy.parquet',\n",
       " '2020_08_12': 'landing/persistent/idealista/2020_08_12_idealista/part-00000-b9e7f856-9ec8-42cd-835e-a5ff5ad50199-c000.snappy.parquet',\n",
       " '2020_08_06': 'landing/persistent/idealista/2020_08_06_idealista/part-00000-9d47634d-9141-4e9b-a133-bca34d5fd259-c000.snappy.parquet',\n",
       " '2020_12_28': 'landing/persistent/idealista/2020_12_28_idealista/part-00000-38d3db26-907a-458f-b628-75ce20be7b63-c000.snappy.parquet',\n",
       " '2020_12_09': 'landing/persistent/idealista/2020_12_09_idealista/part-00000-83366816-6b54-4fb7-abcd-6f765beee9bd-c000.snappy.parquet'}"
      ]
     },
     "execution_count": 70,
     "metadata": {},
     "output_type": "execute_result"
    }
   ],
   "source": [
    "parq_files"
   ]
  }
 ],
 "metadata": {
  "kernelspec": {
   "display_name": "Python 3 (ipykernel)",
   "language": "python",
   "name": "python3"
  },
  "language_info": {
   "codemirror_mode": {
    "name": "ipython",
    "version": 3
   },
   "file_extension": ".py",
   "mimetype": "text/x-python",
   "name": "python",
   "nbconvert_exporter": "python",
   "pygments_lexer": "ipython3",
   "version": "3.10.4"
  }
 },
 "nbformat": 4,
 "nbformat_minor": 5
}
