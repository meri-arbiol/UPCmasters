{
 "cells": [
  {
   "cell_type": "markdown",
   "metadata": {},
   "source": [
    "# ML lab 07\n",
    "\n",
    "# Neural Networks"
   ]
  },
  {
   "cell_type": "code",
   "execution_count": 1,
   "metadata": {},
   "outputs": [],
   "source": [
    "# Uncomment to upgrade packages\n",
    "# !pip install pandas --upgrade --user --quiet\n",
    "# !pip install numpy --upgrade --user --quiet\n",
    "# !pip install scipy --upgrade --user --quiet\n",
    "# !pip install statsmodels --upgrade --user --quiet\n",
    "# !pip install scikit-learn --upgrade --user --quiet\n",
    "# !pip3 install graphviz --upgrade --user --quiet\n",
    "# If you are in windows use: conda install python-graphviz\n",
    "%load_ext autoreload"
   ]
  },
  {
   "cell_type": "code",
   "execution_count": 2,
   "metadata": {},
   "outputs": [],
   "source": [
    "import warnings\n",
    "warnings.filterwarnings('ignore')"
   ]
  },
  {
   "cell_type": "code",
   "execution_count": 3,
   "metadata": {},
   "outputs": [],
   "source": [
    "#%matplotlib notebook\n",
    "import numpy as np\n",
    "import matplotlib.pyplot as plt\n",
    "import seaborn as sn\n",
    "import pandas as pd\n",
    "from IPython.core.interactiveshell import InteractiveShell\n",
    "pd.set_option('precision', 3)\n",
    "InteractiveShell.ast_node_interactivity = \"all\""
   ]
  },
  {
   "cell_type": "code",
   "execution_count": 6,
   "metadata": {},
   "outputs": [],
   "source": [
    "# Extra imports\n",
    "from sklearn.metrics import confusion_matrix,\\\n",
    "                classification_report, accuracy_score\n",
    "from pandas import read_csv\n",
    "from sklearn.model_selection import train_test_split, cross_validate\n",
    "\n",
    "from sklearn.preprocessing import StandardScaler\n",
    "from sklearn.neural_network import MLPClassifier\n",
    "from graphviz import Digraph\n",
    "from sklearn.model_selection import GridSearchCV\n",
    "from numpy.random import normal\n",
    "from numpy.random import uniform\n",
    "\n",
    "from sklearn.neighbors import KNeighborsClassifier\n",
    "\n",
    "from sklearn.model_selection import cross_val_score\n",
    "from sklearn.model_selection import cross_val_predict\n",
    "\n",
    "from sklearn.linear_model import LogisticRegression\n",
    "from sklearn.decomposition import PCA\n",
    "\n",
    "from time import time\n",
    "from datetime import timedelta\n",
    "\n",
    "from sklearn.metrics import precision_score, classification_report, recall_score\n",
    "\n",
    "from sklearn.datasets import fetch_lfw_people\n",
    "\n",
    "np.random.seed(4567)"
   ]
  },
  {
   "cell_type": "code",
   "execution_count": 7,
   "metadata": {},
   "outputs": [],
   "source": [
    "# If you are in windows and graphviz gives you error:\n",
    "# import os \n",
    "# os.environ[\"PATH\"] += os.pathsep + r\"my graphviz installation path/bin\""
   ]
  },
  {
   "cell_type": "code",
   "execution_count": 8,
   "metadata": {},
   "outputs": [],
   "source": [
    "def confusion(true, pred):\n",
    "    \"\"\"\n",
    "    Function for pretty printing confusion matrices\n",
    "    \"\"\"\n",
    "    pred = pd.Series(pred)\n",
    "    true = pd.Series(true)\n",
    "    \n",
    "    true.name = 'target'\n",
    "    pred.name = 'predicted'\n",
    "    cm = pd.crosstab(true.reset_index(drop=True), pred.reset_index(drop=True))\n",
    "    cm = cm[cm.index]\n",
    "    return cm\n",
    "\n",
    "\n",
    "def graphMLP(vars,layers,intercepts):\n",
    "    \"\"\"\n",
    "    Function for plotting the weights of a mlp\n",
    "    \"\"\"\n",
    "    f = Digraph('')\n",
    "    f.attr(rankdir='LR')\n",
    "    for i,l in enumerate(layers):\n",
    "        if i==0:\n",
    "            for j in range(l.shape[1]):\n",
    "                for k, v in enumerate(vars):\n",
    "                    f.edge(v, 'L%dN%d'%(i,j), label=str(l[k,j]))\n",
    "            f.node('ILI', shape='doublecircle')                    \n",
    "            for k in range(intercepts[i].shape[0]): \n",
    "                f.edge('ILI', \n",
    "                       'L%dN%d'%(i,k), \n",
    "                       label=str(intercepts[i][k]))\n",
    "        else:\n",
    "            for j in range(l.shape[1]):\n",
    "                for k in range(layers[i-1].shape[1]):\n",
    "                    f.edge('L%dN%d'%(i-1,k), \n",
    "                           'L%dN%d'%(i,j), \n",
    "                           label=str(l[k,j]))\n",
    "            f.node('L%dI'%(i-1), shape='doublecircle')                  \n",
    "            for k in range(intercepts[i].shape[0]):\n",
    "                f.edge('L%dI'%(i-1), \n",
    "                       'L%dN%d'%(i,k), \n",
    "                       label=str(intercepts[i][k]))    \n",
    "                \n",
    "    return f\n"
   ]
  },
  {
   "cell_type": "markdown",
   "metadata": {},
   "source": [
    "## SECTION 1 Admissions"
   ]
  },
  {
   "cell_type": "markdown",
   "metadata": {},
   "source": [
    "We are going to use the admissions dataset for our examples on this lab. \n",
    "\n",
    "This dataset contains the next variables: \n",
    "* GRE (Graduate Record Exam scores)\n",
    "* GPA (Grade Point Average) and\n",
    "* rank (prestige of the undergraduate institution)\n",
    "\n",
    "This variables should affect admission into a graduate school.\n",
    "\n",
    "\n",
    " The target variable, admit/don't admit, is a binary variable, which we want to characterize\n",
    "and, if possible, to predict. "
   ]
  },
  {
   "cell_type": "code",
   "execution_count": 9,
   "metadata": {},
   "outputs": [
    {
     "data": {
      "text/html": [
       "<div>\n",
       "<style scoped>\n",
       "    .dataframe tbody tr th:only-of-type {\n",
       "        vertical-align: middle;\n",
       "    }\n",
       "\n",
       "    .dataframe tbody tr th {\n",
       "        vertical-align: top;\n",
       "    }\n",
       "\n",
       "    .dataframe thead th {\n",
       "        text-align: right;\n",
       "    }\n",
       "</style>\n",
       "<table border=\"1\" class=\"dataframe\">\n",
       "  <thead>\n",
       "    <tr style=\"text-align: right;\">\n",
       "      <th></th>\n",
       "      <th>admit</th>\n",
       "      <th>gre</th>\n",
       "      <th>gpa</th>\n",
       "      <th>rank</th>\n",
       "    </tr>\n",
       "  </thead>\n",
       "  <tbody>\n",
       "    <tr>\n",
       "      <th>0</th>\n",
       "      <td>0</td>\n",
       "      <td>380</td>\n",
       "      <td>3.61</td>\n",
       "      <td>3</td>\n",
       "    </tr>\n",
       "    <tr>\n",
       "      <th>1</th>\n",
       "      <td>1</td>\n",
       "      <td>660</td>\n",
       "      <td>3.67</td>\n",
       "      <td>3</td>\n",
       "    </tr>\n",
       "    <tr>\n",
       "      <th>2</th>\n",
       "      <td>1</td>\n",
       "      <td>800</td>\n",
       "      <td>4.00</td>\n",
       "      <td>1</td>\n",
       "    </tr>\n",
       "    <tr>\n",
       "      <th>3</th>\n",
       "      <td>1</td>\n",
       "      <td>640</td>\n",
       "      <td>3.19</td>\n",
       "      <td>4</td>\n",
       "    </tr>\n",
       "    <tr>\n",
       "      <th>4</th>\n",
       "      <td>0</td>\n",
       "      <td>520</td>\n",
       "      <td>2.93</td>\n",
       "      <td>4</td>\n",
       "    </tr>\n",
       "  </tbody>\n",
       "</table>\n",
       "</div>"
      ],
      "text/plain": [
       "   admit  gre   gpa  rank\n",
       "0      0  380  3.61     3\n",
       "1      1  660  3.67     3\n",
       "2      1  800  4.00     1\n",
       "3      1  640  3.19     4\n",
       "4      0  520  2.93     4"
      ]
     },
     "execution_count": 9,
     "metadata": {},
     "output_type": "execute_result"
    }
   ],
   "source": [
    "Admis = read_csv(\"Admissions.csv\", delimiter=',')\n",
    "Admis.head()"
   ]
  },
  {
   "cell_type": "markdown",
   "metadata": {},
   "source": [
    "We will treat all the variables gre and gpa as continuous.\n",
    "\n",
    "The variable rank takes on the values 1 through 4, so we can fairly treat it as numerical (although, in rigour, it is ordinal)"
   ]
  },
  {
   "cell_type": "code",
   "execution_count": 10,
   "metadata": {},
   "outputs": [
    {
     "data": {
      "text/html": [
       "<div>\n",
       "<style scoped>\n",
       "    .dataframe tbody tr th:only-of-type {\n",
       "        vertical-align: middle;\n",
       "    }\n",
       "\n",
       "    .dataframe tbody tr th {\n",
       "        vertical-align: top;\n",
       "    }\n",
       "\n",
       "    .dataframe thead th {\n",
       "        text-align: right;\n",
       "    }\n",
       "</style>\n",
       "<table border=\"1\" class=\"dataframe\">\n",
       "  <thead>\n",
       "    <tr style=\"text-align: right;\">\n",
       "      <th></th>\n",
       "      <th>admit</th>\n",
       "      <th>gre</th>\n",
       "      <th>gpa</th>\n",
       "      <th>rank</th>\n",
       "    </tr>\n",
       "  </thead>\n",
       "  <tbody>\n",
       "    <tr>\n",
       "      <th>count</th>\n",
       "      <td>400.000</td>\n",
       "      <td>400.000</td>\n",
       "      <td>400.000</td>\n",
       "      <td>400.000</td>\n",
       "    </tr>\n",
       "    <tr>\n",
       "      <th>mean</th>\n",
       "      <td>0.318</td>\n",
       "      <td>587.700</td>\n",
       "      <td>3.390</td>\n",
       "      <td>2.485</td>\n",
       "    </tr>\n",
       "    <tr>\n",
       "      <th>std</th>\n",
       "      <td>0.466</td>\n",
       "      <td>115.517</td>\n",
       "      <td>0.381</td>\n",
       "      <td>0.944</td>\n",
       "    </tr>\n",
       "    <tr>\n",
       "      <th>min</th>\n",
       "      <td>0.000</td>\n",
       "      <td>220.000</td>\n",
       "      <td>2.260</td>\n",
       "      <td>1.000</td>\n",
       "    </tr>\n",
       "    <tr>\n",
       "      <th>25%</th>\n",
       "      <td>0.000</td>\n",
       "      <td>520.000</td>\n",
       "      <td>3.130</td>\n",
       "      <td>2.000</td>\n",
       "    </tr>\n",
       "    <tr>\n",
       "      <th>50%</th>\n",
       "      <td>0.000</td>\n",
       "      <td>580.000</td>\n",
       "      <td>3.395</td>\n",
       "      <td>2.000</td>\n",
       "    </tr>\n",
       "    <tr>\n",
       "      <th>75%</th>\n",
       "      <td>1.000</td>\n",
       "      <td>660.000</td>\n",
       "      <td>3.670</td>\n",
       "      <td>3.000</td>\n",
       "    </tr>\n",
       "    <tr>\n",
       "      <th>max</th>\n",
       "      <td>1.000</td>\n",
       "      <td>800.000</td>\n",
       "      <td>4.000</td>\n",
       "      <td>4.000</td>\n",
       "    </tr>\n",
       "  </tbody>\n",
       "</table>\n",
       "</div>"
      ],
      "text/plain": [
       "         admit      gre      gpa     rank\n",
       "count  400.000  400.000  400.000  400.000\n",
       "mean     0.318  587.700    3.390    2.485\n",
       "std      0.466  115.517    0.381    0.944\n",
       "min      0.000  220.000    2.260    1.000\n",
       "25%      0.000  520.000    3.130    2.000\n",
       "50%      0.000  580.000    3.395    2.000\n",
       "75%      1.000  660.000    3.670    3.000\n",
       "max      1.000  800.000    4.000    4.000"
      ]
     },
     "execution_count": 10,
     "metadata": {},
     "output_type": "execute_result"
    }
   ],
   "source": [
    "Admis.describe()\n",
    "\n",
    "N = Admis.shape[0]"
   ]
  },
  {
   "cell_type": "markdown",
   "metadata": {},
   "source": [
    "We first split the available data into learning and test sets, selecting randomly 2/3 and 1/3 of the data We do this for a honest estimation of prediction performance."
   ]
  },
  {
   "cell_type": "markdown",
   "metadata": {},
   "source": [
    "### Resampling protocol\n",
    "\n",
    "This time we will use a Train and Test partitions and we will use the cross-validation score to compare the models. "
   ]
  },
  {
   "cell_type": "code",
   "execution_count": 11,
   "metadata": {},
   "outputs": [],
   "source": [
    "np.random.seed(63)\n",
    "X_train, X_test, y_train, y_test =\\\n",
    "        train_test_split(Admis[['gre', 'gpa', 'rank']], Admis.admit, test_size=0.33,random_state=42)"
   ]
  },
  {
   "cell_type": "markdown",
   "metadata": {},
   "source": [
    "### Pre-processing\n",
    "\n",
    "We will use a simple pre-processing. Just scaling. "
   ]
  },
  {
   "cell_type": "code",
   "execution_count": 12,
   "metadata": {},
   "outputs": [],
   "source": [
    "X_train = StandardScaler().fit_transform(X_train)\n",
    "X_test = StandardScaler().fit_transform(X_test)"
   ]
  },
  {
   "cell_type": "markdown",
   "metadata": {},
   "source": [
    "### Choosing our metrics\n",
    "\n",
    "This time we have an unbalanced classification problem, where it is equally important to predict correctly both classes. \n",
    "For this reason our main metric is going to be F-score macro. We are also going to check precision macro and recall macro. "
   ]
  },
  {
   "cell_type": "code",
   "execution_count": 13,
   "metadata": {},
   "outputs": [],
   "source": [
    "results_df = pd.DataFrame(index=['Logistic Regression'],\n",
    "                          columns=['F-score (cv)', 'Precision (cv)','Recall (cv)', 'Accuracy (cv)'])"
   ]
  },
  {
   "cell_type": "markdown",
   "metadata": {},
   "source": [
    "### Baseline: Logistic Regression\n",
    "\n",
    "We are going to use the logistic regression as a baseline, and we will try to improve the results given by the baseline with the other models.\n",
    "\n",
    "We are using a baseline this time because this is the Neural Networks lab, and we will be training MLPs. As you might already know, an MLP can be quite slow to train and has tons of hyperparameters, so, to be sure that we don't need hours to discover that we have done something wrong, we will use a simple model (logistic regression) as a baseline. "
   ]
  },
  {
   "cell_type": "code",
   "execution_count": 14,
   "metadata": {},
   "outputs": [
    {
     "data": {
      "text/plain": [
       "LogisticRegression()"
      ]
     },
     "execution_count": 14,
     "metadata": {},
     "output_type": "execute_result"
    },
    {
     "data": {
      "text/html": [
       "<div>\n",
       "<style scoped>\n",
       "    .dataframe tbody tr th:only-of-type {\n",
       "        vertical-align: middle;\n",
       "    }\n",
       "\n",
       "    .dataframe tbody tr th {\n",
       "        vertical-align: top;\n",
       "    }\n",
       "\n",
       "    .dataframe thead th {\n",
       "        text-align: right;\n",
       "    }\n",
       "</style>\n",
       "<table border=\"1\" class=\"dataframe\">\n",
       "  <thead>\n",
       "    <tr style=\"text-align: right;\">\n",
       "      <th>predicted</th>\n",
       "      <th>0</th>\n",
       "      <th>1</th>\n",
       "    </tr>\n",
       "    <tr>\n",
       "      <th>target</th>\n",
       "      <th></th>\n",
       "      <th></th>\n",
       "    </tr>\n",
       "  </thead>\n",
       "  <tbody>\n",
       "    <tr>\n",
       "      <th>0</th>\n",
       "      <td>171</td>\n",
       "      <td>12</td>\n",
       "    </tr>\n",
       "    <tr>\n",
       "      <th>1</th>\n",
       "      <td>65</td>\n",
       "      <td>20</td>\n",
       "    </tr>\n",
       "  </tbody>\n",
       "</table>\n",
       "</div>"
      ],
      "text/plain": [
       "predicted    0   1\n",
       "target            \n",
       "0          171  12\n",
       "1           65  20"
      ]
     },
     "execution_count": 14,
     "metadata": {},
     "output_type": "execute_result"
    },
    {
     "data": {
      "text/html": [
       "<div>\n",
       "<style scoped>\n",
       "    .dataframe tbody tr th:only-of-type {\n",
       "        vertical-align: middle;\n",
       "    }\n",
       "\n",
       "    .dataframe tbody tr th {\n",
       "        vertical-align: top;\n",
       "    }\n",
       "\n",
       "    .dataframe thead th {\n",
       "        text-align: right;\n",
       "    }\n",
       "</style>\n",
       "<table border=\"1\" class=\"dataframe\">\n",
       "  <thead>\n",
       "    <tr style=\"text-align: right;\">\n",
       "      <th></th>\n",
       "      <th>F-score (cv)</th>\n",
       "      <th>Precision (cv)</th>\n",
       "      <th>Recall (cv)</th>\n",
       "      <th>Accuracy (cv)</th>\n",
       "    </tr>\n",
       "  </thead>\n",
       "  <tbody>\n",
       "    <tr>\n",
       "      <th>Logistic Regression</th>\n",
       "      <td>0.554</td>\n",
       "      <td>0.686</td>\n",
       "      <td>0.568</td>\n",
       "      <td>0.698</td>\n",
       "    </tr>\n",
       "  </tbody>\n",
       "</table>\n",
       "</div>"
      ],
      "text/plain": [
       "                    F-score (cv) Precision (cv) Recall (cv) Accuracy (cv)\n",
       "Logistic Regression        0.554          0.686       0.568         0.698"
      ]
     },
     "execution_count": 14,
     "metadata": {},
     "output_type": "execute_result"
    }
   ],
   "source": [
    "logreg = LogisticRegression()\n",
    "logreg.fit(X_train, y_train)\n",
    "scores = cross_val_score(logreg, X_train, y_train, cv=5)\n",
    "y_pred_lr = logreg.predict(X_train)\n",
    "\n",
    "cross_val_results = pd.DataFrame(cross_validate(logreg , X_train, y_train, cv = 5, \n",
    "                                                scoring = [ 'f1_macro', 'precision_macro', 'recall_macro', 'accuracy'] ))\n",
    "\n",
    "results_df.loc['Logistic Regression',:] = cross_val_results[['test_f1_macro',\n",
    "       'test_precision_macro', 'test_recall_macro','test_accuracy']].mean().values\n",
    "\n",
    "confusion(y_train,y_pred_lr)\n",
    "results_df"
   ]
  },
  {
   "cell_type": "markdown",
   "metadata": {},
   "source": [
    "Just with the baseline we are already obtaining a 69% of accuracy and a 0.55 of F-score. The gap between those two metrics is probably caused by the unbalance. \n",
    "\n",
    "Now we can check the coeficients to see if there is any strange stuff that we should fix before starting with our networks."
   ]
  },
  {
   "cell_type": "code",
   "execution_count": 15,
   "metadata": {
    "scrolled": true
   },
   "outputs": [
    {
     "data": {
      "text/plain": [
       "array([[ 0.16385153,  0.35034143, -0.46349665]])"
      ]
     },
     "execution_count": 15,
     "metadata": {},
     "output_type": "execute_result"
    },
    {
     "data": {
      "text/plain": [
       "array([-0.84430907])"
      ]
     },
     "execution_count": 15,
     "metadata": {},
     "output_type": "execute_result"
    }
   ],
   "source": [
    "logreg.coef_\n",
    "logreg.intercept_"
   ]
  },
  {
   "cell_type": "markdown",
   "metadata": {},
   "source": [
    "### Multi Layered Perceptron (Yay! Neural Networks!)\n",
    "\n",
    "MLP is almost the simplest of the Neural Network models. This model is based on combining linearly the input of the previous layer and applying an activation function to the result over different layers. \n",
    "\n",
    "When it has more than a hidden layer it is called a __Deep__ Neural Network. This hidden layers give the model complexity and expresivity, but also add more weights that you will need to train.\n",
    "\n",
    "The most important parameters of the MLP are: \n",
    "* Architecture (number of layers and number of neurons by layer). \n",
    "* Activation function. \n",
    "* alpha (regularization term).\n",
    "* Solver ‘lbfgs’, ‘sgd’, ‘adam’.\n",
    "* Learning rate, learning_rate_init.\n",
    "\n",
    "As you can see, this model has many hyperparameters; if in doubt, you can look up [their meaning here](https://scikit-learn.org/stable/modules/generated/sklearn.neural_network.MLPClassifier.html)\n",
    "\n",
    "We are going to start with a 1 neuron dummy MLP with logistic activation function and no regularization."
   ]
  },
  {
   "cell_type": "code",
   "execution_count": 16,
   "metadata": {},
   "outputs": [
    {
     "data": {
      "text/plain": [
       "MLPClassifier(activation='logistic', alpha=0, hidden_layer_sizes=[1],\n",
       "              random_state=42, solver='lbfgs')"
      ]
     },
     "execution_count": 16,
     "metadata": {},
     "output_type": "execute_result"
    },
    {
     "name": "stdout",
     "output_type": "stream",
     "text": [
      "Confusion matrix of the TRAIN dataset\n"
     ]
    },
    {
     "data": {
      "text/html": [
       "<div>\n",
       "<style scoped>\n",
       "    .dataframe tbody tr th:only-of-type {\n",
       "        vertical-align: middle;\n",
       "    }\n",
       "\n",
       "    .dataframe tbody tr th {\n",
       "        vertical-align: top;\n",
       "    }\n",
       "\n",
       "    .dataframe thead th {\n",
       "        text-align: right;\n",
       "    }\n",
       "</style>\n",
       "<table border=\"1\" class=\"dataframe\">\n",
       "  <thead>\n",
       "    <tr style=\"text-align: right;\">\n",
       "      <th>predicted</th>\n",
       "      <th>0</th>\n",
       "      <th>1</th>\n",
       "    </tr>\n",
       "    <tr>\n",
       "      <th>target</th>\n",
       "      <th></th>\n",
       "      <th></th>\n",
       "    </tr>\n",
       "  </thead>\n",
       "  <tbody>\n",
       "    <tr>\n",
       "      <th>0</th>\n",
       "      <td>171</td>\n",
       "      <td>12</td>\n",
       "    </tr>\n",
       "    <tr>\n",
       "      <th>1</th>\n",
       "      <td>66</td>\n",
       "      <td>19</td>\n",
       "    </tr>\n",
       "  </tbody>\n",
       "</table>\n",
       "</div>"
      ],
      "text/plain": [
       "predicted    0   1\n",
       "target            \n",
       "0          171  12\n",
       "1           66  19"
      ]
     },
     "execution_count": 16,
     "metadata": {},
     "output_type": "execute_result"
    },
    {
     "data": {
      "text/html": [
       "<div>\n",
       "<style scoped>\n",
       "    .dataframe tbody tr th:only-of-type {\n",
       "        vertical-align: middle;\n",
       "    }\n",
       "\n",
       "    .dataframe tbody tr th {\n",
       "        vertical-align: top;\n",
       "    }\n",
       "\n",
       "    .dataframe thead th {\n",
       "        text-align: right;\n",
       "    }\n",
       "</style>\n",
       "<table border=\"1\" class=\"dataframe\">\n",
       "  <thead>\n",
       "    <tr style=\"text-align: right;\">\n",
       "      <th></th>\n",
       "      <th>F-score (cv)</th>\n",
       "      <th>Precision (cv)</th>\n",
       "      <th>Recall (cv)</th>\n",
       "      <th>Accuracy (cv)</th>\n",
       "    </tr>\n",
       "  </thead>\n",
       "  <tbody>\n",
       "    <tr>\n",
       "      <th>MLP[1]</th>\n",
       "      <td>0.56</td>\n",
       "      <td>0.655</td>\n",
       "      <td>0.57</td>\n",
       "      <td>0.683</td>\n",
       "    </tr>\n",
       "    <tr>\n",
       "      <th>Logistic Regression</th>\n",
       "      <td>0.554</td>\n",
       "      <td>0.686</td>\n",
       "      <td>0.568</td>\n",
       "      <td>0.698</td>\n",
       "    </tr>\n",
       "  </tbody>\n",
       "</table>\n",
       "</div>"
      ],
      "text/plain": [
       "                    F-score (cv) Precision (cv) Recall (cv) Accuracy (cv)\n",
       "MLP[1]                      0.56          0.655        0.57         0.683\n",
       "Logistic Regression        0.554          0.686       0.568         0.698"
      ]
     },
     "execution_count": 16,
     "metadata": {},
     "output_type": "execute_result"
    }
   ],
   "source": [
    "model_nnet = MLPClassifier(hidden_layer_sizes=[1],\n",
    "                           alpha=0,\n",
    "                           activation='logistic',\n",
    "                           max_iter=200,\n",
    "                           solver='lbfgs',random_state=42)\n",
    "model_nnet.fit(X_train, y_train);\n",
    "\n",
    "\n",
    "y_pred = model_nnet.predict(X_train)\n",
    "\n",
    "print('Confusion matrix of the TRAIN dataset')\n",
    "confusion(y_train, y_pred)\n",
    "\n",
    "cross_val_results = pd.DataFrame(cross_validate(model_nnet , X_train, y_train, cv = 5, \n",
    "                                                scoring = [ 'f1_macro', 'precision_macro', 'recall_macro', 'accuracy'] ))\n",
    "\n",
    "results_df.loc['MLP[1]',:] = cross_val_results[['test_f1_macro',\n",
    "       'test_precision_macro', 'test_recall_macro','test_accuracy']].mean().values\n",
    "\n",
    "results_df.sort_values(by='F-score (cv)', ascending=False)"
   ]
  },
  {
   "cell_type": "markdown",
   "metadata": {},
   "source": [
    "We can see that this dummy mlp is already winning our other model in our main metric. Let's see how this is looking on the inside.\n",
    "\n",
    "Here we can see this mlp weights."
   ]
  },
  {
   "cell_type": "code",
   "execution_count": 17,
   "metadata": {},
   "outputs": [
    {
     "data": {
      "text/plain": [
       "[array([[-0.05484939],\n",
       "        [-0.11030314],\n",
       "        [ 0.14680852]]),\n",
       " array([[-23.22637489]])]"
      ]
     },
     "execution_count": 17,
     "metadata": {},
     "output_type": "execute_result"
    },
    {
     "data": {
      "text/plain": [
       "[array([-1.58451957]), array([3.1449579])]"
      ]
     },
     "execution_count": 17,
     "metadata": {},
     "output_type": "execute_result"
    }
   ],
   "source": [
    "model_nnet.coefs_\n",
    "model_nnet.intercepts_"
   ]
  },
  {
   "cell_type": "markdown",
   "metadata": {},
   "source": [
    "We can also look at it as a graph. Isn't this structure familiar?"
   ]
  },
  {
   "cell_type": "code",
   "execution_count": 19,
   "metadata": {},
   "outputs": [
    {
     "data": {
      "image/svg+xml": [
       "<?xml version=\"1.0\" encoding=\"UTF-8\" standalone=\"no\"?>\n",
       "<!DOCTYPE svg PUBLIC \"-//W3C//DTD SVG 1.1//EN\"\n",
       " \"http://www.w3.org/Graphics/SVG/1.1/DTD/svg11.dtd\">\n",
       "<!-- Generated by graphviz version 3.0.0 (20220226.1711)\n",
       " -->\n",
       "<!-- Pages: 1 -->\n",
       "<svg width=\"513pt\" height=\"222pt\"\n",
       " viewBox=\"0.00 0.00 512.79 222.10\" xmlns=\"http://www.w3.org/2000/svg\" xmlns:xlink=\"http://www.w3.org/1999/xlink\">\n",
       "<g id=\"graph0\" class=\"graph\" transform=\"scale(1 1) rotate(0) translate(4 218.1)\">\n",
       "<polygon fill=\"white\" stroke=\"transparent\" points=\"-4,4 -4,-218.1 508.79,-218.1 508.79,4 -4,4\"/>\n",
       "<!-- gre -->\n",
       "<g id=\"node1\" class=\"node\">\n",
       "<title>gre</title>\n",
       "<ellipse fill=\"none\" stroke=\"black\" cx=\"27\" cy=\"-196.1\" rx=\"27\" ry=\"18\"/>\n",
       "<text text-anchor=\"middle\" x=\"27\" y=\"-192.4\" font-family=\"Times,serif\" font-size=\"14.00\">gre</text>\n",
       "</g>\n",
       "<!-- L0N0 -->\n",
       "<g id=\"node2\" class=\"node\">\n",
       "<title>L0N0</title>\n",
       "<ellipse fill=\"none\" stroke=\"black\" cx=\"251.2\" cy=\"-115.1\" rx=\"31.4\" ry=\"18\"/>\n",
       "<text text-anchor=\"middle\" x=\"251.2\" y=\"-111.4\" font-family=\"Times,serif\" font-size=\"14.00\">L0N0</text>\n",
       "</g>\n",
       "<!-- gre&#45;&gt;L0N0 -->\n",
       "<g id=\"edge1\" class=\"edge\">\n",
       "<title>gre&#45;&gt;L0N0</title>\n",
       "<path fill=\"none\" stroke=\"black\" d=\"M54.03,-193.72C89.2,-189.7 153.11,-179.45 202,-155.1 211.01,-150.61 219.8,-144.14 227.36,-137.71\"/>\n",
       "<polygon fill=\"black\" stroke=\"black\" points=\"229.91,-140.12 235.02,-130.84 225.24,-134.91 229.91,-140.12\"/>\n",
       "<text text-anchor=\"middle\" x=\"137\" y=\"-194.9\" font-family=\"Times,serif\" font-size=\"14.00\">&#45;0.05484939032656579</text>\n",
       "</g>\n",
       "<!-- L1N0 -->\n",
       "<g id=\"node6\" class=\"node\">\n",
       "<title>L1N0</title>\n",
       "<ellipse fill=\"none\" stroke=\"black\" cx=\"473.59\" cy=\"-71.1\" rx=\"31.4\" ry=\"18\"/>\n",
       "<text text-anchor=\"middle\" x=\"473.59\" y=\"-67.4\" font-family=\"Times,serif\" font-size=\"14.00\">L1N0</text>\n",
       "</g>\n",
       "<!-- L0N0&#45;&gt;L1N0 -->\n",
       "<g id=\"edge5\" class=\"edge\">\n",
       "<title>L0N0&#45;&gt;L1N0</title>\n",
       "<path fill=\"none\" stroke=\"black\" d=\"M281.01,-109.35C320.11,-101.54 390.11,-87.57 433.8,-78.84\"/>\n",
       "<polygon fill=\"black\" stroke=\"black\" points=\"434.65,-82.24 443.77,-76.85 433.28,-75.38 434.65,-82.24\"/>\n",
       "<text text-anchor=\"middle\" x=\"362.39\" y=\"-107.9\" font-family=\"Times,serif\" font-size=\"14.00\">&#45;23.226374893124913</text>\n",
       "</g>\n",
       "<!-- gpa -->\n",
       "<g id=\"node3\" class=\"node\">\n",
       "<title>gpa</title>\n",
       "<ellipse fill=\"none\" stroke=\"black\" cx=\"27\" cy=\"-142.1\" rx=\"27\" ry=\"18\"/>\n",
       "<text text-anchor=\"middle\" x=\"27\" y=\"-138.4\" font-family=\"Times,serif\" font-size=\"14.00\">gpa</text>\n",
       "</g>\n",
       "<!-- gpa&#45;&gt;L0N0 -->\n",
       "<g id=\"edge2\" class=\"edge\">\n",
       "<title>gpa&#45;&gt;L0N0</title>\n",
       "<path fill=\"none\" stroke=\"black\" d=\"M53.92,-138.95C92.48,-134.26 165.23,-125.42 210.51,-119.92\"/>\n",
       "<polygon fill=\"black\" stroke=\"black\" points=\"211.06,-123.38 220.56,-118.7 210.21,-116.43 211.06,-123.38\"/>\n",
       "<text text-anchor=\"middle\" x=\"137\" y=\"-139.9\" font-family=\"Times,serif\" font-size=\"14.00\">&#45;0.11030314073030416</text>\n",
       "</g>\n",
       "<!-- rank -->\n",
       "<g id=\"node4\" class=\"node\">\n",
       "<title>rank</title>\n",
       "<ellipse fill=\"none\" stroke=\"black\" cx=\"27\" cy=\"-88.1\" rx=\"27\" ry=\"18\"/>\n",
       "<text text-anchor=\"middle\" x=\"27\" y=\"-84.4\" font-family=\"Times,serif\" font-size=\"14.00\">rank</text>\n",
       "</g>\n",
       "<!-- rank&#45;&gt;L0N0 -->\n",
       "<g id=\"edge3\" class=\"edge\">\n",
       "<title>rank&#45;&gt;L0N0</title>\n",
       "<path fill=\"none\" stroke=\"black\" d=\"M54.13,-88.71C88.33,-89.85 150.04,-93.08 202,-102.1 205.72,-102.74 209.57,-103.55 213.4,-104.43\"/>\n",
       "<polygon fill=\"black\" stroke=\"black\" points=\"212.82,-107.9 223.37,-106.93 214.52,-101.11 212.82,-107.9\"/>\n",
       "<text text-anchor=\"middle\" x=\"137\" y=\"-105.9\" font-family=\"Times,serif\" font-size=\"14.00\">0.14680852196139313</text>\n",
       "</g>\n",
       "<!-- ILI -->\n",
       "<g id=\"node5\" class=\"node\">\n",
       "<title>ILI</title>\n",
       "<ellipse fill=\"none\" stroke=\"black\" cx=\"27\" cy=\"-26.1\" rx=\"22.18\" ry=\"22.18\"/>\n",
       "<ellipse fill=\"none\" stroke=\"black\" cx=\"27\" cy=\"-26.1\" rx=\"26.2\" ry=\"26.2\"/>\n",
       "<text text-anchor=\"middle\" x=\"27\" y=\"-22.4\" font-family=\"Times,serif\" font-size=\"14.00\">ILI</text>\n",
       "</g>\n",
       "<!-- ILI&#45;&gt;L0N0 -->\n",
       "<g id=\"edge4\" class=\"edge\">\n",
       "<title>ILI&#45;&gt;L0N0</title>\n",
       "<path fill=\"none\" stroke=\"black\" d=\"M53.18,-28.23C88.49,-32.13 153.77,-42.71 202,-70.1 211.84,-75.69 211.78,-80.32 220,-88.1 221.83,-89.83 223.75,-91.61 225.68,-93.39\"/>\n",
       "<polygon fill=\"black\" stroke=\"black\" points=\"223.36,-96 233.12,-100.13 228.06,-90.82 223.36,-96\"/>\n",
       "<text text-anchor=\"middle\" x=\"137\" y=\"-73.9\" font-family=\"Times,serif\" font-size=\"14.00\">&#45;1.5845195694959326</text>\n",
       "</g>\n",
       "<!-- L0I -->\n",
       "<g id=\"node7\" class=\"node\">\n",
       "<title>L0I</title>\n",
       "<ellipse fill=\"none\" stroke=\"black\" cx=\"251.2\" cy=\"-52.1\" rx=\"23.31\" ry=\"23.31\"/>\n",
       "<ellipse fill=\"none\" stroke=\"black\" cx=\"251.2\" cy=\"-52.1\" rx=\"27.3\" ry=\"27.3\"/>\n",
       "<text text-anchor=\"middle\" x=\"251.2\" y=\"-48.4\" font-family=\"Times,serif\" font-size=\"14.00\">L0I</text>\n",
       "</g>\n",
       "<!-- L0I&#45;&gt;L1N0 -->\n",
       "<g id=\"edge6\" class=\"edge\">\n",
       "<title>L0I&#45;&gt;L1N0</title>\n",
       "<path fill=\"none\" stroke=\"black\" d=\"M278.78,-53.7C312.64,-55.84 372.93,-59.96 424.39,-65.1 427.23,-65.38 430.15,-65.69 433.09,-66.02\"/>\n",
       "<polygon fill=\"black\" stroke=\"black\" points=\"432.71,-69.5 443.05,-67.19 433.53,-62.55 432.71,-69.5\"/>\n",
       "<text text-anchor=\"middle\" x=\"362.39\" y=\"-68.9\" font-family=\"Times,serif\" font-size=\"14.00\">3.1449578988021503</text>\n",
       "</g>\n",
       "</g>\n",
       "</svg>\n"
      ],
      "text/plain": [
       "<graphviz.graphs.Digraph at 0x7fd4f1c080d0>"
      ]
     },
     "execution_count": 19,
     "metadata": {},
     "output_type": "execute_result"
    }
   ],
   "source": [
    "graphMLP(Admis.columns[1:], model_nnet.coefs_, model_nnet.intercepts_)"
   ]
  },
  {
   "cell_type": "markdown",
   "metadata": {},
   "source": [
    "On this graph the gre, gpa, rank and ILI represent the input layer,which would be our training samples. \n",
    "L0N0 is our hidden neuron. L01 the extra intercept and L1N0 our output neuron. "
   ]
  },
  {
   "cell_type": "markdown",
   "metadata": {},
   "source": [
    "Now that we know what we are doing, lets make a bigger network."
   ]
  },
  {
   "cell_type": "code",
   "execution_count": 20,
   "metadata": {},
   "outputs": [
    {
     "data": {
      "text/plain": [
       "MLPClassifier(activation='logistic', alpha=0, hidden_layer_sizes=[2, 2, 2],\n",
       "              random_state=42, solver='lbfgs')"
      ]
     },
     "execution_count": 20,
     "metadata": {},
     "output_type": "execute_result"
    },
    {
     "name": "stdout",
     "output_type": "stream",
     "text": [
      "Confusion matrix of the TRAIN dataset\n"
     ]
    },
    {
     "data": {
      "text/html": [
       "<div>\n",
       "<style scoped>\n",
       "    .dataframe tbody tr th:only-of-type {\n",
       "        vertical-align: middle;\n",
       "    }\n",
       "\n",
       "    .dataframe tbody tr th {\n",
       "        vertical-align: top;\n",
       "    }\n",
       "\n",
       "    .dataframe thead th {\n",
       "        text-align: right;\n",
       "    }\n",
       "</style>\n",
       "<table border=\"1\" class=\"dataframe\">\n",
       "  <thead>\n",
       "    <tr style=\"text-align: right;\">\n",
       "      <th>predicted</th>\n",
       "      <th>0</th>\n",
       "      <th>1</th>\n",
       "    </tr>\n",
       "    <tr>\n",
       "      <th>target</th>\n",
       "      <th></th>\n",
       "      <th></th>\n",
       "    </tr>\n",
       "  </thead>\n",
       "  <tbody>\n",
       "    <tr>\n",
       "      <th>0</th>\n",
       "      <td>151</td>\n",
       "      <td>32</td>\n",
       "    </tr>\n",
       "    <tr>\n",
       "      <th>1</th>\n",
       "      <td>48</td>\n",
       "      <td>37</td>\n",
       "    </tr>\n",
       "  </tbody>\n",
       "</table>\n",
       "</div>"
      ],
      "text/plain": [
       "predicted    0   1\n",
       "target            \n",
       "0          151  32\n",
       "1           48  37"
      ]
     },
     "execution_count": 20,
     "metadata": {},
     "output_type": "execute_result"
    },
    {
     "data": {
      "text/html": [
       "<div>\n",
       "<style scoped>\n",
       "    .dataframe tbody tr th:only-of-type {\n",
       "        vertical-align: middle;\n",
       "    }\n",
       "\n",
       "    .dataframe tbody tr th {\n",
       "        vertical-align: top;\n",
       "    }\n",
       "\n",
       "    .dataframe thead th {\n",
       "        text-align: right;\n",
       "    }\n",
       "</style>\n",
       "<table border=\"1\" class=\"dataframe\">\n",
       "  <thead>\n",
       "    <tr style=\"text-align: right;\">\n",
       "      <th></th>\n",
       "      <th>F-score (cv)</th>\n",
       "      <th>Precision (cv)</th>\n",
       "      <th>Recall (cv)</th>\n",
       "      <th>Accuracy (cv)</th>\n",
       "    </tr>\n",
       "  </thead>\n",
       "  <tbody>\n",
       "    <tr>\n",
       "      <th>MLP[2,2,2]</th>\n",
       "      <td>0.561</td>\n",
       "      <td>0.629</td>\n",
       "      <td>0.578</td>\n",
       "      <td>0.69</td>\n",
       "    </tr>\n",
       "    <tr>\n",
       "      <th>MLP[1]</th>\n",
       "      <td>0.56</td>\n",
       "      <td>0.655</td>\n",
       "      <td>0.57</td>\n",
       "      <td>0.683</td>\n",
       "    </tr>\n",
       "    <tr>\n",
       "      <th>Logistic Regression</th>\n",
       "      <td>0.554</td>\n",
       "      <td>0.686</td>\n",
       "      <td>0.568</td>\n",
       "      <td>0.698</td>\n",
       "    </tr>\n",
       "  </tbody>\n",
       "</table>\n",
       "</div>"
      ],
      "text/plain": [
       "                    F-score (cv) Precision (cv) Recall (cv) Accuracy (cv)\n",
       "MLP[2,2,2]                 0.561          0.629       0.578          0.69\n",
       "MLP[1]                      0.56          0.655        0.57         0.683\n",
       "Logistic Regression        0.554          0.686       0.568         0.698"
      ]
     },
     "execution_count": 20,
     "metadata": {},
     "output_type": "execute_result"
    }
   ],
   "source": [
    "model_nnet = MLPClassifier(hidden_layer_sizes=[2,2,2],\n",
    "                           alpha=0,\n",
    "                           activation='logistic',\n",
    "                           max_iter=200,\n",
    "                           solver='lbfgs',random_state=42)\n",
    "model_nnet.fit(X_train,y_train);\n",
    "y_pred = model_nnet.predict(X_train)\n",
    "\n",
    "print('Confusion matrix of the TRAIN dataset')\n",
    "confusion(y_train,y_pred)\n",
    "\n",
    "cross_val_results = pd.DataFrame(cross_validate(model_nnet , X_train, y_train, cv = 5, \n",
    "                                                scoring = [ 'f1_macro', 'precision_macro', 'recall_macro', 'accuracy'] ))\n",
    "\n",
    "results_df.loc['MLP[2,2,2]',:] = cross_val_results[['test_f1_macro',\n",
    "       'test_precision_macro', 'test_recall_macro','test_accuracy']].mean().values\n",
    "\n",
    "results_df.sort_values(by='F-score (cv)', ascending=False)\n"
   ]
  },
  {
   "cell_type": "markdown",
   "metadata": {},
   "source": [
    "Now our model is performing slightly better. \n",
    "Also, our model complexity is increasing, which might increase the training time. "
   ]
  },
  {
   "cell_type": "code",
   "execution_count": 21,
   "metadata": {},
   "outputs": [
    {
     "data": {
      "image/svg+xml": [
       "<?xml version=\"1.0\" encoding=\"UTF-8\" standalone=\"no\"?>\n",
       "<!DOCTYPE svg PUBLIC \"-//W3C//DTD SVG 1.1//EN\"\n",
       " \"http://www.w3.org/Graphics/SVG/1.1/DTD/svg11.dtd\">\n",
       "<!-- Generated by graphviz version 3.0.0 (20220226.1711)\n",
       " -->\n",
       "<!-- Pages: 1 -->\n",
       "<svg width=\"949pt\" height=\"363pt\"\n",
       " viewBox=\"0.00 0.00 948.58 363.40\" xmlns=\"http://www.w3.org/2000/svg\" xmlns:xlink=\"http://www.w3.org/1999/xlink\">\n",
       "<g id=\"graph0\" class=\"graph\" transform=\"scale(1 1) rotate(0) translate(4 359.4)\">\n",
       "<polygon fill=\"white\" stroke=\"transparent\" points=\"-4,4 -4,-359.4 944.58,-359.4 944.58,4 -4,4\"/>\n",
       "<!-- gre -->\n",
       "<g id=\"node1\" class=\"node\">\n",
       "<title>gre</title>\n",
       "<ellipse fill=\"none\" stroke=\"black\" cx=\"27\" cy=\"-326.4\" rx=\"27\" ry=\"18\"/>\n",
       "<text text-anchor=\"middle\" x=\"27\" y=\"-322.7\" font-family=\"Times,serif\" font-size=\"14.00\">gre</text>\n",
       "</g>\n",
       "<!-- L0N0 -->\n",
       "<g id=\"node2\" class=\"node\">\n",
       "<title>L0N0</title>\n",
       "<ellipse fill=\"none\" stroke=\"black\" cx=\"245.2\" cy=\"-134.4\" rx=\"31.4\" ry=\"18\"/>\n",
       "<text text-anchor=\"middle\" x=\"245.2\" y=\"-130.7\" font-family=\"Times,serif\" font-size=\"14.00\">L0N0</text>\n",
       "</g>\n",
       "<!-- gre&#45;&gt;L0N0 -->\n",
       "<g id=\"edge1\" class=\"edge\">\n",
       "<title>gre&#45;&gt;L0N0</title>\n",
       "<path fill=\"none\" stroke=\"black\" d=\"M49.62,-316.52C56.65,-313.59 64.56,-310.59 72,-308.4 125.78,-292.59 157.01,-325.66 196,-285.4 232.91,-247.29 191.11,-215.25 214,-167.4 215.72,-163.8 217.97,-160.31 220.47,-157.04\"/>\n",
       "<polygon fill=\"black\" stroke=\"black\" points=\"223.16,-159.28 227.01,-149.41 217.84,-154.72 223.16,-159.28\"/>\n",
       "<text text-anchor=\"middle\" x=\"134\" y=\"-312.2\" font-family=\"Times,serif\" font-size=\"14.00\">31.874614032425818</text>\n",
       "</g>\n",
       "<!-- L0N1 -->\n",
       "<g id=\"node5\" class=\"node\">\n",
       "<title>L0N1</title>\n",
       "<ellipse fill=\"none\" stroke=\"black\" cx=\"245.2\" cy=\"-269.4\" rx=\"31.4\" ry=\"18\"/>\n",
       "<text text-anchor=\"middle\" x=\"245.2\" y=\"-265.7\" font-family=\"Times,serif\" font-size=\"14.00\">L0N1</text>\n",
       "</g>\n",
       "<!-- gre&#45;&gt;L0N1 -->\n",
       "<g id=\"edge4\" class=\"edge\">\n",
       "<title>gre&#45;&gt;L0N1</title>\n",
       "<path fill=\"none\" stroke=\"black\" d=\"M52.48,-332.83C86.49,-340.4 149.13,-349.39 196,-327.4 210.31,-320.69 221.84,-307.41 230.03,-295.25\"/>\n",
       "<polygon fill=\"black\" stroke=\"black\" points=\"233.04,-297.03 235.39,-286.7 227.11,-293.31 233.04,-297.03\"/>\n",
       "<text text-anchor=\"middle\" x=\"134\" y=\"-344.2\" font-family=\"Times,serif\" font-size=\"14.00\">94.72567482655396</text>\n",
       "</g>\n",
       "<!-- L1N0 -->\n",
       "<g id=\"node7\" class=\"node\">\n",
       "<title>L1N0</title>\n",
       "<ellipse fill=\"none\" stroke=\"black\" cx=\"467.59\" cy=\"-141.4\" rx=\"31.4\" ry=\"18\"/>\n",
       "<text text-anchor=\"middle\" x=\"467.59\" y=\"-137.7\" font-family=\"Times,serif\" font-size=\"14.00\">L1N0</text>\n",
       "</g>\n",
       "<!-- L0N0&#45;&gt;L1N0 -->\n",
       "<g id=\"edge9\" class=\"edge\">\n",
       "<title>L0N0&#45;&gt;L1N0</title>\n",
       "<path fill=\"none\" stroke=\"black\" d=\"M264.26,-119.8C272.85,-113.77 283.59,-107.49 294.39,-104.4 347.38,-89.25 366.21,-86.68 418.39,-104.4 427.64,-107.54 436.5,-113.24 444.04,-119.24\"/>\n",
       "<polygon fill=\"black\" stroke=\"black\" points=\"441.79,-121.93 451.66,-125.77 446.34,-116.61 441.79,-121.93\"/>\n",
       "<text text-anchor=\"middle\" x=\"356.39\" y=\"-108.2\" font-family=\"Times,serif\" font-size=\"14.00\">&#45;28.998683906022976</text>\n",
       "</g>\n",
       "<!-- L1N1 -->\n",
       "<g id=\"node8\" class=\"node\">\n",
       "<title>L1N1</title>\n",
       "<ellipse fill=\"none\" stroke=\"black\" cx=\"467.59\" cy=\"-217.4\" rx=\"31.4\" ry=\"18\"/>\n",
       "<text text-anchor=\"middle\" x=\"467.59\" y=\"-213.7\" font-family=\"Times,serif\" font-size=\"14.00\">L1N1</text>\n",
       "</g>\n",
       "<!-- L0N0&#45;&gt;L1N1 -->\n",
       "<g id=\"edge11\" class=\"edge\">\n",
       "<title>L0N0&#45;&gt;L1N1</title>\n",
       "<path fill=\"none\" stroke=\"black\" d=\"M268.83,-146.39C276.76,-150.27 285.83,-154.36 294.39,-157.4 347.82,-176.38 366.1,-165.47 418.39,-187.4 425.11,-190.21 431.97,-193.91 438.32,-197.73\"/>\n",
       "<polygon fill=\"black\" stroke=\"black\" points=\"436.88,-200.96 447.2,-203.35 440.62,-195.04 436.88,-200.96\"/>\n",
       "<text text-anchor=\"middle\" x=\"356.39\" y=\"-191.2\" font-family=\"Times,serif\" font-size=\"14.00\">18.53244839850761</text>\n",
       "</g>\n",
       "<!-- gpa -->\n",
       "<g id=\"node3\" class=\"node\">\n",
       "<title>gpa</title>\n",
       "<ellipse fill=\"none\" stroke=\"black\" cx=\"27\" cy=\"-105.4\" rx=\"27\" ry=\"18\"/>\n",
       "<text text-anchor=\"middle\" x=\"27\" y=\"-101.7\" font-family=\"Times,serif\" font-size=\"14.00\">gpa</text>\n",
       "</g>\n",
       "<!-- gpa&#45;&gt;L0N0 -->\n",
       "<g id=\"edge2\" class=\"edge\">\n",
       "<title>gpa&#45;&gt;L0N0</title>\n",
       "<path fill=\"none\" stroke=\"black\" d=\"M47.91,-93.59C55.22,-89.88 63.74,-86.27 72,-84.4 125.75,-72.23 145.28,-62.84 196,-84.4 208.31,-89.63 219,-99.72 227.17,-109.47\"/>\n",
       "<polygon fill=\"black\" stroke=\"black\" points=\"224.5,-111.74 233.41,-117.47 230.02,-107.43 224.5,-111.74\"/>\n",
       "<text text-anchor=\"middle\" x=\"134\" y=\"-88.2\" font-family=\"Times,serif\" font-size=\"14.00\">&#45;21.925279645093692</text>\n",
       "</g>\n",
       "<!-- gpa&#45;&gt;L0N1 -->\n",
       "<g id=\"edge5\" class=\"edge\">\n",
       "<title>gpa&#45;&gt;L0N1</title>\n",
       "<path fill=\"none\" stroke=\"black\" d=\"M36.62,-122.51C46.31,-141.04 61.98,-168.82 72,-175.4 118.61,-205.99 152.34,-159.72 196,-194.4 212.87,-207.79 202.11,-221.43 214,-239.4 215.68,-241.94 217.61,-244.44 219.65,-246.85\"/>\n",
       "<polygon fill=\"black\" stroke=\"black\" points=\"217.51,-249.68 226.89,-254.6 222.62,-244.9 217.51,-249.68\"/>\n",
       "<text text-anchor=\"middle\" x=\"134\" y=\"-198.2\" font-family=\"Times,serif\" font-size=\"14.00\">130.085685605717</text>\n",
       "</g>\n",
       "<!-- rank -->\n",
       "<g id=\"node4\" class=\"node\">\n",
       "<title>rank</title>\n",
       "<ellipse fill=\"none\" stroke=\"black\" cx=\"27\" cy=\"-184.4\" rx=\"27\" ry=\"18\"/>\n",
       "<text text-anchor=\"middle\" x=\"27\" y=\"-180.7\" font-family=\"Times,serif\" font-size=\"14.00\">rank</text>\n",
       "</g>\n",
       "<!-- rank&#45;&gt;L0N0 -->\n",
       "<g id=\"edge3\" class=\"edge\">\n",
       "<title>rank&#45;&gt;L0N0</title>\n",
       "<path fill=\"none\" stroke=\"black\" d=\"M34.79,-167.16C41.69,-152.27 53.94,-131.73 72,-122.4 115.08,-100.15 172.48,-110.81 208.9,-121.68\"/>\n",
       "<polygon fill=\"black\" stroke=\"black\" points=\"208,-125.06 218.59,-124.72 210.1,-118.38 208,-125.06\"/>\n",
       "<text text-anchor=\"middle\" x=\"134\" y=\"-126.2\" font-family=\"Times,serif\" font-size=\"14.00\">&#45;68.56853479369444</text>\n",
       "</g>\n",
       "<!-- rank&#45;&gt;L0N1 -->\n",
       "<g id=\"edge6\" class=\"edge\">\n",
       "<title>rank&#45;&gt;L0N1</title>\n",
       "<path fill=\"none\" stroke=\"black\" d=\"M45.15,-197.79C52.97,-203.33 62.57,-209.38 72,-213.4 123.99,-235.52 143.41,-220.75 196,-241.4 202.54,-243.96 209.24,-247.33 215.49,-250.82\"/>\n",
       "<polygon fill=\"black\" stroke=\"black\" points=\"213.86,-253.92 224.25,-255.97 217.4,-247.89 213.86,-253.92\"/>\n",
       "<text text-anchor=\"middle\" x=\"134\" y=\"-245.2\" font-family=\"Times,serif\" font-size=\"14.00\">108.15480497976931</text>\n",
       "</g>\n",
       "<!-- L0N1&#45;&gt;L1N0 -->\n",
       "<g id=\"edge10\" class=\"edge\">\n",
       "<title>L0N1&#45;&gt;L1N0</title>\n",
       "<path fill=\"none\" stroke=\"black\" d=\"M271.45,-259.53C278.77,-256.94 286.83,-254.33 294.39,-252.4 348.49,-238.61 374.39,-266.75 418.39,-232.4 434.4,-219.9 427.04,-208.42 436.39,-190.4 440.41,-182.66 445.19,-174.52 449.75,-167.13\"/>\n",
       "<polygon fill=\"black\" stroke=\"black\" points=\"452.96,-168.6 455.34,-158.27 447.04,-164.86 452.96,-168.6\"/>\n",
       "<text text-anchor=\"middle\" x=\"356.39\" y=\"-256.2\" font-family=\"Times,serif\" font-size=\"14.00\">&#45;28.632842104742025</text>\n",
       "</g>\n",
       "<!-- L0N1&#45;&gt;L1N1 -->\n",
       "<g id=\"edge12\" class=\"edge\">\n",
       "<title>L0N1&#45;&gt;L1N1</title>\n",
       "<path fill=\"none\" stroke=\"black\" d=\"M273.88,-276.56C309.15,-284.19 371.19,-292.54 418.39,-271.4 431.61,-265.48 442.69,-253.95 450.88,-243.06\"/>\n",
       "<polygon fill=\"black\" stroke=\"black\" points=\"453.95,-244.79 456.82,-234.59 448.21,-240.77 453.95,-244.79\"/>\n",
       "<text text-anchor=\"middle\" x=\"356.39\" y=\"-288.2\" font-family=\"Times,serif\" font-size=\"14.00\">18.74429892015841</text>\n",
       "</g>\n",
       "<!-- ILI -->\n",
       "<g id=\"node6\" class=\"node\">\n",
       "<title>ILI</title>\n",
       "<ellipse fill=\"none\" stroke=\"black\" cx=\"27\" cy=\"-258.4\" rx=\"22.18\" ry=\"22.18\"/>\n",
       "<ellipse fill=\"none\" stroke=\"black\" cx=\"27\" cy=\"-258.4\" rx=\"26.2\" ry=\"26.2\"/>\n",
       "<text text-anchor=\"middle\" x=\"27\" y=\"-254.7\" font-family=\"Times,serif\" font-size=\"14.00\">ILI</text>\n",
       "</g>\n",
       "<!-- ILI&#45;&gt;L0N0 -->\n",
       "<g id=\"edge7\" class=\"edge\">\n",
       "<title>ILI&#45;&gt;L0N0</title>\n",
       "<path fill=\"none\" stroke=\"black\" d=\"M41.21,-236.31C45.57,-228.57 50.25,-219.73 54,-211.4 63.85,-189.47 53.47,-175.71 72,-160.4 82.04,-152.1 156.61,-143.19 204.28,-138.25\"/>\n",
       "<polygon fill=\"black\" stroke=\"black\" points=\"204.7,-141.73 214.3,-137.23 203.99,-134.76 204.7,-141.73\"/>\n",
       "<text text-anchor=\"middle\" x=\"134\" y=\"-164.2\" font-family=\"Times,serif\" font-size=\"14.00\">19.460344360826948</text>\n",
       "</g>\n",
       "<!-- ILI&#45;&gt;L0N1 -->\n",
       "<g id=\"edge8\" class=\"edge\">\n",
       "<title>ILI&#45;&gt;L0N1</title>\n",
       "<path fill=\"none\" stroke=\"black\" d=\"M53.22,-259.68C90.24,-261.56 159.67,-265.1 203.84,-267.34\"/>\n",
       "<polygon fill=\"black\" stroke=\"black\" points=\"203.78,-270.85 213.94,-267.86 204.13,-263.85 203.78,-270.85\"/>\n",
       "<text text-anchor=\"middle\" x=\"134\" y=\"-270.2\" font-family=\"Times,serif\" font-size=\"14.00\">32.1396916057879</text>\n",
       "</g>\n",
       "<!-- L2N0 -->\n",
       "<g id=\"node10\" class=\"node\">\n",
       "<title>L2N0</title>\n",
       "<ellipse fill=\"none\" stroke=\"black\" cx=\"691.99\" cy=\"-90.4\" rx=\"31.4\" ry=\"18\"/>\n",
       "<text text-anchor=\"middle\" x=\"691.99\" y=\"-86.7\" font-family=\"Times,serif\" font-size=\"14.00\">L2N0</text>\n",
       "</g>\n",
       "<!-- L1N0&#45;&gt;L2N0 -->\n",
       "<g id=\"edge15\" class=\"edge\">\n",
       "<title>L1N0&#45;&gt;L2N0</title>\n",
       "<path fill=\"none\" stroke=\"black\" d=\"M483.59,-125.51C488.52,-120.15 493.97,-114.09 498.79,-108.4 507.18,-98.49 505.12,-91.08 516.79,-85.4 560.3,-64.2 617.44,-71.45 654.2,-79.86\"/>\n",
       "<polygon fill=\"black\" stroke=\"black\" points=\"653.46,-83.29 664,-82.25 655.11,-76.48 653.46,-83.29\"/>\n",
       "<text text-anchor=\"middle\" x=\"579.79\" y=\"-89.2\" font-family=\"Times,serif\" font-size=\"14.00\">0.01826829682765634</text>\n",
       "</g>\n",
       "<!-- L2N1 -->\n",
       "<g id=\"node11\" class=\"node\">\n",
       "<title>L2N1</title>\n",
       "<ellipse fill=\"none\" stroke=\"black\" cx=\"691.99\" cy=\"-155.4\" rx=\"31.4\" ry=\"18\"/>\n",
       "<text text-anchor=\"middle\" x=\"691.99\" y=\"-151.7\" font-family=\"Times,serif\" font-size=\"14.00\">L2N1</text>\n",
       "</g>\n",
       "<!-- L1N0&#45;&gt;L2N1 -->\n",
       "<g id=\"edge17\" class=\"edge\">\n",
       "<title>L1N0&#45;&gt;L2N1</title>\n",
       "<path fill=\"none\" stroke=\"black\" d=\"M499.05,-143.32C538.39,-145.79 607,-150.11 650.64,-152.86\"/>\n",
       "<polygon fill=\"black\" stroke=\"black\" points=\"650.7,-156.37 660.9,-153.5 651.14,-149.38 650.7,-156.37\"/>\n",
       "<text text-anchor=\"middle\" x=\"579.79\" y=\"-155.2\" font-family=\"Times,serif\" font-size=\"14.00\">19.62090785462997</text>\n",
       "</g>\n",
       "<!-- L1N1&#45;&gt;L2N0 -->\n",
       "<g id=\"edge16\" class=\"edge\">\n",
       "<title>L1N1&#45;&gt;L2N0</title>\n",
       "<path fill=\"none\" stroke=\"black\" d=\"M491.69,-205.54C499.51,-201.88 508.39,-198.11 516.79,-195.4 571.12,-177.87 598.43,-206.34 642.79,-170.4 658.57,-157.61 650.38,-145.84 660.79,-128.4 663.65,-123.6 667.05,-118.75 670.53,-114.18\"/>\n",
       "<polygon fill=\"black\" stroke=\"black\" points=\"673.27,-116.36 676.75,-106.35 667.79,-112 673.27,-116.36\"/>\n",
       "<text text-anchor=\"middle\" x=\"579.79\" y=\"-199.2\" font-family=\"Times,serif\" font-size=\"14.00\">1.9485222988687005</text>\n",
       "</g>\n",
       "<!-- L1N1&#45;&gt;L2N1 -->\n",
       "<g id=\"edge18\" class=\"edge\">\n",
       "<title>L1N1&#45;&gt;L2N1</title>\n",
       "<path fill=\"none\" stroke=\"black\" d=\"M496.8,-223.86C532.71,-230.57 595.71,-237.23 642.79,-214.4 657.25,-207.39 668.84,-193.74 677.03,-181.33\"/>\n",
       "<polygon fill=\"black\" stroke=\"black\" points=\"680.12,-182.99 682.38,-172.63 674.16,-179.32 680.12,-182.99\"/>\n",
       "<text text-anchor=\"middle\" x=\"579.79\" y=\"-233.2\" font-family=\"Times,serif\" font-size=\"14.00\">&#45;7.9180903300344765</text>\n",
       "</g>\n",
       "<!-- L0I -->\n",
       "<g id=\"node9\" class=\"node\">\n",
       "<title>L0I</title>\n",
       "<ellipse fill=\"none\" stroke=\"black\" cx=\"245.2\" cy=\"-203.4\" rx=\"23.31\" ry=\"23.31\"/>\n",
       "<ellipse fill=\"none\" stroke=\"black\" cx=\"245.2\" cy=\"-203.4\" rx=\"27.3\" ry=\"27.3\"/>\n",
       "<text text-anchor=\"middle\" x=\"245.2\" y=\"-199.7\" font-family=\"Times,serif\" font-size=\"14.00\">L0I</text>\n",
       "</g>\n",
       "<!-- L0I&#45;&gt;L1N0 -->\n",
       "<g id=\"edge13\" class=\"edge\">\n",
       "<title>L0I&#45;&gt;L1N0</title>\n",
       "<path fill=\"none\" stroke=\"black\" d=\"M262.05,-181.49C274.29,-164.91 289.88,-144.6 294.39,-142.4 336.7,-121.76 392.11,-126.13 428.5,-132.55\"/>\n",
       "<polygon fill=\"black\" stroke=\"black\" points=\"428.21,-136.06 438.68,-134.49 429.52,-129.18 428.21,-136.06\"/>\n",
       "<text text-anchor=\"middle\" x=\"356.39\" y=\"-146.2\" font-family=\"Times,serif\" font-size=\"14.00\">23.94873502304717</text>\n",
       "</g>\n",
       "<!-- L0I&#45;&gt;L1N1 -->\n",
       "<g id=\"edge14\" class=\"edge\">\n",
       "<title>L0I&#45;&gt;L1N1</title>\n",
       "<path fill=\"none\" stroke=\"black\" d=\"M272.78,-205.09C310.94,-207.51 381.54,-212 426.18,-214.83\"/>\n",
       "<polygon fill=\"black\" stroke=\"black\" points=\"426.19,-218.34 436.39,-215.48 426.63,-211.35 426.19,-218.34\"/>\n",
       "<text text-anchor=\"middle\" x=\"356.39\" y=\"-217.2\" font-family=\"Times,serif\" font-size=\"14.00\">5.5617681976935</text>\n",
       "</g>\n",
       "<!-- L3N0 -->\n",
       "<g id=\"node13\" class=\"node\">\n",
       "<title>L3N0</title>\n",
       "<ellipse fill=\"none\" stroke=\"black\" cx=\"909.38\" cy=\"-90.4\" rx=\"31.4\" ry=\"18\"/>\n",
       "<text text-anchor=\"middle\" x=\"909.38\" y=\"-86.7\" font-family=\"Times,serif\" font-size=\"14.00\">L3N0</text>\n",
       "</g>\n",
       "<!-- L2N0&#45;&gt;L3N0 -->\n",
       "<g id=\"edge21\" class=\"edge\">\n",
       "<title>L2N0&#45;&gt;L3N0</title>\n",
       "<path fill=\"none\" stroke=\"black\" d=\"M723.39,-90.4C761.23,-90.4 825.99,-90.4 867.98,-90.4\"/>\n",
       "<polygon fill=\"black\" stroke=\"black\" points=\"868.13,-93.9 878.13,-90.4 868.13,-86.9 868.13,-93.9\"/>\n",
       "<text text-anchor=\"middle\" x=\"800.68\" y=\"-94.2\" font-family=\"Times,serif\" font-size=\"14.00\">&#45;8.80999146892887</text>\n",
       "</g>\n",
       "<!-- L2N1&#45;&gt;L3N0 -->\n",
       "<g id=\"edge22\" class=\"edge\">\n",
       "<title>L2N1&#45;&gt;L3N0</title>\n",
       "<path fill=\"none\" stroke=\"black\" d=\"M721.07,-148.65C754.51,-140.39 811.92,-125.5 860.18,-109.4 864.74,-107.88 869.5,-106.16 874.17,-104.4\"/>\n",
       "<polygon fill=\"black\" stroke=\"black\" points=\"875.49,-107.65 883.55,-100.77 872.96,-101.12 875.49,-107.65\"/>\n",
       "<text text-anchor=\"middle\" x=\"800.68\" y=\"-147.2\" font-family=\"Times,serif\" font-size=\"14.00\">&#45;68.57844028526794</text>\n",
       "</g>\n",
       "<!-- L1I -->\n",
       "<g id=\"node12\" class=\"node\">\n",
       "<title>L1I</title>\n",
       "<ellipse fill=\"none\" stroke=\"black\" cx=\"467.59\" cy=\"-72.4\" rx=\"23.31\" ry=\"23.31\"/>\n",
       "<ellipse fill=\"none\" stroke=\"black\" cx=\"467.59\" cy=\"-72.4\" rx=\"27.3\" ry=\"27.3\"/>\n",
       "<text text-anchor=\"middle\" x=\"467.59\" y=\"-68.7\" font-family=\"Times,serif\" font-size=\"14.00\">L1I</text>\n",
       "</g>\n",
       "<!-- L1I&#45;&gt;L2N0 -->\n",
       "<g id=\"edge19\" class=\"edge\">\n",
       "<title>L1I&#45;&gt;L2N0</title>\n",
       "<path fill=\"none\" stroke=\"black\" d=\"M491.24,-57.82C499.02,-53.59 508,-49.54 516.79,-47.4 571.19,-34.13 590.46,-27.45 642.79,-47.4 642.89,-47.44 654.63,-57.91 666.5,-68.51\"/>\n",
       "<polygon fill=\"black\" stroke=\"black\" points=\"664.4,-71.33 674.19,-75.38 669.06,-66.11 664.4,-71.33\"/>\n",
       "<text text-anchor=\"middle\" x=\"579.79\" y=\"-51.2\" font-family=\"Times,serif\" font-size=\"14.00\">&#45;2.4777009412225834</text>\n",
       "</g>\n",
       "<!-- L1I&#45;&gt;L2N1 -->\n",
       "<g id=\"edge20\" class=\"edge\">\n",
       "<title>L1I&#45;&gt;L2N1</title>\n",
       "<path fill=\"none\" stroke=\"black\" d=\"M490.87,-87.4C498.77,-92.16 507.92,-97.05 516.79,-100.4 570.2,-120.57 589.69,-104.42 642.79,-125.4 649.85,-128.19 657.02,-132.01 663.6,-136\"/>\n",
       "<polygon fill=\"black\" stroke=\"black\" points=\"661.83,-139.02 672.14,-141.45 665.59,-133.12 661.83,-139.02\"/>\n",
       "<text text-anchor=\"middle\" x=\"579.79\" y=\"-129.2\" font-family=\"Times,serif\" font-size=\"14.00\">5.835800789026761</text>\n",
       "</g>\n",
       "<!-- L2I -->\n",
       "<g id=\"node14\" class=\"node\">\n",
       "<title>L2I</title>\n",
       "<ellipse fill=\"none\" stroke=\"black\" cx=\"691.99\" cy=\"-27.4\" rx=\"23.31\" ry=\"23.31\"/>\n",
       "<ellipse fill=\"none\" stroke=\"black\" cx=\"691.99\" cy=\"-27.4\" rx=\"27.3\" ry=\"27.3\"/>\n",
       "<text text-anchor=\"middle\" x=\"691.99\" y=\"-23.7\" font-family=\"Times,serif\" font-size=\"14.00\">L2I</text>\n",
       "</g>\n",
       "<!-- L2I&#45;&gt;L3N0 -->\n",
       "<g id=\"edge23\" class=\"edge\">\n",
       "<title>L2I&#45;&gt;L3N0</title>\n",
       "<path fill=\"none\" stroke=\"black\" d=\"M719.04,-33.25C752.17,-40.91 810.98,-55.29 860.18,-71.4 864.75,-72.89 869.51,-74.59 874.19,-76.34\"/>\n",
       "<polygon fill=\"black\" stroke=\"black\" points=\"872.98,-79.63 883.57,-79.97 875.5,-73.1 872.98,-79.63\"/>\n",
       "<text text-anchor=\"middle\" x=\"800.68\" y=\"-75.2\" font-family=\"Times,serif\" font-size=\"14.00\">11.035458113762745</text>\n",
       "</g>\n",
       "</g>\n",
       "</svg>\n"
      ],
      "text/plain": [
       "<graphviz.graphs.Digraph at 0x7fd4a00ab4c0>"
      ]
     },
     "execution_count": 21,
     "metadata": {},
     "output_type": "execute_result"
    }
   ],
   "source": [
    "graphMLP(Admis.columns[1:], model_nnet.coefs_, model_nnet.intercepts_)"
   ]
  },
  {
   "cell_type": "markdown",
   "metadata": {},
   "source": [
    "As you can see, some weights are large (two orders of magnitude larger then others) This is no good, since it makes the model unstable (i.e., small changes in some inputs may entail significant changes in the network, because of the large weights)\n",
    "\n",
    "One way to avoid this is by regularizing the learning process:"
   ]
  },
  {
   "cell_type": "code",
   "execution_count": 22,
   "metadata": {},
   "outputs": [
    {
     "data": {
      "text/plain": [
       "MLPClassifier(activation='logistic', alpha=0.001, hidden_layer_sizes=[2, 2, 2],\n",
       "              random_state=42, solver='lbfgs')"
      ]
     },
     "execution_count": 22,
     "metadata": {},
     "output_type": "execute_result"
    },
    {
     "name": "stdout",
     "output_type": "stream",
     "text": [
      "Confusion matrix of the TRAIN dataset\n"
     ]
    },
    {
     "data": {
      "text/html": [
       "<div>\n",
       "<style scoped>\n",
       "    .dataframe tbody tr th:only-of-type {\n",
       "        vertical-align: middle;\n",
       "    }\n",
       "\n",
       "    .dataframe tbody tr th {\n",
       "        vertical-align: top;\n",
       "    }\n",
       "\n",
       "    .dataframe thead th {\n",
       "        text-align: right;\n",
       "    }\n",
       "</style>\n",
       "<table border=\"1\" class=\"dataframe\">\n",
       "  <thead>\n",
       "    <tr style=\"text-align: right;\">\n",
       "      <th>predicted</th>\n",
       "      <th>0</th>\n",
       "      <th>1</th>\n",
       "    </tr>\n",
       "    <tr>\n",
       "      <th>target</th>\n",
       "      <th></th>\n",
       "      <th></th>\n",
       "    </tr>\n",
       "  </thead>\n",
       "  <tbody>\n",
       "    <tr>\n",
       "      <th>0</th>\n",
       "      <td>151</td>\n",
       "      <td>32</td>\n",
       "    </tr>\n",
       "    <tr>\n",
       "      <th>1</th>\n",
       "      <td>48</td>\n",
       "      <td>37</td>\n",
       "    </tr>\n",
       "  </tbody>\n",
       "</table>\n",
       "</div>"
      ],
      "text/plain": [
       "predicted    0   1\n",
       "target            \n",
       "0          151  32\n",
       "1           48  37"
      ]
     },
     "execution_count": 22,
     "metadata": {},
     "output_type": "execute_result"
    },
    {
     "data": {
      "text/html": [
       "<div>\n",
       "<style scoped>\n",
       "    .dataframe tbody tr th:only-of-type {\n",
       "        vertical-align: middle;\n",
       "    }\n",
       "\n",
       "    .dataframe tbody tr th {\n",
       "        vertical-align: top;\n",
       "    }\n",
       "\n",
       "    .dataframe thead th {\n",
       "        text-align: right;\n",
       "    }\n",
       "</style>\n",
       "<table border=\"1\" class=\"dataframe\">\n",
       "  <thead>\n",
       "    <tr style=\"text-align: right;\">\n",
       "      <th></th>\n",
       "      <th>F-score (cv)</th>\n",
       "      <th>Precision (cv)</th>\n",
       "      <th>Recall (cv)</th>\n",
       "      <th>Accuracy (cv)</th>\n",
       "    </tr>\n",
       "  </thead>\n",
       "  <tbody>\n",
       "    <tr>\n",
       "      <th>MLP[2,2,2]</th>\n",
       "      <td>0.561</td>\n",
       "      <td>0.629</td>\n",
       "      <td>0.578</td>\n",
       "      <td>0.69</td>\n",
       "    </tr>\n",
       "    <tr>\n",
       "      <th>MLP[1]</th>\n",
       "      <td>0.56</td>\n",
       "      <td>0.655</td>\n",
       "      <td>0.57</td>\n",
       "      <td>0.683</td>\n",
       "    </tr>\n",
       "    <tr>\n",
       "      <th>Logistic Regression</th>\n",
       "      <td>0.554</td>\n",
       "      <td>0.686</td>\n",
       "      <td>0.568</td>\n",
       "      <td>0.698</td>\n",
       "    </tr>\n",
       "    <tr>\n",
       "      <th>MLP[2,2,2]-alpha=0.001</th>\n",
       "      <td>0.504</td>\n",
       "      <td>0.536</td>\n",
       "      <td>0.538</td>\n",
       "      <td>0.679</td>\n",
       "    </tr>\n",
       "  </tbody>\n",
       "</table>\n",
       "</div>"
      ],
      "text/plain": [
       "                       F-score (cv) Precision (cv) Recall (cv) Accuracy (cv)\n",
       "MLP[2,2,2]                    0.561          0.629       0.578          0.69\n",
       "MLP[1]                         0.56          0.655        0.57         0.683\n",
       "Logistic Regression           0.554          0.686       0.568         0.698\n",
       "MLP[2,2,2]-alpha=0.001        0.504          0.536       0.538         0.679"
      ]
     },
     "execution_count": 22,
     "metadata": {},
     "output_type": "execute_result"
    }
   ],
   "source": [
    "model_nnet = MLPClassifier(hidden_layer_sizes=[2,2,2],\n",
    "                           alpha=0.001,\n",
    "                           activation='logistic',\n",
    "                           max_iter=200,\n",
    "                           solver='lbfgs',random_state=42)\n",
    "model_nnet.fit(X_train,y_train);\n",
    "print('Confusion matrix of the TRAIN dataset')\n",
    "confusion(y_train,y_pred)\n",
    "\n",
    "cross_val_results = pd.DataFrame(cross_validate(model_nnet , X_train, y_train, cv = 5, \n",
    "                                                scoring = [ 'f1_macro', 'precision_macro', 'recall_macro', 'accuracy'] ))\n",
    "\n",
    "results_df.loc['MLP[2,2,2]-alpha=0.001',:] = cross_val_results[['test_f1_macro',\n",
    "       'test_precision_macro', 'test_recall_macro','test_accuracy']].mean().values\n",
    "\n",
    "results_df.sort_values(by='F-score (cv)', ascending=False)"
   ]
  },
  {
   "cell_type": "markdown",
   "metadata": {},
   "source": [
    "Now we have a model with smaller weights (more robust) but with worse performance. As you can see, just trying hyperparameter configurations is not enough to obtain a good model. If we want to succeed we need to try a lot of different configurations changing the architecture, the regularization parameter and the activation functions."
   ]
  },
  {
   "cell_type": "code",
   "execution_count": 23,
   "metadata": {
    "scrolled": true
   },
   "outputs": [
    {
     "data": {
      "image/svg+xml": [
       "<?xml version=\"1.0\" encoding=\"UTF-8\" standalone=\"no\"?>\n",
       "<!DOCTYPE svg PUBLIC \"-//W3C//DTD SVG 1.1//EN\"\n",
       " \"http://www.w3.org/Graphics/SVG/1.1/DTD/svg11.dtd\">\n",
       "<!-- Generated by graphviz version 3.0.0 (20220226.1711)\n",
       " -->\n",
       "<!-- Pages: 1 -->\n",
       "<svg width=\"959pt\" height=\"364pt\"\n",
       " viewBox=\"0.00 0.00 958.58 364.40\" xmlns=\"http://www.w3.org/2000/svg\" xmlns:xlink=\"http://www.w3.org/1999/xlink\">\n",
       "<g id=\"graph0\" class=\"graph\" transform=\"scale(1 1) rotate(0) translate(4 360.4)\">\n",
       "<polygon fill=\"white\" stroke=\"transparent\" points=\"-4,4 -4,-360.4 954.58,-360.4 954.58,4 -4,4\"/>\n",
       "<!-- gre -->\n",
       "<g id=\"node1\" class=\"node\">\n",
       "<title>gre</title>\n",
       "<ellipse fill=\"none\" stroke=\"black\" cx=\"27\" cy=\"-326.4\" rx=\"27\" ry=\"18\"/>\n",
       "<text text-anchor=\"middle\" x=\"27\" y=\"-322.7\" font-family=\"Times,serif\" font-size=\"14.00\">gre</text>\n",
       "</g>\n",
       "<!-- L0N0 -->\n",
       "<g id=\"node2\" class=\"node\">\n",
       "<title>L0N0</title>\n",
       "<ellipse fill=\"none\" stroke=\"black\" cx=\"251.2\" cy=\"-134.4\" rx=\"31.4\" ry=\"18\"/>\n",
       "<text text-anchor=\"middle\" x=\"251.2\" y=\"-130.7\" font-family=\"Times,serif\" font-size=\"14.00\">L0N0</text>\n",
       "</g>\n",
       "<!-- gre&#45;&gt;L0N0 -->\n",
       "<g id=\"edge1\" class=\"edge\">\n",
       "<title>gre&#45;&gt;L0N0</title>\n",
       "<path fill=\"none\" stroke=\"black\" d=\"M49.61,-316.49C56.64,-313.55 64.55,-310.55 72,-308.4 128.36,-292.09 161.01,-327.38 202,-285.4 239.06,-247.44 197.11,-215.25 220,-167.4 221.72,-163.8 223.97,-160.31 226.47,-157.04\"/>\n",
       "<polygon fill=\"black\" stroke=\"black\" points=\"229.16,-159.28 233.01,-149.41 223.84,-154.72 229.16,-159.28\"/>\n",
       "<text text-anchor=\"middle\" x=\"137\" y=\"-312.2\" font-family=\"Times,serif\" font-size=\"14.00\">&#45;0.23696360265718508</text>\n",
       "</g>\n",
       "<!-- L0N1 -->\n",
       "<g id=\"node5\" class=\"node\">\n",
       "<title>L0N1</title>\n",
       "<ellipse fill=\"none\" stroke=\"black\" cx=\"251.2\" cy=\"-269.4\" rx=\"31.4\" ry=\"18\"/>\n",
       "<text text-anchor=\"middle\" x=\"251.2\" y=\"-265.7\" font-family=\"Times,serif\" font-size=\"14.00\">L0N1</text>\n",
       "</g>\n",
       "<!-- gre&#45;&gt;L0N1 -->\n",
       "<g id=\"edge4\" class=\"edge\">\n",
       "<title>gre&#45;&gt;L0N1</title>\n",
       "<path fill=\"none\" stroke=\"black\" d=\"M52.47,-332.85C87.48,-340.73 153.05,-350.37 202,-327.4 216.31,-320.69 227.84,-307.41 236.03,-295.25\"/>\n",
       "<polygon fill=\"black\" stroke=\"black\" points=\"239.04,-297.03 241.39,-286.7 233.11,-293.31 239.04,-297.03\"/>\n",
       "<text text-anchor=\"middle\" x=\"137\" y=\"-345.2\" font-family=\"Times,serif\" font-size=\"14.00\">14.60053871513305</text>\n",
       "</g>\n",
       "<!-- L1N0 -->\n",
       "<g id=\"node7\" class=\"node\">\n",
       "<title>L1N0</title>\n",
       "<ellipse fill=\"none\" stroke=\"black\" cx=\"473.59\" cy=\"-141.4\" rx=\"31.4\" ry=\"18\"/>\n",
       "<text text-anchor=\"middle\" x=\"473.59\" y=\"-137.7\" font-family=\"Times,serif\" font-size=\"14.00\">L1N0</text>\n",
       "</g>\n",
       "<!-- L0N0&#45;&gt;L1N0 -->\n",
       "<g id=\"edge9\" class=\"edge\">\n",
       "<title>L0N0&#45;&gt;L1N0</title>\n",
       "<path fill=\"none\" stroke=\"black\" d=\"M270.26,-119.8C278.85,-113.77 289.59,-107.49 300.39,-104.4 353.38,-89.25 372.21,-86.68 424.39,-104.4 433.64,-107.54 442.5,-113.24 450.04,-119.24\"/>\n",
       "<polygon fill=\"black\" stroke=\"black\" points=\"447.79,-121.93 457.66,-125.77 452.34,-116.61 447.79,-121.93\"/>\n",
       "<text text-anchor=\"middle\" x=\"362.39\" y=\"-108.2\" font-family=\"Times,serif\" font-size=\"14.00\">&#45;8.334519872399522</text>\n",
       "</g>\n",
       "<!-- L1N1 -->\n",
       "<g id=\"node8\" class=\"node\">\n",
       "<title>L1N1</title>\n",
       "<ellipse fill=\"none\" stroke=\"black\" cx=\"473.59\" cy=\"-217.4\" rx=\"31.4\" ry=\"18\"/>\n",
       "<text text-anchor=\"middle\" x=\"473.59\" y=\"-213.7\" font-family=\"Times,serif\" font-size=\"14.00\">L1N1</text>\n",
       "</g>\n",
       "<!-- L0N0&#45;&gt;L1N1 -->\n",
       "<g id=\"edge11\" class=\"edge\">\n",
       "<title>L0N0&#45;&gt;L1N1</title>\n",
       "<path fill=\"none\" stroke=\"black\" d=\"M274.83,-146.39C282.76,-150.27 291.83,-154.36 300.39,-157.4 353.82,-176.38 372.1,-165.47 424.39,-187.4 431.11,-190.21 437.97,-193.91 444.32,-197.73\"/>\n",
       "<polygon fill=\"black\" stroke=\"black\" points=\"442.88,-200.96 453.2,-203.35 446.62,-195.04 442.88,-200.96\"/>\n",
       "<text text-anchor=\"middle\" x=\"362.39\" y=\"-191.2\" font-family=\"Times,serif\" font-size=\"14.00\">4.658785285019934</text>\n",
       "</g>\n",
       "<!-- gpa -->\n",
       "<g id=\"node3\" class=\"node\">\n",
       "<title>gpa</title>\n",
       "<ellipse fill=\"none\" stroke=\"black\" cx=\"27\" cy=\"-105.4\" rx=\"27\" ry=\"18\"/>\n",
       "<text text-anchor=\"middle\" x=\"27\" y=\"-101.7\" font-family=\"Times,serif\" font-size=\"14.00\">gpa</text>\n",
       "</g>\n",
       "<!-- gpa&#45;&gt;L0N0 -->\n",
       "<g id=\"edge2\" class=\"edge\">\n",
       "<title>gpa&#45;&gt;L0N0</title>\n",
       "<path fill=\"none\" stroke=\"black\" d=\"M47.91,-93.59C55.22,-89.88 63.74,-86.27 72,-84.4 128.35,-71.64 148.83,-61.8 202,-84.4 214.31,-89.63 225,-99.72 233.17,-109.47\"/>\n",
       "<polygon fill=\"black\" stroke=\"black\" points=\"230.5,-111.74 239.41,-117.47 236.02,-107.43 230.5,-111.74\"/>\n",
       "<text text-anchor=\"middle\" x=\"137\" y=\"-88.2\" font-family=\"Times,serif\" font-size=\"14.00\">&#45;0.4267264836147177</text>\n",
       "</g>\n",
       "<!-- gpa&#45;&gt;L0N1 -->\n",
       "<g id=\"edge5\" class=\"edge\">\n",
       "<title>gpa&#45;&gt;L0N1</title>\n",
       "<path fill=\"none\" stroke=\"black\" d=\"M36.61,-122.52C46.29,-141.06 61.96,-168.86 72,-175.4 120.93,-207.27 156.15,-158.24 202,-194.4 218.91,-207.74 208.11,-221.43 220,-239.4 221.68,-241.94 223.61,-244.44 225.65,-246.85\"/>\n",
       "<polygon fill=\"black\" stroke=\"black\" points=\"223.51,-249.68 232.89,-254.6 228.62,-244.9 223.51,-249.68\"/>\n",
       "<text text-anchor=\"middle\" x=\"137\" y=\"-198.2\" font-family=\"Times,serif\" font-size=\"14.00\">17.258840125585355</text>\n",
       "</g>\n",
       "<!-- rank -->\n",
       "<g id=\"node4\" class=\"node\">\n",
       "<title>rank</title>\n",
       "<ellipse fill=\"none\" stroke=\"black\" cx=\"27\" cy=\"-184.4\" rx=\"27\" ry=\"18\"/>\n",
       "<text text-anchor=\"middle\" x=\"27\" y=\"-180.7\" font-family=\"Times,serif\" font-size=\"14.00\">rank</text>\n",
       "</g>\n",
       "<!-- rank&#45;&gt;L0N0 -->\n",
       "<g id=\"edge3\" class=\"edge\">\n",
       "<title>rank&#45;&gt;L0N0</title>\n",
       "<path fill=\"none\" stroke=\"black\" d=\"M34.79,-167.16C41.69,-152.27 53.94,-131.73 72,-122.4 116.95,-99.18 176.99,-110.43 214.62,-121.65\"/>\n",
       "<polygon fill=\"black\" stroke=\"black\" points=\"214.02,-125.13 224.61,-124.78 216.12,-118.45 214.02,-125.13\"/>\n",
       "<text text-anchor=\"middle\" x=\"137\" y=\"-126.2\" font-family=\"Times,serif\" font-size=\"14.00\">&#45;3.6625484930868404</text>\n",
       "</g>\n",
       "<!-- rank&#45;&gt;L0N1 -->\n",
       "<g id=\"edge6\" class=\"edge\">\n",
       "<title>rank&#45;&gt;L0N1</title>\n",
       "<path fill=\"none\" stroke=\"black\" d=\"M45.14,-197.84C52.95,-203.39 62.55,-209.43 72,-213.4 126.5,-236.27 146.88,-220.07 202,-241.4 208.55,-243.93 215.26,-247.28 221.51,-250.77\"/>\n",
       "<polygon fill=\"black\" stroke=\"black\" points=\"219.88,-253.87 230.27,-255.93 223.42,-247.84 219.88,-253.87\"/>\n",
       "<text text-anchor=\"middle\" x=\"137\" y=\"-245.2\" font-family=\"Times,serif\" font-size=\"14.00\">21.51932825170838</text>\n",
       "</g>\n",
       "<!-- L0N1&#45;&gt;L1N0 -->\n",
       "<g id=\"edge10\" class=\"edge\">\n",
       "<title>L0N1&#45;&gt;L1N0</title>\n",
       "<path fill=\"none\" stroke=\"black\" d=\"M277.45,-259.53C284.77,-256.94 292.83,-254.33 300.39,-252.4 354.49,-238.61 380.39,-266.75 424.39,-232.4 440.4,-219.9 433.04,-208.42 442.39,-190.4 446.41,-182.66 451.19,-174.52 455.75,-167.13\"/>\n",
       "<polygon fill=\"black\" stroke=\"black\" points=\"458.96,-168.6 461.34,-158.27 453.04,-164.86 458.96,-168.6\"/>\n",
       "<text text-anchor=\"middle\" x=\"362.39\" y=\"-256.2\" font-family=\"Times,serif\" font-size=\"14.00\">&#45;6.161356929721049</text>\n",
       "</g>\n",
       "<!-- L0N1&#45;&gt;L1N1 -->\n",
       "<g id=\"edge12\" class=\"edge\">\n",
       "<title>L0N1&#45;&gt;L1N1</title>\n",
       "<path fill=\"none\" stroke=\"black\" d=\"M279.88,-276.56C315.15,-284.19 377.19,-292.54 424.39,-271.4 437.61,-265.48 448.69,-253.95 456.88,-243.06\"/>\n",
       "<polygon fill=\"black\" stroke=\"black\" points=\"459.95,-244.79 462.82,-234.59 454.21,-240.77 459.95,-244.79\"/>\n",
       "<text text-anchor=\"middle\" x=\"362.39\" y=\"-288.2\" font-family=\"Times,serif\" font-size=\"14.00\">6.59582084785559</text>\n",
       "</g>\n",
       "<!-- ILI -->\n",
       "<g id=\"node6\" class=\"node\">\n",
       "<title>ILI</title>\n",
       "<ellipse fill=\"none\" stroke=\"black\" cx=\"27\" cy=\"-258.4\" rx=\"22.18\" ry=\"22.18\"/>\n",
       "<ellipse fill=\"none\" stroke=\"black\" cx=\"27\" cy=\"-258.4\" rx=\"26.2\" ry=\"26.2\"/>\n",
       "<text text-anchor=\"middle\" x=\"27\" y=\"-254.7\" font-family=\"Times,serif\" font-size=\"14.00\">ILI</text>\n",
       "</g>\n",
       "<!-- ILI&#45;&gt;L0N0 -->\n",
       "<g id=\"edge7\" class=\"edge\">\n",
       "<title>ILI&#45;&gt;L0N0</title>\n",
       "<path fill=\"none\" stroke=\"black\" d=\"M41.21,-236.31C45.57,-228.57 50.25,-219.73 54,-211.4 63.85,-189.47 53.43,-175.66 72,-160.4 82.48,-151.78 160.74,-142.89 210,-138.06\"/>\n",
       "<polygon fill=\"black\" stroke=\"black\" points=\"210.41,-141.54 220.03,-137.1 209.74,-134.57 210.41,-141.54\"/>\n",
       "<text text-anchor=\"middle\" x=\"137\" y=\"-164.2\" font-family=\"Times,serif\" font-size=\"14.00\">&#45;0.4015849970187606</text>\n",
       "</g>\n",
       "<!-- ILI&#45;&gt;L0N1 -->\n",
       "<g id=\"edge8\" class=\"edge\">\n",
       "<title>ILI&#45;&gt;L0N1</title>\n",
       "<path fill=\"none\" stroke=\"black\" d=\"M53.49,-259.66C91.77,-261.55 164.47,-265.15 209.96,-267.41\"/>\n",
       "<polygon fill=\"black\" stroke=\"black\" points=\"209.9,-270.91 220.06,-267.91 210.25,-263.92 209.9,-270.91\"/>\n",
       "<text text-anchor=\"middle\" x=\"137\" y=\"-270.2\" font-family=\"Times,serif\" font-size=\"14.00\">2.008352009056754</text>\n",
       "</g>\n",
       "<!-- L2N0 -->\n",
       "<g id=\"node10\" class=\"node\">\n",
       "<title>L2N0</title>\n",
       "<ellipse fill=\"none\" stroke=\"black\" cx=\"701.99\" cy=\"-90.4\" rx=\"31.4\" ry=\"18\"/>\n",
       "<text text-anchor=\"middle\" x=\"701.99\" y=\"-86.7\" font-family=\"Times,serif\" font-size=\"14.00\">L2N0</text>\n",
       "</g>\n",
       "<!-- L1N0&#45;&gt;L2N0 -->\n",
       "<g id=\"edge15\" class=\"edge\">\n",
       "<title>L1N0&#45;&gt;L2N0</title>\n",
       "<path fill=\"none\" stroke=\"black\" d=\"M489.59,-125.51C494.52,-120.15 499.97,-114.09 504.79,-108.4 513.18,-98.49 511.12,-91.08 522.79,-85.4 567.55,-63.59 626.42,-71.17 664,-79.81\"/>\n",
       "<polygon fill=\"black\" stroke=\"black\" points=\"663.46,-83.28 674,-82.25 665.12,-76.48 663.46,-83.28\"/>\n",
       "<text text-anchor=\"middle\" x=\"587.79\" y=\"-89.2\" font-family=\"Times,serif\" font-size=\"14.00\">&#45;0.14743225506527902</text>\n",
       "</g>\n",
       "<!-- L2N1 -->\n",
       "<g id=\"node11\" class=\"node\">\n",
       "<title>L2N1</title>\n",
       "<ellipse fill=\"none\" stroke=\"black\" cx=\"701.99\" cy=\"-155.4\" rx=\"31.4\" ry=\"18\"/>\n",
       "<text text-anchor=\"middle\" x=\"701.99\" y=\"-151.7\" font-family=\"Times,serif\" font-size=\"14.00\">L2N1</text>\n",
       "</g>\n",
       "<!-- L1N0&#45;&gt;L2N1 -->\n",
       "<g id=\"edge17\" class=\"edge\">\n",
       "<title>L1N0&#45;&gt;L2N1</title>\n",
       "<path fill=\"none\" stroke=\"black\" d=\"M504.66,-143.26C544.74,-145.74 615.83,-150.13 660.57,-152.9\"/>\n",
       "<polygon fill=\"black\" stroke=\"black\" points=\"660.6,-156.41 670.8,-153.53 661.03,-149.42 660.6,-156.41\"/>\n",
       "<text text-anchor=\"middle\" x=\"587.79\" y=\"-155.2\" font-family=\"Times,serif\" font-size=\"14.00\">4.955543262509761</text>\n",
       "</g>\n",
       "<!-- L1N1&#45;&gt;L2N0 -->\n",
       "<g id=\"edge16\" class=\"edge\">\n",
       "<title>L1N1&#45;&gt;L2N0</title>\n",
       "<path fill=\"none\" stroke=\"black\" d=\"M497.68,-205.51C505.5,-201.85 514.38,-198.08 522.79,-195.4 578.84,-177.5 606.96,-207.3 652.79,-170.4 668.61,-157.66 660.38,-145.84 670.79,-128.4 673.65,-123.6 677.05,-118.75 680.53,-114.18\"/>\n",
       "<polygon fill=\"black\" stroke=\"black\" points=\"683.27,-116.36 686.75,-106.35 677.79,-112 683.27,-116.36\"/>\n",
       "<text text-anchor=\"middle\" x=\"587.79\" y=\"-199.2\" font-family=\"Times,serif\" font-size=\"14.00\">&#45;0.7941732726417221</text>\n",
       "</g>\n",
       "<!-- L1N1&#45;&gt;L2N1 -->\n",
       "<g id=\"edge18\" class=\"edge\">\n",
       "<title>L1N1&#45;&gt;L2N1</title>\n",
       "<path fill=\"none\" stroke=\"black\" d=\"M502.82,-223.9C539.43,-230.83 604.34,-237.88 652.79,-214.4 667.25,-207.39 678.84,-193.74 687.03,-181.34\"/>\n",
       "<polygon fill=\"black\" stroke=\"black\" points=\"690.12,-182.99 692.38,-172.64 684.16,-179.32 690.12,-182.99\"/>\n",
       "<text text-anchor=\"middle\" x=\"587.79\" y=\"-234.2\" font-family=\"Times,serif\" font-size=\"14.00\">&#45;2.7522584027314436</text>\n",
       "</g>\n",
       "<!-- L0I -->\n",
       "<g id=\"node9\" class=\"node\">\n",
       "<title>L0I</title>\n",
       "<ellipse fill=\"none\" stroke=\"black\" cx=\"251.2\" cy=\"-203.4\" rx=\"23.31\" ry=\"23.31\"/>\n",
       "<ellipse fill=\"none\" stroke=\"black\" cx=\"251.2\" cy=\"-203.4\" rx=\"27.3\" ry=\"27.3\"/>\n",
       "<text text-anchor=\"middle\" x=\"251.2\" y=\"-199.7\" font-family=\"Times,serif\" font-size=\"14.00\">L0I</text>\n",
       "</g>\n",
       "<!-- L0I&#45;&gt;L1N0 -->\n",
       "<g id=\"edge13\" class=\"edge\">\n",
       "<title>L0I&#45;&gt;L1N0</title>\n",
       "<path fill=\"none\" stroke=\"black\" d=\"M268.05,-181.49C280.29,-164.91 295.88,-144.6 300.39,-142.4 342.7,-121.76 398.11,-126.13 434.5,-132.55\"/>\n",
       "<polygon fill=\"black\" stroke=\"black\" points=\"434.21,-136.06 444.68,-134.49 435.52,-129.18 434.21,-136.06\"/>\n",
       "<text text-anchor=\"middle\" x=\"362.39\" y=\"-146.2\" font-family=\"Times,serif\" font-size=\"14.00\">5.217733592413318</text>\n",
       "</g>\n",
       "<!-- L0I&#45;&gt;L1N1 -->\n",
       "<g id=\"edge14\" class=\"edge\">\n",
       "<title>L0I&#45;&gt;L1N1</title>\n",
       "<path fill=\"none\" stroke=\"black\" d=\"M278.78,-205.09C316.94,-207.51 387.54,-212 432.18,-214.83\"/>\n",
       "<polygon fill=\"black\" stroke=\"black\" points=\"432.19,-218.34 442.39,-215.48 432.63,-211.35 432.19,-218.34\"/>\n",
       "<text text-anchor=\"middle\" x=\"362.39\" y=\"-217.2\" font-family=\"Times,serif\" font-size=\"14.00\">&#45;2.3198192486808673</text>\n",
       "</g>\n",
       "<!-- L3N0 -->\n",
       "<g id=\"node13\" class=\"node\">\n",
       "<title>L3N0</title>\n",
       "<ellipse fill=\"none\" stroke=\"black\" cx=\"919.38\" cy=\"-90.4\" rx=\"31.4\" ry=\"18\"/>\n",
       "<text text-anchor=\"middle\" x=\"919.38\" y=\"-86.7\" font-family=\"Times,serif\" font-size=\"14.00\">L3N0</text>\n",
       "</g>\n",
       "<!-- L2N0&#45;&gt;L3N0 -->\n",
       "<g id=\"edge21\" class=\"edge\">\n",
       "<title>L2N0&#45;&gt;L3N0</title>\n",
       "<path fill=\"none\" stroke=\"black\" d=\"M733.39,-90.4C771.23,-90.4 835.99,-90.4 877.98,-90.4\"/>\n",
       "<polygon fill=\"black\" stroke=\"black\" points=\"878.13,-93.9 888.13,-90.4 878.13,-86.9 878.13,-93.9\"/>\n",
       "<text text-anchor=\"middle\" x=\"810.68\" y=\"-94.2\" font-family=\"Times,serif\" font-size=\"14.00\">0.463492475425276</text>\n",
       "</g>\n",
       "<!-- L2N1&#45;&gt;L3N0 -->\n",
       "<g id=\"edge22\" class=\"edge\">\n",
       "<title>L2N1&#45;&gt;L3N0</title>\n",
       "<path fill=\"none\" stroke=\"black\" d=\"M731.07,-148.65C764.51,-140.39 821.92,-125.5 870.18,-109.4 874.74,-107.88 879.5,-106.16 884.17,-104.4\"/>\n",
       "<polygon fill=\"black\" stroke=\"black\" points=\"885.49,-107.65 893.55,-100.77 882.96,-101.12 885.49,-107.65\"/>\n",
       "<text text-anchor=\"middle\" x=\"810.68\" y=\"-147.2\" font-family=\"Times,serif\" font-size=\"14.00\">&#45;4.999766696549428</text>\n",
       "</g>\n",
       "<!-- L1I -->\n",
       "<g id=\"node12\" class=\"node\">\n",
       "<title>L1I</title>\n",
       "<ellipse fill=\"none\" stroke=\"black\" cx=\"473.59\" cy=\"-72.4\" rx=\"23.31\" ry=\"23.31\"/>\n",
       "<ellipse fill=\"none\" stroke=\"black\" cx=\"473.59\" cy=\"-72.4\" rx=\"27.3\" ry=\"27.3\"/>\n",
       "<text text-anchor=\"middle\" x=\"473.59\" y=\"-68.7\" font-family=\"Times,serif\" font-size=\"14.00\">L1I</text>\n",
       "</g>\n",
       "<!-- L1I&#45;&gt;L2N0 -->\n",
       "<g id=\"edge19\" class=\"edge\">\n",
       "<title>L1I&#45;&gt;L2N0</title>\n",
       "<path fill=\"none\" stroke=\"black\" d=\"M497.24,-57.82C505.02,-53.59 514,-49.54 522.79,-47.4 578.92,-33.71 598.8,-26.82 652.79,-47.4 652.89,-47.44 664.63,-57.91 676.5,-68.51\"/>\n",
       "<polygon fill=\"black\" stroke=\"black\" points=\"674.4,-71.33 684.19,-75.38 679.06,-66.11 674.4,-71.33\"/>\n",
       "<text text-anchor=\"middle\" x=\"587.79\" y=\"-51.2\" font-family=\"Times,serif\" font-size=\"14.00\">&#45;0.7320655958969542</text>\n",
       "</g>\n",
       "<!-- L1I&#45;&gt;L2N1 -->\n",
       "<g id=\"edge20\" class=\"edge\">\n",
       "<title>L1I&#45;&gt;L2N1</title>\n",
       "<path fill=\"none\" stroke=\"black\" d=\"M496.86,-87.43C504.76,-92.19 513.91,-97.07 522.79,-100.4 577.89,-121.02 598.01,-103.94 652.79,-125.4 659.86,-128.17 667.03,-131.98 673.61,-135.97\"/>\n",
       "<polygon fill=\"black\" stroke=\"black\" points=\"671.84,-138.99 682.15,-141.42 675.61,-133.09 671.84,-138.99\"/>\n",
       "<text text-anchor=\"middle\" x=\"587.79\" y=\"-129.2\" font-family=\"Times,serif\" font-size=\"14.00\">1.6831701210049133</text>\n",
       "</g>\n",
       "<!-- L2I -->\n",
       "<g id=\"node14\" class=\"node\">\n",
       "<title>L2I</title>\n",
       "<ellipse fill=\"none\" stroke=\"black\" cx=\"701.99\" cy=\"-27.4\" rx=\"23.31\" ry=\"23.31\"/>\n",
       "<ellipse fill=\"none\" stroke=\"black\" cx=\"701.99\" cy=\"-27.4\" rx=\"27.3\" ry=\"27.3\"/>\n",
       "<text text-anchor=\"middle\" x=\"701.99\" y=\"-23.7\" font-family=\"Times,serif\" font-size=\"14.00\">L2I</text>\n",
       "</g>\n",
       "<!-- L2I&#45;&gt;L3N0 -->\n",
       "<g id=\"edge23\" class=\"edge\">\n",
       "<title>L2I&#45;&gt;L3N0</title>\n",
       "<path fill=\"none\" stroke=\"black\" d=\"M729.04,-33.25C762.17,-40.91 820.98,-55.29 870.18,-71.4 874.75,-72.89 879.51,-74.59 884.19,-76.34\"/>\n",
       "<polygon fill=\"black\" stroke=\"black\" points=\"882.98,-79.63 893.57,-79.97 885.5,-73.1 882.98,-79.63\"/>\n",
       "<text text-anchor=\"middle\" x=\"810.68\" y=\"-75.2\" font-family=\"Times,serif\" font-size=\"14.00\">1.4933704593303738</text>\n",
       "</g>\n",
       "</g>\n",
       "</svg>\n"
      ],
      "text/plain": [
       "<graphviz.graphs.Digraph at 0x7fd4f1c14250>"
      ]
     },
     "execution_count": 23,
     "metadata": {},
     "output_type": "execute_result"
    }
   ],
   "source": [
    "graphMLP(Admis.columns[1:], model_nnet.coefs_, model_nnet.intercepts_)"
   ]
  },
  {
   "cell_type": "markdown",
   "metadata": {},
   "source": [
    "MLP results depend *Strongly* of its hyperparameter configuration. Now we are going to see different strategies to obtain the best hyperparameters for our model."
   ]
  },
  {
   "cell_type": "markdown",
   "metadata": {},
   "source": [
    "Scikit learn has specific functions for parameter search so we can tune the parameters of a model.\n",
    "\n",
    " We are going to use a grid search that will use a cross validation strategy to evaluate the results for each combination of parameters. At the end the best model will be returned\n",
    "\n",
    " In order to find the best network architecture, we can:\n",
    "\n",
    "1. Explore different numbers of hidden units in one hidden layer, with the best architecture, find the best regularization. \n",
    "2. Use grid search over all the combinations of architectures and regularization values. \n",
    "\n",
    "Most of the times the first option is good enough in terms of results, while a lot faster than the second. \n",
    "\n",
    "In this particular case we will do the secon method, as we are woring with a small and easy dataset.\n",
    "\n",
    "set desired sizes"
   ]
  },
  {
   "cell_type": "code",
   "execution_count": 24,
   "metadata": {},
   "outputs": [
    {
     "data": {
      "text/plain": [
       "(12,\n",
       " [2,\n",
       "  4,\n",
       "  6,\n",
       "  8,\n",
       "  [2, 2],\n",
       "  [4, 4],\n",
       "  [6, 6],\n",
       "  [8, 8],\n",
       "  [2, 2, 2],\n",
       "  [4, 4, 4],\n",
       "  [6, 6, 6],\n",
       "  [8, 8, 8]])"
      ]
     },
     "execution_count": 24,
     "metadata": {},
     "output_type": "execute_result"
    },
    {
     "data": {
      "text/plain": [
       "(7, [1e-05, 0.0001, 0.001, 0.01, 0.1, 0.5, 1])"
      ]
     },
     "execution_count": 24,
     "metadata": {},
     "output_type": "execute_result"
    }
   ],
   "source": [
    "sizes = [2*i for i in range(1,5)]\n",
    "sizes = sizes + [[2*i,2*i] for i in range(1,5)]\n",
    "sizes = sizes + [[2*i,2*i, 2*i] for i in range(1,5)]\n",
    "\n",
    "len(sizes), sizes\n",
    "\n",
    "\n",
    "decays = [0.00001,0.0001,0.001,0.01,0.1,0.5,1]\n",
    "len(decays), decays[:10] \n",
    "\n"
   ]
  },
  {
   "cell_type": "code",
   "execution_count": 25,
   "metadata": {},
   "outputs": [
    {
     "name": "stdout",
     "output_type": "stream",
     "text": [
      "0:00:58.961832\n"
     ]
    }
   ],
   "source": [
    "init_time=time()\n",
    "model_nnet = MLPClassifier(alpha=0,\n",
    "                           activation='logistic',\n",
    "                           max_iter=500,\n",
    "                           solver='lbfgs',\n",
    "                           random_state=42)\n",
    "\n",
    "trc = GridSearchCV(estimator=model_nnet,\n",
    "                   scoring=['f1_macro', 'precision_macro', 'recall_macro', 'accuracy'],\n",
    "                   param_grid={'hidden_layer_sizes': sizes,\n",
    "                              'alpha': decays},\n",
    "                   cv=10,\n",
    "                   return_train_score=True,\n",
    "                   refit='f1_macro')\n",
    "\n",
    "model_10CV = trc.fit(X_train, y_train)\n",
    "print(timedelta(seconds=(time()-init_time)))"
   ]
  },
  {
   "cell_type": "markdown",
   "metadata": {},
   "source": [
    "Now we can use the results of the cv to decide which is the best parameter configuration.\n",
    "\n",
    "According to the criteria of having the greatest F-score, the winner is architecture layers [2,2]"
   ]
  },
  {
   "cell_type": "code",
   "execution_count": 26,
   "metadata": {},
   "outputs": [
    {
     "data": {
      "text/html": [
       "<div>\n",
       "<style scoped>\n",
       "    .dataframe tbody tr th:only-of-type {\n",
       "        vertical-align: middle;\n",
       "    }\n",
       "\n",
       "    .dataframe tbody tr th {\n",
       "        vertical-align: top;\n",
       "    }\n",
       "\n",
       "    .dataframe thead th {\n",
       "        text-align: right;\n",
       "    }\n",
       "</style>\n",
       "<table border=\"1\" class=\"dataframe\">\n",
       "  <thead>\n",
       "    <tr style=\"text-align: right;\">\n",
       "      <th></th>\n",
       "      <th>param_alpha</th>\n",
       "      <th>param_hidden_layer_sizes</th>\n",
       "      <th>mean_test_f1_macro</th>\n",
       "      <th>std_test_f1_macro</th>\n",
       "      <th>mean_test_precision_macro</th>\n",
       "      <th>std_test_precision_macro</th>\n",
       "      <th>mean_test_accuracy</th>\n",
       "      <th>std_test_accuracy</th>\n",
       "    </tr>\n",
       "  </thead>\n",
       "  <tbody>\n",
       "    <tr>\n",
       "      <th>52</th>\n",
       "      <td>0.1</td>\n",
       "      <td>[2, 2]</td>\n",
       "      <td>0.628</td>\n",
       "      <td>0.110</td>\n",
       "      <td>0.692</td>\n",
       "      <td>0.134</td>\n",
       "      <td>0.732</td>\n",
       "      <td>0.067</td>\n",
       "    </tr>\n",
       "    <tr>\n",
       "      <th>47</th>\n",
       "      <td>0.01</td>\n",
       "      <td>[8, 8, 8]</td>\n",
       "      <td>0.621</td>\n",
       "      <td>0.050</td>\n",
       "      <td>0.642</td>\n",
       "      <td>0.059</td>\n",
       "      <td>0.691</td>\n",
       "      <td>0.045</td>\n",
       "    </tr>\n",
       "    <tr>\n",
       "      <th>13</th>\n",
       "      <td>0.0</td>\n",
       "      <td>4</td>\n",
       "      <td>0.615</td>\n",
       "      <td>0.083</td>\n",
       "      <td>0.629</td>\n",
       "      <td>0.077</td>\n",
       "      <td>0.691</td>\n",
       "      <td>0.055</td>\n",
       "    </tr>\n",
       "    <tr>\n",
       "      <th>53</th>\n",
       "      <td>0.1</td>\n",
       "      <td>[4, 4]</td>\n",
       "      <td>0.599</td>\n",
       "      <td>0.098</td>\n",
       "      <td>0.641</td>\n",
       "      <td>0.125</td>\n",
       "      <td>0.698</td>\n",
       "      <td>0.069</td>\n",
       "    </tr>\n",
       "    <tr>\n",
       "      <th>37</th>\n",
       "      <td>0.01</td>\n",
       "      <td>4</td>\n",
       "      <td>0.596</td>\n",
       "      <td>0.066</td>\n",
       "      <td>0.633</td>\n",
       "      <td>0.075</td>\n",
       "      <td>0.690</td>\n",
       "      <td>0.043</td>\n",
       "    </tr>\n",
       "  </tbody>\n",
       "</table>\n",
       "</div>"
      ],
      "text/plain": [
       "   param_alpha param_hidden_layer_sizes  mean_test_f1_macro  \\\n",
       "52         0.1                   [2, 2]               0.628   \n",
       "47        0.01                [8, 8, 8]               0.621   \n",
       "13         0.0                        4               0.615   \n",
       "53         0.1                   [4, 4]               0.599   \n",
       "37        0.01                        4               0.596   \n",
       "\n",
       "    std_test_f1_macro  mean_test_precision_macro  std_test_precision_macro  \\\n",
       "52              0.110                      0.692                     0.134   \n",
       "47              0.050                      0.642                     0.059   \n",
       "13              0.083                      0.629                     0.077   \n",
       "53              0.098                      0.641                     0.125   \n",
       "37              0.066                      0.633                     0.075   \n",
       "\n",
       "    mean_test_accuracy  std_test_accuracy  \n",
       "52               0.732              0.067  \n",
       "47               0.691              0.045  \n",
       "13               0.691              0.055  \n",
       "53               0.698              0.069  \n",
       "37               0.690              0.043  "
      ]
     },
     "execution_count": 26,
     "metadata": {},
     "output_type": "execute_result"
    }
   ],
   "source": [
    "pd.DataFrame(model_10CV.cv_results_).loc[:,['param_alpha','param_hidden_layer_sizes',  'mean_test_f1_macro', \n",
    "                                            'std_test_f1_macro','mean_test_precision_macro', 'std_test_precision_macro',\n",
    "                                        'mean_test_accuracy','std_test_accuracy',]].sort_values(by='mean_test_f1_macro',\n",
    "                                                                                                ascending=False).head()"
   ]
  },
  {
   "cell_type": "code",
   "execution_count": 27,
   "metadata": {},
   "outputs": [
    {
     "data": {
      "text/plain": [
       "{'alpha': 0.1, 'hidden_layer_sizes': [2, 2]}"
      ]
     },
     "execution_count": 27,
     "metadata": {},
     "output_type": "execute_result"
    }
   ],
   "source": [
    "model_10CV.best_params_"
   ]
  },
  {
   "cell_type": "code",
   "execution_count": 28,
   "metadata": {},
   "outputs": [
    {
     "data": {
      "text/plain": [
       "0.6276606758915622"
      ]
     },
     "execution_count": 28,
     "metadata": {},
     "output_type": "execute_result"
    }
   ],
   "source": [
    "model_10CV.best_score_"
   ]
  },
  {
   "cell_type": "markdown",
   "metadata": {},
   "source": [
    "So,according to our experiments the best parameter configuration would be: \n",
    "* Architecture [2,2]\n",
    "* Alpha 0.1\n",
    "\n",
    "Lets calculate our cross-validation scores of the best model found trained (model_10CV.best_estimator_)."
   ]
  },
  {
   "cell_type": "code",
   "execution_count": 29,
   "metadata": {},
   "outputs": [
    {
     "data": {
      "text/html": [
       "<div>\n",
       "<style scoped>\n",
       "    .dataframe tbody tr th:only-of-type {\n",
       "        vertical-align: middle;\n",
       "    }\n",
       "\n",
       "    .dataframe tbody tr th {\n",
       "        vertical-align: top;\n",
       "    }\n",
       "\n",
       "    .dataframe thead th {\n",
       "        text-align: right;\n",
       "    }\n",
       "</style>\n",
       "<table border=\"1\" class=\"dataframe\">\n",
       "  <thead>\n",
       "    <tr style=\"text-align: right;\">\n",
       "      <th></th>\n",
       "      <th>F-score (cv)</th>\n",
       "      <th>Precision (cv)</th>\n",
       "      <th>Recall (cv)</th>\n",
       "      <th>Accuracy (cv)</th>\n",
       "    </tr>\n",
       "  </thead>\n",
       "  <tbody>\n",
       "    <tr>\n",
       "      <th>MLP[2,2]-alpha=0.1</th>\n",
       "      <td>0.615</td>\n",
       "      <td>0.709</td>\n",
       "      <td>0.612</td>\n",
       "      <td>0.724</td>\n",
       "    </tr>\n",
       "    <tr>\n",
       "      <th>MLP[2,2,2]</th>\n",
       "      <td>0.561</td>\n",
       "      <td>0.629</td>\n",
       "      <td>0.578</td>\n",
       "      <td>0.69</td>\n",
       "    </tr>\n",
       "    <tr>\n",
       "      <th>MLP[1]</th>\n",
       "      <td>0.56</td>\n",
       "      <td>0.655</td>\n",
       "      <td>0.57</td>\n",
       "      <td>0.683</td>\n",
       "    </tr>\n",
       "    <tr>\n",
       "      <th>Logistic Regression</th>\n",
       "      <td>0.554</td>\n",
       "      <td>0.686</td>\n",
       "      <td>0.568</td>\n",
       "      <td>0.698</td>\n",
       "    </tr>\n",
       "    <tr>\n",
       "      <th>MLP[2,2,2]-alpha=0.001</th>\n",
       "      <td>0.504</td>\n",
       "      <td>0.536</td>\n",
       "      <td>0.538</td>\n",
       "      <td>0.679</td>\n",
       "    </tr>\n",
       "  </tbody>\n",
       "</table>\n",
       "</div>"
      ],
      "text/plain": [
       "                       F-score (cv) Precision (cv) Recall (cv) Accuracy (cv)\n",
       "MLP[2,2]-alpha=0.1            0.615          0.709       0.612         0.724\n",
       "MLP[2,2,2]                    0.561          0.629       0.578          0.69\n",
       "MLP[1]                         0.56          0.655        0.57         0.683\n",
       "Logistic Regression           0.554          0.686       0.568         0.698\n",
       "MLP[2,2,2]-alpha=0.001        0.504          0.536       0.538         0.679"
      ]
     },
     "execution_count": 29,
     "metadata": {},
     "output_type": "execute_result"
    }
   ],
   "source": [
    "cross_val_results = pd.DataFrame(cross_validate(model_10CV.best_estimator_ , X_train, y_train, cv = 5, scoring = [ 'f1_macro', 'precision_macro', 'recall_macro', 'accuracy'] ))\n",
    "\n",
    "results_df.loc['MLP[2,2]-alpha=0.1',:] = cross_val_results[['test_f1_macro',\n",
    "       'test_precision_macro', 'test_recall_macro','test_accuracy']].mean().values\n",
    "\n",
    "results_df.sort_values(by='F-score (cv)', ascending=False)"
   ]
  },
  {
   "cell_type": "markdown",
   "metadata": {},
   "source": [
    "The best model according to our metrics is an MLP with two layers and a regularization of 0.1. "
   ]
  },
  {
   "cell_type": "markdown",
   "metadata": {},
   "source": [
    "Finally we obtain our test metrics, which tell us that our model is not generalizing a lot and as problems to predict the minoritary class. Perhaps this suggests that the admissions are done using other criteria not in our data."
   ]
  },
  {
   "cell_type": "code",
   "execution_count": 30,
   "metadata": {},
   "outputs": [
    {
     "data": {
      "text/html": [
       "<div>\n",
       "<style scoped>\n",
       "    .dataframe tbody tr th:only-of-type {\n",
       "        vertical-align: middle;\n",
       "    }\n",
       "\n",
       "    .dataframe tbody tr th {\n",
       "        vertical-align: top;\n",
       "    }\n",
       "\n",
       "    .dataframe thead th {\n",
       "        text-align: right;\n",
       "    }\n",
       "</style>\n",
       "<table border=\"1\" class=\"dataframe\">\n",
       "  <thead>\n",
       "    <tr style=\"text-align: right;\">\n",
       "      <th>predicted</th>\n",
       "      <th>0</th>\n",
       "      <th>1</th>\n",
       "    </tr>\n",
       "    <tr>\n",
       "      <th>target</th>\n",
       "      <th></th>\n",
       "      <th></th>\n",
       "    </tr>\n",
       "  </thead>\n",
       "  <tbody>\n",
       "    <tr>\n",
       "      <th>0</th>\n",
       "      <td>76</td>\n",
       "      <td>14</td>\n",
       "    </tr>\n",
       "    <tr>\n",
       "      <th>1</th>\n",
       "      <td>32</td>\n",
       "      <td>10</td>\n",
       "    </tr>\n",
       "  </tbody>\n",
       "</table>\n",
       "</div>"
      ],
      "text/plain": [
       "predicted   0   1\n",
       "target           \n",
       "0          76  14\n",
       "1          32  10"
      ]
     },
     "execution_count": 30,
     "metadata": {},
     "output_type": "execute_result"
    },
    {
     "name": "stdout",
     "output_type": "stream",
     "text": [
      "              precision    recall  f1-score   support\n",
      "\n",
      "           0       0.70      0.84      0.77        90\n",
      "           1       0.42      0.24      0.30        42\n",
      "\n",
      "    accuracy                           0.65       132\n",
      "   macro avg       0.56      0.54      0.54       132\n",
      "weighted avg       0.61      0.65      0.62       132\n",
      "\n"
     ]
    }
   ],
   "source": [
    "y_pred = model_10CV.predict(X_test)\n",
    "\n",
    "confusion(y_test,y_pred)\n",
    "\n",
    "print(classification_report(y_test, y_pred))"
   ]
  },
  {
   "cell_type": "markdown",
   "metadata": {},
   "source": [
    "## SECTION 2: Labeled Faces in the Wild\n",
    "\n",
    "Now we are going to try the same with a more complex dataset. \n",
    "\n",
    "This dataset contains images in black and white of public personalities. The task is to clasify the images with the proper name. \n",
    "\n",
    "Disclaimer: Even though this is an image dataset we will try it as a full numerical data. It is complex enough for showing MLP with real data and *someone* likes image data."
   ]
  },
  {
   "cell_type": "code",
   "execution_count": 31,
   "metadata": {},
   "outputs": [
    {
     "name": "stdout",
     "output_type": "stream",
     "text": [
      "Total dataset size:\n",
      "n_samples: 1288\n",
      "n_features: 1850\n",
      "n_classes: 7\n"
     ]
    }
   ],
   "source": [
    "lfw_people = fetch_lfw_people(min_faces_per_person=70, resize=0.4)\n",
    "n_samples, h, w = lfw_people.images.shape\n",
    "X = lfw_people.data\n",
    "n_features = X.shape[1]\n",
    "\n",
    "y = lfw_people.target\n",
    "target_names = lfw_people.target_names\n",
    "n_classes = target_names.shape[0]\n",
    "\n",
    "\n",
    "print(\"Total dataset size:\")\n",
    "print(\"n_samples: {}\".format(n_samples))\n",
    "print(\"n_features: {}\".format(n_features))\n",
    "print(\"n_classes: {}\".format(n_classes))"
   ]
  },
  {
   "cell_type": "markdown",
   "metadata": {},
   "source": [
    "### Resampling and metrics\n",
    "\n",
    "We will use the same resampling and pre-processing that on the previous example."
   ]
  },
  {
   "cell_type": "code",
   "execution_count": 32,
   "metadata": {},
   "outputs": [],
   "source": [
    "X_train, X_test, y_train, y_test = train_test_split(\n",
    "    X, y, test_size=0.25, random_state=42)\n",
    "\n",
    "X_train = StandardScaler().fit_transform(X_train)\n",
    "X_test = StandardScaler().fit_transform(X_test)"
   ]
  },
  {
   "cell_type": "markdown",
   "metadata": {},
   "source": [
    "We can see that this dataset is quite big and it has more features than samples. That might be a problem."
   ]
  },
  {
   "cell_type": "code",
   "execution_count": 33,
   "metadata": {
    "scrolled": true
   },
   "outputs": [
    {
     "data": {
      "text/plain": [
       "(966, 1850)"
      ]
     },
     "execution_count": 33,
     "metadata": {},
     "output_type": "execute_result"
    }
   ],
   "source": [
    "X_train.shape"
   ]
  },
  {
   "cell_type": "markdown",
   "metadata": {},
   "source": [
    "Also, we can see that this dataset is quite unbalanced. We could get almost a 40% of accuracy only with a constant model."
   ]
  },
  {
   "cell_type": "code",
   "execution_count": 34,
   "metadata": {},
   "outputs": [
    {
     "data": {
      "text/plain": [
       "<AxesSubplot:ylabel='count'>"
      ]
     },
     "execution_count": 34,
     "metadata": {},
     "output_type": "execute_result"
    },
    {
     "data": {
      "image/png": "[encoded data removed]",
      "text/plain": [
       "<Figure size 432x288 with 1 Axes>"
      ]
     },
     "metadata": {
      "needs_background": "light"
     },
     "output_type": "display_data"
    }
   ],
   "source": [
    "sn.countplot(y_train)"
   ]
  },
  {
   "cell_type": "code",
   "execution_count": 35,
   "metadata": {},
   "outputs": [
    {
     "data": {
      "text/plain": [
       "0.39751552795031053"
      ]
     },
     "execution_count": 35,
     "metadata": {},
     "output_type": "execute_result"
    }
   ],
   "source": [
    "(y_train==3).sum()/len(y_train)"
   ]
  },
  {
   "cell_type": "markdown",
   "metadata": {},
   "source": [
    "We will use the same metrics than on the previous section. \n",
    "Also, we will check how much *Time* is taking our models to train."
   ]
  },
  {
   "cell_type": "code",
   "execution_count": 36,
   "metadata": {},
   "outputs": [
    {
     "data": {
      "text/html": [
       "<div>\n",
       "<style scoped>\n",
       "    .dataframe tbody tr th:only-of-type {\n",
       "        vertical-align: middle;\n",
       "    }\n",
       "\n",
       "    .dataframe tbody tr th {\n",
       "        vertical-align: top;\n",
       "    }\n",
       "\n",
       "    .dataframe thead th {\n",
       "        text-align: right;\n",
       "    }\n",
       "</style>\n",
       "<table border=\"1\" class=\"dataframe\">\n",
       "  <thead>\n",
       "    <tr style=\"text-align: right;\">\n",
       "      <th></th>\n",
       "      <th>F-score (cv)</th>\n",
       "      <th>Precision (cv)</th>\n",
       "      <th>Recall (cv)</th>\n",
       "      <th>Accuracy</th>\n",
       "      <th>Time(s)</th>\n",
       "    </tr>\n",
       "  </thead>\n",
       "  <tbody>\n",
       "    <tr>\n",
       "      <th>KNN</th>\n",
       "      <td>NaN</td>\n",
       "      <td>NaN</td>\n",
       "      <td>NaN</td>\n",
       "      <td>NaN</td>\n",
       "      <td>NaN</td>\n",
       "    </tr>\n",
       "  </tbody>\n",
       "</table>\n",
       "</div>"
      ],
      "text/plain": [
       "    F-score (cv) Precision (cv) Recall (cv) Accuracy Time(s)\n",
       "KNN          NaN            NaN         NaN      NaN     NaN"
      ]
     },
     "execution_count": 36,
     "metadata": {},
     "output_type": "execute_result"
    }
   ],
   "source": [
    "metrics = ['F-score (cv)', 'Precision (cv)','Recall (cv)', 'Accuracy']\n",
    "\n",
    "results_df = pd.DataFrame(index=['KNN'],columns=metrics + ['Time(s)'])\n",
    "results_df"
   ]
  },
  {
   "cell_type": "markdown",
   "metadata": {},
   "source": [
    "### Baseline: KNN\n",
    "\n",
    "We will use knn as a baseline, because is a very fast model to train."
   ]
  },
  {
   "cell_type": "code",
   "execution_count": 37,
   "metadata": {},
   "outputs": [
    {
     "data": {
      "text/plain": [
       "KNeighborsClassifier()"
      ]
     },
     "execution_count": 37,
     "metadata": {},
     "output_type": "execute_result"
    },
    {
     "name": "stdout",
     "output_type": "stream",
     "text": [
      "0:00:00.008618\n"
     ]
    },
    {
     "data": {
      "text/html": [
       "<div>\n",
       "<style scoped>\n",
       "    .dataframe tbody tr th:only-of-type {\n",
       "        vertical-align: middle;\n",
       "    }\n",
       "\n",
       "    .dataframe tbody tr th {\n",
       "        vertical-align: top;\n",
       "    }\n",
       "\n",
       "    .dataframe thead th {\n",
       "        text-align: right;\n",
       "    }\n",
       "</style>\n",
       "<table border=\"1\" class=\"dataframe\">\n",
       "  <thead>\n",
       "    <tr style=\"text-align: right;\">\n",
       "      <th></th>\n",
       "      <th>F-score (cv)</th>\n",
       "      <th>Precision (cv)</th>\n",
       "      <th>Recall (cv)</th>\n",
       "      <th>Accuracy</th>\n",
       "      <th>Time(s)</th>\n",
       "    </tr>\n",
       "  </thead>\n",
       "  <tbody>\n",
       "    <tr>\n",
       "      <th>KNN</th>\n",
       "      <td>0.42</td>\n",
       "      <td>0.508</td>\n",
       "      <td>0.406</td>\n",
       "      <td>0.557</td>\n",
       "      <td>0.009</td>\n",
       "    </tr>\n",
       "  </tbody>\n",
       "</table>\n",
       "</div>"
      ],
      "text/plain": [
       "    F-score (cv) Precision (cv) Recall (cv) Accuracy Time(s)\n",
       "KNN         0.42          0.508       0.406    0.557   0.009"
      ]
     },
     "execution_count": 37,
     "metadata": {},
     "output_type": "execute_result"
    }
   ],
   "source": [
    "init_time = time()\n",
    "myknn = KNeighborsClassifier(n_neighbors=5)\n",
    "myknn.fit(X_train, y_train)\n",
    "\n",
    "training_time = time()-init_time\n",
    "print(timedelta(seconds=training_time))\n",
    "\n",
    "\n",
    "cross_val_results = pd.DataFrame(cross_validate(myknn , X_train, y_train, cv = 5, scoring = [ 'f1_macro', 'precision_macro', 'recall_macro', 'accuracy'] ))\n",
    "\n",
    "results_df.loc['KNN',metrics] = cross_val_results[['test_f1_macro',\n",
    "       'test_precision_macro', 'test_recall_macro','test_accuracy']].mean().values\n",
    "\n",
    "results_df.loc['KNN','Time(s)'] = training_time\n",
    "\n",
    "results_df"
   ]
  },
  {
   "cell_type": "markdown",
   "metadata": {},
   "source": [
    "We obtain quite bad results with this model. Lets see with the MLP. "
   ]
  },
  {
   "cell_type": "markdown",
   "metadata": {},
   "source": [
    "### MLP\n",
    "\n",
    "We are going to use an arbitrary hyperparameter configuration just to see how the model behaves. Is it slow? Is it good?"
   ]
  },
  {
   "cell_type": "code",
   "execution_count": 38,
   "metadata": {},
   "outputs": [
    {
     "data": {
      "text/plain": [
       "MLPClassifier(activation='logistic', alpha=0.01, hidden_layer_sizes=[5],\n",
       "              random_state=42, solver='lbfgs')"
      ]
     },
     "execution_count": 38,
     "metadata": {},
     "output_type": "execute_result"
    },
    {
     "name": "stdout",
     "output_type": "stream",
     "text": [
      "0:00:01.194825\n"
     ]
    },
    {
     "data": {
      "text/html": [
       "<div>\n",
       "<style scoped>\n",
       "    .dataframe tbody tr th:only-of-type {\n",
       "        vertical-align: middle;\n",
       "    }\n",
       "\n",
       "    .dataframe tbody tr th {\n",
       "        vertical-align: top;\n",
       "    }\n",
       "\n",
       "    .dataframe thead th {\n",
       "        text-align: right;\n",
       "    }\n",
       "</style>\n",
       "<table border=\"1\" class=\"dataframe\">\n",
       "  <thead>\n",
       "    <tr style=\"text-align: right;\">\n",
       "      <th></th>\n",
       "      <th>F-score (cv)</th>\n",
       "      <th>Precision (cv)</th>\n",
       "      <th>Recall (cv)</th>\n",
       "      <th>Accuracy</th>\n",
       "      <th>Time(s)</th>\n",
       "    </tr>\n",
       "  </thead>\n",
       "  <tbody>\n",
       "    <tr>\n",
       "      <th>MLP[5]-0.01</th>\n",
       "      <td>0.67</td>\n",
       "      <td>0.681</td>\n",
       "      <td>0.674</td>\n",
       "      <td>0.735</td>\n",
       "      <td>1.195</td>\n",
       "    </tr>\n",
       "    <tr>\n",
       "      <th>KNN</th>\n",
       "      <td>0.42</td>\n",
       "      <td>0.508</td>\n",
       "      <td>0.406</td>\n",
       "      <td>0.557</td>\n",
       "      <td>0.009</td>\n",
       "    </tr>\n",
       "  </tbody>\n",
       "</table>\n",
       "</div>"
      ],
      "text/plain": [
       "            F-score (cv) Precision (cv) Recall (cv) Accuracy Time(s)\n",
       "MLP[5]-0.01         0.67          0.681       0.674    0.735   1.195\n",
       "KNN                 0.42          0.508       0.406    0.557   0.009"
      ]
     },
     "execution_count": 38,
     "metadata": {},
     "output_type": "execute_result"
    }
   ],
   "source": [
    "init_time = time()\n",
    "model_nnet = MLPClassifier(hidden_layer_sizes=[5],\n",
    "                           alpha=0.01,\n",
    "                           activation='logistic',\n",
    "                           max_iter=200,\n",
    "                           solver='lbfgs',random_state=42)\n",
    "model_nnet.fit(X_train,y_train);\n",
    "\n",
    "training_time = time()-init_time\n",
    "print(timedelta(seconds=training_time))\n",
    "\n",
    "cross_val_results = pd.DataFrame(cross_validate(model_nnet , X_train, y_train, cv = 5, \n",
    "                                                scoring = [ 'f1_macro', 'precision_macro', 'recall_macro', 'accuracy'] ))\n",
    "\n",
    "results_df.loc['MLP[5]-0.01',metrics] = cross_val_results[['test_f1_macro',\n",
    "       'test_precision_macro', 'test_recall_macro','test_accuracy']].mean().values\n",
    "\n",
    "results_df.loc['MLP[5]-0.01','Time(s)'] = training_time\n",
    "\n",
    "results_df.sort_values(by='F-score (cv)', ascending=False)"
   ]
  },
  {
   "cell_type": "markdown",
   "metadata": {},
   "source": [
    "It gives better results but it is several times slower than the knn. \n",
    "\n",
    "If we wanted to try different hyperparameters we would need a lot of time. "
   ]
  },
  {
   "cell_type": "markdown",
   "metadata": {},
   "source": [
    "### PCA"
   ]
  },
  {
   "cell_type": "markdown",
   "metadata": {},
   "source": [
    "Lets try another strategy instead. We can use PCA to reduce the dimensionality of the data. This way the training of the model would be faster, and might reduce the noise in the data.\n",
    "\n",
    "\n",
    "First lets see how many components do we need."
   ]
  },
  {
   "cell_type": "code",
   "execution_count": 39,
   "metadata": {
    "scrolled": true
   },
   "outputs": [
    {
     "data": {
      "text/plain": [
       "339"
      ]
     },
     "execution_count": 39,
     "metadata": {},
     "output_type": "execute_result"
    }
   ],
   "source": [
    "pca = PCA().fit(X_train)\n",
    "\n",
    "n_components =(pca.explained_variance_ratio_.cumsum() < 0.99).sum()\n",
    "n_components"
   ]
  },
  {
   "cell_type": "markdown",
   "metadata": {},
   "source": [
    "With just 339 of the variables, we could maintain 99 % of the variance of the data. Thas a huge reduction from the original 1850."
   ]
  },
  {
   "cell_type": "code",
   "execution_count": 40,
   "metadata": {},
   "outputs": [],
   "source": [
    "pca = PCA(n_components=n_components).fit(X_train)\n",
    "\n",
    "X_train_pca = pca.transform(X_train)\n",
    "X_test_pca = pca.transform(X_test)"
   ]
  },
  {
   "cell_type": "markdown",
   "metadata": {},
   "source": [
    "#### KNN\n",
    "Lets see how affects our smaller data to the knn results."
   ]
  },
  {
   "cell_type": "code",
   "execution_count": 41,
   "metadata": {},
   "outputs": [
    {
     "data": {
      "text/plain": [
       "KNeighborsClassifier()"
      ]
     },
     "execution_count": 41,
     "metadata": {},
     "output_type": "execute_result"
    },
    {
     "name": "stdout",
     "output_type": "stream",
     "text": [
      "0:00:00.006685\n"
     ]
    },
    {
     "data": {
      "text/html": [
       "<div>\n",
       "<style scoped>\n",
       "    .dataframe tbody tr th:only-of-type {\n",
       "        vertical-align: middle;\n",
       "    }\n",
       "\n",
       "    .dataframe tbody tr th {\n",
       "        vertical-align: top;\n",
       "    }\n",
       "\n",
       "    .dataframe thead th {\n",
       "        text-align: right;\n",
       "    }\n",
       "</style>\n",
       "<table border=\"1\" class=\"dataframe\">\n",
       "  <thead>\n",
       "    <tr style=\"text-align: right;\">\n",
       "      <th></th>\n",
       "      <th>F-score (cv)</th>\n",
       "      <th>Precision (cv)</th>\n",
       "      <th>Recall (cv)</th>\n",
       "      <th>Accuracy</th>\n",
       "      <th>Time(s)</th>\n",
       "    </tr>\n",
       "  </thead>\n",
       "  <tbody>\n",
       "    <tr>\n",
       "      <th>MLP[5]-0.01</th>\n",
       "      <td>0.67</td>\n",
       "      <td>0.681</td>\n",
       "      <td>0.674</td>\n",
       "      <td>0.735</td>\n",
       "      <td>1.195</td>\n",
       "    </tr>\n",
       "    <tr>\n",
       "      <th>KNN-PCA</th>\n",
       "      <td>0.422</td>\n",
       "      <td>0.508</td>\n",
       "      <td>0.408</td>\n",
       "      <td>0.557</td>\n",
       "      <td>0.007</td>\n",
       "    </tr>\n",
       "    <tr>\n",
       "      <th>KNN</th>\n",
       "      <td>0.42</td>\n",
       "      <td>0.508</td>\n",
       "      <td>0.406</td>\n",
       "      <td>0.557</td>\n",
       "      <td>0.009</td>\n",
       "    </tr>\n",
       "  </tbody>\n",
       "</table>\n",
       "</div>"
      ],
      "text/plain": [
       "            F-score (cv) Precision (cv) Recall (cv) Accuracy Time(s)\n",
       "MLP[5]-0.01         0.67          0.681       0.674    0.735   1.195\n",
       "KNN-PCA            0.422          0.508       0.408    0.557   0.007\n",
       "KNN                 0.42          0.508       0.406    0.557   0.009"
      ]
     },
     "execution_count": 41,
     "metadata": {},
     "output_type": "execute_result"
    }
   ],
   "source": [
    "init_time = time()\n",
    "myknn = KNeighborsClassifier(n_neighbors=5)\n",
    "myknn.fit(X_train_pca, y_train)\n",
    "\n",
    "training_time = time()-init_time\n",
    "print(timedelta(seconds=training_time))\n",
    "\n",
    "cross_val_results = pd.DataFrame(cross_validate(myknn , X_train_pca, y_train, cv = 5, scoring = [ 'f1_macro', 'precision_macro', 'recall_macro', 'accuracy'] ))\n",
    "\n",
    "results_df.loc['KNN-PCA',metrics] = cross_val_results[['test_f1_macro',\n",
    "       'test_precision_macro', 'test_recall_macro','test_accuracy']].mean().values\n",
    "\n",
    "results_df.loc['KNN-PCA','Time(s)'] = training_time\n",
    "\n",
    "results_df.sort_values(by='F-score (cv)', ascending=False)"
   ]
  },
  {
   "cell_type": "markdown",
   "metadata": {},
   "source": [
    "We are obtaining the same results with a fraction of the time. This is a good sign."
   ]
  },
  {
   "cell_type": "markdown",
   "metadata": {},
   "source": [
    "#### MLP\n"
   ]
  },
  {
   "cell_type": "code",
   "execution_count": 42,
   "metadata": {},
   "outputs": [
    {
     "data": {
      "text/plain": [
       "MLPClassifier(activation='logistic', alpha=0.01, hidden_layer_sizes=[5],\n",
       "              random_state=42, solver='lbfgs')"
      ]
     },
     "execution_count": 42,
     "metadata": {},
     "output_type": "execute_result"
    },
    {
     "name": "stdout",
     "output_type": "stream",
     "text": [
      "0:00:00.386152\n"
     ]
    },
    {
     "data": {
      "text/html": [
       "<div>\n",
       "<style scoped>\n",
       "    .dataframe tbody tr th:only-of-type {\n",
       "        vertical-align: middle;\n",
       "    }\n",
       "\n",
       "    .dataframe tbody tr th {\n",
       "        vertical-align: top;\n",
       "    }\n",
       "\n",
       "    .dataframe thead th {\n",
       "        text-align: right;\n",
       "    }\n",
       "</style>\n",
       "<table border=\"1\" class=\"dataframe\">\n",
       "  <thead>\n",
       "    <tr style=\"text-align: right;\">\n",
       "      <th></th>\n",
       "      <th>F-score (cv)</th>\n",
       "      <th>Precision (cv)</th>\n",
       "      <th>Recall (cv)</th>\n",
       "      <th>Accuracy</th>\n",
       "      <th>Time(s)</th>\n",
       "    </tr>\n",
       "  </thead>\n",
       "  <tbody>\n",
       "    <tr>\n",
       "      <th>MLP[5]-0.01</th>\n",
       "      <td>0.67</td>\n",
       "      <td>0.681</td>\n",
       "      <td>0.674</td>\n",
       "      <td>0.735</td>\n",
       "      <td>1.195</td>\n",
       "    </tr>\n",
       "    <tr>\n",
       "      <th>MLP[5]-0.01-PCA</th>\n",
       "      <td>0.637</td>\n",
       "      <td>0.659</td>\n",
       "      <td>0.638</td>\n",
       "      <td>0.727</td>\n",
       "      <td>0.386</td>\n",
       "    </tr>\n",
       "    <tr>\n",
       "      <th>KNN-PCA</th>\n",
       "      <td>0.422</td>\n",
       "      <td>0.508</td>\n",
       "      <td>0.408</td>\n",
       "      <td>0.557</td>\n",
       "      <td>0.007</td>\n",
       "    </tr>\n",
       "    <tr>\n",
       "      <th>KNN</th>\n",
       "      <td>0.42</td>\n",
       "      <td>0.508</td>\n",
       "      <td>0.406</td>\n",
       "      <td>0.557</td>\n",
       "      <td>0.009</td>\n",
       "    </tr>\n",
       "  </tbody>\n",
       "</table>\n",
       "</div>"
      ],
      "text/plain": [
       "                F-score (cv) Precision (cv) Recall (cv) Accuracy Time(s)\n",
       "MLP[5]-0.01             0.67          0.681       0.674    0.735   1.195\n",
       "MLP[5]-0.01-PCA        0.637          0.659       0.638    0.727   0.386\n",
       "KNN-PCA                0.422          0.508       0.408    0.557   0.007\n",
       "KNN                     0.42          0.508       0.406    0.557   0.009"
      ]
     },
     "execution_count": 42,
     "metadata": {},
     "output_type": "execute_result"
    }
   ],
   "source": [
    "init_time = time()\n",
    "model_nnet = MLPClassifier(hidden_layer_sizes=[5],\n",
    "                           alpha=0.01,\n",
    "                           activation='logistic',\n",
    "                           max_iter=200,\n",
    "                           solver='lbfgs',random_state=42)\n",
    "model_nnet.fit(X_train_pca,y_train);\n",
    "\n",
    "training_time = time()-init_time\n",
    "print(timedelta(seconds=training_time))\n",
    "\n",
    "\n",
    "cross_val_results = pd.DataFrame(cross_validate(model_nnet , X_train_pca, y_train, cv = 5, \n",
    "                                                scoring = [ 'f1_macro', 'precision_macro', 'recall_macro', 'accuracy'] ))\n",
    "\n",
    "results_df.loc['MLP[5]-0.01-PCA',metrics] = cross_val_results[['test_f1_macro',\n",
    "       'test_precision_macro', 'test_recall_macro','test_accuracy']].mean().values\n",
    "\n",
    "results_df.loc['MLP[5]-0.01-PCA','Time(s)'] = training_time\n",
    "\n",
    "results_df.sort_values(by='F-score (cv)', ascending=False)"
   ]
  },
  {
   "cell_type": "markdown",
   "metadata": {},
   "source": [
    "The MLP has lost a bit on our metrics but is faster, now we can try to improve its results using cross-validation.\n",
    "\n",
    "We will use the firs technique that we comented before, as the model takes longer to train. "
   ]
  },
  {
   "cell_type": "code",
   "execution_count": 43,
   "metadata": {},
   "outputs": [
    {
     "data": {
      "text/plain": [
       "[2, 4, 6, [2, 2], [4, 4], [6, 6]]"
      ]
     },
     "execution_count": 43,
     "metadata": {},
     "output_type": "execute_result"
    }
   ],
   "source": [
    "sizes = [2*i for i in range(1,4)]\n",
    "sizes = sizes + [[2*i,2*i] for i in range(1,4)]\n",
    "sizes"
   ]
  },
  {
   "cell_type": "markdown",
   "metadata": {},
   "source": [
    "If we do 5-cv with 6 layer configuration and we spend 1.5 seconds with each training, we *should* spend approximately 45 seconds with the CV process. If all the architectures took the same time to train. \n",
    "\n",
    "If we had done it without the pca we would take more than two minutes. \n",
    "\n",
    "Note that these times where computed with my machine, it will probably change depending on your computer."
   ]
  },
  {
   "cell_type": "code",
   "execution_count": 44,
   "metadata": {},
   "outputs": [
    {
     "data": {
      "text/plain": [
       "0.6593068154744219"
      ]
     },
     "execution_count": 44,
     "metadata": {},
     "output_type": "execute_result"
    },
    {
     "data": {
      "text/plain": [
       "{'hidden_layer_sizes': 6}"
      ]
     },
     "execution_count": 44,
     "metadata": {},
     "output_type": "execute_result"
    },
    {
     "name": "stdout",
     "output_type": "stream",
     "text": [
      "0:00:19.294319\n"
     ]
    }
   ],
   "source": [
    "init_time = time()\n",
    "\n",
    "model_nnet = MLPClassifier(alpha=0,\n",
    "                           activation='logistic',\n",
    "                           hidden_layer_sizes=2,\n",
    "                           max_iter=500,\n",
    "                           solver='lbfgs',random_state=42)\n",
    "\n",
    "trc = GridSearchCV(estimator=model_nnet, \n",
    "                   param_grid ={'hidden_layer_sizes':sizes},\n",
    "                   scoring=['f1_macro',\n",
    "       'precision_macro', 'recall_macro','accuracy'],\n",
    "                   cv=5,\n",
    "                   return_train_score=True,\n",
    "                  refit='f1_macro')\n",
    "model_5CV = trc.fit(X_train_pca,y_train)\n",
    "model_5CV.best_score_\n",
    "model_5CV.best_params_\n",
    "print(timedelta(seconds=(time()-init_time)))"
   ]
  },
  {
   "cell_type": "markdown",
   "metadata": {},
   "source": [
    "It took almost 1:21 minutes. \n",
    "\n",
    "The best architecture found is [6]"
   ]
  },
  {
   "cell_type": "code",
   "execution_count": 45,
   "metadata": {},
   "outputs": [
    {
     "data": {
      "text/html": [
       "<div>\n",
       "<style scoped>\n",
       "    .dataframe tbody tr th:only-of-type {\n",
       "        vertical-align: middle;\n",
       "    }\n",
       "\n",
       "    .dataframe tbody tr th {\n",
       "        vertical-align: top;\n",
       "    }\n",
       "\n",
       "    .dataframe thead th {\n",
       "        text-align: right;\n",
       "    }\n",
       "</style>\n",
       "<table border=\"1\" class=\"dataframe\">\n",
       "  <thead>\n",
       "    <tr style=\"text-align: right;\">\n",
       "      <th></th>\n",
       "      <th>mean_fit_time</th>\n",
       "      <th>param_hidden_layer_sizes</th>\n",
       "      <th>mean_test_f1_macro</th>\n",
       "      <th>mean_test_precision_macro</th>\n",
       "      <th>mean_test_recall_macro</th>\n",
       "      <th>mean_test_accuracy</th>\n",
       "    </tr>\n",
       "  </thead>\n",
       "  <tbody>\n",
       "    <tr>\n",
       "      <th>2</th>\n",
       "      <td>0.643</td>\n",
       "      <td>6</td>\n",
       "      <td>0.659</td>\n",
       "      <td>0.676</td>\n",
       "      <td>0.663</td>\n",
       "      <td>0.730</td>\n",
       "    </tr>\n",
       "    <tr>\n",
       "      <th>1</th>\n",
       "      <td>0.549</td>\n",
       "      <td>4</td>\n",
       "      <td>0.600</td>\n",
       "      <td>0.615</td>\n",
       "      <td>0.621</td>\n",
       "      <td>0.690</td>\n",
       "    </tr>\n",
       "    <tr>\n",
       "      <th>5</th>\n",
       "      <td>0.715</td>\n",
       "      <td>[6, 6]</td>\n",
       "      <td>0.507</td>\n",
       "      <td>0.501</td>\n",
       "      <td>0.532</td>\n",
       "      <td>0.629</td>\n",
       "    </tr>\n",
       "    <tr>\n",
       "      <th>4</th>\n",
       "      <td>0.645</td>\n",
       "      <td>[4, 4]</td>\n",
       "      <td>0.488</td>\n",
       "      <td>0.485</td>\n",
       "      <td>0.516</td>\n",
       "      <td>0.640</td>\n",
       "    </tr>\n",
       "    <tr>\n",
       "      <th>3</th>\n",
       "      <td>0.594</td>\n",
       "      <td>[2, 2]</td>\n",
       "      <td>0.328</td>\n",
       "      <td>0.323</td>\n",
       "      <td>0.404</td>\n",
       "      <td>0.543</td>\n",
       "    </tr>\n",
       "    <tr>\n",
       "      <th>0</th>\n",
       "      <td>0.542</td>\n",
       "      <td>2</td>\n",
       "      <td>0.304</td>\n",
       "      <td>0.296</td>\n",
       "      <td>0.361</td>\n",
       "      <td>0.579</td>\n",
       "    </tr>\n",
       "  </tbody>\n",
       "</table>\n",
       "</div>"
      ],
      "text/plain": [
       "   mean_fit_time param_hidden_layer_sizes  mean_test_f1_macro  \\\n",
       "2          0.643                        6               0.659   \n",
       "1          0.549                        4               0.600   \n",
       "5          0.715                   [6, 6]               0.507   \n",
       "4          0.645                   [4, 4]               0.488   \n",
       "3          0.594                   [2, 2]               0.328   \n",
       "0          0.542                        2               0.304   \n",
       "\n",
       "   mean_test_precision_macro  mean_test_recall_macro  mean_test_accuracy  \n",
       "2                      0.676                   0.663               0.730  \n",
       "1                      0.615                   0.621               0.690  \n",
       "5                      0.501                   0.532               0.629  \n",
       "4                      0.485                   0.516               0.640  \n",
       "3                      0.323                   0.404               0.543  \n",
       "0                      0.296                   0.361               0.579  "
      ]
     },
     "execution_count": 45,
     "metadata": {},
     "output_type": "execute_result"
    }
   ],
   "source": [
    "pd.DataFrame(model_5CV.cv_results_).loc[:,['mean_fit_time','param_hidden_layer_sizes', 'mean_test_f1_macro',\n",
    "       'mean_test_precision_macro', 'mean_test_recall_macro','mean_test_accuracy']].sort_values(by='mean_test_f1_macro',ascending=False)"
   ]
  },
  {
   "cell_type": "markdown",
   "metadata": {},
   "source": [
    "We can see that each training took more time than the one we used to estimate. This might be because the number of neurons of the architectures. "
   ]
  },
  {
   "cell_type": "markdown",
   "metadata": {},
   "source": [
    "Now lets see the decays."
   ]
  },
  {
   "cell_type": "code",
   "execution_count": 46,
   "metadata": {
    "scrolled": true
   },
   "outputs": [
    {
     "data": {
      "text/plain": [
       "[0, 10, 1, 0.1, 0.01, 0.001]"
      ]
     },
     "execution_count": 46,
     "metadata": {},
     "output_type": "execute_result"
    }
   ],
   "source": [
    "decays = [0, 10, 1, 0.1, 0.01, 0.001]\n",
    "decays"
   ]
  },
  {
   "cell_type": "code",
   "execution_count": 47,
   "metadata": {},
   "outputs": [
    {
     "data": {
      "text/plain": [
       "0.7844969531414708"
      ]
     },
     "execution_count": 47,
     "metadata": {},
     "output_type": "execute_result"
    },
    {
     "data": {
      "text/plain": [
       "{'alpha': 1}"
      ]
     },
     "execution_count": 47,
     "metadata": {},
     "output_type": "execute_result"
    },
    {
     "name": "stdout",
     "output_type": "stream",
     "text": [
      "0:00:19.582486\n"
     ]
    }
   ],
   "source": [
    "init_time = time()\n",
    "\n",
    "model_nnet = MLPClassifier(alpha=0,\n",
    "                           activation='logistic',\n",
    "                           hidden_layer_sizes=[6],\n",
    "                           max_iter=500,\n",
    "                           solver='lbfgs',random_state=42)\n",
    "\n",
    "trc = GridSearchCV(estimator=model_nnet, \n",
    "                   param_grid ={'alpha': decays},\n",
    "                   scoring=['f1_macro', 'precision_macro', 'recall_macro','accuracy'],\n",
    "                   cv=5,\n",
    "                   return_train_score=True,\n",
    "                  refit='f1_macro')\n",
    "model_5CV = trc.fit(X_train_pca,y_train)\n",
    "model_5CV.best_score_\n",
    "model_5CV.best_params_\n",
    "print(timedelta(seconds=(time()-init_time)))"
   ]
  },
  {
   "cell_type": "code",
   "execution_count": 48,
   "metadata": {},
   "outputs": [
    {
     "data": {
      "text/html": [
       "<div>\n",
       "<style scoped>\n",
       "    .dataframe tbody tr th:only-of-type {\n",
       "        vertical-align: middle;\n",
       "    }\n",
       "\n",
       "    .dataframe tbody tr th {\n",
       "        vertical-align: top;\n",
       "    }\n",
       "\n",
       "    .dataframe thead th {\n",
       "        text-align: right;\n",
       "    }\n",
       "</style>\n",
       "<table border=\"1\" class=\"dataframe\">\n",
       "  <thead>\n",
       "    <tr style=\"text-align: right;\">\n",
       "      <th></th>\n",
       "      <th>mean_fit_time</th>\n",
       "      <th>param_alpha</th>\n",
       "      <th>mean_test_f1_macro</th>\n",
       "      <th>mean_test_precision_macro</th>\n",
       "      <th>mean_test_recall_macro</th>\n",
       "      <th>mean_test_accuracy</th>\n",
       "    </tr>\n",
       "  </thead>\n",
       "  <tbody>\n",
       "    <tr>\n",
       "      <th>2</th>\n",
       "      <td>0.640</td>\n",
       "      <td>1</td>\n",
       "      <td>0.784</td>\n",
       "      <td>0.814</td>\n",
       "      <td>0.770</td>\n",
       "      <td>0.823</td>\n",
       "    </tr>\n",
       "    <tr>\n",
       "      <th>1</th>\n",
       "      <td>0.533</td>\n",
       "      <td>10</td>\n",
       "      <td>0.765</td>\n",
       "      <td>0.819</td>\n",
       "      <td>0.740</td>\n",
       "      <td>0.817</td>\n",
       "    </tr>\n",
       "    <tr>\n",
       "      <th>3</th>\n",
       "      <td>0.628</td>\n",
       "      <td>0.1</td>\n",
       "      <td>0.744</td>\n",
       "      <td>0.755</td>\n",
       "      <td>0.739</td>\n",
       "      <td>0.788</td>\n",
       "    </tr>\n",
       "    <tr>\n",
       "      <th>4</th>\n",
       "      <td>0.629</td>\n",
       "      <td>0.01</td>\n",
       "      <td>0.685</td>\n",
       "      <td>0.702</td>\n",
       "      <td>0.686</td>\n",
       "      <td>0.752</td>\n",
       "    </tr>\n",
       "    <tr>\n",
       "      <th>5</th>\n",
       "      <td>0.623</td>\n",
       "      <td>0.001</td>\n",
       "      <td>0.678</td>\n",
       "      <td>0.699</td>\n",
       "      <td>0.676</td>\n",
       "      <td>0.748</td>\n",
       "    </tr>\n",
       "    <tr>\n",
       "      <th>0</th>\n",
       "      <td>0.695</td>\n",
       "      <td>0</td>\n",
       "      <td>0.659</td>\n",
       "      <td>0.676</td>\n",
       "      <td>0.663</td>\n",
       "      <td>0.730</td>\n",
       "    </tr>\n",
       "  </tbody>\n",
       "</table>\n",
       "</div>"
      ],
      "text/plain": [
       "   mean_fit_time param_alpha  mean_test_f1_macro  mean_test_precision_macro  \\\n",
       "2          0.640           1               0.784                      0.814   \n",
       "1          0.533          10               0.765                      0.819   \n",
       "3          0.628         0.1               0.744                      0.755   \n",
       "4          0.629        0.01               0.685                      0.702   \n",
       "5          0.623       0.001               0.678                      0.699   \n",
       "0          0.695           0               0.659                      0.676   \n",
       "\n",
       "   mean_test_recall_macro  mean_test_accuracy  \n",
       "2                   0.770               0.823  \n",
       "1                   0.740               0.817  \n",
       "3                   0.739               0.788  \n",
       "4                   0.686               0.752  \n",
       "5                   0.676               0.748  \n",
       "0                   0.663               0.730  "
      ]
     },
     "execution_count": 48,
     "metadata": {},
     "output_type": "execute_result"
    }
   ],
   "source": [
    "pd.DataFrame(model_5CV.cv_results_).loc[:,['mean_fit_time','param_alpha', 'mean_test_f1_macro',\n",
    "       'mean_test_precision_macro', 'mean_test_recall_macro','mean_test_accuracy']].sort_values(by='mean_test_f1_macro',ascending=False)"
   ]
  },
  {
   "cell_type": "markdown",
   "metadata": {},
   "source": [
    "Now that we have found our best MLP (among these configurations). Lets check it."
   ]
  },
  {
   "cell_type": "code",
   "execution_count": 49,
   "metadata": {},
   "outputs": [
    {
     "data": {
      "text/plain": [
       "MLPClassifier(activation='logistic', alpha=1, hidden_layer_sizes=[6],\n",
       "              random_state=42, solver='lbfgs')"
      ]
     },
     "execution_count": 49,
     "metadata": {},
     "output_type": "execute_result"
    },
    {
     "name": "stdout",
     "output_type": "stream",
     "text": [
      "0:00:00.302895\n"
     ]
    },
    {
     "data": {
      "text/html": [
       "<div>\n",
       "<style scoped>\n",
       "    .dataframe tbody tr th:only-of-type {\n",
       "        vertical-align: middle;\n",
       "    }\n",
       "\n",
       "    .dataframe tbody tr th {\n",
       "        vertical-align: top;\n",
       "    }\n",
       "\n",
       "    .dataframe thead th {\n",
       "        text-align: right;\n",
       "    }\n",
       "</style>\n",
       "<table border=\"1\" class=\"dataframe\">\n",
       "  <thead>\n",
       "    <tr style=\"text-align: right;\">\n",
       "      <th></th>\n",
       "      <th>F-score (cv)</th>\n",
       "      <th>Precision (cv)</th>\n",
       "      <th>Recall (cv)</th>\n",
       "      <th>Accuracy</th>\n",
       "      <th>Time(s)</th>\n",
       "    </tr>\n",
       "  </thead>\n",
       "  <tbody>\n",
       "    <tr>\n",
       "      <th>MLP[6]-1-PCA</th>\n",
       "      <td>0.786</td>\n",
       "      <td>0.809</td>\n",
       "      <td>0.775</td>\n",
       "      <td>0.823</td>\n",
       "      <td>0.303</td>\n",
       "    </tr>\n",
       "    <tr>\n",
       "      <th>MLP[5]-0.01</th>\n",
       "      <td>0.67</td>\n",
       "      <td>0.681</td>\n",
       "      <td>0.674</td>\n",
       "      <td>0.735</td>\n",
       "      <td>1.195</td>\n",
       "    </tr>\n",
       "    <tr>\n",
       "      <th>MLP[5]-0.01-PCA</th>\n",
       "      <td>0.637</td>\n",
       "      <td>0.659</td>\n",
       "      <td>0.638</td>\n",
       "      <td>0.727</td>\n",
       "      <td>0.386</td>\n",
       "    </tr>\n",
       "    <tr>\n",
       "      <th>KNN-PCA</th>\n",
       "      <td>0.422</td>\n",
       "      <td>0.508</td>\n",
       "      <td>0.408</td>\n",
       "      <td>0.557</td>\n",
       "      <td>0.007</td>\n",
       "    </tr>\n",
       "    <tr>\n",
       "      <th>KNN</th>\n",
       "      <td>0.42</td>\n",
       "      <td>0.508</td>\n",
       "      <td>0.406</td>\n",
       "      <td>0.557</td>\n",
       "      <td>0.009</td>\n",
       "    </tr>\n",
       "  </tbody>\n",
       "</table>\n",
       "</div>"
      ],
      "text/plain": [
       "                F-score (cv) Precision (cv) Recall (cv) Accuracy Time(s)\n",
       "MLP[6]-1-PCA           0.786          0.809       0.775    0.823   0.303\n",
       "MLP[5]-0.01             0.67          0.681       0.674    0.735   1.195\n",
       "MLP[5]-0.01-PCA        0.637          0.659       0.638    0.727   0.386\n",
       "KNN-PCA                0.422          0.508       0.408    0.557   0.007\n",
       "KNN                     0.42          0.508       0.406    0.557   0.009"
      ]
     },
     "execution_count": 49,
     "metadata": {},
     "output_type": "execute_result"
    }
   ],
   "source": [
    "init_time = time()\n",
    "model_nnet = MLPClassifier(hidden_layer_sizes=[6],\n",
    "                           alpha=1,\n",
    "                           activation='logistic',\n",
    "                           max_iter=200,\n",
    "                           solver='lbfgs',random_state=42)\n",
    "model_nnet.fit(X_train_pca,y_train);\n",
    "\n",
    "training_time = time()-init_time\n",
    "print(timedelta(seconds=training_time))\n",
    "\n",
    "cross_val_results = pd.DataFrame(cross_validate(model_nnet , X_train_pca, y_train, cv = 5, scoring = [ 'f1_macro', 'precision_macro', 'recall_macro', 'accuracy'] ))\n",
    "\n",
    "results_df.loc['MLP[6]-1-PCA',metrics] = cross_val_results[['test_f1_macro',\n",
    "       'test_precision_macro', 'test_recall_macro','test_accuracy']].mean().values\n",
    "\n",
    "results_df.loc['MLP[6]-1-PCA','Time(s)'] = training_time\n",
    "\n",
    "results_df.sort_values(by='F-score (cv)', ascending=False)\n"
   ]
  },
  {
   "cell_type": "markdown",
   "metadata": {},
   "source": [
    "Now that we have choosen our best model. We can check if it generalizes using the test set."
   ]
  },
  {
   "cell_type": "code",
   "execution_count": 50,
   "metadata": {},
   "outputs": [
    {
     "data": {
      "text/html": [
       "<div>\n",
       "<style scoped>\n",
       "    .dataframe tbody tr th:only-of-type {\n",
       "        vertical-align: middle;\n",
       "    }\n",
       "\n",
       "    .dataframe tbody tr th {\n",
       "        vertical-align: top;\n",
       "    }\n",
       "\n",
       "    .dataframe thead th {\n",
       "        text-align: right;\n",
       "    }\n",
       "</style>\n",
       "<table border=\"1\" class=\"dataframe\">\n",
       "  <thead>\n",
       "    <tr style=\"text-align: right;\">\n",
       "      <th>predicted</th>\n",
       "      <th>Ariel Sharon</th>\n",
       "      <th>Colin Powell</th>\n",
       "      <th>Donald Rumsfeld</th>\n",
       "      <th>George W Bush</th>\n",
       "      <th>Gerhard Schroeder</th>\n",
       "      <th>Hugo Chavez</th>\n",
       "      <th>Tony Blair</th>\n",
       "    </tr>\n",
       "    <tr>\n",
       "      <th>target</th>\n",
       "      <th></th>\n",
       "      <th></th>\n",
       "      <th></th>\n",
       "      <th></th>\n",
       "      <th></th>\n",
       "      <th></th>\n",
       "      <th></th>\n",
       "    </tr>\n",
       "  </thead>\n",
       "  <tbody>\n",
       "    <tr>\n",
       "      <th>Ariel Sharon</th>\n",
       "      <td>8</td>\n",
       "      <td>1</td>\n",
       "      <td>3</td>\n",
       "      <td>1</td>\n",
       "      <td>0</td>\n",
       "      <td>0</td>\n",
       "      <td>0</td>\n",
       "    </tr>\n",
       "    <tr>\n",
       "      <th>Colin Powell</th>\n",
       "      <td>2</td>\n",
       "      <td>52</td>\n",
       "      <td>3</td>\n",
       "      <td>2</td>\n",
       "      <td>0</td>\n",
       "      <td>1</td>\n",
       "      <td>0</td>\n",
       "    </tr>\n",
       "    <tr>\n",
       "      <th>Donald Rumsfeld</th>\n",
       "      <td>1</td>\n",
       "      <td>1</td>\n",
       "      <td>20</td>\n",
       "      <td>3</td>\n",
       "      <td>2</td>\n",
       "      <td>0</td>\n",
       "      <td>0</td>\n",
       "    </tr>\n",
       "    <tr>\n",
       "      <th>George W Bush</th>\n",
       "      <td>1</td>\n",
       "      <td>8</td>\n",
       "      <td>4</td>\n",
       "      <td>126</td>\n",
       "      <td>2</td>\n",
       "      <td>1</td>\n",
       "      <td>4</td>\n",
       "    </tr>\n",
       "    <tr>\n",
       "      <th>Gerhard Schroeder</th>\n",
       "      <td>0</td>\n",
       "      <td>1</td>\n",
       "      <td>0</td>\n",
       "      <td>0</td>\n",
       "      <td>20</td>\n",
       "      <td>2</td>\n",
       "      <td>2</td>\n",
       "    </tr>\n",
       "    <tr>\n",
       "      <th>Hugo Chavez</th>\n",
       "      <td>0</td>\n",
       "      <td>2</td>\n",
       "      <td>0</td>\n",
       "      <td>2</td>\n",
       "      <td>3</td>\n",
       "      <td>7</td>\n",
       "      <td>1</td>\n",
       "    </tr>\n",
       "    <tr>\n",
       "      <th>Tony Blair</th>\n",
       "      <td>0</td>\n",
       "      <td>2</td>\n",
       "      <td>1</td>\n",
       "      <td>2</td>\n",
       "      <td>3</td>\n",
       "      <td>1</td>\n",
       "      <td>27</td>\n",
       "    </tr>\n",
       "  </tbody>\n",
       "</table>\n",
       "</div>"
      ],
      "text/plain": [
       "predicted          Ariel Sharon  Colin Powell  Donald Rumsfeld  George W Bush  \\\n",
       "target                                                                          \n",
       "Ariel Sharon                  8             1                3              1   \n",
       "Colin Powell                  2            52                3              2   \n",
       "Donald Rumsfeld               1             1               20              3   \n",
       "George W Bush                 1             8                4            126   \n",
       "Gerhard Schroeder             0             1                0              0   \n",
       "Hugo Chavez                   0             2                0              2   \n",
       "Tony Blair                    0             2                1              2   \n",
       "\n",
       "predicted          Gerhard Schroeder  Hugo Chavez  Tony Blair  \n",
       "target                                                         \n",
       "Ariel Sharon                       0            0           0  \n",
       "Colin Powell                       0            1           0  \n",
       "Donald Rumsfeld                    2            0           0  \n",
       "George W Bush                      2            1           4  \n",
       "Gerhard Schroeder                 20            2           2  \n",
       "Hugo Chavez                        3            7           1  \n",
       "Tony Blair                         3            1          27  "
      ]
     },
     "execution_count": 50,
     "metadata": {},
     "output_type": "execute_result"
    },
    {
     "name": "stdout",
     "output_type": "stream",
     "text": [
      "                   precision    recall  f1-score   support\n",
      "\n",
      "     Ariel Sharon       0.67      0.62      0.64        13\n",
      "     Colin Powell       0.78      0.87      0.82        60\n",
      "  Donald Rumsfeld       0.65      0.74      0.69        27\n",
      "    George W Bush       0.93      0.86      0.89       146\n",
      "Gerhard Schroeder       0.67      0.80      0.73        25\n",
      "      Hugo Chavez       0.58      0.47      0.52        15\n",
      "       Tony Blair       0.79      0.75      0.77        36\n",
      "\n",
      "         accuracy                           0.81       322\n",
      "        macro avg       0.72      0.73      0.72       322\n",
      "     weighted avg       0.81      0.81      0.81       322\n",
      "\n"
     ]
    }
   ],
   "source": [
    "\n",
    "y_pred = model_nnet.predict(X_test_pca)\n",
    "\n",
    "y_test = pd.Series(y_test).map({i:t for i,t in enumerate(target_names)})\n",
    "y_pred = pd.Series(y_pred).map({i:t for i,t in enumerate(target_names)})\n",
    "\n",
    "confusion(y_test,y_pred)\n",
    "\n",
    "print(classification_report(y_test,y_pred))"
   ]
  },
  {
   "cell_type": "markdown",
   "metadata": {},
   "source": [
    "We have obtained quite good results, and the model generalizes so it also predicts acurately on the test set."
   ]
  }
 ],
 "metadata": {
  "kernelspec": {
   "display_name": "Python 3 (ipykernel)",
   "language": "python",
   "name": "python3"
  },
  "language_info": {
   "codemirror_mode": {
    "name": "ipython",
    "version": 3
   },
   "file_extension": ".py",
   "mimetype": "text/x-python",
   "name": "python",
   "nbconvert_exporter": "python",
   "pygments_lexer": "ipython3",
   "version": "3.8.13"
  },
  "toc": {
   "base_numbering": 1,
   "nav_menu": {},
   "number_sections": true,
   "sideBar": true,
   "skip_h1_title": false,
   "title_cell": "Table of Contents",
   "title_sidebar": "Contents",
   "toc_cell": false,
   "toc_position": {
    "height": "calc(100% - 180px)",
    "left": "10px",
    "top": "150px",
    "width": "272px"
   },
   "toc_section_display": true,
   "toc_window_display": true
  }
 },
 "nbformat": 4,
 "nbformat_minor": 4
}
