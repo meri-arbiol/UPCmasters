{
 "cells": [
  {
   "cell_type": "markdown",
   "metadata": {},
   "source": [
    "# ML lab 07\n",
    "\n",
    "# Neural Networks"
   ]
  },
  {
   "cell_type": "code",
   "execution_count": 1,
   "metadata": {},
   "outputs": [],
   "source": [
    "# Uncomment to upgrade packages\n",
    "# !pip install pandas --upgrade --user --quiet\n",
    "# !pip install numpy --upgrade --user --quiet\n",
    "# !pip install scipy --upgrade --user --quiet\n",
    "# !pip install statsmodels --upgrade --user --quiet\n",
    "# !pip install scikit-learn --upgrade --user --quiet\n",
    "# !pip3 install graphviz --upgrade --user --quiet\n",
    "# If you are in windows use: conda install python-graphviz\n",
    "%load_ext autoreload"
   ]
  },
  {
   "cell_type": "code",
   "execution_count": 2,
   "metadata": {},
   "outputs": [],
   "source": [
    "import warnings\n",
    "warnings.filterwarnings('ignore')"
   ]
  },
  {
   "cell_type": "code",
   "execution_count": 3,
   "metadata": {},
   "outputs": [],
   "source": [
    "#%matplotlib notebook\n",
    "import numpy as np\n",
    "import matplotlib.pyplot as plt\n",
    "import seaborn as sn\n",
    "import pandas as pd\n",
    "from IPython.core.interactiveshell import InteractiveShell\n",
    "pd.set_option('precision', 3)\n",
    "InteractiveShell.ast_node_interactivity = \"all\""
   ]
  },
  {
   "cell_type": "code",
   "execution_count": 4,
   "metadata": {},
   "outputs": [],
   "source": [
    "# Extra imports\n",
    "from sklearn.metrics import confusion_matrix,\\\n",
    "                classification_report, accuracy_score\n",
    "from pandas import read_csv\n",
    "from sklearn.model_selection import train_test_split, cross_validate\n",
    "\n",
    "from sklearn.preprocessing import StandardScaler\n",
    "from sklearn.neural_network import MLPClassifier\n",
    "from graphviz import Digraph\n",
    "from sklearn.model_selection import GridSearchCV\n",
    "from numpy.random import normal\n",
    "from numpy.random import uniform\n",
    "\n",
    "from sklearn.neighbors import KNeighborsClassifier\n",
    "\n",
    "from sklearn.model_selection import cross_val_score\n",
    "from sklearn.model_selection import cross_val_predict\n",
    "\n",
    "from sklearn.linear_model import LogisticRegression\n",
    "from sklearn.decomposition import PCA\n",
    "\n",
    "from time import time\n",
    "from datetime import timedelta\n",
    "\n",
    "from sklearn.metrics import precision_score, classification_report, recall_score\n",
    "\n",
    "from sklearn.datasets import fetch_lfw_people\n",
    "\n",
    "np.random.seed(4567)"
   ]
  },
  {
   "cell_type": "code",
   "execution_count": 5,
   "metadata": {},
   "outputs": [],
   "source": [
    "# If you are in windows and graphviz gives you error:\n",
    "# import os \n",
    "# os.environ[\"PATH\"] += os.pathsep + r\"my graphviz installation path/bin\""
   ]
  },
  {
   "cell_type": "code",
   "execution_count": 6,
   "metadata": {},
   "outputs": [],
   "source": [
    "def confusion(true, pred):\n",
    "    \"\"\"\n",
    "    Function for pretty printing confusion matrices\n",
    "    \"\"\"\n",
    "    pred = pd.Series(pred)\n",
    "    true = pd.Series(true)\n",
    "    \n",
    "    true.name = 'target'\n",
    "    pred.name = 'predicted'\n",
    "    cm = pd.crosstab(true.reset_index(drop=True), pred.reset_index(drop=True))\n",
    "    cm = cm[cm.index]\n",
    "    return cm\n",
    "\n",
    "\n",
    "def graphMLP(vars,layers,intercepts):\n",
    "    \"\"\"\n",
    "    Function for plotting the weights of a mlp\n",
    "    \"\"\"\n",
    "    f = Digraph('')\n",
    "    f.attr(rankdir='LR')\n",
    "    for i,l in enumerate(layers):\n",
    "        if i==0:\n",
    "            for j in range(l.shape[1]):\n",
    "                for k, v in enumerate(vars):\n",
    "                    f.edge(v, 'L%dN%d'%(i,j), label=str(l[k,j]))\n",
    "            f.node('ILI', shape='doublecircle')                    \n",
    "            for k in range(intercepts[i].shape[0]): \n",
    "                f.edge('ILI', \n",
    "                       'L%dN%d'%(i,k), \n",
    "                       label=str(intercepts[i][k]))\n",
    "        else:\n",
    "            for j in range(l.shape[1]):\n",
    "                for k in range(layers[i-1].shape[1]):\n",
    "                    f.edge('L%dN%d'%(i-1,k), \n",
    "                           'L%dN%d'%(i,j), \n",
    "                           label=str(l[k,j]))\n",
    "            f.node('L%dI'%(i-1), shape='doublecircle')                  \n",
    "            for k in range(intercepts[i].shape[0]):\n",
    "                f.edge('L%dI'%(i-1), \n",
    "                       'L%dN%d'%(i,k), \n",
    "                       label=str(intercepts[i][k]))    \n",
    "                \n",
    "    return f\n"
   ]
  },
  {
   "cell_type": "markdown",
   "metadata": {},
   "source": [
    "## SECTION 1 Admissions"
   ]
  },
  {
   "cell_type": "markdown",
   "metadata": {},
   "source": [
    "We are going to use the admissions dataset for our examples on this lab. \n",
    "\n",
    "This dataset contains the next variables: \n",
    "* GRE (Graduate Record Exam scores)\n",
    "* GPA (Grade Point Average) and\n",
    "* rank (prestige of the undergraduate institution)\n",
    "\n",
    "This variables should affect admission into a graduate school.\n",
    "\n",
    "\n",
    " The target variable, admit/don't admit, is a binary variable, which we want to characterize\n",
    "and, if possible, to predict. "
   ]
  },
  {
   "cell_type": "code",
   "execution_count": 7,
   "metadata": {},
   "outputs": [
    {
     "data": {
      "text/html": [
       "<div>\n",
       "<style scoped>\n",
       "    .dataframe tbody tr th:only-of-type {\n",
       "        vertical-align: middle;\n",
       "    }\n",
       "\n",
       "    .dataframe tbody tr th {\n",
       "        vertical-align: top;\n",
       "    }\n",
       "\n",
       "    .dataframe thead th {\n",
       "        text-align: right;\n",
       "    }\n",
       "</style>\n",
       "<table border=\"1\" class=\"dataframe\">\n",
       "  <thead>\n",
       "    <tr style=\"text-align: right;\">\n",
       "      <th></th>\n",
       "      <th>admit</th>\n",
       "      <th>gre</th>\n",
       "      <th>gpa</th>\n",
       "      <th>rank</th>\n",
       "    </tr>\n",
       "  </thead>\n",
       "  <tbody>\n",
       "    <tr>\n",
       "      <th>0</th>\n",
       "      <td>0</td>\n",
       "      <td>380</td>\n",
       "      <td>3.61</td>\n",
       "      <td>3</td>\n",
       "    </tr>\n",
       "    <tr>\n",
       "      <th>1</th>\n",
       "      <td>1</td>\n",
       "      <td>660</td>\n",
       "      <td>3.67</td>\n",
       "      <td>3</td>\n",
       "    </tr>\n",
       "    <tr>\n",
       "      <th>2</th>\n",
       "      <td>1</td>\n",
       "      <td>800</td>\n",
       "      <td>4.00</td>\n",
       "      <td>1</td>\n",
       "    </tr>\n",
       "    <tr>\n",
       "      <th>3</th>\n",
       "      <td>1</td>\n",
       "      <td>640</td>\n",
       "      <td>3.19</td>\n",
       "      <td>4</td>\n",
       "    </tr>\n",
       "    <tr>\n",
       "      <th>4</th>\n",
       "      <td>0</td>\n",
       "      <td>520</td>\n",
       "      <td>2.93</td>\n",
       "      <td>4</td>\n",
       "    </tr>\n",
       "  </tbody>\n",
       "</table>\n",
       "</div>"
      ],
      "text/plain": [
       "   admit  gre   gpa  rank\n",
       "0      0  380  3.61     3\n",
       "1      1  660  3.67     3\n",
       "2      1  800  4.00     1\n",
       "3      1  640  3.19     4\n",
       "4      0  520  2.93     4"
      ]
     },
     "execution_count": 7,
     "metadata": {},
     "output_type": "execute_result"
    }
   ],
   "source": [
    "Admis = read_csv(\"Admissions.csv\", delimiter=',')\n",
    "Admis.head()"
   ]
  },
  {
   "cell_type": "markdown",
   "metadata": {},
   "source": [
    "We will treat all the variables gre and gpa as continuous.\n",
    "\n",
    "The variable rank takes on the values 1 through 4, so we can fairly treat it as numerical (although, in rigour, it is ordinal)"
   ]
  },
  {
   "cell_type": "code",
   "execution_count": 8,
   "metadata": {},
   "outputs": [
    {
     "data": {
      "text/html": [
       "<div>\n",
       "<style scoped>\n",
       "    .dataframe tbody tr th:only-of-type {\n",
       "        vertical-align: middle;\n",
       "    }\n",
       "\n",
       "    .dataframe tbody tr th {\n",
       "        vertical-align: top;\n",
       "    }\n",
       "\n",
       "    .dataframe thead th {\n",
       "        text-align: right;\n",
       "    }\n",
       "</style>\n",
       "<table border=\"1\" class=\"dataframe\">\n",
       "  <thead>\n",
       "    <tr style=\"text-align: right;\">\n",
       "      <th></th>\n",
       "      <th>admit</th>\n",
       "      <th>gre</th>\n",
       "      <th>gpa</th>\n",
       "      <th>rank</th>\n",
       "    </tr>\n",
       "  </thead>\n",
       "  <tbody>\n",
       "    <tr>\n",
       "      <th>count</th>\n",
       "      <td>400.000</td>\n",
       "      <td>400.000</td>\n",
       "      <td>400.000</td>\n",
       "      <td>400.000</td>\n",
       "    </tr>\n",
       "    <tr>\n",
       "      <th>mean</th>\n",
       "      <td>0.318</td>\n",
       "      <td>587.700</td>\n",
       "      <td>3.390</td>\n",
       "      <td>2.485</td>\n",
       "    </tr>\n",
       "    <tr>\n",
       "      <th>std</th>\n",
       "      <td>0.466</td>\n",
       "      <td>115.517</td>\n",
       "      <td>0.381</td>\n",
       "      <td>0.944</td>\n",
       "    </tr>\n",
       "    <tr>\n",
       "      <th>min</th>\n",
       "      <td>0.000</td>\n",
       "      <td>220.000</td>\n",
       "      <td>2.260</td>\n",
       "      <td>1.000</td>\n",
       "    </tr>\n",
       "    <tr>\n",
       "      <th>25%</th>\n",
       "      <td>0.000</td>\n",
       "      <td>520.000</td>\n",
       "      <td>3.130</td>\n",
       "      <td>2.000</td>\n",
       "    </tr>\n",
       "    <tr>\n",
       "      <th>50%</th>\n",
       "      <td>0.000</td>\n",
       "      <td>580.000</td>\n",
       "      <td>3.395</td>\n",
       "      <td>2.000</td>\n",
       "    </tr>\n",
       "    <tr>\n",
       "      <th>75%</th>\n",
       "      <td>1.000</td>\n",
       "      <td>660.000</td>\n",
       "      <td>3.670</td>\n",
       "      <td>3.000</td>\n",
       "    </tr>\n",
       "    <tr>\n",
       "      <th>max</th>\n",
       "      <td>1.000</td>\n",
       "      <td>800.000</td>\n",
       "      <td>4.000</td>\n",
       "      <td>4.000</td>\n",
       "    </tr>\n",
       "  </tbody>\n",
       "</table>\n",
       "</div>"
      ],
      "text/plain": [
       "         admit      gre      gpa     rank\n",
       "count  400.000  400.000  400.000  400.000\n",
       "mean     0.318  587.700    3.390    2.485\n",
       "std      0.466  115.517    0.381    0.944\n",
       "min      0.000  220.000    2.260    1.000\n",
       "25%      0.000  520.000    3.130    2.000\n",
       "50%      0.000  580.000    3.395    2.000\n",
       "75%      1.000  660.000    3.670    3.000\n",
       "max      1.000  800.000    4.000    4.000"
      ]
     },
     "execution_count": 8,
     "metadata": {},
     "output_type": "execute_result"
    }
   ],
   "source": [
    "Admis.describe()\n",
    "\n",
    "N = Admis.shape[0]"
   ]
  },
  {
   "cell_type": "markdown",
   "metadata": {},
   "source": [
    "We first split the available data into learning and test sets, selecting randomly 2/3 and 1/3 of the data We do this for a honest estimation of prediction performance."
   ]
  },
  {
   "cell_type": "markdown",
   "metadata": {},
   "source": [
    "### Resampling protocol\n",
    "\n",
    "This time we will use a Train and Test partitions and we will use the cross-validation score to compare the models. "
   ]
  },
  {
   "cell_type": "code",
   "execution_count": 9,
   "metadata": {},
   "outputs": [],
   "source": [
    "np.random.seed(63)\n",
    "X_train, X_test, y_train, y_test =\\\n",
    "        train_test_split(Admis[['gre', 'gpa', 'rank']], Admis.admit, test_size=0.33,random_state=42)"
   ]
  },
  {
   "cell_type": "markdown",
   "metadata": {},
   "source": [
    "### Pre-processing\n",
    "\n",
    "We will use a simple pre-processing. Just scaling. "
   ]
  },
  {
   "cell_type": "code",
   "execution_count": 10,
   "metadata": {},
   "outputs": [],
   "source": [
    "X_train = StandardScaler().fit_transform(X_train)\n",
    "X_test = StandardScaler().fit_transform(X_test)"
   ]
  },
  {
   "cell_type": "markdown",
   "metadata": {},
   "source": [
    "### Choosing our metrics\n",
    "\n",
    "This time we have an unbalanced classification problem, where it is equally important to predict correctly both classes. \n",
    "For this reason our main metric is going to be F-score macro. We are also going to check precision macro and recall macro. "
   ]
  },
  {
   "cell_type": "code",
   "execution_count": 11,
   "metadata": {},
   "outputs": [],
   "source": [
    "results_df = pd.DataFrame(index=['Logistic Regression'],\n",
    "                          columns=['F-score (cv)', 'Precision (cv)','Recall (cv)', 'Accuracy (cv)'])"
   ]
  },
  {
   "cell_type": "markdown",
   "metadata": {},
   "source": [
    "### Baseline: Logistic Regression\n",
    "\n",
    "We are going to use the logistic regression as a baseline, and we will try to improve the results given by the baseline with the other models.\n",
    "\n",
    "We are using a baseline this time because this is the Neural Networks lab, and we will be training MLPs. As you might already know, an MLP can be quite slow to train and has tons of hyperparameters, so, to be sure that we don't need hours to discover that we have done something wrong, we will use a simple model (logistic regression) as a baseline. "
   ]
  },
  {
   "cell_type": "code",
   "execution_count": 12,
   "metadata": {},
   "outputs": [
    {
     "data": {
      "text/plain": [
       "LogisticRegression()"
      ]
     },
     "execution_count": 12,
     "metadata": {},
     "output_type": "execute_result"
    },
    {
     "data": {
      "text/html": [
       "<div>\n",
       "<style scoped>\n",
       "    .dataframe tbody tr th:only-of-type {\n",
       "        vertical-align: middle;\n",
       "    }\n",
       "\n",
       "    .dataframe tbody tr th {\n",
       "        vertical-align: top;\n",
       "    }\n",
       "\n",
       "    .dataframe thead th {\n",
       "        text-align: right;\n",
       "    }\n",
       "</style>\n",
       "<table border=\"1\" class=\"dataframe\">\n",
       "  <thead>\n",
       "    <tr style=\"text-align: right;\">\n",
       "      <th>predicted</th>\n",
       "      <th>0</th>\n",
       "      <th>1</th>\n",
       "    </tr>\n",
       "    <tr>\n",
       "      <th>target</th>\n",
       "      <th></th>\n",
       "      <th></th>\n",
       "    </tr>\n",
       "  </thead>\n",
       "  <tbody>\n",
       "    <tr>\n",
       "      <th>0</th>\n",
       "      <td>171</td>\n",
       "      <td>12</td>\n",
       "    </tr>\n",
       "    <tr>\n",
       "      <th>1</th>\n",
       "      <td>65</td>\n",
       "      <td>20</td>\n",
       "    </tr>\n",
       "  </tbody>\n",
       "</table>\n",
       "</div>"
      ],
      "text/plain": [
       "predicted    0   1\n",
       "target            \n",
       "0          171  12\n",
       "1           65  20"
      ]
     },
     "execution_count": 12,
     "metadata": {},
     "output_type": "execute_result"
    },
    {
     "data": {
      "text/html": [
       "<div>\n",
       "<style scoped>\n",
       "    .dataframe tbody tr th:only-of-type {\n",
       "        vertical-align: middle;\n",
       "    }\n",
       "\n",
       "    .dataframe tbody tr th {\n",
       "        vertical-align: top;\n",
       "    }\n",
       "\n",
       "    .dataframe thead th {\n",
       "        text-align: right;\n",
       "    }\n",
       "</style>\n",
       "<table border=\"1\" class=\"dataframe\">\n",
       "  <thead>\n",
       "    <tr style=\"text-align: right;\">\n",
       "      <th></th>\n",
       "      <th>F-score (cv)</th>\n",
       "      <th>Precision (cv)</th>\n",
       "      <th>Recall (cv)</th>\n",
       "      <th>Accuracy (cv)</th>\n",
       "    </tr>\n",
       "  </thead>\n",
       "  <tbody>\n",
       "    <tr>\n",
       "      <th>Logistic Regression</th>\n",
       "      <td>0.554</td>\n",
       "      <td>0.686</td>\n",
       "      <td>0.568</td>\n",
       "      <td>0.698</td>\n",
       "    </tr>\n",
       "  </tbody>\n",
       "</table>\n",
       "</div>"
      ],
      "text/plain": [
       "                    F-score (cv) Precision (cv) Recall (cv) Accuracy (cv)\n",
       "Logistic Regression        0.554          0.686       0.568         0.698"
      ]
     },
     "execution_count": 12,
     "metadata": {},
     "output_type": "execute_result"
    }
   ],
   "source": [
    "logreg = LogisticRegression()\n",
    "logreg.fit(X_train, y_train)\n",
    "scores = cross_val_score(logreg, X_train, y_train, cv=5)\n",
    "y_pred_lr = logreg.predict(X_train)\n",
    "\n",
    "cross_val_results = pd.DataFrame(cross_validate(logreg , X_train, y_train, cv = 5, \n",
    "                                                scoring = [ 'f1_macro', 'precision_macro', 'recall_macro', 'accuracy'] ))\n",
    "\n",
    "results_df.loc['Logistic Regression',:] = cross_val_results[['test_f1_macro',\n",
    "       'test_precision_macro', 'test_recall_macro','test_accuracy']].mean().values\n",
    "\n",
    "confusion(y_train,y_pred_lr)\n",
    "results_df"
   ]
  },
  {
   "cell_type": "markdown",
   "metadata": {},
   "source": [
    "Just with the baseline we are already obtaining a 69% of accuracy and a 0.55 of F-score. The gap between those two metrics is probably caused by the unbalance. \n",
    "\n",
    "Now we can check the coeficients to see if there is any strange stuff that we should fix before starting with our networks."
   ]
  },
  {
   "cell_type": "code",
   "execution_count": 13,
   "metadata": {
    "scrolled": true
   },
   "outputs": [
    {
     "data": {
      "text/plain": [
       "array([[ 0.16385153,  0.35034143, -0.46349665]])"
      ]
     },
     "execution_count": 13,
     "metadata": {},
     "output_type": "execute_result"
    },
    {
     "data": {
      "text/plain": [
       "array([-0.84430907])"
      ]
     },
     "execution_count": 13,
     "metadata": {},
     "output_type": "execute_result"
    }
   ],
   "source": [
    "logreg.coef_\n",
    "logreg.intercept_"
   ]
  },
  {
   "cell_type": "markdown",
   "metadata": {},
   "source": [
    "### Multi Layered Perceptron (Yay! Neural Networks!)\n",
    "\n",
    "MLP is almost the simplest of the Neural Network models. This model is based on combining linearly the input of the previous layer and applying an activation function to the result over different layers. \n",
    "\n",
    "When it has more than a hidden layer it is called a __Deep__ Neural Network. This hidden layers give the model complexity and expresivity, but also add more weights that you will need to train.\n",
    "\n",
    "The most important parameters of the MLP are: \n",
    "* Architecture (number of layers and number of neurons by layer). \n",
    "* Activation function. \n",
    "* alpha (regularization term).\n",
    "* Solver ‘lbfgs’, ‘sgd’, ‘adam’.\n",
    "* Learning rate, learning_rate_init.\n",
    "\n",
    "As you can see, this model has many hyperparameters; if in doubt, you can look up [their meaning here](https://scikit-learn.org/stable/modules/generated/sklearn.neural_network.MLPClassifier.html)\n",
    "\n",
    "We are going to start with a 1 neuron dummy MLP with logistic activation function and no regularization."
   ]
  },
  {
   "cell_type": "code",
   "execution_count": 14,
   "metadata": {},
   "outputs": [
    {
     "data": {
      "text/plain": [
       "MLPClassifier(activation='logistic', alpha=0, hidden_layer_sizes=[1],\n",
       "              random_state=42, solver='lbfgs')"
      ]
     },
     "execution_count": 14,
     "metadata": {},
     "output_type": "execute_result"
    },
    {
     "name": "stdout",
     "output_type": "stream",
     "text": [
      "Confusion matrix of the TRAIN dataset\n"
     ]
    },
    {
     "data": {
      "text/html": [
       "<div>\n",
       "<style scoped>\n",
       "    .dataframe tbody tr th:only-of-type {\n",
       "        vertical-align: middle;\n",
       "    }\n",
       "\n",
       "    .dataframe tbody tr th {\n",
       "        vertical-align: top;\n",
       "    }\n",
       "\n",
       "    .dataframe thead th {\n",
       "        text-align: right;\n",
       "    }\n",
       "</style>\n",
       "<table border=\"1\" class=\"dataframe\">\n",
       "  <thead>\n",
       "    <tr style=\"text-align: right;\">\n",
       "      <th>predicted</th>\n",
       "      <th>0</th>\n",
       "      <th>1</th>\n",
       "    </tr>\n",
       "    <tr>\n",
       "      <th>target</th>\n",
       "      <th></th>\n",
       "      <th></th>\n",
       "    </tr>\n",
       "  </thead>\n",
       "  <tbody>\n",
       "    <tr>\n",
       "      <th>0</th>\n",
       "      <td>171</td>\n",
       "      <td>12</td>\n",
       "    </tr>\n",
       "    <tr>\n",
       "      <th>1</th>\n",
       "      <td>66</td>\n",
       "      <td>19</td>\n",
       "    </tr>\n",
       "  </tbody>\n",
       "</table>\n",
       "</div>"
      ],
      "text/plain": [
       "predicted    0   1\n",
       "target            \n",
       "0          171  12\n",
       "1           66  19"
      ]
     },
     "execution_count": 14,
     "metadata": {},
     "output_type": "execute_result"
    },
    {
     "data": {
      "text/html": [
       "<div>\n",
       "<style scoped>\n",
       "    .dataframe tbody tr th:only-of-type {\n",
       "        vertical-align: middle;\n",
       "    }\n",
       "\n",
       "    .dataframe tbody tr th {\n",
       "        vertical-align: top;\n",
       "    }\n",
       "\n",
       "    .dataframe thead th {\n",
       "        text-align: right;\n",
       "    }\n",
       "</style>\n",
       "<table border=\"1\" class=\"dataframe\">\n",
       "  <thead>\n",
       "    <tr style=\"text-align: right;\">\n",
       "      <th></th>\n",
       "      <th>F-score (cv)</th>\n",
       "      <th>Precision (cv)</th>\n",
       "      <th>Recall (cv)</th>\n",
       "      <th>Accuracy (cv)</th>\n",
       "    </tr>\n",
       "  </thead>\n",
       "  <tbody>\n",
       "    <tr>\n",
       "      <th>MLP[1]</th>\n",
       "      <td>0.56</td>\n",
       "      <td>0.655</td>\n",
       "      <td>0.57</td>\n",
       "      <td>0.683</td>\n",
       "    </tr>\n",
       "    <tr>\n",
       "      <th>Logistic Regression</th>\n",
       "      <td>0.554</td>\n",
       "      <td>0.686</td>\n",
       "      <td>0.568</td>\n",
       "      <td>0.698</td>\n",
       "    </tr>\n",
       "  </tbody>\n",
       "</table>\n",
       "</div>"
      ],
      "text/plain": [
       "                    F-score (cv) Precision (cv) Recall (cv) Accuracy (cv)\n",
       "MLP[1]                      0.56          0.655        0.57         0.683\n",
       "Logistic Regression        0.554          0.686       0.568         0.698"
      ]
     },
     "execution_count": 14,
     "metadata": {},
     "output_type": "execute_result"
    }
   ],
   "source": [
    "model_nnet = MLPClassifier(hidden_layer_sizes=[1],\n",
    "                           alpha=0,\n",
    "                           activation='logistic',\n",
    "                           max_iter=200,\n",
    "                           solver='lbfgs',random_state=42)\n",
    "model_nnet.fit(X_train, y_train);\n",
    "\n",
    "\n",
    "y_pred = model_nnet.predict(X_train)\n",
    "\n",
    "print('Confusion matrix of the TRAIN dataset')\n",
    "confusion(y_train, y_pred)\n",
    "\n",
    "cross_val_results = pd.DataFrame(cross_validate(model_nnet , X_train, y_train, cv = 5, \n",
    "                                                scoring = [ 'f1_macro', 'precision_macro', 'recall_macro', 'accuracy'] ))\n",
    "\n",
    "results_df.loc['MLP[1]',:] = cross_val_results[['test_f1_macro',\n",
    "       'test_precision_macro', 'test_recall_macro','test_accuracy']].mean().values\n",
    "\n",
    "results_df.sort_values(by='F-score (cv)', ascending=False)"
   ]
  },
  {
   "cell_type": "markdown",
   "metadata": {},
   "source": [
    "We can see that this dummy mlp is already winning our other model in our main metric. Let's see how this is looking on the inside.\n",
    "\n",
    "Here we can see this mlp weights."
   ]
  },
  {
   "cell_type": "code",
   "execution_count": 15,
   "metadata": {},
   "outputs": [
    {
     "data": {
      "text/plain": [
       "[array([[-0.0491517 ],\n",
       "        [-0.09861687],\n",
       "        [ 0.13129339]]),\n",
       " array([[-37.56847632]])]"
      ]
     },
     "execution_count": 15,
     "metadata": {},
     "output_type": "execute_result"
    },
    {
     "data": {
      "text/plain": [
       "[array([-2.09742868]), array([3.30347577])]"
      ]
     },
     "execution_count": 15,
     "metadata": {},
     "output_type": "execute_result"
    }
   ],
   "source": [
    "model_nnet.coefs_\n",
    "model_nnet.intercepts_"
   ]
  },
  {
   "cell_type": "markdown",
   "metadata": {},
   "source": [
    "We can also look at it as a graph. Isn't this structure familiar?"
   ]
  },
  {
   "cell_type": "code",
   "execution_count": 16,
   "metadata": {},
   "outputs": [
    {
     "data": {
      "image/svg+xml": [
       "<?xml version=\"1.0\" encoding=\"UTF-8\" standalone=\"no\"?>\n",
       "<!DOCTYPE svg PUBLIC \"-//W3C//DTD SVG 1.1//EN\"\n",
       " \"http://www.w3.org/Graphics/SVG/1.1/DTD/svg11.dtd\">\n",
       "<!-- Generated by graphviz version 2.40.1 (20161225.0304)\n",
       " -->\n",
       "<!-- Title: %3 Pages: 1 -->\n",
       "<svg width=\"524pt\" height=\"222pt\"\n",
       " viewBox=\"0.00 0.00 524.39 222.10\" xmlns=\"http://www.w3.org/2000/svg\" xmlns:xlink=\"http://www.w3.org/1999/xlink\">\n",
       "<g id=\"graph0\" class=\"graph\" transform=\"scale(1 1) rotate(0) translate(4 218.098)\">\n",
       "<title>%3</title>\n",
       "<polygon fill=\"#ffffff\" stroke=\"transparent\" points=\"-4,4 -4,-218.098 520.3887,-218.098 520.3887,4 -4,4\"/>\n",
       "<!-- gre -->\n",
       "<g id=\"node1\" class=\"node\">\n",
       "<title>gre</title>\n",
       "<ellipse fill=\"none\" stroke=\"#000000\" cx=\"27\" cy=\"-196.098\" rx=\"27\" ry=\"18\"/>\n",
       "<text text-anchor=\"middle\" x=\"27\" y=\"-192.398\" font-family=\"Times,serif\" font-size=\"14.00\" fill=\"#000000\">gre</text>\n",
       "</g>\n",
       "<!-- L0N0 -->\n",
       "<g id=\"node2\" class=\"node\">\n",
       "<title>L0N0</title>\n",
       "<ellipse fill=\"none\" stroke=\"#000000\" cx=\"256.8472\" cy=\"-115.098\" rx=\"31.6951\" ry=\"18\"/>\n",
       "<text text-anchor=\"middle\" x=\"256.8472\" y=\"-111.398\" font-family=\"Times,serif\" font-size=\"14.00\" fill=\"#000000\">L0N0</text>\n",
       "</g>\n",
       "<!-- gre&#45;&gt;L0N0 -->\n",
       "<g id=\"edge1\" class=\"edge\">\n",
       "<title>gre&#45;&gt;L0N0</title>\n",
       "<path fill=\"none\" stroke=\"#000000\" d=\"M53.8679,-193.7784C90.1777,-189.8149 156.2093,-179.6388 207,-155.098 216.3429,-150.5838 225.5116,-144.03 233.3867,-137.5291\"/>\n",
       "<polygon fill=\"#000000\" stroke=\"#000000\" points=\"235.8147,-140.0563 241.0781,-130.8613 231.2294,-134.7671 235.8147,-140.0563\"/>\n",
       "<text text-anchor=\"middle\" x=\"139.5\" y=\"-194.898\" font-family=\"Times,serif\" font-size=\"14.00\" fill=\"#000000\">&#45;0.04915169732301182</text>\n",
       "</g>\n",
       "<!-- L1N0 -->\n",
       "<g id=\"node6\" class=\"node\">\n",
       "<title>L1N0</title>\n",
       "<ellipse fill=\"none\" stroke=\"#000000\" cx=\"484.5415\" cy=\"-70.098\" rx=\"31.6951\" ry=\"18\"/>\n",
       "<text text-anchor=\"middle\" x=\"484.5415\" y=\"-66.398\" font-family=\"Times,serif\" font-size=\"14.00\" fill=\"#000000\">L1N0</text>\n",
       "</g>\n",
       "<!-- L0N0&#45;&gt;L1N0 -->\n",
       "<g id=\"edge5\" class=\"edge\">\n",
       "<title>L0N0&#45;&gt;L1N0</title>\n",
       "<path fill=\"none\" stroke=\"#000000\" d=\"M287.0631,-109.1866C322.4528,-102.2549 382.8411,-90.4015 434.6943,-80.098 437.8975,-79.4616 441.216,-78.8002 444.5497,-78.1344\"/>\n",
       "<polygon fill=\"#000000\" stroke=\"#000000\" points=\"445.3767,-81.5383 454.4956,-76.1442 444.0032,-74.6744 445.3767,-81.5383\"/>\n",
       "<text text-anchor=\"middle\" x=\"370.6943\" y=\"-107.898\" font-family=\"Times,serif\" font-size=\"14.00\" fill=\"#000000\">&#45;37.568476323024434</text>\n",
       "</g>\n",
       "<!-- gpa -->\n",
       "<g id=\"node3\" class=\"node\">\n",
       "<title>gpa</title>\n",
       "<ellipse fill=\"none\" stroke=\"#000000\" cx=\"27\" cy=\"-142.098\" rx=\"27\" ry=\"18\"/>\n",
       "<text text-anchor=\"middle\" x=\"27\" y=\"-138.398\" font-family=\"Times,serif\" font-size=\"14.00\" fill=\"#000000\">gpa</text>\n",
       "</g>\n",
       "<!-- gpa&#45;&gt;L0N0 -->\n",
       "<g id=\"edge2\" class=\"edge\">\n",
       "<title>gpa&#45;&gt;L0N0</title>\n",
       "<path fill=\"none\" stroke=\"#000000\" d=\"M53.8162,-138.948C93.5601,-134.2793 168.4386,-125.4833 215.3127,-119.9771\"/>\n",
       "<polygon fill=\"#000000\" stroke=\"#000000\" points=\"215.9169,-123.4303 225.4402,-118.7874 215.1001,-116.4781 215.9169,-123.4303\"/>\n",
       "<text text-anchor=\"middle\" x=\"139.5\" y=\"-139.898\" font-family=\"Times,serif\" font-size=\"14.00\" fill=\"#000000\">&#45;0.09861687303593726</text>\n",
       "</g>\n",
       "<!-- rank -->\n",
       "<g id=\"node4\" class=\"node\">\n",
       "<title>rank</title>\n",
       "<ellipse fill=\"none\" stroke=\"#000000\" cx=\"27\" cy=\"-88.098\" rx=\"27\" ry=\"18\"/>\n",
       "<text text-anchor=\"middle\" x=\"27\" y=\"-84.398\" font-family=\"Times,serif\" font-size=\"14.00\" fill=\"#000000\">rank</text>\n",
       "</g>\n",
       "<!-- rank&#45;&gt;L0N0 -->\n",
       "<g id=\"edge3\" class=\"edge\">\n",
       "<title>rank&#45;&gt;L0N0</title>\n",
       "<path fill=\"none\" stroke=\"#000000\" d=\"M54.0176,-88.7071C89.3877,-89.8444 153.2138,-93.0663 207,-102.098 210.8587,-102.746 214.8544,-103.5522 218.8276,-104.4436\"/>\n",
       "<polygon fill=\"#000000\" stroke=\"#000000\" points=\"218.0244,-107.8501 228.5664,-106.7932 219.6663,-101.0454 218.0244,-107.8501\"/>\n",
       "<text text-anchor=\"middle\" x=\"139.5\" y=\"-105.898\" font-family=\"Times,serif\" font-size=\"14.00\" fill=\"#000000\">0.13129339054544287</text>\n",
       "</g>\n",
       "<!-- ILI -->\n",
       "<g id=\"node5\" class=\"node\">\n",
       "<title>ILI</title>\n",
       "<ellipse fill=\"none\" stroke=\"#000000\" cx=\"27\" cy=\"-26.098\" rx=\"22.1814\" ry=\"22.1814\"/>\n",
       "<ellipse fill=\"none\" stroke=\"#000000\" cx=\"27\" cy=\"-26.098\" rx=\"26.1964\" ry=\"26.1964\"/>\n",
       "<text text-anchor=\"middle\" x=\"27\" y=\"-22.398\" font-family=\"Times,serif\" font-size=\"14.00\" fill=\"#000000\">ILI</text>\n",
       "</g>\n",
       "<!-- ILI&#45;&gt;L0N0 -->\n",
       "<g id=\"edge4\" class=\"edge\">\n",
       "<title>ILI&#45;&gt;L0N0</title>\n",
       "<path fill=\"none\" stroke=\"#000000\" d=\"M53.0495,-28.0419C89.5672,-31.7129 157.0963,-42.0153 207,-70.098 216.8597,-75.6465 216.6781,-80.4334 225,-88.098 226.9128,-89.8597 228.9149,-91.6579 230.9437,-93.4478\"/>\n",
       "<polygon fill=\"#000000\" stroke=\"#000000\" points=\"228.9153,-96.3209 238.7687,-100.2148 233.4942,-91.0261 228.9153,-96.3209\"/>\n",
       "<text text-anchor=\"middle\" x=\"139.5\" y=\"-73.898\" font-family=\"Times,serif\" font-size=\"14.00\" fill=\"#000000\">&#45;2.0974286765996957</text>\n",
       "</g>\n",
       "<!-- L0I -->\n",
       "<g id=\"node7\" class=\"node\">\n",
       "<title>L0I</title>\n",
       "<ellipse fill=\"none\" stroke=\"#000000\" cx=\"256.8472\" cy=\"-51.098\" rx=\"24.089\" ry=\"24.089\"/>\n",
       "<ellipse fill=\"none\" stroke=\"#000000\" cx=\"256.8472\" cy=\"-51.098\" rx=\"28.0958\" ry=\"28.0958\"/>\n",
       "<text text-anchor=\"middle\" x=\"256.8472\" y=\"-47.398\" font-family=\"Times,serif\" font-size=\"14.00\" fill=\"#000000\">L0I</text>\n",
       "</g>\n",
       "<!-- L0I&#45;&gt;L1N0 -->\n",
       "<g id=\"edge6\" class=\"edge\">\n",
       "<title>L0I&#45;&gt;L1N0</title>\n",
       "<path fill=\"none\" stroke=\"#000000\" d=\"M284.8934,-53.1194C319.9517,-55.689 381.7893,-60.3629 434.6943,-65.098 437.4028,-65.3405 440.1933,-65.5982 443.0052,-65.864\"/>\n",
       "<polygon fill=\"#000000\" stroke=\"#000000\" points=\"442.8836,-69.3685 453.1743,-66.8483 443.558,-62.4011 442.8836,-69.3685\"/>\n",
       "<text text-anchor=\"middle\" x=\"370.6943\" y=\"-68.898\" font-family=\"Times,serif\" font-size=\"14.00\" fill=\"#000000\">3.3034757745361114</text>\n",
       "</g>\n",
       "</g>\n",
       "</svg>\n"
      ],
      "text/plain": [
       "<graphviz.dot.Digraph at 0x7fa8fdb946a0>"
      ]
     },
     "execution_count": 16,
     "metadata": {},
     "output_type": "execute_result"
    }
   ],
   "source": [
    "graphMLP(Admis.columns[1:], model_nnet.coefs_, model_nnet.intercepts_)"
   ]
  },
  {
   "cell_type": "markdown",
   "metadata": {},
   "source": [
    "On this graph the gre, gpa, rank and ILI represent the input layer,which would be our training samples. \n",
    "L0N0 is our hidden neuron. L01 the extra intercept and L1N0 our output neuron. "
   ]
  },
  {
   "cell_type": "markdown",
   "metadata": {},
   "source": [
    "Now that we know what we are doing, lets make a bigger network."
   ]
  },
  {
   "cell_type": "code",
   "execution_count": 18,
   "metadata": {},
   "outputs": [
    {
     "data": {
      "text/plain": [
       "MLPClassifier(activation='logistic', alpha=0, hidden_layer_sizes=[2, 2, 2],\n",
       "              random_state=42, solver='lbfgs')"
      ]
     },
     "execution_count": 18,
     "metadata": {},
     "output_type": "execute_result"
    },
    {
     "name": "stdout",
     "output_type": "stream",
     "text": [
      "Confusion matrix of the TRAIN dataset\n"
     ]
    },
    {
     "data": {
      "text/html": [
       "<div>\n",
       "<style scoped>\n",
       "    .dataframe tbody tr th:only-of-type {\n",
       "        vertical-align: middle;\n",
       "    }\n",
       "\n",
       "    .dataframe tbody tr th {\n",
       "        vertical-align: top;\n",
       "    }\n",
       "\n",
       "    .dataframe thead th {\n",
       "        text-align: right;\n",
       "    }\n",
       "</style>\n",
       "<table border=\"1\" class=\"dataframe\">\n",
       "  <thead>\n",
       "    <tr style=\"text-align: right;\">\n",
       "      <th>predicted</th>\n",
       "      <th>0</th>\n",
       "      <th>1</th>\n",
       "    </tr>\n",
       "    <tr>\n",
       "      <th>target</th>\n",
       "      <th></th>\n",
       "      <th></th>\n",
       "    </tr>\n",
       "  </thead>\n",
       "  <tbody>\n",
       "    <tr>\n",
       "      <th>0</th>\n",
       "      <td>156</td>\n",
       "      <td>27</td>\n",
       "    </tr>\n",
       "    <tr>\n",
       "      <th>1</th>\n",
       "      <td>50</td>\n",
       "      <td>35</td>\n",
       "    </tr>\n",
       "  </tbody>\n",
       "</table>\n",
       "</div>"
      ],
      "text/plain": [
       "predicted    0   1\n",
       "target            \n",
       "0          156  27\n",
       "1           50  35"
      ]
     },
     "execution_count": 18,
     "metadata": {},
     "output_type": "execute_result"
    },
    {
     "data": {
      "text/html": [
       "<div>\n",
       "<style scoped>\n",
       "    .dataframe tbody tr th:only-of-type {\n",
       "        vertical-align: middle;\n",
       "    }\n",
       "\n",
       "    .dataframe tbody tr th {\n",
       "        vertical-align: top;\n",
       "    }\n",
       "\n",
       "    .dataframe thead th {\n",
       "        text-align: right;\n",
       "    }\n",
       "</style>\n",
       "<table border=\"1\" class=\"dataframe\">\n",
       "  <thead>\n",
       "    <tr style=\"text-align: right;\">\n",
       "      <th></th>\n",
       "      <th>F-score (cv)</th>\n",
       "      <th>Precision (cv)</th>\n",
       "      <th>Recall (cv)</th>\n",
       "      <th>Accuracy (cv)</th>\n",
       "    </tr>\n",
       "  </thead>\n",
       "  <tbody>\n",
       "    <tr>\n",
       "      <th>MLP[2,2,2]</th>\n",
       "      <td>0.575</td>\n",
       "      <td>0.647</td>\n",
       "      <td>0.586</td>\n",
       "      <td>0.698</td>\n",
       "    </tr>\n",
       "    <tr>\n",
       "      <th>MLP[1]</th>\n",
       "      <td>0.56</td>\n",
       "      <td>0.655</td>\n",
       "      <td>0.57</td>\n",
       "      <td>0.683</td>\n",
       "    </tr>\n",
       "    <tr>\n",
       "      <th>Logistic Regression</th>\n",
       "      <td>0.554</td>\n",
       "      <td>0.686</td>\n",
       "      <td>0.568</td>\n",
       "      <td>0.698</td>\n",
       "    </tr>\n",
       "  </tbody>\n",
       "</table>\n",
       "</div>"
      ],
      "text/plain": [
       "                    F-score (cv) Precision (cv) Recall (cv) Accuracy (cv)\n",
       "MLP[2,2,2]                 0.575          0.647       0.586         0.698\n",
       "MLP[1]                      0.56          0.655        0.57         0.683\n",
       "Logistic Regression        0.554          0.686       0.568         0.698"
      ]
     },
     "execution_count": 18,
     "metadata": {},
     "output_type": "execute_result"
    }
   ],
   "source": [
    "model_nnet = MLPClassifier(hidden_layer_sizes=[2,2,2],\n",
    "                           alpha=0,\n",
    "                           activation='logistic',\n",
    "                           max_iter=200,\n",
    "                           solver='lbfgs',random_state=42)\n",
    "model_nnet.fit(X_train,y_train);\n",
    "y_pred = model_nnet.predict(X_train)\n",
    "\n",
    "print('Confusion matrix of the TRAIN dataset')\n",
    "confusion(y_train,y_pred)\n",
    "\n",
    "cross_val_results = pd.DataFrame(cross_validate(model_nnet , X_train, y_train, cv = 5, \n",
    "                                                scoring = [ 'f1_macro', 'precision_macro', 'recall_macro', 'accuracy'] ))\n",
    "\n",
    "results_df.loc['MLP[2,2,2]',:] = cross_val_results[['test_f1_macro',\n",
    "       'test_precision_macro', 'test_recall_macro','test_accuracy']].mean().values\n",
    "\n",
    "results_df.sort_values(by='F-score (cv)', ascending=False)\n"
   ]
  },
  {
   "cell_type": "markdown",
   "metadata": {},
   "source": [
    "Now our model is performing slightly better. \n",
    "Also, our model complexity is increasing, which might increase the training time. "
   ]
  },
  {
   "cell_type": "code",
   "execution_count": 19,
   "metadata": {},
   "outputs": [
    {
     "data": {
      "image/svg+xml": [
       "<?xml version=\"1.0\" encoding=\"UTF-8\" standalone=\"no\"?>\n",
       "<!DOCTYPE svg PUBLIC \"-//W3C//DTD SVG 1.1//EN\"\n",
       " \"http://www.w3.org/Graphics/SVG/1.1/DTD/svg11.dtd\">\n",
       "<!-- Generated by graphviz version 2.40.1 (20161225.0304)\n",
       " -->\n",
       "<!-- Title: %3 Pages: 1 -->\n",
       "<svg width=\"963pt\" height=\"364pt\"\n",
       " viewBox=\"0.00 0.00 962.78 364.05\" xmlns=\"http://www.w3.org/2000/svg\" xmlns:xlink=\"http://www.w3.org/1999/xlink\">\n",
       "<g id=\"graph0\" class=\"graph\" transform=\"scale(1 1) rotate(0) translate(4 360.0479)\">\n",
       "<title>%3</title>\n",
       "<polygon fill=\"#ffffff\" stroke=\"transparent\" points=\"-4,4 -4,-360.0479 958.7774,-360.0479 958.7774,4 -4,4\"/>\n",
       "<!-- gre -->\n",
       "<g id=\"node1\" class=\"node\">\n",
       "<title>gre</title>\n",
       "<ellipse fill=\"none\" stroke=\"#000000\" cx=\"27\" cy=\"-327.0479\" rx=\"27\" ry=\"18\"/>\n",
       "<text text-anchor=\"middle\" x=\"27\" y=\"-323.3479\" font-family=\"Times,serif\" font-size=\"14.00\" fill=\"#000000\">gre</text>\n",
       "</g>\n",
       "<!-- L0N0 -->\n",
       "<g id=\"node2\" class=\"node\">\n",
       "<title>L0N0</title>\n",
       "<ellipse fill=\"none\" stroke=\"#000000\" cx=\"249.8472\" cy=\"-134.0479\" rx=\"31.6951\" ry=\"18\"/>\n",
       "<text text-anchor=\"middle\" x=\"249.8472\" y=\"-130.3479\" font-family=\"Times,serif\" font-size=\"14.00\" fill=\"#000000\">L0N0</text>\n",
       "</g>\n",
       "<!-- gre&#45;&gt;L0N0 -->\n",
       "<g id=\"edge1\" class=\"edge\">\n",
       "<title>gre&#45;&gt;L0N0</title>\n",
       "<path fill=\"none\" stroke=\"#000000\" d=\"M49.57,-316.9425C56.6435,-314.0693 64.5505,-311.1526 72,-309.0479 127.5485,-293.3534 159.6211,-328.297 200,-287.0479 237.7256,-248.5092 194.1422,-215.4137 218,-167.0479 219.8107,-163.3772 222.1783,-159.85 224.8063,-156.5568\"/>\n",
       "<polygon fill=\"#000000\" stroke=\"#000000\" points=\"227.6093,-158.6747 231.7059,-148.9039 222.4102,-153.9874 227.6093,-158.6747\"/>\n",
       "<text text-anchor=\"middle\" x=\"136\" y=\"-312.8479\" font-family=\"Times,serif\" font-size=\"14.00\" fill=\"#000000\">8.642805934162094</text>\n",
       "</g>\n",
       "<!-- L0N1 -->\n",
       "<g id=\"node5\" class=\"node\">\n",
       "<title>L0N1</title>\n",
       "<ellipse fill=\"none\" stroke=\"#000000\" cx=\"249.8472\" cy=\"-271.0479\" rx=\"31.6951\" ry=\"18\"/>\n",
       "<text text-anchor=\"middle\" x=\"249.8472\" y=\"-267.3479\" font-family=\"Times,serif\" font-size=\"14.00\" fill=\"#000000\">L0N1</text>\n",
       "</g>\n",
       "<!-- gre&#45;&gt;L0N1 -->\n",
       "<g id=\"edge4\" class=\"edge\">\n",
       "<title>gre&#45;&gt;L0N1</title>\n",
       "<path fill=\"none\" stroke=\"#000000\" d=\"M52.4266,-333.5526C87.4216,-341.1321 151.5917,-350.0221 200,-328.0479 214.3525,-321.5328 226.1951,-308.6172 234.7306,-296.7256\"/>\n",
       "<polygon fill=\"#000000\" stroke=\"#000000\" points=\"237.6828,-298.6075 240.3499,-288.3538 231.8706,-294.7063 237.6828,-298.6075\"/>\n",
       "<text text-anchor=\"middle\" x=\"136\" y=\"-344.8479\" font-family=\"Times,serif\" font-size=\"14.00\" fill=\"#000000\">114.87971680366616</text>\n",
       "</g>\n",
       "<!-- L1N0 -->\n",
       "<g id=\"node7\" class=\"node\">\n",
       "<title>L1N0</title>\n",
       "<ellipse fill=\"none\" stroke=\"#000000\" cx=\"472.5415\" cy=\"-143.0479\" rx=\"31.6951\" ry=\"18\"/>\n",
       "<text text-anchor=\"middle\" x=\"472.5415\" y=\"-139.3479\" font-family=\"Times,serif\" font-size=\"14.00\" fill=\"#000000\">L1N0</text>\n",
       "</g>\n",
       "<!-- L0N0&#45;&gt;L1N0 -->\n",
       "<g id=\"edge9\" class=\"edge\">\n",
       "<title>L0N0&#45;&gt;L1N0</title>\n",
       "<path fill=\"none\" stroke=\"#000000\" d=\"M269.6865,-119.8108C278.4427,-114.3698 289.1315,-108.8115 299.6943,-106.0479 352.5809,-92.211 370.7902,-88.8896 422.6943,-106.0479 432.0127,-109.1283 441.0089,-114.6989 448.7332,-120.5983\"/>\n",
       "<polygon fill=\"#000000\" stroke=\"#000000\" points=\"446.6191,-123.391 456.5707,-127.0266 451.0584,-117.9787 446.6191,-123.391\"/>\n",
       "<text text-anchor=\"middle\" x=\"361.1943\" y=\"-109.8479\" font-family=\"Times,serif\" font-size=\"14.00\" fill=\"#000000\">&#45;38.70246851160926</text>\n",
       "</g>\n",
       "<!-- L1N1 -->\n",
       "<g id=\"node8\" class=\"node\">\n",
       "<title>L1N1</title>\n",
       "<ellipse fill=\"none\" stroke=\"#000000\" cx=\"472.5415\" cy=\"-219.0479\" rx=\"31.6951\" ry=\"18\"/>\n",
       "<text text-anchor=\"middle\" x=\"472.5415\" y=\"-215.3479\" font-family=\"Times,serif\" font-size=\"14.00\" fill=\"#000000\">L1N1</text>\n",
       "</g>\n",
       "<!-- L0N0&#45;&gt;L1N1 -->\n",
       "<g id=\"edge11\" class=\"edge\">\n",
       "<title>L0N0&#45;&gt;L1N1</title>\n",
       "<path fill=\"none\" stroke=\"#000000\" d=\"M272.6804,-146.9039C280.9972,-151.2071 290.5939,-155.7444 299.6943,-159.0479 352.4891,-178.2124 370.8312,-166.4891 422.6943,-188.0479 429.9404,-191.0599 437.3371,-195.0646 444.1383,-199.1923\"/>\n",
       "<polygon fill=\"#000000\" stroke=\"#000000\" points=\"442.658,-202.3988 452.9735,-204.8155 446.4165,-196.4934 442.658,-202.3988\"/>\n",
       "<text text-anchor=\"middle\" x=\"361.1943\" y=\"-191.8479\" font-family=\"Times,serif\" font-size=\"14.00\" fill=\"#000000\">14.183190027018927</text>\n",
       "</g>\n",
       "<!-- gpa -->\n",
       "<g id=\"node3\" class=\"node\">\n",
       "<title>gpa</title>\n",
       "<ellipse fill=\"none\" stroke=\"#000000\" cx=\"27\" cy=\"-106.0479\" rx=\"27\" ry=\"18\"/>\n",
       "<text text-anchor=\"middle\" x=\"27\" y=\"-102.3479\" font-family=\"Times,serif\" font-size=\"14.00\" fill=\"#000000\">gpa</text>\n",
       "</g>\n",
       "<!-- gpa&#45;&gt;L0N0 -->\n",
       "<g id=\"edge2\" class=\"edge\">\n",
       "<title>gpa&#45;&gt;L0N0</title>\n",
       "<path fill=\"none\" stroke=\"#000000\" d=\"M47.3887,-94.2376C54.8757,-90.5279 63.5833,-86.9151 72,-85.0479 127.5386,-72.7267 147.3487,-63.5029 200,-85.0479 212.2841,-90.0745 223.1706,-99.7504 231.6114,-109.1851\"/>\n",
       "<polygon fill=\"#000000\" stroke=\"#000000\" points=\"229.0027,-111.5216 238.1034,-116.9463 234.3719,-107.0303 229.0027,-111.5216\"/>\n",
       "<text text-anchor=\"middle\" x=\"136\" y=\"-88.8479\" font-family=\"Times,serif\" font-size=\"14.00\" fill=\"#000000\">&#45;15.716839059415419</text>\n",
       "</g>\n",
       "<!-- gpa&#45;&gt;L0N1 -->\n",
       "<g id=\"edge5\" class=\"edge\">\n",
       "<title>gpa&#45;&gt;L0N1</title>\n",
       "<path fill=\"none\" stroke=\"#000000\" d=\"M35.8605,-123.1738C45.8038,-141.7088 61.866,-169.5034 72,-176.0479 120.3135,-207.2482 155.0132,-159.2172 200,-195.0479 217.1727,-208.7254 205.7106,-222.8559 218,-241.0479 219.8284,-243.7544 221.941,-246.3981 224.1909,-248.9237\"/>\n",
       "<polygon fill=\"#000000\" stroke=\"#000000\" points=\"221.7093,-251.392 231.2051,-256.0911 226.7123,-246.496 221.7093,-251.392\"/>\n",
       "<text text-anchor=\"middle\" x=\"136\" y=\"-198.8479\" font-family=\"Times,serif\" font-size=\"14.00\" fill=\"#000000\">153.51424294074226</text>\n",
       "</g>\n",
       "<!-- rank -->\n",
       "<g id=\"node4\" class=\"node\">\n",
       "<title>rank</title>\n",
       "<ellipse fill=\"none\" stroke=\"#000000\" cx=\"27\" cy=\"-185.0479\" rx=\"27\" ry=\"18\"/>\n",
       "<text text-anchor=\"middle\" x=\"27\" y=\"-181.3479\" font-family=\"Times,serif\" font-size=\"14.00\" fill=\"#000000\">rank</text>\n",
       "</g>\n",
       "<!-- rank&#45;&gt;L0N0 -->\n",
       "<g id=\"edge3\" class=\"edge\">\n",
       "<title>rank&#45;&gt;L0N0</title>\n",
       "<path fill=\"none\" stroke=\"#000000\" d=\"M34.1877,-167.5031C41.338,-152.6314 53.8708,-132.2907 72,-123.0479 116.3373,-100.4434 175.1834,-110.593 212.7939,-121.257\"/>\n",
       "<polygon fill=\"#000000\" stroke=\"#000000\" points=\"212.2256,-124.7401 222.8091,-124.2516 214.2309,-118.0335 212.2256,-124.7401\"/>\n",
       "<text text-anchor=\"middle\" x=\"136\" y=\"-126.8479\" font-family=\"Times,serif\" font-size=\"14.00\" fill=\"#000000\">&#45;39.22925275259963</text>\n",
       "</g>\n",
       "<!-- rank&#45;&gt;L0N1 -->\n",
       "<g id=\"edge6\" class=\"edge\">\n",
       "<title>rank&#45;&gt;L0N1</title>\n",
       "<path fill=\"none\" stroke=\"#000000\" d=\"M45.0028,-198.7575C52.9233,-204.2179 62.5593,-210.124 72,-214.0479 125.7743,-236.3982 145.7307,-220.9279 200,-242.0479 206.7703,-244.6827 213.7075,-248.1538 220.1729,-251.7753\"/>\n",
       "<polygon fill=\"#000000\" stroke=\"#000000\" points=\"218.8403,-255.0523 229.2335,-257.1092 222.3914,-249.0199 218.8403,-255.0523\"/>\n",
       "<text text-anchor=\"middle\" x=\"136\" y=\"-245.8479\" font-family=\"Times,serif\" font-size=\"14.00\" fill=\"#000000\">128.4437137691431</text>\n",
       "</g>\n",
       "<!-- L0N1&#45;&gt;L1N0 -->\n",
       "<g id=\"edge10\" class=\"edge\">\n",
       "<title>L0N1&#45;&gt;L1N0</title>\n",
       "<path fill=\"none\" stroke=\"#000000\" d=\"M276.5053,-261.037C283.9371,-258.4988 292.0657,-255.9547 299.6943,-254.0479 353.426,-240.6176 379.0617,-268.1601 422.6943,-234.0479 438.6938,-221.5394 431.1255,-209.9611 440.6943,-192.0479 444.9549,-184.072 450.1089,-175.7106 455.0178,-168.1989\"/>\n",
       "<polygon fill=\"#000000\" stroke=\"#000000\" points=\"457.9541,-170.1042 460.5997,-159.845 452.1338,-166.2152 457.9541,-170.1042\"/>\n",
       "<text text-anchor=\"middle\" x=\"361.1943\" y=\"-257.8479\" font-family=\"Times,serif\" font-size=\"14.00\" fill=\"#000000\">&#45;38.47797962454819</text>\n",
       "</g>\n",
       "<!-- L0N1&#45;&gt;L1N1 -->\n",
       "<g id=\"edge12\" class=\"edge\">\n",
       "<title>L0N1&#45;&gt;L1N1</title>\n",
       "<path fill=\"none\" stroke=\"#000000\" d=\"M279.1245,-278.4354C314.7145,-285.8685 375.8226,-293.5695 422.6943,-273.0479 436.292,-267.0945 447.8258,-255.3991 456.3631,-244.4105\"/>\n",
       "<polygon fill=\"#000000\" stroke=\"#000000\" points=\"459.2446,-246.3991 462.2921,-236.252 453.5819,-242.2838 459.2446,-246.3991\"/>\n",
       "<text text-anchor=\"middle\" x=\"361.1943\" y=\"-289.8479\" font-family=\"Times,serif\" font-size=\"14.00\" fill=\"#000000\">17.64317290444243</text>\n",
       "</g>\n",
       "<!-- ILI -->\n",
       "<g id=\"node6\" class=\"node\">\n",
       "<title>ILI</title>\n",
       "<ellipse fill=\"none\" stroke=\"#000000\" cx=\"27\" cy=\"-259.0479\" rx=\"22.1814\" ry=\"22.1814\"/>\n",
       "<ellipse fill=\"none\" stroke=\"#000000\" cx=\"27\" cy=\"-259.0479\" rx=\"26.1964\" ry=\"26.1964\"/>\n",
       "<text text-anchor=\"middle\" x=\"27\" y=\"-255.3479\" font-family=\"Times,serif\" font-size=\"14.00\" fill=\"#000000\">ILI</text>\n",
       "</g>\n",
       "<!-- ILI&#45;&gt;L0N0 -->\n",
       "<g id=\"edge7\" class=\"edge\">\n",
       "<title>ILI&#45;&gt;L0N0</title>\n",
       "<path fill=\"none\" stroke=\"#000000\" d=\"M41.0403,-236.5402C45.4919,-228.9199 50.2311,-220.258 54,-212.0479 64.0283,-190.2027 53.4782,-176.3684 72,-161.0479 82.3346,-152.4995 158.8787,-143.2662 208.1231,-138.1161\"/>\n",
       "<polygon fill=\"#000000\" stroke=\"#000000\" points=\"208.5942,-141.5862 218.1833,-137.0809 207.8776,-134.623 208.5942,-141.5862\"/>\n",
       "<text text-anchor=\"middle\" x=\"136\" y=\"-164.8479\" font-family=\"Times,serif\" font-size=\"14.00\" fill=\"#000000\">&#45;1.0754888449231585</text>\n",
       "</g>\n",
       "<!-- ILI&#45;&gt;L0N1 -->\n",
       "<g id=\"edge8\" class=\"edge\">\n",
       "<title>ILI&#45;&gt;L0N1</title>\n",
       "<path fill=\"none\" stroke=\"#000000\" d=\"M53.4386,-260.4715C91.6237,-262.5278 162.5939,-266.3494 207.9547,-268.792\"/>\n",
       "<polygon fill=\"#000000\" stroke=\"#000000\" points=\"207.8873,-272.2934 218.0611,-269.3362 208.2638,-265.3035 207.8873,-272.2934\"/>\n",
       "<text text-anchor=\"middle\" x=\"136\" y=\"-271.8479\" font-family=\"Times,serif\" font-size=\"14.00\" fill=\"#000000\">39.447048920559304</text>\n",
       "</g>\n",
       "<!-- L2N0 -->\n",
       "<g id=\"node10\" class=\"node\">\n",
       "<title>L2N0</title>\n",
       "<ellipse fill=\"none\" stroke=\"#000000\" cx=\"700.2359\" cy=\"-92.0479\" rx=\"31.6951\" ry=\"18\"/>\n",
       "<text text-anchor=\"middle\" x=\"700.2359\" y=\"-88.3479\" font-family=\"Times,serif\" font-size=\"14.00\" fill=\"#000000\">L2N0</text>\n",
       "</g>\n",
       "<!-- L1N0&#45;&gt;L2N0 -->\n",
       "<g id=\"edge15\" class=\"edge\">\n",
       "<title>L1N0&#45;&gt;L2N0</title>\n",
       "<path fill=\"none\" stroke=\"#000000\" d=\"M488.4339,-127.2479C493.6401,-121.8977 499.3727,-115.8153 504.3887,-110.0479 512.9071,-100.2535 510.7196,-92.7334 522.3887,-87.0479 566.5527,-65.5301 624.4869,-72.6792 662.0344,-81.1806\"/>\n",
       "<polygon fill=\"#000000\" stroke=\"#000000\" points=\"661.5145,-84.6553 672.0558,-83.5916 663.1519,-77.8495 661.5145,-84.6553\"/>\n",
       "<text text-anchor=\"middle\" x=\"586.3887\" y=\"-90.8479\" font-family=\"Times,serif\" font-size=\"14.00\" fill=\"#000000\">1.09390680685594</text>\n",
       "</g>\n",
       "<!-- L2N1 -->\n",
       "<g id=\"node11\" class=\"node\">\n",
       "<title>L2N1</title>\n",
       "<ellipse fill=\"none\" stroke=\"#000000\" cx=\"700.2359\" cy=\"-157.0479\" rx=\"31.6951\" ry=\"18\"/>\n",
       "<text text-anchor=\"middle\" x=\"700.2359\" y=\"-153.3479\" font-family=\"Times,serif\" font-size=\"14.00\" fill=\"#000000\">L2N1</text>\n",
       "</g>\n",
       "<!-- L1N0&#45;&gt;L2N1 -->\n",
       "<g id=\"edge17\" class=\"edge\">\n",
       "<title>L1N0&#45;&gt;L2N1</title>\n",
       "<path fill=\"none\" stroke=\"#000000\" d=\"M504.6816,-145.024C544.8564,-147.4942 613.7219,-151.7285 658.0886,-154.4564\"/>\n",
       "<polygon fill=\"#000000\" stroke=\"#000000\" points=\"658.0633,-157.9614 668.2593,-155.0818 658.4929,-150.9746 658.0633,-157.9614\"/>\n",
       "<text text-anchor=\"middle\" x=\"586.3887\" y=\"-156.8479\" font-family=\"Times,serif\" font-size=\"14.00\" fill=\"#000000\">18.272795357574537</text>\n",
       "</g>\n",
       "<!-- L1N1&#45;&gt;L2N0 -->\n",
       "<g id=\"edge16\" class=\"edge\">\n",
       "<title>L1N1&#45;&gt;L2N0</title>\n",
       "<path fill=\"none\" stroke=\"#000000\" d=\"M496.7167,-207.0827C504.7401,-203.4638 513.815,-199.7401 522.3887,-197.0479 577.6902,-179.6826 605.2956,-208.4678 650.3887,-172.0479 666.1879,-159.2874 657.7526,-147.3487 668.3887,-130.0479 671.3189,-125.2815 674.8143,-120.4858 678.3989,-115.9828\"/>\n",
       "<polygon fill=\"#000000\" stroke=\"#000000\" points=\"681.1218,-118.1826 684.8448,-108.2634 675.7487,-113.696 681.1218,-118.1826\"/>\n",
       "<text text-anchor=\"middle\" x=\"586.3887\" y=\"-200.8479\" font-family=\"Times,serif\" font-size=\"14.00\" fill=\"#000000\">1.246752689019106</text>\n",
       "</g>\n",
       "<!-- L1N1&#45;&gt;L2N1 -->\n",
       "<g id=\"edge18\" class=\"edge\">\n",
       "<title>L1N1&#45;&gt;L2N1</title>\n",
       "<path fill=\"none\" stroke=\"#000000\" d=\"M502.2413,-225.7044C538.9857,-232.3833 602.5424,-238.7531 650.3887,-216.0479 665.0113,-209.1087 676.9264,-195.5969 685.4364,-183.2531\"/>\n",
       "<polygon fill=\"#000000\" stroke=\"#000000\" points=\"688.5489,-184.8843 691.0212,-174.5819 682.6639,-181.0939 688.5489,-184.8843\"/>\n",
       "<text text-anchor=\"middle\" x=\"586.3887\" y=\"-234.8479\" font-family=\"Times,serif\" font-size=\"14.00\" fill=\"#000000\">&#45;4.146066326999054</text>\n",
       "</g>\n",
       "<!-- L0I -->\n",
       "<g id=\"node9\" class=\"node\">\n",
       "<title>L0I</title>\n",
       "<ellipse fill=\"none\" stroke=\"#000000\" cx=\"249.8472\" cy=\"-204.0479\" rx=\"24.089\" ry=\"24.089\"/>\n",
       "<ellipse fill=\"none\" stroke=\"#000000\" cx=\"249.8472\" cy=\"-204.0479\" rx=\"28.0958\" ry=\"28.0958\"/>\n",
       "<text text-anchor=\"middle\" x=\"249.8472\" y=\"-200.3479\" font-family=\"Times,serif\" font-size=\"14.00\" fill=\"#000000\">L0I</text>\n",
       "</g>\n",
       "<!-- L0I&#45;&gt;L1N0 -->\n",
       "<g id=\"edge13\" class=\"edge\">\n",
       "<title>L0I&#45;&gt;L1N0</title>\n",
       "<path fill=\"none\" stroke=\"#000000\" d=\"M267.0729,-181.5046C279.641,-165.379 295.2257,-146.1608 299.6943,-144.0479 341.7935,-124.1422 396.3666,-128.0019 432.8212,-134.1292\"/>\n",
       "<polygon fill=\"#000000\" stroke=\"#000000\" points=\"432.5931,-137.6449 443.0578,-135.9893 433.8447,-130.7577 432.5931,-137.6449\"/>\n",
       "<text text-anchor=\"middle\" x=\"361.1943\" y=\"-147.8479\" font-family=\"Times,serif\" font-size=\"14.00\" fill=\"#000000\">33.222502982302444</text>\n",
       "</g>\n",
       "<!-- L0I&#45;&gt;L1N1 -->\n",
       "<g id=\"edge14\" class=\"edge\">\n",
       "<title>L0I&#45;&gt;L1N1</title>\n",
       "<path fill=\"none\" stroke=\"#000000\" d=\"M278.0516,-205.9476C316.5167,-208.5385 385.7369,-213.201 430.38,-216.208\"/>\n",
       "<polygon fill=\"#000000\" stroke=\"#000000\" points=\"430.4019,-219.7173 440.6145,-216.8974 430.8724,-212.7331 430.4019,-219.7173\"/>\n",
       "<text text-anchor=\"middle\" x=\"361.1943\" y=\"-218.8479\" font-family=\"Times,serif\" font-size=\"14.00\" fill=\"#000000\">&#45;1.087547184680312</text>\n",
       "</g>\n",
       "<!-- L3N0 -->\n",
       "<g id=\"node13\" class=\"node\">\n",
       "<title>L3N0</title>\n",
       "<ellipse fill=\"none\" stroke=\"#000000\" cx=\"922.9302\" cy=\"-92.0479\" rx=\"31.6951\" ry=\"18\"/>\n",
       "<text text-anchor=\"middle\" x=\"922.9302\" y=\"-88.3479\" font-family=\"Times,serif\" font-size=\"14.00\" fill=\"#000000\">L3N0</text>\n",
       "</g>\n",
       "<!-- L2N0&#45;&gt;L3N0 -->\n",
       "<g id=\"edge21\" class=\"edge\">\n",
       "<title>L2N0&#45;&gt;L3N0</title>\n",
       "<path fill=\"none\" stroke=\"#000000\" d=\"M732.1425,-92.0479C771.252,-92.0479 837.6445,-92.0479 880.8868,-92.0479\"/>\n",
       "<polygon fill=\"#000000\" stroke=\"#000000\" points=\"881.0828,-95.548 891.0827,-92.0479 881.0827,-88.548 881.0828,-95.548\"/>\n",
       "<text text-anchor=\"middle\" x=\"811.583\" y=\"-95.8479\" font-family=\"Times,serif\" font-size=\"14.00\" fill=\"#000000\">&#45;6.726735031429661</text>\n",
       "</g>\n",
       "<!-- L2N1&#45;&gt;L3N0 -->\n",
       "<g id=\"edge22\" class=\"edge\">\n",
       "<title>L2N1&#45;&gt;L3N0</title>\n",
       "<path fill=\"none\" stroke=\"#000000\" d=\"M729.8674,-150.1573C764.5111,-141.8724 823.4353,-127.0683 873.083,-111.0479 877.7406,-109.545 882.5993,-107.8529 887.3777,-106.1139\"/>\n",
       "<polygon fill=\"#000000\" stroke=\"#000000\" points=\"888.8411,-109.3035 896.9828,-102.5238 886.3903,-102.7465 888.8411,-109.3035\"/>\n",
       "<text text-anchor=\"middle\" x=\"811.583\" y=\"-148.8479\" font-family=\"Times,serif\" font-size=\"14.00\" fill=\"#000000\">&#45;85.26554178353312</text>\n",
       "</g>\n",
       "<!-- L1I -->\n",
       "<g id=\"node12\" class=\"node\">\n",
       "<title>L1I</title>\n",
       "<ellipse fill=\"none\" stroke=\"#000000\" cx=\"472.5415\" cy=\"-73.0479\" rx=\"24.089\" ry=\"24.089\"/>\n",
       "<ellipse fill=\"none\" stroke=\"#000000\" cx=\"472.5415\" cy=\"-73.0479\" rx=\"28.0958\" ry=\"28.0958\"/>\n",
       "<text text-anchor=\"middle\" x=\"472.5415\" y=\"-69.3479\" font-family=\"Times,serif\" font-size=\"14.00\" fill=\"#000000\">L1I</text>\n",
       "</g>\n",
       "<!-- L1I&#45;&gt;L2N0 -->\n",
       "<g id=\"edge19\" class=\"edge\">\n",
       "<title>L1I&#45;&gt;L2N0</title>\n",
       "<path fill=\"none\" stroke=\"#000000\" d=\"M496.8412,-58.6657C504.7203,-54.7459 513.6801,-51.0352 522.3887,-49.0479 577.8518,-36.3912 597.2134,-28.8307 650.3887,-49.0479 660.3936,-52.8517 660.3059,-58.031 668.3887,-65.0479 670.3524,-66.7526 672.3912,-68.5098 674.4454,-70.2713\"/>\n",
       "<polygon fill=\"#000000\" stroke=\"#000000\" points=\"672.4383,-73.1595 682.3187,-76.9842 676.9799,-67.8328 672.4383,-73.1595\"/>\n",
       "<text text-anchor=\"middle\" x=\"586.3887\" y=\"-52.8479\" font-family=\"Times,serif\" font-size=\"14.00\" fill=\"#000000\">&#45;2.1652385203835287</text>\n",
       "</g>\n",
       "<!-- L1I&#45;&gt;L2N1 -->\n",
       "<g id=\"edge20\" class=\"edge\">\n",
       "<title>L1I&#45;&gt;L2N1</title>\n",
       "<path fill=\"none\" stroke=\"#000000\" d=\"M496.0748,-88.9053C504.1342,-93.7385 513.3929,-98.6629 522.3887,-102.0479 576.6389,-122.4615 596.2916,-106.2318 650.3887,-127.0479 657.5176,-129.791 664.7846,-133.5315 671.486,-137.4406\"/>\n",
       "<polygon fill=\"#000000\" stroke=\"#000000\" points=\"669.8549,-140.5462 680.2077,-142.798 673.5188,-134.5816 669.8549,-140.5462\"/>\n",
       "<text text-anchor=\"middle\" x=\"586.3887\" y=\"-130.8479\" font-family=\"Times,serif\" font-size=\"14.00\" fill=\"#000000\">2.6362989320811865</text>\n",
       "</g>\n",
       "<!-- L2I -->\n",
       "<g id=\"node14\" class=\"node\">\n",
       "<title>L2I</title>\n",
       "<ellipse fill=\"none\" stroke=\"#000000\" cx=\"700.2359\" cy=\"-28.0479\" rx=\"24.089\" ry=\"24.089\"/>\n",
       "<ellipse fill=\"none\" stroke=\"#000000\" cx=\"700.2359\" cy=\"-28.0479\" rx=\"28.0958\" ry=\"28.0958\"/>\n",
       "<text text-anchor=\"middle\" x=\"700.2359\" y=\"-24.3479\" font-family=\"Times,serif\" font-size=\"14.00\" fill=\"#000000\">L2I</text>\n",
       "</g>\n",
       "<!-- L2I&#45;&gt;L3N0 -->\n",
       "<g id=\"edge23\" class=\"edge\">\n",
       "<title>L2I&#45;&gt;L3N0</title>\n",
       "<path fill=\"none\" stroke=\"#000000\" d=\"M727.7433,-34.2266C762.0705,-42.1616 822.4291,-56.8539 873.083,-73.0479 877.7447,-74.5382 882.6057,-76.2228 887.3853,-77.958\"/>\n",
       "<polygon fill=\"#000000\" stroke=\"#000000\" points=\"886.3989,-81.3257 896.9915,-81.5448 888.8475,-74.7679 886.3989,-81.3257\"/>\n",
       "<text text-anchor=\"middle\" x=\"811.583\" y=\"-76.8479\" font-family=\"Times,serif\" font-size=\"14.00\" fill=\"#000000\">17.596724201092446</text>\n",
       "</g>\n",
       "</g>\n",
       "</svg>\n"
      ],
      "text/plain": [
       "<graphviz.dot.Digraph at 0x7fa9011be0f0>"
      ]
     },
     "execution_count": 19,
     "metadata": {},
     "output_type": "execute_result"
    }
   ],
   "source": [
    "graphMLP(Admis.columns[1:], model_nnet.coefs_, model_nnet.intercepts_)"
   ]
  },
  {
   "cell_type": "markdown",
   "metadata": {},
   "source": [
    "As you can see, some weights are large (two orders of magnitude larger then others) This is no good, since it makes the model unstable (i.e., small changes in some inputs may entail significant changes in the network, because of the large weights)\n",
    "\n",
    "One way to avoid this is by regularizing the learning process:"
   ]
  },
  {
   "cell_type": "code",
   "execution_count": 20,
   "metadata": {},
   "outputs": [
    {
     "data": {
      "text/plain": [
       "MLPClassifier(activation='logistic', alpha=0.001, hidden_layer_sizes=[2, 2, 2],\n",
       "              random_state=42, solver='lbfgs')"
      ]
     },
     "execution_count": 20,
     "metadata": {},
     "output_type": "execute_result"
    },
    {
     "name": "stdout",
     "output_type": "stream",
     "text": [
      "Confusion matrix of the TRAIN dataset\n"
     ]
    },
    {
     "data": {
      "text/html": [
       "<div>\n",
       "<style scoped>\n",
       "    .dataframe tbody tr th:only-of-type {\n",
       "        vertical-align: middle;\n",
       "    }\n",
       "\n",
       "    .dataframe tbody tr th {\n",
       "        vertical-align: top;\n",
       "    }\n",
       "\n",
       "    .dataframe thead th {\n",
       "        text-align: right;\n",
       "    }\n",
       "</style>\n",
       "<table border=\"1\" class=\"dataframe\">\n",
       "  <thead>\n",
       "    <tr style=\"text-align: right;\">\n",
       "      <th>predicted</th>\n",
       "      <th>0</th>\n",
       "      <th>1</th>\n",
       "    </tr>\n",
       "    <tr>\n",
       "      <th>target</th>\n",
       "      <th></th>\n",
       "      <th></th>\n",
       "    </tr>\n",
       "  </thead>\n",
       "  <tbody>\n",
       "    <tr>\n",
       "      <th>0</th>\n",
       "      <td>156</td>\n",
       "      <td>27</td>\n",
       "    </tr>\n",
       "    <tr>\n",
       "      <th>1</th>\n",
       "      <td>50</td>\n",
       "      <td>35</td>\n",
       "    </tr>\n",
       "  </tbody>\n",
       "</table>\n",
       "</div>"
      ],
      "text/plain": [
       "predicted    0   1\n",
       "target            \n",
       "0          156  27\n",
       "1           50  35"
      ]
     },
     "execution_count": 20,
     "metadata": {},
     "output_type": "execute_result"
    },
    {
     "data": {
      "text/html": [
       "<div>\n",
       "<style scoped>\n",
       "    .dataframe tbody tr th:only-of-type {\n",
       "        vertical-align: middle;\n",
       "    }\n",
       "\n",
       "    .dataframe tbody tr th {\n",
       "        vertical-align: top;\n",
       "    }\n",
       "\n",
       "    .dataframe thead th {\n",
       "        text-align: right;\n",
       "    }\n",
       "</style>\n",
       "<table border=\"1\" class=\"dataframe\">\n",
       "  <thead>\n",
       "    <tr style=\"text-align: right;\">\n",
       "      <th></th>\n",
       "      <th>F-score (cv)</th>\n",
       "      <th>Precision (cv)</th>\n",
       "      <th>Recall (cv)</th>\n",
       "      <th>Accuracy (cv)</th>\n",
       "    </tr>\n",
       "  </thead>\n",
       "  <tbody>\n",
       "    <tr>\n",
       "      <th>MLP[2,2,2]</th>\n",
       "      <td>0.575</td>\n",
       "      <td>0.647</td>\n",
       "      <td>0.586</td>\n",
       "      <td>0.698</td>\n",
       "    </tr>\n",
       "    <tr>\n",
       "      <th>MLP[1]</th>\n",
       "      <td>0.56</td>\n",
       "      <td>0.655</td>\n",
       "      <td>0.57</td>\n",
       "      <td>0.683</td>\n",
       "    </tr>\n",
       "    <tr>\n",
       "      <th>Logistic Regression</th>\n",
       "      <td>0.554</td>\n",
       "      <td>0.686</td>\n",
       "      <td>0.568</td>\n",
       "      <td>0.698</td>\n",
       "    </tr>\n",
       "    <tr>\n",
       "      <th>MLP[2,2,2]-alpha=0.001</th>\n",
       "      <td>0.516</td>\n",
       "      <td>0.575</td>\n",
       "      <td>0.547</td>\n",
       "      <td>0.687</td>\n",
       "    </tr>\n",
       "  </tbody>\n",
       "</table>\n",
       "</div>"
      ],
      "text/plain": [
       "                       F-score (cv) Precision (cv) Recall (cv) Accuracy (cv)\n",
       "MLP[2,2,2]                    0.575          0.647       0.586         0.698\n",
       "MLP[1]                         0.56          0.655        0.57         0.683\n",
       "Logistic Regression           0.554          0.686       0.568         0.698\n",
       "MLP[2,2,2]-alpha=0.001        0.516          0.575       0.547         0.687"
      ]
     },
     "execution_count": 20,
     "metadata": {},
     "output_type": "execute_result"
    }
   ],
   "source": [
    "model_nnet = MLPClassifier(hidden_layer_sizes=[2,2,2],\n",
    "                           alpha=0.001,\n",
    "                           activation='logistic',\n",
    "                           max_iter=200,\n",
    "                           solver='lbfgs',random_state=42)\n",
    "model_nnet.fit(X_train,y_train);\n",
    "print('Confusion matrix of the TRAIN dataset')\n",
    "confusion(y_train,y_pred)\n",
    "\n",
    "cross_val_results = pd.DataFrame(cross_validate(model_nnet , X_train, y_train, cv = 5, \n",
    "                                                scoring = [ 'f1_macro', 'precision_macro', 'recall_macro', 'accuracy'] ))\n",
    "\n",
    "results_df.loc['MLP[2,2,2]-alpha=0.001',:] = cross_val_results[['test_f1_macro',\n",
    "       'test_precision_macro', 'test_recall_macro','test_accuracy']].mean().values\n",
    "\n",
    "results_df.sort_values(by='F-score (cv)', ascending=False)"
   ]
  },
  {
   "cell_type": "markdown",
   "metadata": {},
   "source": [
    "Now we have a model with smaller weights (more robust) but with worse performance. As you can see, just trying hyperparameter configurations is not enough to obtain a good model. If we want to succeed we need to try a lot of different configurations changing the architecture, the regularization parameter and the activation functions."
   ]
  },
  {
   "cell_type": "code",
   "execution_count": 21,
   "metadata": {
    "scrolled": true
   },
   "outputs": [
    {
     "data": {
      "image/svg+xml": [
       "<?xml version=\"1.0\" encoding=\"UTF-8\" standalone=\"no\"?>\n",
       "<!DOCTYPE svg PUBLIC \"-//W3C//DTD SVG 1.1//EN\"\n",
       " \"http://www.w3.org/Graphics/SVG/1.1/DTD/svg11.dtd\">\n",
       "<!-- Generated by graphviz version 2.40.1 (20161225.0304)\n",
       " -->\n",
       "<!-- Title: %3 Pages: 1 -->\n",
       "<svg width=\"987pt\" height=\"365pt\"\n",
       " viewBox=\"0.00 0.00 986.78 365.05\" xmlns=\"http://www.w3.org/2000/svg\" xmlns:xlink=\"http://www.w3.org/1999/xlink\">\n",
       "<g id=\"graph0\" class=\"graph\" transform=\"scale(1 1) rotate(0) translate(4 361.0479)\">\n",
       "<title>%3</title>\n",
       "<polygon fill=\"#ffffff\" stroke=\"transparent\" points=\"-4,4 -4,-361.0479 982.7774,-361.0479 982.7774,4 -4,4\"/>\n",
       "<!-- gre -->\n",
       "<g id=\"node1\" class=\"node\">\n",
       "<title>gre</title>\n",
       "<ellipse fill=\"none\" stroke=\"#000000\" cx=\"27\" cy=\"-327.0479\" rx=\"27\" ry=\"18\"/>\n",
       "<text text-anchor=\"middle\" x=\"27\" y=\"-323.3479\" font-family=\"Times,serif\" font-size=\"14.00\" fill=\"#000000\">gre</text>\n",
       "</g>\n",
       "<!-- L0N0 -->\n",
       "<g id=\"node2\" class=\"node\">\n",
       "<title>L0N0</title>\n",
       "<ellipse fill=\"none\" stroke=\"#000000\" cx=\"256.8472\" cy=\"-134.0479\" rx=\"31.6951\" ry=\"18\"/>\n",
       "<text text-anchor=\"middle\" x=\"256.8472\" y=\"-130.3479\" font-family=\"Times,serif\" font-size=\"14.00\" fill=\"#000000\">L0N0</text>\n",
       "</g>\n",
       "<!-- gre&#45;&gt;L0N0 -->\n",
       "<g id=\"edge1\" class=\"edge\">\n",
       "<title>gre&#45;&gt;L0N0</title>\n",
       "<path fill=\"none\" stroke=\"#000000\" d=\"M49.5589,-316.9027C56.6319,-314.0279 64.5414,-311.1203 72,-309.0479 130.5724,-292.7728 164.2867,-330.305 207,-287.0479 244.8922,-248.6731 201.1422,-215.4137 225,-167.0479 226.8107,-163.3772 229.1783,-159.85 231.8063,-156.5568\"/>\n",
       "<polygon fill=\"#000000\" stroke=\"#000000\" points=\"234.6093,-158.6747 238.7059,-148.9039 229.4102,-153.9874 234.6093,-158.6747\"/>\n",
       "<text text-anchor=\"middle\" x=\"139.5\" y=\"-312.8479\" font-family=\"Times,serif\" font-size=\"14.00\" fill=\"#000000\">&#45;0.24568438478695803</text>\n",
       "</g>\n",
       "<!-- L0N1 -->\n",
       "<g id=\"node5\" class=\"node\">\n",
       "<title>L0N1</title>\n",
       "<ellipse fill=\"none\" stroke=\"#000000\" cx=\"256.8472\" cy=\"-271.0479\" rx=\"31.6951\" ry=\"18\"/>\n",
       "<text text-anchor=\"middle\" x=\"256.8472\" y=\"-267.3479\" font-family=\"Times,serif\" font-size=\"14.00\" fill=\"#000000\">L0N1</text>\n",
       "</g>\n",
       "<!-- gre&#45;&gt;L0N1 -->\n",
       "<g id=\"edge4\" class=\"edge\">\n",
       "<title>gre&#45;&gt;L0N1</title>\n",
       "<path fill=\"none\" stroke=\"#000000\" d=\"M52.2328,-333.5403C88.3555,-341.4681 156.0639,-351.1696 207,-328.0479 221.3525,-321.5328 233.1951,-308.6172 241.7306,-296.7256\"/>\n",
       "<polygon fill=\"#000000\" stroke=\"#000000\" points=\"244.6828,-298.6075 247.3499,-288.3538 238.8706,-294.7063 244.6828,-298.6075\"/>\n",
       "<text text-anchor=\"middle\" x=\"139.5\" y=\"-345.8479\" font-family=\"Times,serif\" font-size=\"14.00\" fill=\"#000000\">14.454438154211728</text>\n",
       "</g>\n",
       "<!-- L1N0 -->\n",
       "<g id=\"node7\" class=\"node\">\n",
       "<title>L1N0</title>\n",
       "<ellipse fill=\"none\" stroke=\"#000000\" cx=\"484.5415\" cy=\"-143.0479\" rx=\"31.6951\" ry=\"18\"/>\n",
       "<text text-anchor=\"middle\" x=\"484.5415\" y=\"-139.3479\" font-family=\"Times,serif\" font-size=\"14.00\" fill=\"#000000\">L1N0</text>\n",
       "</g>\n",
       "<!-- L0N0&#45;&gt;L1N0 -->\n",
       "<g id=\"edge9\" class=\"edge\">\n",
       "<title>L0N0&#45;&gt;L1N0</title>\n",
       "<path fill=\"none\" stroke=\"#000000\" d=\"M276.6865,-119.8108C285.4427,-114.3698 296.1315,-108.8115 306.6943,-106.0479 361.7307,-91.6485 380.6803,-88.1921 434.6943,-106.0479 444.0127,-109.1283 453.0089,-114.6989 460.7332,-120.5983\"/>\n",
       "<polygon fill=\"#000000\" stroke=\"#000000\" points=\"458.6191,-123.391 468.5707,-127.0266 463.0584,-117.9787 458.6191,-123.391\"/>\n",
       "<text text-anchor=\"middle\" x=\"370.6943\" y=\"-109.8479\" font-family=\"Times,serif\" font-size=\"14.00\" fill=\"#000000\">&#45;7.728705852243146</text>\n",
       "</g>\n",
       "<!-- L1N1 -->\n",
       "<g id=\"node8\" class=\"node\">\n",
       "<title>L1N1</title>\n",
       "<ellipse fill=\"none\" stroke=\"#000000\" cx=\"484.5415\" cy=\"-219.0479\" rx=\"31.6951\" ry=\"18\"/>\n",
       "<text text-anchor=\"middle\" x=\"484.5415\" y=\"-215.3479\" font-family=\"Times,serif\" font-size=\"14.00\" fill=\"#000000\">L1N1</text>\n",
       "</g>\n",
       "<!-- L0N0&#45;&gt;L1N1 -->\n",
       "<g id=\"edge11\" class=\"edge\">\n",
       "<title>L0N0&#45;&gt;L1N1</title>\n",
       "<path fill=\"none\" stroke=\"#000000\" d=\"M279.6644,-146.9483C287.9797,-151.2556 297.5796,-155.7842 306.6943,-159.0479 361.6108,-178.7113 380.7346,-165.8936 434.6943,-188.0479 441.9534,-191.0282 449.3554,-195.0203 456.1575,-199.1458\"/>\n",
       "<polygon fill=\"#000000\" stroke=\"#000000\" points=\"454.6767,-202.3522 464.9916,-204.7717 458.4369,-196.4478 454.6767,-202.3522\"/>\n",
       "<text text-anchor=\"middle\" x=\"370.6943\" y=\"-191.8479\" font-family=\"Times,serif\" font-size=\"14.00\" fill=\"#000000\">4.702228340813648</text>\n",
       "</g>\n",
       "<!-- gpa -->\n",
       "<g id=\"node3\" class=\"node\">\n",
       "<title>gpa</title>\n",
       "<ellipse fill=\"none\" stroke=\"#000000\" cx=\"27\" cy=\"-106.0479\" rx=\"27\" ry=\"18\"/>\n",
       "<text text-anchor=\"middle\" x=\"27\" y=\"-102.3479\" font-family=\"Times,serif\" font-size=\"14.00\" fill=\"#000000\">gpa</text>\n",
       "</g>\n",
       "<!-- gpa&#45;&gt;L0N0 -->\n",
       "<g id=\"edge2\" class=\"edge\">\n",
       "<title>gpa&#45;&gt;L0N0</title>\n",
       "<path fill=\"none\" stroke=\"#000000\" d=\"M47.3887,-94.2376C54.8757,-90.5279 63.5833,-86.9151 72,-85.0479 130.5758,-72.0529 151.4693,-62.3246 207,-85.0479 219.2841,-90.0745 230.1706,-99.7504 238.6114,-109.1851\"/>\n",
       "<polygon fill=\"#000000\" stroke=\"#000000\" points=\"236.0027,-111.5216 245.1034,-116.9463 241.3719,-107.0303 236.0027,-111.5216\"/>\n",
       "<text text-anchor=\"middle\" x=\"139.5\" y=\"-88.8479\" font-family=\"Times,serif\" font-size=\"14.00\" fill=\"#000000\">&#45;0.40254946052678897</text>\n",
       "</g>\n",
       "<!-- gpa&#45;&gt;L0N1 -->\n",
       "<g id=\"edge5\" class=\"edge\">\n",
       "<title>gpa&#45;&gt;L0N1</title>\n",
       "<path fill=\"none\" stroke=\"#000000\" d=\"M35.8515,-123.1877C45.7867,-141.7354 61.8414,-169.5417 72,-176.0479 123.0236,-208.7266 159.4627,-157.4778 207,-195.0479 224.2241,-208.6606 212.7106,-222.8559 225,-241.0479 226.8284,-243.7544 228.941,-246.3981 231.1909,-248.9237\"/>\n",
       "<polygon fill=\"#000000\" stroke=\"#000000\" points=\"228.7093,-251.392 238.2051,-256.0911 233.7123,-246.496 228.7093,-251.392\"/>\n",
       "<text text-anchor=\"middle\" x=\"139.5\" y=\"-198.8479\" font-family=\"Times,serif\" font-size=\"14.00\" fill=\"#000000\">17.065011663550347</text>\n",
       "</g>\n",
       "<!-- rank -->\n",
       "<g id=\"node4\" class=\"node\">\n",
       "<title>rank</title>\n",
       "<ellipse fill=\"none\" stroke=\"#000000\" cx=\"27\" cy=\"-185.0479\" rx=\"27\" ry=\"18\"/>\n",
       "<text text-anchor=\"middle\" x=\"27\" y=\"-181.3479\" font-family=\"Times,serif\" font-size=\"14.00\" fill=\"#000000\">rank</text>\n",
       "</g>\n",
       "<!-- rank&#45;&gt;L0N0 -->\n",
       "<g id=\"edge3\" class=\"edge\">\n",
       "<title>rank&#45;&gt;L0N0</title>\n",
       "<path fill=\"none\" stroke=\"#000000\" d=\"M34.1877,-167.5031C41.338,-152.6314 53.8708,-132.2907 72,-123.0479 118.6672,-99.2556 180.8121,-110.2062 219.8268,-121.3118\"/>\n",
       "<polygon fill=\"#000000\" stroke=\"#000000\" points=\"219.1207,-124.7538 229.7044,-124.268 221.1278,-118.0477 219.1207,-124.7538\"/>\n",
       "<text text-anchor=\"middle\" x=\"139.5\" y=\"-126.8479\" font-family=\"Times,serif\" font-size=\"14.00\" fill=\"#000000\">&#45;3.6785520595169205</text>\n",
       "</g>\n",
       "<!-- rank&#45;&gt;L0N1 -->\n",
       "<g id=\"edge6\" class=\"edge\">\n",
       "<title>rank&#45;&gt;L0N1</title>\n",
       "<path fill=\"none\" stroke=\"#000000\" d=\"M44.9822,-198.8075C52.8991,-204.2764 62.5381,-210.1753 72,-214.0479 128.7109,-237.2587 149.7753,-220.1344 207,-242.0479 213.7845,-244.6459 220.7278,-248.1011 227.1947,-251.7187\"/>\n",
       "<polygon fill=\"#000000\" stroke=\"#000000\" points=\"225.8618,-254.9956 236.2547,-257.0543 229.4141,-248.9638 225.8618,-254.9956\"/>\n",
       "<text text-anchor=\"middle\" x=\"139.5\" y=\"-245.8479\" font-family=\"Times,serif\" font-size=\"14.00\" fill=\"#000000\">21.31686369978324</text>\n",
       "</g>\n",
       "<!-- L0N1&#45;&gt;L1N0 -->\n",
       "<g id=\"edge10\" class=\"edge\">\n",
       "<title>L0N1&#45;&gt;L1N0</title>\n",
       "<path fill=\"none\" stroke=\"#000000\" d=\"M283.4976,-261.0057C290.9293,-258.4674 299.0598,-255.931 306.6943,-254.0479 362.598,-240.2586 389.2232,-269.3711 434.6943,-234.0479 450.7325,-221.589 443.1255,-209.9611 452.6943,-192.0479 456.9549,-184.072 462.1089,-175.7106 467.0178,-168.1989\"/>\n",
       "<polygon fill=\"#000000\" stroke=\"#000000\" points=\"469.9541,-170.1042 472.5997,-159.845 464.1338,-166.2152 469.9541,-170.1042\"/>\n",
       "<text text-anchor=\"middle\" x=\"370.6943\" y=\"-257.8479\" font-family=\"Times,serif\" font-size=\"14.00\" fill=\"#000000\">&#45;6.250017169069718</text>\n",
       "</g>\n",
       "<!-- L0N1&#45;&gt;L1N1 -->\n",
       "<g id=\"edge12\" class=\"edge\">\n",
       "<title>L0N1&#45;&gt;L1N1</title>\n",
       "<path fill=\"none\" stroke=\"#000000\" d=\"M286.0111,-278.4327C322.4836,-286.1238 386.0426,-294.3488 434.6943,-273.0479 448.292,-267.0945 459.8258,-255.3991 468.3631,-244.4105\"/>\n",
       "<polygon fill=\"#000000\" stroke=\"#000000\" points=\"471.2446,-246.3991 474.2921,-236.252 465.5819,-242.2838 471.2446,-246.3991\"/>\n",
       "<text text-anchor=\"middle\" x=\"370.6943\" y=\"-289.8479\" font-family=\"Times,serif\" font-size=\"14.00\" fill=\"#000000\">4.454179748604812</text>\n",
       "</g>\n",
       "<!-- ILI -->\n",
       "<g id=\"node6\" class=\"node\">\n",
       "<title>ILI</title>\n",
       "<ellipse fill=\"none\" stroke=\"#000000\" cx=\"27\" cy=\"-259.0479\" rx=\"22.1814\" ry=\"22.1814\"/>\n",
       "<ellipse fill=\"none\" stroke=\"#000000\" cx=\"27\" cy=\"-259.0479\" rx=\"26.1964\" ry=\"26.1964\"/>\n",
       "<text text-anchor=\"middle\" x=\"27\" y=\"-255.3479\" font-family=\"Times,serif\" font-size=\"14.00\" fill=\"#000000\">ILI</text>\n",
       "</g>\n",
       "<!-- ILI&#45;&gt;L0N0 -->\n",
       "<g id=\"edge7\" class=\"edge\">\n",
       "<title>ILI&#45;&gt;L0N0</title>\n",
       "<path fill=\"none\" stroke=\"#000000\" d=\"M41.0403,-236.5402C45.4919,-228.9199 50.2311,-220.258 54,-212.0479 64.0283,-190.2027 53.4351,-176.3163 72,-161.0479 82.8676,-152.1099 163.9485,-142.8821 215.0524,-137.865\"/>\n",
       "<polygon fill=\"#000000\" stroke=\"#000000\" points=\"215.5377,-141.3345 225.155,-136.8894 214.8649,-134.3669 215.5377,-141.3345\"/>\n",
       "<text text-anchor=\"middle\" x=\"139.5\" y=\"-164.8479\" font-family=\"Times,serif\" font-size=\"14.00\" fill=\"#000000\">&#45;0.3314292523747426</text>\n",
       "</g>\n",
       "<!-- ILI&#45;&gt;L0N1 -->\n",
       "<g id=\"edge8\" class=\"edge\">\n",
       "<title>ILI&#45;&gt;L0N1</title>\n",
       "<path fill=\"none\" stroke=\"#000000\" d=\"M53.3664,-260.4244C92.8317,-262.4848 167.6497,-266.391 214.7375,-268.8494\"/>\n",
       "<polygon fill=\"#000000\" stroke=\"#000000\" points=\"214.7492,-272.3547 224.9181,-269.3809 215.1142,-265.3642 214.7492,-272.3547\"/>\n",
       "<text text-anchor=\"middle\" x=\"139.5\" y=\"-271.8479\" font-family=\"Times,serif\" font-size=\"14.00\" fill=\"#000000\">2.048169595649138</text>\n",
       "</g>\n",
       "<!-- L2N0 -->\n",
       "<g id=\"node10\" class=\"node\">\n",
       "<title>L2N0</title>\n",
       "<ellipse fill=\"none\" stroke=\"#000000\" cx=\"719.2359\" cy=\"-92.0479\" rx=\"31.6951\" ry=\"18\"/>\n",
       "<text text-anchor=\"middle\" x=\"719.2359\" y=\"-88.3479\" font-family=\"Times,serif\" font-size=\"14.00\" fill=\"#000000\">L2N0</text>\n",
       "</g>\n",
       "<!-- L1N0&#45;&gt;L2N0 -->\n",
       "<g id=\"edge15\" class=\"edge\">\n",
       "<title>L1N0&#45;&gt;L2N0</title>\n",
       "<path fill=\"none\" stroke=\"#000000\" d=\"M500.4339,-127.2479C505.6401,-121.8977 511.3727,-115.8153 516.3887,-110.0479 524.9071,-100.2535 522.7196,-92.7334 534.3887,-87.0479 580.8832,-64.3946 642.0641,-72.2334 681.0335,-81.1577\"/>\n",
       "<polygon fill=\"#000000\" stroke=\"#000000\" points=\"680.379,-84.6003 690.9221,-83.5552 682.0284,-77.7974 680.379,-84.6003\"/>\n",
       "<text text-anchor=\"middle\" x=\"601.8887\" y=\"-90.8479\" font-family=\"Times,serif\" font-size=\"14.00\" fill=\"#000000\">&#45;0.05948964264454203</text>\n",
       "</g>\n",
       "<!-- L2N1 -->\n",
       "<g id=\"node11\" class=\"node\">\n",
       "<title>L2N1</title>\n",
       "<ellipse fill=\"none\" stroke=\"#000000\" cx=\"719.2359\" cy=\"-157.0479\" rx=\"31.6951\" ry=\"18\"/>\n",
       "<text text-anchor=\"middle\" x=\"719.2359\" y=\"-153.3479\" font-family=\"Times,serif\" font-size=\"14.00\" fill=\"#000000\">L2N1</text>\n",
       "</g>\n",
       "<!-- L1N0&#45;&gt;L2N1 -->\n",
       "<g id=\"edge17\" class=\"edge\">\n",
       "<title>L1N0&#45;&gt;L2N1</title>\n",
       "<path fill=\"none\" stroke=\"#000000\" d=\"M516.6827,-144.9652C558.3784,-147.4524 631.2129,-151.7971 677.242,-154.5428\"/>\n",
       "<polygon fill=\"#000000\" stroke=\"#000000\" points=\"677.2922,-158.052 687.4829,-155.1537 677.7091,-151.0644 677.2922,-158.052\"/>\n",
       "<text text-anchor=\"middle\" x=\"601.8887\" y=\"-156.8479\" font-family=\"Times,serif\" font-size=\"14.00\" fill=\"#000000\">4.145194329822768</text>\n",
       "</g>\n",
       "<!-- L1N1&#45;&gt;L2N0 -->\n",
       "<g id=\"edge16\" class=\"edge\">\n",
       "<title>L1N1&#45;&gt;L2N0</title>\n",
       "<path fill=\"none\" stroke=\"#000000\" d=\"M508.4482,-207.1473C516.5325,-203.4894 525.7116,-199.7261 534.3887,-197.0479 592.6947,-179.0517 621.7311,-210.1557 669.3887,-172.0479 685.2501,-159.3648 676.7526,-147.3487 687.3887,-130.0479 690.3189,-125.2815 693.8143,-120.4858 697.3989,-115.9828\"/>\n",
       "<polygon fill=\"#000000\" stroke=\"#000000\" points=\"700.1218,-118.1826 703.8448,-108.2634 694.7487,-113.696 700.1218,-118.1826\"/>\n",
       "<text text-anchor=\"middle\" x=\"601.8887\" y=\"-200.8479\" font-family=\"Times,serif\" font-size=\"14.00\" fill=\"#000000\">&#45;0.9129765110132619</text>\n",
       "</g>\n",
       "<!-- L1N1&#45;&gt;L2N1 -->\n",
       "<g id=\"edge18\" class=\"edge\">\n",
       "<title>L1N1&#45;&gt;L2N1</title>\n",
       "<path fill=\"none\" stroke=\"#000000\" d=\"M514.4123,-225.8083C552.4396,-232.8436 619.2172,-239.8369 669.3887,-216.0479 684.0135,-209.1134 695.9287,-195.6019 704.4382,-183.257\"/>\n",
       "<polygon fill=\"#000000\" stroke=\"#000000\" points=\"707.5512,-184.8875 710.0226,-174.5849 701.6658,-181.0976 707.5512,-184.8875\"/>\n",
       "<text text-anchor=\"middle\" x=\"601.8887\" y=\"-235.8479\" font-family=\"Times,serif\" font-size=\"14.00\" fill=\"#000000\">&#45;1.3064662497937685</text>\n",
       "</g>\n",
       "<!-- L0I -->\n",
       "<g id=\"node9\" class=\"node\">\n",
       "<title>L0I</title>\n",
       "<ellipse fill=\"none\" stroke=\"#000000\" cx=\"256.8472\" cy=\"-204.0479\" rx=\"24.089\" ry=\"24.089\"/>\n",
       "<ellipse fill=\"none\" stroke=\"#000000\" cx=\"256.8472\" cy=\"-204.0479\" rx=\"28.0958\" ry=\"28.0958\"/>\n",
       "<text text-anchor=\"middle\" x=\"256.8472\" y=\"-200.3479\" font-family=\"Times,serif\" font-size=\"14.00\" fill=\"#000000\">L0I</text>\n",
       "</g>\n",
       "<!-- L0I&#45;&gt;L1N0 -->\n",
       "<g id=\"edge13\" class=\"edge\">\n",
       "<title>L0I&#45;&gt;L1N0</title>\n",
       "<path fill=\"none\" stroke=\"#000000\" d=\"M274.0728,-181.5044C286.6408,-165.3787 302.2255,-146.1604 306.6943,-144.0479 350.5816,-123.3011 407.6407,-127.6598 445.1404,-134.1126\"/>\n",
       "<polygon fill=\"#000000\" stroke=\"#000000\" points=\"444.7014,-137.5907 455.1714,-135.969 445.9753,-130.7076 444.7014,-137.5907\"/>\n",
       "<text text-anchor=\"middle\" x=\"370.6943\" y=\"-147.8479\" font-family=\"Times,serif\" font-size=\"14.00\" fill=\"#000000\">5.848969309857726</text>\n",
       "</g>\n",
       "<!-- L0I&#45;&gt;L1N1 -->\n",
       "<g id=\"edge14\" class=\"edge\">\n",
       "<title>L0I&#45;&gt;L1N1</title>\n",
       "<path fill=\"none\" stroke=\"#000000\" d=\"M285.2244,-205.9173C324.8188,-208.5257 396.9165,-213.2753 442.6871,-216.2906\"/>\n",
       "<polygon fill=\"#000000\" stroke=\"#000000\" points=\"442.6675,-219.7968 452.876,-216.9618 443.1277,-212.8119 442.6675,-219.7968\"/>\n",
       "<text text-anchor=\"middle\" x=\"370.6943\" y=\"-218.8479\" font-family=\"Times,serif\" font-size=\"14.00\" fill=\"#000000\">&#45;1.7823467169044143</text>\n",
       "</g>\n",
       "<!-- L3N0 -->\n",
       "<g id=\"node13\" class=\"node\">\n",
       "<title>L3N0</title>\n",
       "<ellipse fill=\"none\" stroke=\"#000000\" cx=\"946.9302\" cy=\"-92.0479\" rx=\"31.6951\" ry=\"18\"/>\n",
       "<text text-anchor=\"middle\" x=\"946.9302\" y=\"-88.3479\" font-family=\"Times,serif\" font-size=\"14.00\" fill=\"#000000\">L3N0</text>\n",
       "</g>\n",
       "<!-- L2N0&#45;&gt;L3N0 -->\n",
       "<g id=\"edge21\" class=\"edge\">\n",
       "<title>L2N0&#45;&gt;L3N0</title>\n",
       "<path fill=\"none\" stroke=\"#000000\" d=\"M751.376,-92.0479C791.5507,-92.0479 860.4163,-92.0479 904.7829,-92.0479\"/>\n",
       "<polygon fill=\"#000000\" stroke=\"#000000\" points=\"904.9536,-95.548 914.9536,-92.0479 904.9536,-88.548 904.9536,-95.548\"/>\n",
       "<text text-anchor=\"middle\" x=\"833.083\" y=\"-95.8479\" font-family=\"Times,serif\" font-size=\"14.00\" fill=\"#000000\">0.8626213052763043</text>\n",
       "</g>\n",
       "<!-- L2N1&#45;&gt;L3N0 -->\n",
       "<g id=\"edge22\" class=\"edge\">\n",
       "<title>L2N1&#45;&gt;L3N0</title>\n",
       "<path fill=\"none\" stroke=\"#000000\" d=\"M749.1034,-150.3933C784.6733,-142.2227 845.7317,-127.4198 897.083,-111.0479 901.7459,-109.5613 906.6076,-107.8788 911.3875,-106.1447\"/>\n",
       "<polygon fill=\"#000000\" stroke=\"#000000\" points=\"912.8494,-109.335 920.994,-102.5589 910.4014,-102.777 912.8494,-109.335\"/>\n",
       "<text text-anchor=\"middle\" x=\"833.083\" y=\"-148.8479\" font-family=\"Times,serif\" font-size=\"14.00\" fill=\"#000000\">&#45;4.6447568894503934</text>\n",
       "</g>\n",
       "<!-- L1I -->\n",
       "<g id=\"node12\" class=\"node\">\n",
       "<title>L1I</title>\n",
       "<ellipse fill=\"none\" stroke=\"#000000\" cx=\"484.5415\" cy=\"-73.0479\" rx=\"24.089\" ry=\"24.089\"/>\n",
       "<ellipse fill=\"none\" stroke=\"#000000\" cx=\"484.5415\" cy=\"-73.0479\" rx=\"28.0958\" ry=\"28.0958\"/>\n",
       "<text text-anchor=\"middle\" x=\"484.5415\" y=\"-69.3479\" font-family=\"Times,serif\" font-size=\"14.00\" fill=\"#000000\">L1I</text>\n",
       "</g>\n",
       "<!-- L1I&#45;&gt;L2N0 -->\n",
       "<g id=\"edge19\" class=\"edge\">\n",
       "<title>L1I&#45;&gt;L2N0</title>\n",
       "<path fill=\"none\" stroke=\"#000000\" d=\"M508.8412,-58.6657C516.7203,-54.7459 525.6801,-51.0352 534.3887,-49.0479 592.8849,-35.6991 613.3054,-27.725 669.3887,-49.0479 679.3936,-52.8517 679.3059,-58.031 687.3887,-65.0479 689.3524,-66.7526 691.3912,-68.5098 693.4454,-70.2713\"/>\n",
       "<polygon fill=\"#000000\" stroke=\"#000000\" points=\"691.4383,-73.1595 701.3187,-76.9842 695.9799,-67.8328 691.4383,-73.1595\"/>\n",
       "<text text-anchor=\"middle\" x=\"601.8887\" y=\"-52.8479\" font-family=\"Times,serif\" font-size=\"14.00\" fill=\"#000000\">&#45;0.49593401733653714</text>\n",
       "</g>\n",
       "<!-- L1I&#45;&gt;L2N1 -->\n",
       "<g id=\"edge20\" class=\"edge\">\n",
       "<title>L1I&#45;&gt;L2N1</title>\n",
       "<path fill=\"none\" stroke=\"#000000\" d=\"M508.0556,-88.9569C516.1137,-93.7935 525.3765,-98.7069 534.3887,-102.0479 591.6038,-123.2586 612.3328,-105.4127 669.3887,-127.0479 676.5309,-129.7561 683.8034,-133.4823 690.5059,-137.3887\"/>\n",
       "<polygon fill=\"#000000\" stroke=\"#000000\" points=\"688.8744,-140.4941 699.2266,-142.7485 692.5397,-134.5304 688.8744,-140.4941\"/>\n",
       "<text text-anchor=\"middle\" x=\"601.8887\" y=\"-130.8479\" font-family=\"Times,serif\" font-size=\"14.00\" fill=\"#000000\">&#45;0.37765650623329633</text>\n",
       "</g>\n",
       "<!-- L2I -->\n",
       "<g id=\"node14\" class=\"node\">\n",
       "<title>L2I</title>\n",
       "<ellipse fill=\"none\" stroke=\"#000000\" cx=\"719.2359\" cy=\"-28.0479\" rx=\"24.089\" ry=\"24.089\"/>\n",
       "<ellipse fill=\"none\" stroke=\"#000000\" cx=\"719.2359\" cy=\"-28.0479\" rx=\"28.0958\" ry=\"28.0958\"/>\n",
       "<text text-anchor=\"middle\" x=\"719.2359\" y=\"-24.3479\" font-family=\"Times,serif\" font-size=\"14.00\" fill=\"#000000\">L2I</text>\n",
       "</g>\n",
       "<!-- L2I&#45;&gt;L3N0 -->\n",
       "<g id=\"edge23\" class=\"edge\">\n",
       "<title>L2I&#45;&gt;L3N0</title>\n",
       "<path fill=\"none\" stroke=\"#000000\" d=\"M746.9351,-34.0049C782.1576,-41.8194 844.6951,-56.4976 897.083,-73.0479 901.7498,-74.5222 906.6138,-76.1974 911.3949,-77.9278\"/>\n",
       "<polygon fill=\"#000000\" stroke=\"#000000\" points=\"910.4098,-81.2958 921.0024,-81.5104 912.8556,-74.737 910.4098,-81.2958\"/>\n",
       "<text text-anchor=\"middle\" x=\"833.083\" y=\"-76.8479\" font-family=\"Times,serif\" font-size=\"14.00\" fill=\"#000000\">0.8570715863163949</text>\n",
       "</g>\n",
       "</g>\n",
       "</svg>\n"
      ],
      "text/plain": [
       "<graphviz.dot.Digraph at 0x7fa9011be080>"
      ]
     },
     "execution_count": 21,
     "metadata": {},
     "output_type": "execute_result"
    }
   ],
   "source": [
    "graphMLP(Admis.columns[1:], model_nnet.coefs_, model_nnet.intercepts_)"
   ]
  },
  {
   "cell_type": "markdown",
   "metadata": {},
   "source": [
    "MLP results depend *Strongly* of its hyperparameter configuration. Now we are going to see different strategies to obtain the best hyperparameters for our model."
   ]
  },
  {
   "cell_type": "markdown",
   "metadata": {},
   "source": [
    "Scikit learn has specific functions for parameter search so we can tune the parameters of a model.\n",
    "\n",
    " We are going to use a grid search that will use a cross validation strategy to evaluate the results for each combination of parameters. At the end the best model will be returned\n",
    "\n",
    " In order to find the best network architecture, we can:\n",
    "\n",
    "1. Explore different numbers of hidden units in one hidden layer, with the best architecture, find the best regularization. \n",
    "2. Use grid search over all the combinations of architectures and regularization values. \n",
    "\n",
    "Most of the times the first option is good enough in terms of results, while a lot faster than the second. \n",
    "\n",
    "In this particular case we will do the secon method, as we are woring with a small and easy dataset.\n",
    "\n",
    "set desired sizes"
   ]
  },
  {
   "cell_type": "code",
   "execution_count": 22,
   "metadata": {},
   "outputs": [
    {
     "data": {
      "text/plain": [
       "(12,\n",
       " [2,\n",
       "  4,\n",
       "  6,\n",
       "  8,\n",
       "  [2, 2],\n",
       "  [4, 4],\n",
       "  [6, 6],\n",
       "  [8, 8],\n",
       "  [2, 2, 2],\n",
       "  [4, 4, 4],\n",
       "  [6, 6, 6],\n",
       "  [8, 8, 8]])"
      ]
     },
     "execution_count": 22,
     "metadata": {},
     "output_type": "execute_result"
    },
    {
     "data": {
      "text/plain": [
       "(7, [1e-05, 0.0001, 0.001, 0.01, 0.1, 0.5, 1])"
      ]
     },
     "execution_count": 22,
     "metadata": {},
     "output_type": "execute_result"
    }
   ],
   "source": [
    "sizes = [2*i for i in range(1,5)]\n",
    "sizes = sizes + [[2*i,2*i] for i in range(1,5)]\n",
    "sizes = sizes + [[2*i,2*i, 2*i] for i in range(1,5)]\n",
    "\n",
    "len(sizes), sizes\n",
    "\n",
    "\n",
    "decays = [0.00001,0.0001,0.001,0.01,0.1,0.5,1]\n",
    "len(decays), decays[:10] \n",
    "\n"
   ]
  },
  {
   "cell_type": "code",
   "execution_count": 23,
   "metadata": {},
   "outputs": [
    {
     "name": "stdout",
     "output_type": "stream",
     "text": [
      "0:01:53.734564\n"
     ]
    }
   ],
   "source": [
    "init_time=time()\n",
    "model_nnet = MLPClassifier(alpha=0,\n",
    "                           activation='logistic',\n",
    "                           max_iter=500,\n",
    "                           solver='lbfgs',\n",
    "                           random_state=42)\n",
    "\n",
    "trc = GridSearchCV(estimator=model_nnet,\n",
    "                   scoring=['f1_macro', 'precision_macro', 'recall_macro', 'accuracy'],\n",
    "                   param_grid={'hidden_layer_sizes': sizes,\n",
    "                              'alpha': decays},\n",
    "                   cv=10,\n",
    "                   return_train_score=True,\n",
    "                   refit='f1_macro')\n",
    "\n",
    "model_10CV = trc.fit(X_train, y_train)\n",
    "print(timedelta(seconds=(time()-init_time)))"
   ]
  },
  {
   "cell_type": "markdown",
   "metadata": {},
   "source": [
    "Now we can use the results of the cv to decide which is the best parameter configuration.\n",
    "\n",
    "According to the criteria of having the greatest F-score, the winner is architecture layers [2,2]"
   ]
  },
  {
   "cell_type": "code",
   "execution_count": 24,
   "metadata": {},
   "outputs": [
    {
     "data": {
      "text/html": [
       "<div>\n",
       "<style scoped>\n",
       "    .dataframe tbody tr th:only-of-type {\n",
       "        vertical-align: middle;\n",
       "    }\n",
       "\n",
       "    .dataframe tbody tr th {\n",
       "        vertical-align: top;\n",
       "    }\n",
       "\n",
       "    .dataframe thead th {\n",
       "        text-align: right;\n",
       "    }\n",
       "</style>\n",
       "<table border=\"1\" class=\"dataframe\">\n",
       "  <thead>\n",
       "    <tr style=\"text-align: right;\">\n",
       "      <th></th>\n",
       "      <th>param_alpha</th>\n",
       "      <th>param_hidden_layer_sizes</th>\n",
       "      <th>mean_test_f1_macro</th>\n",
       "      <th>std_test_f1_macro</th>\n",
       "      <th>mean_test_precision_macro</th>\n",
       "      <th>std_test_precision_macro</th>\n",
       "      <th>mean_test_accuracy</th>\n",
       "      <th>std_test_accuracy</th>\n",
       "    </tr>\n",
       "  </thead>\n",
       "  <tbody>\n",
       "    <tr>\n",
       "      <th>52</th>\n",
       "      <td>0.1</td>\n",
       "      <td>[2, 2]</td>\n",
       "      <td>0.628</td>\n",
       "      <td>0.110</td>\n",
       "      <td>0.692</td>\n",
       "      <td>0.134</td>\n",
       "      <td>0.732</td>\n",
       "      <td>0.067</td>\n",
       "    </tr>\n",
       "    <tr>\n",
       "      <th>13</th>\n",
       "      <td>0.0001</td>\n",
       "      <td>4</td>\n",
       "      <td>0.615</td>\n",
       "      <td>0.083</td>\n",
       "      <td>0.629</td>\n",
       "      <td>0.077</td>\n",
       "      <td>0.691</td>\n",
       "      <td>0.055</td>\n",
       "    </tr>\n",
       "    <tr>\n",
       "      <th>53</th>\n",
       "      <td>0.1</td>\n",
       "      <td>[4, 4]</td>\n",
       "      <td>0.599</td>\n",
       "      <td>0.098</td>\n",
       "      <td>0.641</td>\n",
       "      <td>0.125</td>\n",
       "      <td>0.698</td>\n",
       "      <td>0.069</td>\n",
       "    </tr>\n",
       "    <tr>\n",
       "      <th>37</th>\n",
       "      <td>0.01</td>\n",
       "      <td>4</td>\n",
       "      <td>0.596</td>\n",
       "      <td>0.066</td>\n",
       "      <td>0.633</td>\n",
       "      <td>0.075</td>\n",
       "      <td>0.690</td>\n",
       "      <td>0.043</td>\n",
       "    </tr>\n",
       "    <tr>\n",
       "      <th>23</th>\n",
       "      <td>0.0001</td>\n",
       "      <td>[8, 8, 8]</td>\n",
       "      <td>0.594</td>\n",
       "      <td>0.076</td>\n",
       "      <td>0.621</td>\n",
       "      <td>0.095</td>\n",
       "      <td>0.675</td>\n",
       "      <td>0.057</td>\n",
       "    </tr>\n",
       "  </tbody>\n",
       "</table>\n",
       "</div>"
      ],
      "text/plain": [
       "   param_alpha param_hidden_layer_sizes  mean_test_f1_macro  \\\n",
       "52         0.1                   [2, 2]               0.628   \n",
       "13      0.0001                        4               0.615   \n",
       "53         0.1                   [4, 4]               0.599   \n",
       "37        0.01                        4               0.596   \n",
       "23      0.0001                [8, 8, 8]               0.594   \n",
       "\n",
       "    std_test_f1_macro  mean_test_precision_macro  std_test_precision_macro  \\\n",
       "52              0.110                      0.692                     0.134   \n",
       "13              0.083                      0.629                     0.077   \n",
       "53              0.098                      0.641                     0.125   \n",
       "37              0.066                      0.633                     0.075   \n",
       "23              0.076                      0.621                     0.095   \n",
       "\n",
       "    mean_test_accuracy  std_test_accuracy  \n",
       "52               0.732              0.067  \n",
       "13               0.691              0.055  \n",
       "53               0.698              0.069  \n",
       "37               0.690              0.043  \n",
       "23               0.675              0.057  "
      ]
     },
     "execution_count": 24,
     "metadata": {},
     "output_type": "execute_result"
    }
   ],
   "source": [
    "pd.DataFrame(model_10CV.cv_results_).loc[:,['param_alpha','param_hidden_layer_sizes',  'mean_test_f1_macro', \n",
    "                                            'std_test_f1_macro','mean_test_precision_macro', 'std_test_precision_macro',\n",
    "                                        'mean_test_accuracy','std_test_accuracy',]].sort_values(by='mean_test_f1_macro',\n",
    "                                                                                                ascending=False).head()"
   ]
  },
  {
   "cell_type": "code",
   "execution_count": 25,
   "metadata": {},
   "outputs": [
    {
     "data": {
      "text/plain": [
       "{'alpha': 0.1, 'hidden_layer_sizes': [2, 2]}"
      ]
     },
     "execution_count": 25,
     "metadata": {},
     "output_type": "execute_result"
    }
   ],
   "source": [
    "model_10CV.best_params_"
   ]
  },
  {
   "cell_type": "code",
   "execution_count": 26,
   "metadata": {},
   "outputs": [
    {
     "data": {
      "text/plain": [
       "0.6276606758915622"
      ]
     },
     "execution_count": 26,
     "metadata": {},
     "output_type": "execute_result"
    }
   ],
   "source": [
    "model_10CV.best_score_"
   ]
  },
  {
   "cell_type": "markdown",
   "metadata": {},
   "source": [
    "So,according to our experiments the best parameter configuration would be: \n",
    "* Architecture [2,2]\n",
    "* Alpha 0.1\n",
    "\n",
    "Lets calculate our cross-validation scores of the best model found trained (model_10CV.best_estimator_)."
   ]
  },
  {
   "cell_type": "code",
   "execution_count": 27,
   "metadata": {},
   "outputs": [
    {
     "data": {
      "text/html": [
       "<div>\n",
       "<style scoped>\n",
       "    .dataframe tbody tr th:only-of-type {\n",
       "        vertical-align: middle;\n",
       "    }\n",
       "\n",
       "    .dataframe tbody tr th {\n",
       "        vertical-align: top;\n",
       "    }\n",
       "\n",
       "    .dataframe thead th {\n",
       "        text-align: right;\n",
       "    }\n",
       "</style>\n",
       "<table border=\"1\" class=\"dataframe\">\n",
       "  <thead>\n",
       "    <tr style=\"text-align: right;\">\n",
       "      <th></th>\n",
       "      <th>F-score (cv)</th>\n",
       "      <th>Precision (cv)</th>\n",
       "      <th>Recall (cv)</th>\n",
       "      <th>Accuracy (cv)</th>\n",
       "    </tr>\n",
       "  </thead>\n",
       "  <tbody>\n",
       "    <tr>\n",
       "      <th>MLP[2,2]-alpha=0.1</th>\n",
       "      <td>0.615</td>\n",
       "      <td>0.709</td>\n",
       "      <td>0.612</td>\n",
       "      <td>0.724</td>\n",
       "    </tr>\n",
       "    <tr>\n",
       "      <th>MLP[2,2,2]</th>\n",
       "      <td>0.575</td>\n",
       "      <td>0.647</td>\n",
       "      <td>0.586</td>\n",
       "      <td>0.698</td>\n",
       "    </tr>\n",
       "    <tr>\n",
       "      <th>MLP[1]</th>\n",
       "      <td>0.56</td>\n",
       "      <td>0.655</td>\n",
       "      <td>0.57</td>\n",
       "      <td>0.683</td>\n",
       "    </tr>\n",
       "    <tr>\n",
       "      <th>Logistic Regression</th>\n",
       "      <td>0.554</td>\n",
       "      <td>0.686</td>\n",
       "      <td>0.568</td>\n",
       "      <td>0.698</td>\n",
       "    </tr>\n",
       "    <tr>\n",
       "      <th>MLP[2,2,2]-alpha=0.001</th>\n",
       "      <td>0.516</td>\n",
       "      <td>0.575</td>\n",
       "      <td>0.547</td>\n",
       "      <td>0.687</td>\n",
       "    </tr>\n",
       "  </tbody>\n",
       "</table>\n",
       "</div>"
      ],
      "text/plain": [
       "                       F-score (cv) Precision (cv) Recall (cv) Accuracy (cv)\n",
       "MLP[2,2]-alpha=0.1            0.615          0.709       0.612         0.724\n",
       "MLP[2,2,2]                    0.575          0.647       0.586         0.698\n",
       "MLP[1]                         0.56          0.655        0.57         0.683\n",
       "Logistic Regression           0.554          0.686       0.568         0.698\n",
       "MLP[2,2,2]-alpha=0.001        0.516          0.575       0.547         0.687"
      ]
     },
     "execution_count": 27,
     "metadata": {},
     "output_type": "execute_result"
    }
   ],
   "source": [
    "cross_val_results = pd.DataFrame(cross_validate(model_10CV.best_estimator_ , X_train, y_train, cv = 5, scoring = [ 'f1_macro', 'precision_macro', 'recall_macro', 'accuracy'] ))\n",
    "\n",
    "results_df.loc['MLP[2,2]-alpha=0.1',:] = cross_val_results[['test_f1_macro',\n",
    "       'test_precision_macro', 'test_recall_macro','test_accuracy']].mean().values\n",
    "\n",
    "results_df.sort_values(by='F-score (cv)', ascending=False)"
   ]
  },
  {
   "cell_type": "markdown",
   "metadata": {},
   "source": [
    "The best model according to our metrics is an MLP with two layers and a regularization of 0.1. "
   ]
  },
  {
   "cell_type": "markdown",
   "metadata": {},
   "source": [
    "Finally we obtain our test metrics, which tell us that our model is not generalizing a lot and as problems to predict the minoritary class. Perhaps this suggests that the admissions are done using other criteria not in our data."
   ]
  },
  {
   "cell_type": "code",
   "execution_count": 28,
   "metadata": {},
   "outputs": [
    {
     "data": {
      "text/html": [
       "<div>\n",
       "<style scoped>\n",
       "    .dataframe tbody tr th:only-of-type {\n",
       "        vertical-align: middle;\n",
       "    }\n",
       "\n",
       "    .dataframe tbody tr th {\n",
       "        vertical-align: top;\n",
       "    }\n",
       "\n",
       "    .dataframe thead th {\n",
       "        text-align: right;\n",
       "    }\n",
       "</style>\n",
       "<table border=\"1\" class=\"dataframe\">\n",
       "  <thead>\n",
       "    <tr style=\"text-align: right;\">\n",
       "      <th>predicted</th>\n",
       "      <th>0</th>\n",
       "      <th>1</th>\n",
       "    </tr>\n",
       "    <tr>\n",
       "      <th>target</th>\n",
       "      <th></th>\n",
       "      <th></th>\n",
       "    </tr>\n",
       "  </thead>\n",
       "  <tbody>\n",
       "    <tr>\n",
       "      <th>0</th>\n",
       "      <td>76</td>\n",
       "      <td>14</td>\n",
       "    </tr>\n",
       "    <tr>\n",
       "      <th>1</th>\n",
       "      <td>32</td>\n",
       "      <td>10</td>\n",
       "    </tr>\n",
       "  </tbody>\n",
       "</table>\n",
       "</div>"
      ],
      "text/plain": [
       "predicted   0   1\n",
       "target           \n",
       "0          76  14\n",
       "1          32  10"
      ]
     },
     "execution_count": 28,
     "metadata": {},
     "output_type": "execute_result"
    },
    {
     "name": "stdout",
     "output_type": "stream",
     "text": [
      "              precision    recall  f1-score   support\n",
      "\n",
      "           0       0.70      0.84      0.77        90\n",
      "           1       0.42      0.24      0.30        42\n",
      "\n",
      "    accuracy                           0.65       132\n",
      "   macro avg       0.56      0.54      0.54       132\n",
      "weighted avg       0.61      0.65      0.62       132\n",
      "\n"
     ]
    }
   ],
   "source": [
    "y_pred = model_10CV.predict(X_test)\n",
    "\n",
    "confusion(y_test,y_pred)\n",
    "\n",
    "print(classification_report(y_test, y_pred))"
   ]
  },
  {
   "cell_type": "markdown",
   "metadata": {},
   "source": [
    "## SECTION 2: Labeled Faces in the Wild\n",
    "\n",
    "Now we are going to try the same with a more complex dataset. \n",
    "\n",
    "This dataset contains images in black and white of public personalities. The task is to clasify the images with the proper name. \n",
    "\n",
    "Disclaimer: Even though this is an image dataset we will try it as a full numerical data. It is complex enough for showing MLP with real data and *someone* likes image data."
   ]
  },
  {
   "cell_type": "code",
   "execution_count": 29,
   "metadata": {},
   "outputs": [
    {
     "name": "stdout",
     "output_type": "stream",
     "text": [
      "Total dataset size:\n",
      "n_samples: 1288\n",
      "n_features: 1850\n",
      "n_classes: 7\n"
     ]
    }
   ],
   "source": [
    "lfw_people = fetch_lfw_people(min_faces_per_person=70, resize=0.4)\n",
    "n_samples, h, w = lfw_people.images.shape\n",
    "X = lfw_people.data\n",
    "n_features = X.shape[1]\n",
    "\n",
    "y = lfw_people.target\n",
    "target_names = lfw_people.target_names\n",
    "n_classes = target_names.shape[0]\n",
    "\n",
    "\n",
    "print(\"Total dataset size:\")\n",
    "print(\"n_samples: {}\".format(n_samples))\n",
    "print(\"n_features: {}\".format(n_features))\n",
    "print(\"n_classes: {}\".format(n_classes))"
   ]
  },
  {
   "cell_type": "markdown",
   "metadata": {},
   "source": [
    "### Resampling and metrics\n",
    "\n",
    "We will use the same resampling and pre-processing that on the previous example."
   ]
  },
  {
   "cell_type": "code",
   "execution_count": 30,
   "metadata": {},
   "outputs": [],
   "source": [
    "X_train, X_test, y_train, y_test = train_test_split(\n",
    "    X, y, test_size=0.25, random_state=42)\n",
    "\n",
    "X_train = StandardScaler().fit_transform(X_train)\n",
    "X_test = StandardScaler().fit_transform(X_test)"
   ]
  },
  {
   "cell_type": "markdown",
   "metadata": {},
   "source": [
    "We can see that this dataset is quite big and it has more features than samples. That might be a problem."
   ]
  },
  {
   "cell_type": "code",
   "execution_count": 31,
   "metadata": {
    "scrolled": true
   },
   "outputs": [
    {
     "data": {
      "text/plain": [
       "(966, 1850)"
      ]
     },
     "execution_count": 31,
     "metadata": {},
     "output_type": "execute_result"
    }
   ],
   "source": [
    "X_train.shape"
   ]
  },
  {
   "cell_type": "markdown",
   "metadata": {},
   "source": [
    "Also, we can see that this dataset is quite unbalanced. We could get almost a 40% of accuracy only with a constant model."
   ]
  },
  {
   "cell_type": "code",
   "execution_count": 32,
   "metadata": {},
   "outputs": [
    {
     "data": {
      "text/plain": [
       "<AxesSubplot:ylabel='count'>"
      ]
     },
     "execution_count": 32,
     "metadata": {},
     "output_type": "execute_result"
    },
    {
     "data": {
      "image/png": "[encoded data removed]",
      "text/plain": [
       "<Figure size 432x288 with 1 Axes>"
      ]
     },
     "metadata": {
      "needs_background": "light"
     },
     "output_type": "display_data"
    }
   ],
   "source": [
    "sn.countplot(y_train)"
   ]
  },
  {
   "cell_type": "code",
   "execution_count": 33,
   "metadata": {},
   "outputs": [
    {
     "data": {
      "text/plain": [
       "0.39751552795031053"
      ]
     },
     "execution_count": 33,
     "metadata": {},
     "output_type": "execute_result"
    }
   ],
   "source": [
    "(y_train==3).sum()/len(y_train)"
   ]
  },
  {
   "cell_type": "markdown",
   "metadata": {},
   "source": [
    "We will use the same metrics than on the previous section. \n",
    "Also, we will check how much *Time* is taking our models to train."
   ]
  },
  {
   "cell_type": "code",
   "execution_count": 34,
   "metadata": {},
   "outputs": [
    {
     "data": {
      "text/html": [
       "<div>\n",
       "<style scoped>\n",
       "    .dataframe tbody tr th:only-of-type {\n",
       "        vertical-align: middle;\n",
       "    }\n",
       "\n",
       "    .dataframe tbody tr th {\n",
       "        vertical-align: top;\n",
       "    }\n",
       "\n",
       "    .dataframe thead th {\n",
       "        text-align: right;\n",
       "    }\n",
       "</style>\n",
       "<table border=\"1\" class=\"dataframe\">\n",
       "  <thead>\n",
       "    <tr style=\"text-align: right;\">\n",
       "      <th></th>\n",
       "      <th>F-score (cv)</th>\n",
       "      <th>Precision (cv)</th>\n",
       "      <th>Recall (cv)</th>\n",
       "      <th>Accuracy</th>\n",
       "      <th>Time(s)</th>\n",
       "    </tr>\n",
       "  </thead>\n",
       "  <tbody>\n",
       "    <tr>\n",
       "      <th>KNN</th>\n",
       "      <td>NaN</td>\n",
       "      <td>NaN</td>\n",
       "      <td>NaN</td>\n",
       "      <td>NaN</td>\n",
       "      <td>NaN</td>\n",
       "    </tr>\n",
       "  </tbody>\n",
       "</table>\n",
       "</div>"
      ],
      "text/plain": [
       "    F-score (cv) Precision (cv) Recall (cv) Accuracy Time(s)\n",
       "KNN          NaN            NaN         NaN      NaN     NaN"
      ]
     },
     "execution_count": 34,
     "metadata": {},
     "output_type": "execute_result"
    }
   ],
   "source": [
    "metrics = ['F-score (cv)', 'Precision (cv)','Recall (cv)', 'Accuracy']\n",
    "\n",
    "results_df = pd.DataFrame(index=['KNN'],columns=metrics + ['Time(s)'])\n",
    "results_df"
   ]
  },
  {
   "cell_type": "markdown",
   "metadata": {},
   "source": [
    "### Baseline: KNN\n",
    "\n",
    "We will use knn as a baseline, because is a very fast model to train."
   ]
  },
  {
   "cell_type": "code",
   "execution_count": 35,
   "metadata": {},
   "outputs": [
    {
     "data": {
      "text/plain": [
       "KNeighborsClassifier()"
      ]
     },
     "execution_count": 35,
     "metadata": {},
     "output_type": "execute_result"
    },
    {
     "name": "stdout",
     "output_type": "stream",
     "text": [
      "0:00:00.004889\n"
     ]
    },
    {
     "data": {
      "text/html": [
       "<div>\n",
       "<style scoped>\n",
       "    .dataframe tbody tr th:only-of-type {\n",
       "        vertical-align: middle;\n",
       "    }\n",
       "\n",
       "    .dataframe tbody tr th {\n",
       "        vertical-align: top;\n",
       "    }\n",
       "\n",
       "    .dataframe thead th {\n",
       "        text-align: right;\n",
       "    }\n",
       "</style>\n",
       "<table border=\"1\" class=\"dataframe\">\n",
       "  <thead>\n",
       "    <tr style=\"text-align: right;\">\n",
       "      <th></th>\n",
       "      <th>F-score (cv)</th>\n",
       "      <th>Precision (cv)</th>\n",
       "      <th>Recall (cv)</th>\n",
       "      <th>Accuracy</th>\n",
       "      <th>Time(s)</th>\n",
       "    </tr>\n",
       "  </thead>\n",
       "  <tbody>\n",
       "    <tr>\n",
       "      <th>KNN</th>\n",
       "      <td>0.42</td>\n",
       "      <td>0.508</td>\n",
       "      <td>0.406</td>\n",
       "      <td>0.557</td>\n",
       "      <td>0.00489</td>\n",
       "    </tr>\n",
       "  </tbody>\n",
       "</table>\n",
       "</div>"
      ],
      "text/plain": [
       "    F-score (cv) Precision (cv) Recall (cv) Accuracy  Time(s)\n",
       "KNN         0.42          0.508       0.406    0.557  0.00489"
      ]
     },
     "execution_count": 35,
     "metadata": {},
     "output_type": "execute_result"
    }
   ],
   "source": [
    "init_time = time()\n",
    "myknn = KNeighborsClassifier(n_neighbors=5)\n",
    "myknn.fit(X_train, y_train)\n",
    "\n",
    "training_time = time()-init_time\n",
    "print(timedelta(seconds=training_time))\n",
    "\n",
    "\n",
    "cross_val_results = pd.DataFrame(cross_validate(myknn , X_train, y_train, cv = 5, scoring = [ 'f1_macro', 'precision_macro', 'recall_macro', 'accuracy'] ))\n",
    "\n",
    "results_df.loc['KNN',metrics] = cross_val_results[['test_f1_macro',\n",
    "       'test_precision_macro', 'test_recall_macro','test_accuracy']].mean().values\n",
    "\n",
    "results_df.loc['KNN','Time(s)'] = training_time\n",
    "\n",
    "results_df"
   ]
  },
  {
   "cell_type": "markdown",
   "metadata": {},
   "source": [
    "We obtain quite bad results with this model. Lets see with the MLP. "
   ]
  },
  {
   "cell_type": "markdown",
   "metadata": {},
   "source": [
    "### MLP\n",
    "\n",
    "We are going to use an arbitrary hyperparameter configuration just to see how the model behaves. Is it slow? Is it good?"
   ]
  },
  {
   "cell_type": "code",
   "execution_count": 36,
   "metadata": {},
   "outputs": [
    {
     "data": {
      "text/plain": [
       "MLPClassifier(activation='logistic', alpha=0.01, hidden_layer_sizes=[5],\n",
       "              random_state=42, solver='lbfgs')"
      ]
     },
     "execution_count": 36,
     "metadata": {},
     "output_type": "execute_result"
    },
    {
     "name": "stdout",
     "output_type": "stream",
     "text": [
      "0:00:03.066531\n"
     ]
    },
    {
     "data": {
      "text/html": [
       "<div>\n",
       "<style scoped>\n",
       "    .dataframe tbody tr th:only-of-type {\n",
       "        vertical-align: middle;\n",
       "    }\n",
       "\n",
       "    .dataframe tbody tr th {\n",
       "        vertical-align: top;\n",
       "    }\n",
       "\n",
       "    .dataframe thead th {\n",
       "        text-align: right;\n",
       "    }\n",
       "</style>\n",
       "<table border=\"1\" class=\"dataframe\">\n",
       "  <thead>\n",
       "    <tr style=\"text-align: right;\">\n",
       "      <th></th>\n",
       "      <th>F-score (cv)</th>\n",
       "      <th>Precision (cv)</th>\n",
       "      <th>Recall (cv)</th>\n",
       "      <th>Accuracy</th>\n",
       "      <th>Time(s)</th>\n",
       "    </tr>\n",
       "  </thead>\n",
       "  <tbody>\n",
       "    <tr>\n",
       "      <th>MLP[5]-0.01</th>\n",
       "      <td>0.686</td>\n",
       "      <td>0.707</td>\n",
       "      <td>0.682</td>\n",
       "      <td>0.745</td>\n",
       "      <td>3.07</td>\n",
       "    </tr>\n",
       "    <tr>\n",
       "      <th>KNN</th>\n",
       "      <td>0.42</td>\n",
       "      <td>0.508</td>\n",
       "      <td>0.406</td>\n",
       "      <td>0.557</td>\n",
       "      <td>0.00489</td>\n",
       "    </tr>\n",
       "  </tbody>\n",
       "</table>\n",
       "</div>"
      ],
      "text/plain": [
       "            F-score (cv) Precision (cv) Recall (cv) Accuracy  Time(s)\n",
       "MLP[5]-0.01        0.686          0.707       0.682    0.745     3.07\n",
       "KNN                 0.42          0.508       0.406    0.557  0.00489"
      ]
     },
     "execution_count": 36,
     "metadata": {},
     "output_type": "execute_result"
    }
   ],
   "source": [
    "init_time = time()\n",
    "model_nnet = MLPClassifier(hidden_layer_sizes=[5],\n",
    "                           alpha=0.01,\n",
    "                           activation='logistic',\n",
    "                           max_iter=200,\n",
    "                           solver='lbfgs',random_state=42)\n",
    "model_nnet.fit(X_train,y_train);\n",
    "\n",
    "training_time = time()-init_time\n",
    "print(timedelta(seconds=training_time))\n",
    "\n",
    "cross_val_results = pd.DataFrame(cross_validate(model_nnet , X_train, y_train, cv = 5, \n",
    "                                                scoring = [ 'f1_macro', 'precision_macro', 'recall_macro', 'accuracy'] ))\n",
    "\n",
    "results_df.loc['MLP[5]-0.01',metrics] = cross_val_results[['test_f1_macro',\n",
    "       'test_precision_macro', 'test_recall_macro','test_accuracy']].mean().values\n",
    "\n",
    "results_df.loc['MLP[5]-0.01','Time(s)'] = training_time\n",
    "\n",
    "results_df.sort_values(by='F-score (cv)', ascending=False)"
   ]
  },
  {
   "cell_type": "markdown",
   "metadata": {},
   "source": [
    "It gives better results but it is several times slower than the knn. \n",
    "\n",
    "If we wanted to try different hyperparameters we would need a lot of time. "
   ]
  },
  {
   "cell_type": "markdown",
   "metadata": {},
   "source": [
    "### PCA"
   ]
  },
  {
   "cell_type": "markdown",
   "metadata": {},
   "source": [
    "Lets try another strategy instead. We can use PCA to reduce the dimensionality of the data. This way the training of the model would be faster, and might reduce the noise in the data.\n",
    "\n",
    "\n",
    "First lets see how many components do we need."
   ]
  },
  {
   "cell_type": "code",
   "execution_count": 37,
   "metadata": {
    "scrolled": true
   },
   "outputs": [
    {
     "data": {
      "text/plain": [
       "339"
      ]
     },
     "execution_count": 37,
     "metadata": {},
     "output_type": "execute_result"
    }
   ],
   "source": [
    "pca = PCA().fit(X_train)\n",
    "\n",
    "n_components =(pca.explained_variance_ratio_.cumsum() < 0.99).sum()\n",
    "n_components"
   ]
  },
  {
   "cell_type": "markdown",
   "metadata": {},
   "source": [
    "With just 339 of the variables, we could maintain 99 % of the variance of the data. Thas a huge reduction from the original 1850."
   ]
  },
  {
   "cell_type": "code",
   "execution_count": 38,
   "metadata": {},
   "outputs": [],
   "source": [
    "pca = PCA(n_components=n_components).fit(X_train)\n",
    "\n",
    "X_train_pca = pca.transform(X_train)\n",
    "X_test_pca = pca.transform(X_test)"
   ]
  },
  {
   "cell_type": "markdown",
   "metadata": {},
   "source": [
    "#### KNN\n",
    "Lets see how affects our smaller data to the knn results."
   ]
  },
  {
   "cell_type": "code",
   "execution_count": 39,
   "metadata": {},
   "outputs": [
    {
     "data": {
      "text/plain": [
       "KNeighborsClassifier()"
      ]
     },
     "execution_count": 39,
     "metadata": {},
     "output_type": "execute_result"
    },
    {
     "name": "stdout",
     "output_type": "stream",
     "text": [
      "0:00:00.003500\n"
     ]
    },
    {
     "data": {
      "text/html": [
       "<div>\n",
       "<style scoped>\n",
       "    .dataframe tbody tr th:only-of-type {\n",
       "        vertical-align: middle;\n",
       "    }\n",
       "\n",
       "    .dataframe tbody tr th {\n",
       "        vertical-align: top;\n",
       "    }\n",
       "\n",
       "    .dataframe thead th {\n",
       "        text-align: right;\n",
       "    }\n",
       "</style>\n",
       "<table border=\"1\" class=\"dataframe\">\n",
       "  <thead>\n",
       "    <tr style=\"text-align: right;\">\n",
       "      <th></th>\n",
       "      <th>F-score (cv)</th>\n",
       "      <th>Precision (cv)</th>\n",
       "      <th>Recall (cv)</th>\n",
       "      <th>Accuracy</th>\n",
       "      <th>Time(s)</th>\n",
       "    </tr>\n",
       "  </thead>\n",
       "  <tbody>\n",
       "    <tr>\n",
       "      <th>MLP[5]-0.01</th>\n",
       "      <td>0.686</td>\n",
       "      <td>0.707</td>\n",
       "      <td>0.682</td>\n",
       "      <td>0.745</td>\n",
       "      <td>3.07</td>\n",
       "    </tr>\n",
       "    <tr>\n",
       "      <th>KNN-PCA</th>\n",
       "      <td>0.422</td>\n",
       "      <td>0.508</td>\n",
       "      <td>0.408</td>\n",
       "      <td>0.557</td>\n",
       "      <td>0.0035</td>\n",
       "    </tr>\n",
       "    <tr>\n",
       "      <th>KNN</th>\n",
       "      <td>0.42</td>\n",
       "      <td>0.508</td>\n",
       "      <td>0.406</td>\n",
       "      <td>0.557</td>\n",
       "      <td>0.00489</td>\n",
       "    </tr>\n",
       "  </tbody>\n",
       "</table>\n",
       "</div>"
      ],
      "text/plain": [
       "            F-score (cv) Precision (cv) Recall (cv) Accuracy  Time(s)\n",
       "MLP[5]-0.01        0.686          0.707       0.682    0.745     3.07\n",
       "KNN-PCA            0.422          0.508       0.408    0.557   0.0035\n",
       "KNN                 0.42          0.508       0.406    0.557  0.00489"
      ]
     },
     "execution_count": 39,
     "metadata": {},
     "output_type": "execute_result"
    }
   ],
   "source": [
    "init_time = time()\n",
    "myknn = KNeighborsClassifier(n_neighbors=5)\n",
    "myknn.fit(X_train_pca, y_train)\n",
    "\n",
    "training_time = time()-init_time\n",
    "print(timedelta(seconds=training_time))\n",
    "\n",
    "cross_val_results = pd.DataFrame(cross_validate(myknn , X_train_pca, y_train, cv = 5, scoring = [ 'f1_macro', 'precision_macro', 'recall_macro', 'accuracy'] ))\n",
    "\n",
    "results_df.loc['KNN-PCA',metrics] = cross_val_results[['test_f1_macro',\n",
    "       'test_precision_macro', 'test_recall_macro','test_accuracy']].mean().values\n",
    "\n",
    "results_df.loc['KNN-PCA','Time(s)'] = training_time\n",
    "\n",
    "results_df.sort_values(by='F-score (cv)', ascending=False)"
   ]
  },
  {
   "cell_type": "markdown",
   "metadata": {},
   "source": [
    "We are obtaining the same results with a fraction of the time. This is a good sign."
   ]
  },
  {
   "cell_type": "markdown",
   "metadata": {},
   "source": [
    "#### MLP\n"
   ]
  },
  {
   "cell_type": "code",
   "execution_count": 41,
   "metadata": {},
   "outputs": [
    {
     "data": {
      "text/plain": [
       "MLPClassifier(activation='logistic', alpha=0.01, hidden_layer_sizes=[5],\n",
       "              random_state=42, solver='lbfgs')"
      ]
     },
     "execution_count": 41,
     "metadata": {},
     "output_type": "execute_result"
    },
    {
     "name": "stdout",
     "output_type": "stream",
     "text": [
      "0:00:00.637025\n"
     ]
    },
    {
     "data": {
      "text/html": [
       "<div>\n",
       "<style scoped>\n",
       "    .dataframe tbody tr th:only-of-type {\n",
       "        vertical-align: middle;\n",
       "    }\n",
       "\n",
       "    .dataframe tbody tr th {\n",
       "        vertical-align: top;\n",
       "    }\n",
       "\n",
       "    .dataframe thead th {\n",
       "        text-align: right;\n",
       "    }\n",
       "</style>\n",
       "<table border=\"1\" class=\"dataframe\">\n",
       "  <thead>\n",
       "    <tr style=\"text-align: right;\">\n",
       "      <th></th>\n",
       "      <th>F-score (cv)</th>\n",
       "      <th>Precision (cv)</th>\n",
       "      <th>Recall (cv)</th>\n",
       "      <th>Accuracy</th>\n",
       "      <th>Time(s)</th>\n",
       "    </tr>\n",
       "  </thead>\n",
       "  <tbody>\n",
       "    <tr>\n",
       "      <th>MLP[5]-0.01</th>\n",
       "      <td>0.686</td>\n",
       "      <td>0.707</td>\n",
       "      <td>0.682</td>\n",
       "      <td>0.745</td>\n",
       "      <td>3.07</td>\n",
       "    </tr>\n",
       "    <tr>\n",
       "      <th>MLP[5]-0.01-PCA</th>\n",
       "      <td>0.621</td>\n",
       "      <td>0.63</td>\n",
       "      <td>0.633</td>\n",
       "      <td>0.711</td>\n",
       "      <td>0.637</td>\n",
       "    </tr>\n",
       "    <tr>\n",
       "      <th>KNN-PCA</th>\n",
       "      <td>0.422</td>\n",
       "      <td>0.508</td>\n",
       "      <td>0.408</td>\n",
       "      <td>0.557</td>\n",
       "      <td>0.0035</td>\n",
       "    </tr>\n",
       "    <tr>\n",
       "      <th>KNN</th>\n",
       "      <td>0.42</td>\n",
       "      <td>0.508</td>\n",
       "      <td>0.406</td>\n",
       "      <td>0.557</td>\n",
       "      <td>0.00489</td>\n",
       "    </tr>\n",
       "  </tbody>\n",
       "</table>\n",
       "</div>"
      ],
      "text/plain": [
       "                F-score (cv) Precision (cv) Recall (cv) Accuracy  Time(s)\n",
       "MLP[5]-0.01            0.686          0.707       0.682    0.745     3.07\n",
       "MLP[5]-0.01-PCA        0.621           0.63       0.633    0.711    0.637\n",
       "KNN-PCA                0.422          0.508       0.408    0.557   0.0035\n",
       "KNN                     0.42          0.508       0.406    0.557  0.00489"
      ]
     },
     "execution_count": 41,
     "metadata": {},
     "output_type": "execute_result"
    }
   ],
   "source": [
    "init_time = time()\n",
    "model_nnet = MLPClassifier(hidden_layer_sizes=[5],\n",
    "                           alpha=0.01,\n",
    "                           activation='logistic',\n",
    "                           max_iter=200,\n",
    "                           solver='lbfgs',random_state=42)\n",
    "model_nnet.fit(X_train_pca,y_train);\n",
    "\n",
    "training_time = time()-init_time\n",
    "print(timedelta(seconds=training_time))\n",
    "\n",
    "\n",
    "cross_val_results = pd.DataFrame(cross_validate(model_nnet , X_train_pca, y_train, cv = 5, \n",
    "                                                scoring = [ 'f1_macro', 'precision_macro', 'recall_macro', 'accuracy'] ))\n",
    "\n",
    "results_df.loc['MLP[5]-0.01-PCA',metrics] = cross_val_results[['test_f1_macro',\n",
    "       'test_precision_macro', 'test_recall_macro','test_accuracy']].mean().values\n",
    "\n",
    "results_df.loc['MLP[5]-0.01-PCA','Time(s)'] = training_time\n",
    "\n",
    "results_df.sort_values(by='F-score (cv)', ascending=False)"
   ]
  },
  {
   "cell_type": "markdown",
   "metadata": {},
   "source": [
    "The MLP has lost a bit on our metrics but is faster, now we can try to improve its results using cross-validation.\n",
    "\n",
    "We will use the firs technique that we comented before, as the model takes longer to train. "
   ]
  },
  {
   "cell_type": "code",
   "execution_count": 42,
   "metadata": {},
   "outputs": [
    {
     "data": {
      "text/plain": [
       "[2, 4, 6, [2, 2], [4, 4], [6, 6]]"
      ]
     },
     "execution_count": 42,
     "metadata": {},
     "output_type": "execute_result"
    }
   ],
   "source": [
    "sizes = [2*i for i in range(1,4)]\n",
    "sizes = sizes + [[2*i,2*i] for i in range(1,4)]\n",
    "sizes"
   ]
  },
  {
   "cell_type": "markdown",
   "metadata": {},
   "source": [
    "If we do 5-cv with 6 layer configuration and we spend 1.5 seconds with each training, we *should* spend approximately 45 seconds with the CV process. If all the architectures took the same time to train. \n",
    "\n",
    "If we had done it without the pca we would take more than two minutes. \n",
    "\n",
    "Note that these times where computed with my machine, it will probably change depending on your computer."
   ]
  },
  {
   "cell_type": "code",
   "execution_count": 43,
   "metadata": {},
   "outputs": [
    {
     "data": {
      "text/plain": [
       "0.6543312246683508"
      ]
     },
     "execution_count": 43,
     "metadata": {},
     "output_type": "execute_result"
    },
    {
     "data": {
      "text/plain": [
       "{'hidden_layer_sizes': 6}"
      ]
     },
     "execution_count": 43,
     "metadata": {},
     "output_type": "execute_result"
    },
    {
     "name": "stdout",
     "output_type": "stream",
     "text": [
      "0:00:39.181454\n"
     ]
    }
   ],
   "source": [
    "init_time = time()\n",
    "\n",
    "model_nnet = MLPClassifier(alpha=0,\n",
    "                           activation='logistic',\n",
    "                           hidden_layer_sizes=2,\n",
    "                           max_iter=500,\n",
    "                           solver='lbfgs',random_state=42)\n",
    "\n",
    "trc = GridSearchCV(estimator=model_nnet, \n",
    "                   param_grid ={'hidden_layer_sizes':sizes},\n",
    "                   scoring=['f1_macro',\n",
    "       'precision_macro', 'recall_macro','accuracy'],\n",
    "                   cv=5,\n",
    "                   return_train_score=True,\n",
    "                  refit='f1_macro')\n",
    "model_5CV = trc.fit(X_train_pca,y_train)\n",
    "model_5CV.best_score_\n",
    "model_5CV.best_params_\n",
    "print(timedelta(seconds=(time()-init_time)))"
   ]
  },
  {
   "cell_type": "markdown",
   "metadata": {},
   "source": [
    "It took almost 1:21 minutes. \n",
    "\n",
    "The best architecture found is [6]"
   ]
  },
  {
   "cell_type": "code",
   "execution_count": 44,
   "metadata": {},
   "outputs": [
    {
     "data": {
      "text/html": [
       "<div>\n",
       "<style scoped>\n",
       "    .dataframe tbody tr th:only-of-type {\n",
       "        vertical-align: middle;\n",
       "    }\n",
       "\n",
       "    .dataframe tbody tr th {\n",
       "        vertical-align: top;\n",
       "    }\n",
       "\n",
       "    .dataframe thead th {\n",
       "        text-align: right;\n",
       "    }\n",
       "</style>\n",
       "<table border=\"1\" class=\"dataframe\">\n",
       "  <thead>\n",
       "    <tr style=\"text-align: right;\">\n",
       "      <th></th>\n",
       "      <th>mean_fit_time</th>\n",
       "      <th>param_hidden_layer_sizes</th>\n",
       "      <th>mean_test_f1_macro</th>\n",
       "      <th>mean_test_precision_macro</th>\n",
       "      <th>mean_test_recall_macro</th>\n",
       "      <th>mean_test_accuracy</th>\n",
       "    </tr>\n",
       "  </thead>\n",
       "  <tbody>\n",
       "    <tr>\n",
       "      <th>2</th>\n",
       "      <td>1.231</td>\n",
       "      <td>6</td>\n",
       "      <td>0.654</td>\n",
       "      <td>0.669</td>\n",
       "      <td>0.654</td>\n",
       "      <td>0.723</td>\n",
       "    </tr>\n",
       "    <tr>\n",
       "      <th>1</th>\n",
       "      <td>1.162</td>\n",
       "      <td>4</td>\n",
       "      <td>0.600</td>\n",
       "      <td>0.610</td>\n",
       "      <td>0.618</td>\n",
       "      <td>0.684</td>\n",
       "    </tr>\n",
       "    <tr>\n",
       "      <th>5</th>\n",
       "      <td>1.475</td>\n",
       "      <td>[6, 6]</td>\n",
       "      <td>0.524</td>\n",
       "      <td>0.526</td>\n",
       "      <td>0.534</td>\n",
       "      <td>0.640</td>\n",
       "    </tr>\n",
       "    <tr>\n",
       "      <th>4</th>\n",
       "      <td>1.504</td>\n",
       "      <td>[4, 4]</td>\n",
       "      <td>0.456</td>\n",
       "      <td>0.451</td>\n",
       "      <td>0.481</td>\n",
       "      <td>0.620</td>\n",
       "    </tr>\n",
       "    <tr>\n",
       "      <th>3</th>\n",
       "      <td>1.160</td>\n",
       "      <td>[2, 2]</td>\n",
       "      <td>0.325</td>\n",
       "      <td>0.309</td>\n",
       "      <td>0.398</td>\n",
       "      <td>0.537</td>\n",
       "    </tr>\n",
       "    <tr>\n",
       "      <th>0</th>\n",
       "      <td>0.943</td>\n",
       "      <td>2</td>\n",
       "      <td>0.310</td>\n",
       "      <td>0.359</td>\n",
       "      <td>0.364</td>\n",
       "      <td>0.572</td>\n",
       "    </tr>\n",
       "  </tbody>\n",
       "</table>\n",
       "</div>"
      ],
      "text/plain": [
       "   mean_fit_time param_hidden_layer_sizes  mean_test_f1_macro  \\\n",
       "2          1.231                        6               0.654   \n",
       "1          1.162                        4               0.600   \n",
       "5          1.475                   [6, 6]               0.524   \n",
       "4          1.504                   [4, 4]               0.456   \n",
       "3          1.160                   [2, 2]               0.325   \n",
       "0          0.943                        2               0.310   \n",
       "\n",
       "   mean_test_precision_macro  mean_test_recall_macro  mean_test_accuracy  \n",
       "2                      0.669                   0.654               0.723  \n",
       "1                      0.610                   0.618               0.684  \n",
       "5                      0.526                   0.534               0.640  \n",
       "4                      0.451                   0.481               0.620  \n",
       "3                      0.309                   0.398               0.537  \n",
       "0                      0.359                   0.364               0.572  "
      ]
     },
     "execution_count": 44,
     "metadata": {},
     "output_type": "execute_result"
    }
   ],
   "source": [
    "pd.DataFrame(model_5CV.cv_results_).loc[:,['mean_fit_time','param_hidden_layer_sizes', 'mean_test_f1_macro',\n",
    "       'mean_test_precision_macro', 'mean_test_recall_macro','mean_test_accuracy']].sort_values(by='mean_test_f1_macro',ascending=False)"
   ]
  },
  {
   "cell_type": "markdown",
   "metadata": {},
   "source": [
    "We can see that each training took more time than the one we used to estimate. This might be because the number of neurons of the architectures. "
   ]
  },
  {
   "cell_type": "markdown",
   "metadata": {},
   "source": [
    "Now lets see the decays."
   ]
  },
  {
   "cell_type": "code",
   "execution_count": 52,
   "metadata": {
    "scrolled": true
   },
   "outputs": [
    {
     "data": {
      "text/plain": [
       "[0, 10, 1, 0.1, 0.01, 0.001]"
      ]
     },
     "execution_count": 52,
     "metadata": {},
     "output_type": "execute_result"
    }
   ],
   "source": [
    "decays = [0, 10, 1, 0.1, 0.01, 0.001]\n",
    "decays"
   ]
  },
  {
   "cell_type": "code",
   "execution_count": 53,
   "metadata": {},
   "outputs": [
    {
     "data": {
      "text/plain": [
       "0.7799818715254092"
      ]
     },
     "execution_count": 53,
     "metadata": {},
     "output_type": "execute_result"
    },
    {
     "data": {
      "text/plain": [
       "{'alpha': 1}"
      ]
     },
     "execution_count": 53,
     "metadata": {},
     "output_type": "execute_result"
    },
    {
     "name": "stdout",
     "output_type": "stream",
     "text": [
      "0:00:37.323155\n"
     ]
    }
   ],
   "source": [
    "init_time = time()\n",
    "\n",
    "model_nnet = MLPClassifier(alpha=0,\n",
    "                           activation='logistic',\n",
    "                           hidden_layer_sizes=[6],\n",
    "                           max_iter=500,\n",
    "                           solver='lbfgs',random_state=42)\n",
    "\n",
    "trc = GridSearchCV(estimator=model_nnet, \n",
    "                   param_grid ={'alpha': decays},\n",
    "                   scoring=['f1_macro', 'precision_macro', 'recall_macro','accuracy'],\n",
    "                   cv=5,\n",
    "                   return_train_score=True,\n",
    "                  refit='f1_macro')\n",
    "model_5CV = trc.fit(X_train_pca,y_train)\n",
    "model_5CV.best_score_\n",
    "model_5CV.best_params_\n",
    "print(timedelta(seconds=(time()-init_time)))"
   ]
  },
  {
   "cell_type": "code",
   "execution_count": 54,
   "metadata": {},
   "outputs": [
    {
     "data": {
      "text/html": [
       "<div>\n",
       "<style scoped>\n",
       "    .dataframe tbody tr th:only-of-type {\n",
       "        vertical-align: middle;\n",
       "    }\n",
       "\n",
       "    .dataframe tbody tr th {\n",
       "        vertical-align: top;\n",
       "    }\n",
       "\n",
       "    .dataframe thead th {\n",
       "        text-align: right;\n",
       "    }\n",
       "</style>\n",
       "<table border=\"1\" class=\"dataframe\">\n",
       "  <thead>\n",
       "    <tr style=\"text-align: right;\">\n",
       "      <th></th>\n",
       "      <th>mean_fit_time</th>\n",
       "      <th>param_alpha</th>\n",
       "      <th>mean_test_f1_macro</th>\n",
       "      <th>mean_test_precision_macro</th>\n",
       "      <th>mean_test_recall_macro</th>\n",
       "      <th>mean_test_accuracy</th>\n",
       "    </tr>\n",
       "  </thead>\n",
       "  <tbody>\n",
       "    <tr>\n",
       "      <th>2</th>\n",
       "      <td>1.181</td>\n",
       "      <td>1</td>\n",
       "      <td>0.780</td>\n",
       "      <td>0.810</td>\n",
       "      <td>0.764</td>\n",
       "      <td>0.820</td>\n",
       "    </tr>\n",
       "    <tr>\n",
       "      <th>1</th>\n",
       "      <td>1.031</td>\n",
       "      <td>10</td>\n",
       "      <td>0.766</td>\n",
       "      <td>0.820</td>\n",
       "      <td>0.740</td>\n",
       "      <td>0.817</td>\n",
       "    </tr>\n",
       "    <tr>\n",
       "      <th>3</th>\n",
       "      <td>1.233</td>\n",
       "      <td>0.1</td>\n",
       "      <td>0.752</td>\n",
       "      <td>0.768</td>\n",
       "      <td>0.748</td>\n",
       "      <td>0.798</td>\n",
       "    </tr>\n",
       "    <tr>\n",
       "      <th>4</th>\n",
       "      <td>1.239</td>\n",
       "      <td>0.01</td>\n",
       "      <td>0.669</td>\n",
       "      <td>0.691</td>\n",
       "      <td>0.668</td>\n",
       "      <td>0.742</td>\n",
       "    </tr>\n",
       "    <tr>\n",
       "      <th>5</th>\n",
       "      <td>1.238</td>\n",
       "      <td>0.001</td>\n",
       "      <td>0.667</td>\n",
       "      <td>0.693</td>\n",
       "      <td>0.667</td>\n",
       "      <td>0.740</td>\n",
       "    </tr>\n",
       "    <tr>\n",
       "      <th>0</th>\n",
       "      <td>1.247</td>\n",
       "      <td>0</td>\n",
       "      <td>0.654</td>\n",
       "      <td>0.669</td>\n",
       "      <td>0.654</td>\n",
       "      <td>0.723</td>\n",
       "    </tr>\n",
       "  </tbody>\n",
       "</table>\n",
       "</div>"
      ],
      "text/plain": [
       "   mean_fit_time param_alpha  mean_test_f1_macro  mean_test_precision_macro  \\\n",
       "2          1.181           1               0.780                      0.810   \n",
       "1          1.031          10               0.766                      0.820   \n",
       "3          1.233         0.1               0.752                      0.768   \n",
       "4          1.239        0.01               0.669                      0.691   \n",
       "5          1.238       0.001               0.667                      0.693   \n",
       "0          1.247           0               0.654                      0.669   \n",
       "\n",
       "   mean_test_recall_macro  mean_test_accuracy  \n",
       "2                   0.764               0.820  \n",
       "1                   0.740               0.817  \n",
       "3                   0.748               0.798  \n",
       "4                   0.668               0.742  \n",
       "5                   0.667               0.740  \n",
       "0                   0.654               0.723  "
      ]
     },
     "execution_count": 54,
     "metadata": {},
     "output_type": "execute_result"
    }
   ],
   "source": [
    "pd.DataFrame(model_5CV.cv_results_).loc[:,['mean_fit_time','param_alpha', 'mean_test_f1_macro',\n",
    "       'mean_test_precision_macro', 'mean_test_recall_macro','mean_test_accuracy']].sort_values(by='mean_test_f1_macro',ascending=False)"
   ]
  },
  {
   "cell_type": "markdown",
   "metadata": {},
   "source": [
    "Now that we have found our best MLP (among these configurations). Lets check it."
   ]
  },
  {
   "cell_type": "code",
   "execution_count": 56,
   "metadata": {},
   "outputs": [
    {
     "data": {
      "text/plain": [
       "MLPClassifier(activation='logistic', alpha=1, hidden_layer_sizes=[6],\n",
       "              random_state=42, solver='lbfgs')"
      ]
     },
     "execution_count": 56,
     "metadata": {},
     "output_type": "execute_result"
    },
    {
     "name": "stdout",
     "output_type": "stream",
     "text": [
      "0:00:00.516988\n"
     ]
    },
    {
     "data": {
      "text/html": [
       "<div>\n",
       "<style scoped>\n",
       "    .dataframe tbody tr th:only-of-type {\n",
       "        vertical-align: middle;\n",
       "    }\n",
       "\n",
       "    .dataframe tbody tr th {\n",
       "        vertical-align: top;\n",
       "    }\n",
       "\n",
       "    .dataframe thead th {\n",
       "        text-align: right;\n",
       "    }\n",
       "</style>\n",
       "<table border=\"1\" class=\"dataframe\">\n",
       "  <thead>\n",
       "    <tr style=\"text-align: right;\">\n",
       "      <th></th>\n",
       "      <th>F-score (cv)</th>\n",
       "      <th>Precision (cv)</th>\n",
       "      <th>Recall (cv)</th>\n",
       "      <th>Accuracy</th>\n",
       "      <th>Time(s)</th>\n",
       "    </tr>\n",
       "  </thead>\n",
       "  <tbody>\n",
       "    <tr>\n",
       "      <th>MLP[6]-0.1-PCA</th>\n",
       "      <td>0.784</td>\n",
       "      <td>0.805</td>\n",
       "      <td>0.772</td>\n",
       "      <td>0.821</td>\n",
       "      <td>0.521</td>\n",
       "    </tr>\n",
       "    <tr>\n",
       "      <th>MLP[6]-1-PCA</th>\n",
       "      <td>0.784</td>\n",
       "      <td>0.805</td>\n",
       "      <td>0.772</td>\n",
       "      <td>0.821</td>\n",
       "      <td>0.517</td>\n",
       "    </tr>\n",
       "    <tr>\n",
       "      <th>MLP[5]-0.01</th>\n",
       "      <td>0.686</td>\n",
       "      <td>0.707</td>\n",
       "      <td>0.682</td>\n",
       "      <td>0.745</td>\n",
       "      <td>3.07</td>\n",
       "    </tr>\n",
       "    <tr>\n",
       "      <th>MLP[5]-0.01-PCA</th>\n",
       "      <td>0.621</td>\n",
       "      <td>0.63</td>\n",
       "      <td>0.633</td>\n",
       "      <td>0.711</td>\n",
       "      <td>0.637</td>\n",
       "    </tr>\n",
       "    <tr>\n",
       "      <th>KNN-PCA</th>\n",
       "      <td>0.422</td>\n",
       "      <td>0.508</td>\n",
       "      <td>0.408</td>\n",
       "      <td>0.557</td>\n",
       "      <td>0.0035</td>\n",
       "    </tr>\n",
       "    <tr>\n",
       "      <th>KNN</th>\n",
       "      <td>0.42</td>\n",
       "      <td>0.508</td>\n",
       "      <td>0.406</td>\n",
       "      <td>0.557</td>\n",
       "      <td>0.00489</td>\n",
       "    </tr>\n",
       "  </tbody>\n",
       "</table>\n",
       "</div>"
      ],
      "text/plain": [
       "                F-score (cv) Precision (cv) Recall (cv) Accuracy  Time(s)\n",
       "MLP[6]-0.1-PCA         0.784          0.805       0.772    0.821    0.521\n",
       "MLP[6]-1-PCA           0.784          0.805       0.772    0.821    0.517\n",
       "MLP[5]-0.01            0.686          0.707       0.682    0.745     3.07\n",
       "MLP[5]-0.01-PCA        0.621           0.63       0.633    0.711    0.637\n",
       "KNN-PCA                0.422          0.508       0.408    0.557   0.0035\n",
       "KNN                     0.42          0.508       0.406    0.557  0.00489"
      ]
     },
     "execution_count": 56,
     "metadata": {},
     "output_type": "execute_result"
    }
   ],
   "source": [
    "init_time = time()\n",
    "model_nnet = MLPClassifier(hidden_layer_sizes=[6],\n",
    "                           alpha=1,\n",
    "                           activation='logistic',\n",
    "                           max_iter=200,\n",
    "                           solver='lbfgs',random_state=42)\n",
    "model_nnet.fit(X_train_pca,y_train);\n",
    "\n",
    "training_time = time()-init_time\n",
    "print(timedelta(seconds=training_time))\n",
    "\n",
    "cross_val_results = pd.DataFrame(cross_validate(model_nnet , X_train_pca, y_train, cv = 5, scoring = [ 'f1_macro', 'precision_macro', 'recall_macro', 'accuracy'] ))\n",
    "\n",
    "results_df.loc['MLP[6]-1-PCA',metrics] = cross_val_results[['test_f1_macro',\n",
    "       'test_precision_macro', 'test_recall_macro','test_accuracy']].mean().values\n",
    "\n",
    "results_df.loc['MLP[6]-1-PCA','Time(s)'] = training_time\n",
    "\n",
    "results_df.sort_values(by='F-score (cv)', ascending=False)\n"
   ]
  },
  {
   "cell_type": "markdown",
   "metadata": {},
   "source": [
    "Now that we have choosen our best model. We can check if it generalizes using the test set."
   ]
  },
  {
   "cell_type": "code",
   "execution_count": 57,
   "metadata": {},
   "outputs": [
    {
     "data": {
      "text/html": [
       "<div>\n",
       "<style scoped>\n",
       "    .dataframe tbody tr th:only-of-type {\n",
       "        vertical-align: middle;\n",
       "    }\n",
       "\n",
       "    .dataframe tbody tr th {\n",
       "        vertical-align: top;\n",
       "    }\n",
       "\n",
       "    .dataframe thead th {\n",
       "        text-align: right;\n",
       "    }\n",
       "</style>\n",
       "<table border=\"1\" class=\"dataframe\">\n",
       "  <thead>\n",
       "    <tr style=\"text-align: right;\">\n",
       "      <th>predicted</th>\n",
       "      <th>Ariel Sharon</th>\n",
       "      <th>Colin Powell</th>\n",
       "      <th>Donald Rumsfeld</th>\n",
       "      <th>George W Bush</th>\n",
       "      <th>Gerhard Schroeder</th>\n",
       "      <th>Hugo Chavez</th>\n",
       "      <th>Tony Blair</th>\n",
       "    </tr>\n",
       "    <tr>\n",
       "      <th>target</th>\n",
       "      <th></th>\n",
       "      <th></th>\n",
       "      <th></th>\n",
       "      <th></th>\n",
       "      <th></th>\n",
       "      <th></th>\n",
       "      <th></th>\n",
       "    </tr>\n",
       "  </thead>\n",
       "  <tbody>\n",
       "    <tr>\n",
       "      <th>Ariel Sharon</th>\n",
       "      <td>7</td>\n",
       "      <td>1</td>\n",
       "      <td>3</td>\n",
       "      <td>2</td>\n",
       "      <td>0</td>\n",
       "      <td>0</td>\n",
       "      <td>0</td>\n",
       "    </tr>\n",
       "    <tr>\n",
       "      <th>Colin Powell</th>\n",
       "      <td>2</td>\n",
       "      <td>53</td>\n",
       "      <td>2</td>\n",
       "      <td>2</td>\n",
       "      <td>0</td>\n",
       "      <td>1</td>\n",
       "      <td>0</td>\n",
       "    </tr>\n",
       "    <tr>\n",
       "      <th>Donald Rumsfeld</th>\n",
       "      <td>1</td>\n",
       "      <td>1</td>\n",
       "      <td>21</td>\n",
       "      <td>2</td>\n",
       "      <td>2</td>\n",
       "      <td>0</td>\n",
       "      <td>0</td>\n",
       "    </tr>\n",
       "    <tr>\n",
       "      <th>George W Bush</th>\n",
       "      <td>1</td>\n",
       "      <td>6</td>\n",
       "      <td>4</td>\n",
       "      <td>126</td>\n",
       "      <td>3</td>\n",
       "      <td>2</td>\n",
       "      <td>4</td>\n",
       "    </tr>\n",
       "    <tr>\n",
       "      <th>Gerhard Schroeder</th>\n",
       "      <td>0</td>\n",
       "      <td>1</td>\n",
       "      <td>0</td>\n",
       "      <td>0</td>\n",
       "      <td>22</td>\n",
       "      <td>1</td>\n",
       "      <td>1</td>\n",
       "    </tr>\n",
       "    <tr>\n",
       "      <th>Hugo Chavez</th>\n",
       "      <td>0</td>\n",
       "      <td>2</td>\n",
       "      <td>0</td>\n",
       "      <td>1</td>\n",
       "      <td>3</td>\n",
       "      <td>8</td>\n",
       "      <td>1</td>\n",
       "    </tr>\n",
       "    <tr>\n",
       "      <th>Tony Blair</th>\n",
       "      <td>0</td>\n",
       "      <td>1</td>\n",
       "      <td>1</td>\n",
       "      <td>2</td>\n",
       "      <td>3</td>\n",
       "      <td>1</td>\n",
       "      <td>28</td>\n",
       "    </tr>\n",
       "  </tbody>\n",
       "</table>\n",
       "</div>"
      ],
      "text/plain": [
       "predicted          Ariel Sharon  Colin Powell  Donald Rumsfeld  George W Bush  \\\n",
       "target                                                                          \n",
       "Ariel Sharon                  7             1                3              2   \n",
       "Colin Powell                  2            53                2              2   \n",
       "Donald Rumsfeld               1             1               21              2   \n",
       "George W Bush                 1             6                4            126   \n",
       "Gerhard Schroeder             0             1                0              0   \n",
       "Hugo Chavez                   0             2                0              1   \n",
       "Tony Blair                    0             1                1              2   \n",
       "\n",
       "predicted          Gerhard Schroeder  Hugo Chavez  Tony Blair  \n",
       "target                                                         \n",
       "Ariel Sharon                       0            0           0  \n",
       "Colin Powell                       0            1           0  \n",
       "Donald Rumsfeld                    2            0           0  \n",
       "George W Bush                      3            2           4  \n",
       "Gerhard Schroeder                 22            1           1  \n",
       "Hugo Chavez                        3            8           1  \n",
       "Tony Blair                         3            1          28  "
      ]
     },
     "execution_count": 57,
     "metadata": {},
     "output_type": "execute_result"
    },
    {
     "name": "stdout",
     "output_type": "stream",
     "text": [
      "                   precision    recall  f1-score   support\n",
      "\n",
      "     Ariel Sharon       0.64      0.54      0.58        13\n",
      "     Colin Powell       0.82      0.88      0.85        60\n",
      "  Donald Rumsfeld       0.68      0.78      0.72        27\n",
      "    George W Bush       0.93      0.86      0.90       146\n",
      "Gerhard Schroeder       0.67      0.88      0.76        25\n",
      "      Hugo Chavez       0.62      0.53      0.57        15\n",
      "       Tony Blair       0.82      0.78      0.80        36\n",
      "\n",
      "         accuracy                           0.82       322\n",
      "        macro avg       0.74      0.75      0.74       322\n",
      "     weighted avg       0.83      0.82      0.82       322\n",
      "\n"
     ]
    }
   ],
   "source": [
    "\n",
    "y_pred = model_nnet.predict(X_test_pca)\n",
    "\n",
    "y_test = pd.Series(y_test).map({i:t for i,t in enumerate(target_names)})\n",
    "y_pred = pd.Series(y_pred).map({i:t for i,t in enumerate(target_names)})\n",
    "\n",
    "confusion(y_test,y_pred)\n",
    "\n",
    "print(classification_report(y_test,y_pred))"
   ]
  },
  {
   "cell_type": "markdown",
   "metadata": {},
   "source": [
    "We have obtained quite good results, and the model generalizes so it also predicts acurately on the test set."
   ]
  }
 ],
 "metadata": {
  "kernelspec": {
   "display_name": "Python 3",
   "language": "python",
   "name": "python3"
  },
  "language_info": {
   "codemirror_mode": {
    "name": "ipython",
    "version": 3
   },
   "file_extension": ".py",
   "mimetype": "text/x-python",
   "name": "python",
   "nbconvert_exporter": "python",
   "pygments_lexer": "ipython3",
   "version": "3.6.10"
  },
  "toc": {
   "base_numbering": 1,
   "nav_menu": {},
   "number_sections": true,
   "sideBar": true,
   "skip_h1_title": false,
   "title_cell": "Table of Contents",
   "title_sidebar": "Contents",
   "toc_cell": false,
   "toc_position": {
    "height": "calc(100% - 180px)",
    "left": "10px",
    "top": "150px",
    "width": "272px"
   },
   "toc_section_display": true,
   "toc_window_display": true
  }
 },
 "nbformat": 4,
 "nbformat_minor": 4
}
